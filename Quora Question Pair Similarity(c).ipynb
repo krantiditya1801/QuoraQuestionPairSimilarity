{
  "nbformat": 4,
  "nbformat_minor": 0,
  "metadata": {
    "colab": {
      "name": "3.Q_Mean_W2V.ipynb",
      "provenance": [],
      "collapsed_sections": [],
      "machine_shape": "hm"
    },
    "kernelspec": {
      "name": "python3",
      "display_name": "Python 3"
    },
    "language_info": {
      "codemirror_mode": {
        "name": "ipython",
        "version": 3
      },
      "file_extension": ".py",
      "mimetype": "text/x-python",
      "name": "python",
      "nbconvert_exporter": "python",
      "pygments_lexer": "ipython3",
      "version": "3.6.5"
    },
    "accelerator": "GPU"
  },
  "cells": [
    {
      "cell_type": "markdown",
      "metadata": {
        "colab_type": "text",
        "id": "MRP-fAQedMTd"
      },
      "source": [
        "# 3. TFIDF W2V \n",
        "\n",
        "\n",
        "\n"
      ]
    },
    {
      "cell_type": "code",
      "metadata": {
        "colab_type": "code",
        "id": "-3IbomL8dMTi",
        "colab": {}
      },
      "source": [
        "import pandas as pd\n",
        "import matplotlib.pyplot as plt\n",
        "import re\n",
        "import time\n",
        "import warnings\n",
        "import numpy as np\n",
        "from nltk.corpus import stopwords\n",
        "from sklearn.preprocessing import normalize\n",
        "from sklearn.feature_extraction.text import CountVectorizer\n",
        "from sklearn.feature_extraction.text import TfidfVectorizer\n",
        "warnings.filterwarnings(\"ignore\")\n",
        "import sys\n",
        "import os \n",
        "import pandas as pd\n",
        "import numpy as np\n",
        "from tqdm import tqdm\n",
        "\n",
        "# exctract word2vec vectors\n",
        "# https://github.com/explosion/spaCy/issues/1721\n",
        "# http://landinghub.visualstudio.com/visual-cpp-build-tools\n",
        "import spacy"
      ],
      "execution_count": 0,
      "outputs": []
    },
    {
      "cell_type": "code",
      "metadata": {
        "id": "nIJb3pBIOPHZ",
        "colab_type": "code",
        "colab": {}
      },
      "source": [
        "# a = []\n",
        "# while(1):\n",
        "#     a.append(1)"
      ],
      "execution_count": 0,
      "outputs": []
    },
    {
      "cell_type": "code",
      "metadata": {
        "id": "QRz65OLffsMc",
        "colab_type": "code",
        "outputId": "166501ed-9427-41be-f45a-ae3f4ba8125f",
        "colab": {
          "base_uri": "https://localhost:8080/",
          "height": 121
        }
      },
      "source": [
        "from google.colab import drive\n",
        "drive.mount('/content/drive')"
      ],
      "execution_count": 0,
      "outputs": [
        {
          "output_type": "stream",
          "text": [
            "Go to this URL in a browser: https://accounts.google.com/o/oauth2/auth?client_id=947318989803-6bn6qk8qdgf4n4g3pfee6491hc0brc4i.apps.googleusercontent.com&redirect_uri=urn%3aietf%3awg%3aoauth%3a2.0%3aoob&response_type=code&scope=email%20https%3a%2f%2fwww.googleapis.com%2fauth%2fdocs.test%20https%3a%2f%2fwww.googleapis.com%2fauth%2fdrive%20https%3a%2f%2fwww.googleapis.com%2fauth%2fdrive.photos.readonly%20https%3a%2f%2fwww.googleapis.com%2fauth%2fpeopleapi.readonly\n",
            "\n",
            "Enter your authorization code:\n",
            "··········\n",
            "Mounted at /content/drive\n"
          ],
          "name": "stdout"
        }
      ]
    },
    {
      "cell_type": "code",
      "metadata": {
        "colab_type": "code",
        "id": "j5XNgVyLdMT7",
        "colab": {}
      },
      "source": [
        "# avoid decoding problems\n",
        "df = pd.read_csv(\"/content/drive/My Drive/qqps/train.csv\")\n",
        " \n",
        "# encode questions to unicode\n",
        "# https://stackoverflow.com/a/6812069\n",
        "# ----------------- python 2 ---------------------\n",
        "# df['question1'] = df['question1'].apply(lambda x: unicode(str(x),\"utf-8\"))\n",
        "# df['question2'] = df['question2'].apply(lambda x: unicode(str(x),\"utf-8\"))\n",
        "# ----------------- python 3 ---------------------\n",
        "df['question1'] = df['question1'].apply(lambda x: str(x))\n",
        "df['question2'] = df['question2'].apply(lambda x: str(x))"
      ],
      "execution_count": 0,
      "outputs": []
    },
    {
      "cell_type": "code",
      "metadata": {
        "colab_type": "code",
        "id": "HbiMFpgRdMUJ",
        "outputId": "91cb03b4-7a7c-4610-914b-aaf1517d7ca9",
        "colab": {
          "base_uri": "https://localhost:8080/",
          "height": 195
        }
      },
      "source": [
        "df.head()"
      ],
      "execution_count": 0,
      "outputs": [
        {
          "output_type": "execute_result",
          "data": {
            "text/html": [
              "<div>\n",
              "<style scoped>\n",
              "    .dataframe tbody tr th:only-of-type {\n",
              "        vertical-align: middle;\n",
              "    }\n",
              "\n",
              "    .dataframe tbody tr th {\n",
              "        vertical-align: top;\n",
              "    }\n",
              "\n",
              "    .dataframe thead th {\n",
              "        text-align: right;\n",
              "    }\n",
              "</style>\n",
              "<table border=\"1\" class=\"dataframe\">\n",
              "  <thead>\n",
              "    <tr style=\"text-align: right;\">\n",
              "      <th></th>\n",
              "      <th>id</th>\n",
              "      <th>qid1</th>\n",
              "      <th>qid2</th>\n",
              "      <th>question1</th>\n",
              "      <th>question2</th>\n",
              "      <th>is_duplicate</th>\n",
              "    </tr>\n",
              "  </thead>\n",
              "  <tbody>\n",
              "    <tr>\n",
              "      <th>0</th>\n",
              "      <td>0</td>\n",
              "      <td>1</td>\n",
              "      <td>2</td>\n",
              "      <td>What is the step by step guide to invest in sh...</td>\n",
              "      <td>What is the step by step guide to invest in sh...</td>\n",
              "      <td>0</td>\n",
              "    </tr>\n",
              "    <tr>\n",
              "      <th>1</th>\n",
              "      <td>1</td>\n",
              "      <td>3</td>\n",
              "      <td>4</td>\n",
              "      <td>What is the story of Kohinoor (Koh-i-Noor) Dia...</td>\n",
              "      <td>What would happen if the Indian government sto...</td>\n",
              "      <td>0</td>\n",
              "    </tr>\n",
              "    <tr>\n",
              "      <th>2</th>\n",
              "      <td>2</td>\n",
              "      <td>5</td>\n",
              "      <td>6</td>\n",
              "      <td>How can I increase the speed of my internet co...</td>\n",
              "      <td>How can Internet speed be increased by hacking...</td>\n",
              "      <td>0</td>\n",
              "    </tr>\n",
              "    <tr>\n",
              "      <th>3</th>\n",
              "      <td>3</td>\n",
              "      <td>7</td>\n",
              "      <td>8</td>\n",
              "      <td>Why am I mentally very lonely? How can I solve...</td>\n",
              "      <td>Find the remainder when [math]23^{24}[/math] i...</td>\n",
              "      <td>0</td>\n",
              "    </tr>\n",
              "    <tr>\n",
              "      <th>4</th>\n",
              "      <td>4</td>\n",
              "      <td>9</td>\n",
              "      <td>10</td>\n",
              "      <td>Which one dissolve in water quikly sugar, salt...</td>\n",
              "      <td>Which fish would survive in salt water?</td>\n",
              "      <td>0</td>\n",
              "    </tr>\n",
              "  </tbody>\n",
              "</table>\n",
              "</div>"
            ],
            "text/plain": [
              "   id  qid1  ...                                          question2 is_duplicate\n",
              "0   0     1  ...  What is the step by step guide to invest in sh...            0\n",
              "1   1     3  ...  What would happen if the Indian government sto...            0\n",
              "2   2     5  ...  How can Internet speed be increased by hacking...            0\n",
              "3   3     7  ...  Find the remainder when [math]23^{24}[/math] i...            0\n",
              "4   4     9  ...            Which fish would survive in salt water?            0\n",
              "\n",
              "[5 rows x 6 columns]"
            ]
          },
          "metadata": {
            "tags": []
          },
          "execution_count": 5
        }
      ]
    },
    {
      "cell_type": "code",
      "metadata": {
        "colab_type": "code",
        "id": "a38GBlGWdMVQ",
        "colab": {}
      },
      "source": [
        "#prepro_features_train.csv (Simple Preprocessing Feartures)\n",
        "#nlp_features_train.csv (NLP Features)\n",
        "if os.path.isfile('/content/drive/My Drive/qqps/nlp_features_train.csv'):\n",
        "    dfnlp = pd.read_csv(\"/content/drive/My Drive/qqps/nlp_features_train.csv\",encoding='latin-1')\n",
        "else:\n",
        "    print(\"download nlp_features_train.csv from drive or run previous notebook\")\n",
        "\n",
        "if os.path.isfile('/content/drive/My Drive/qqps/df_fe_without_preprocessing_train.csv'):\n",
        "    dfppro = pd.read_csv(\"/content/drive/My Drive/qqps/df_fe_without_preprocessing_train.csv\",encoding='latin-1')\n",
        "else:\n",
        "    print(\"download df_fe_without_preprocessing_train.csv from drive or run previous notebook\")"
      ],
      "execution_count": 0,
      "outputs": []
    },
    {
      "cell_type": "code",
      "metadata": {
        "colab_type": "code",
        "id": "apdRa1kndMVb",
        "colab": {}
      },
      "source": [
        "df1 = dfnlp.drop(['qid1','qid2','question1','question2'],axis=1)\n",
        "df2 = dfppro.drop(['qid1','qid2','question1','question2','is_duplicate'],axis=1)\n",
        "df3 = df.drop(['qid1','qid2','is_duplicate'],axis=1)\n",
        "#df3_q1 = pd.DataFrame(df3.q1_feats_m.values.tolist(), index= df3.index)\n",
        "#df3_q2 = pd.DataFrame(df3.q2_feats_m.values.tolist(), index= df3.index)"
      ],
      "execution_count": 0,
      "outputs": []
    },
    {
      "cell_type": "code",
      "metadata": {
        "colab_type": "code",
        "id": "xzWAqGegdMVp",
        "outputId": "401f6090-26a0-4b05-bfb5-e0b7c0533aa6",
        "colab": {
          "base_uri": "https://localhost:8080/",
          "height": 215
        }
      },
      "source": [
        "# dataframe of nlp features\n",
        "df1.head()"
      ],
      "execution_count": 0,
      "outputs": [
        {
          "output_type": "execute_result",
          "data": {
            "text/html": [
              "<div>\n",
              "<style scoped>\n",
              "    .dataframe tbody tr th:only-of-type {\n",
              "        vertical-align: middle;\n",
              "    }\n",
              "\n",
              "    .dataframe tbody tr th {\n",
              "        vertical-align: top;\n",
              "    }\n",
              "\n",
              "    .dataframe thead th {\n",
              "        text-align: right;\n",
              "    }\n",
              "</style>\n",
              "<table border=\"1\" class=\"dataframe\">\n",
              "  <thead>\n",
              "    <tr style=\"text-align: right;\">\n",
              "      <th></th>\n",
              "      <th>id</th>\n",
              "      <th>is_duplicate</th>\n",
              "      <th>cwc_min</th>\n",
              "      <th>cwc_max</th>\n",
              "      <th>csc_min</th>\n",
              "      <th>csc_max</th>\n",
              "      <th>ctc_min</th>\n",
              "      <th>ctc_max</th>\n",
              "      <th>last_word_eq</th>\n",
              "      <th>first_word_eq</th>\n",
              "      <th>abs_len_diff</th>\n",
              "      <th>mean_len</th>\n",
              "      <th>token_set_ratio</th>\n",
              "      <th>token_sort_ratio</th>\n",
              "      <th>fuzz_ratio</th>\n",
              "      <th>fuzz_partial_ratio</th>\n",
              "      <th>longest_substr_ratio</th>\n",
              "    </tr>\n",
              "  </thead>\n",
              "  <tbody>\n",
              "    <tr>\n",
              "      <th>0</th>\n",
              "      <td>0</td>\n",
              "      <td>0</td>\n",
              "      <td>0.999980</td>\n",
              "      <td>0.833319</td>\n",
              "      <td>0.999983</td>\n",
              "      <td>0.999983</td>\n",
              "      <td>0.916659</td>\n",
              "      <td>0.785709</td>\n",
              "      <td>0.0</td>\n",
              "      <td>1.0</td>\n",
              "      <td>2.0</td>\n",
              "      <td>13.0</td>\n",
              "      <td>100</td>\n",
              "      <td>93</td>\n",
              "      <td>93</td>\n",
              "      <td>100</td>\n",
              "      <td>0.982759</td>\n",
              "    </tr>\n",
              "    <tr>\n",
              "      <th>1</th>\n",
              "      <td>1</td>\n",
              "      <td>0</td>\n",
              "      <td>0.799984</td>\n",
              "      <td>0.399996</td>\n",
              "      <td>0.749981</td>\n",
              "      <td>0.599988</td>\n",
              "      <td>0.699993</td>\n",
              "      <td>0.466664</td>\n",
              "      <td>0.0</td>\n",
              "      <td>1.0</td>\n",
              "      <td>5.0</td>\n",
              "      <td>12.5</td>\n",
              "      <td>86</td>\n",
              "      <td>63</td>\n",
              "      <td>66</td>\n",
              "      <td>75</td>\n",
              "      <td>0.596154</td>\n",
              "    </tr>\n",
              "    <tr>\n",
              "      <th>2</th>\n",
              "      <td>2</td>\n",
              "      <td>0</td>\n",
              "      <td>0.399992</td>\n",
              "      <td>0.333328</td>\n",
              "      <td>0.399992</td>\n",
              "      <td>0.249997</td>\n",
              "      <td>0.399996</td>\n",
              "      <td>0.285712</td>\n",
              "      <td>0.0</td>\n",
              "      <td>1.0</td>\n",
              "      <td>4.0</td>\n",
              "      <td>12.0</td>\n",
              "      <td>63</td>\n",
              "      <td>63</td>\n",
              "      <td>43</td>\n",
              "      <td>47</td>\n",
              "      <td>0.166667</td>\n",
              "    </tr>\n",
              "    <tr>\n",
              "      <th>3</th>\n",
              "      <td>3</td>\n",
              "      <td>0</td>\n",
              "      <td>0.000000</td>\n",
              "      <td>0.000000</td>\n",
              "      <td>0.000000</td>\n",
              "      <td>0.000000</td>\n",
              "      <td>0.000000</td>\n",
              "      <td>0.000000</td>\n",
              "      <td>0.0</td>\n",
              "      <td>0.0</td>\n",
              "      <td>2.0</td>\n",
              "      <td>12.0</td>\n",
              "      <td>28</td>\n",
              "      <td>24</td>\n",
              "      <td>9</td>\n",
              "      <td>14</td>\n",
              "      <td>0.039216</td>\n",
              "    </tr>\n",
              "    <tr>\n",
              "      <th>4</th>\n",
              "      <td>4</td>\n",
              "      <td>0</td>\n",
              "      <td>0.399992</td>\n",
              "      <td>0.199998</td>\n",
              "      <td>0.999950</td>\n",
              "      <td>0.666644</td>\n",
              "      <td>0.571420</td>\n",
              "      <td>0.307690</td>\n",
              "      <td>0.0</td>\n",
              "      <td>1.0</td>\n",
              "      <td>6.0</td>\n",
              "      <td>10.0</td>\n",
              "      <td>67</td>\n",
              "      <td>47</td>\n",
              "      <td>35</td>\n",
              "      <td>56</td>\n",
              "      <td>0.175000</td>\n",
              "    </tr>\n",
              "  </tbody>\n",
              "</table>\n",
              "</div>"
            ],
            "text/plain": [
              "   id  is_duplicate  ...  fuzz_partial_ratio  longest_substr_ratio\n",
              "0   0             0  ...                 100              0.982759\n",
              "1   1             0  ...                  75              0.596154\n",
              "2   2             0  ...                  47              0.166667\n",
              "3   3             0  ...                  14              0.039216\n",
              "4   4             0  ...                  56              0.175000\n",
              "\n",
              "[5 rows x 17 columns]"
            ]
          },
          "metadata": {
            "tags": []
          },
          "execution_count": 8
        }
      ]
    },
    {
      "cell_type": "code",
      "metadata": {
        "colab_type": "code",
        "id": "N4DQnDtndMV4",
        "outputId": "4e8fcb1f-420a-4aef-92c2-559a306747df",
        "colab": {
          "base_uri": "https://localhost:8080/",
          "height": 232
        }
      },
      "source": [
        "# data before preprocessing \n",
        "df2.head()"
      ],
      "execution_count": 0,
      "outputs": [
        {
          "output_type": "execute_result",
          "data": {
            "text/html": [
              "<div>\n",
              "<style scoped>\n",
              "    .dataframe tbody tr th:only-of-type {\n",
              "        vertical-align: middle;\n",
              "    }\n",
              "\n",
              "    .dataframe tbody tr th {\n",
              "        vertical-align: top;\n",
              "    }\n",
              "\n",
              "    .dataframe thead th {\n",
              "        text-align: right;\n",
              "    }\n",
              "</style>\n",
              "<table border=\"1\" class=\"dataframe\">\n",
              "  <thead>\n",
              "    <tr style=\"text-align: right;\">\n",
              "      <th></th>\n",
              "      <th>id</th>\n",
              "      <th>freq_qid1</th>\n",
              "      <th>freq_qid2</th>\n",
              "      <th>q1len</th>\n",
              "      <th>q2len</th>\n",
              "      <th>q1_n_words</th>\n",
              "      <th>q2_n_words</th>\n",
              "      <th>word_Common</th>\n",
              "      <th>word_Total</th>\n",
              "      <th>word_share</th>\n",
              "      <th>freq_q1+q2</th>\n",
              "      <th>freq_q1-q2</th>\n",
              "    </tr>\n",
              "  </thead>\n",
              "  <tbody>\n",
              "    <tr>\n",
              "      <th>0</th>\n",
              "      <td>0</td>\n",
              "      <td>1</td>\n",
              "      <td>1</td>\n",
              "      <td>66</td>\n",
              "      <td>57</td>\n",
              "      <td>14</td>\n",
              "      <td>12</td>\n",
              "      <td>10.0</td>\n",
              "      <td>23.0</td>\n",
              "      <td>0.434783</td>\n",
              "      <td>2</td>\n",
              "      <td>0</td>\n",
              "    </tr>\n",
              "    <tr>\n",
              "      <th>1</th>\n",
              "      <td>1</td>\n",
              "      <td>4</td>\n",
              "      <td>1</td>\n",
              "      <td>51</td>\n",
              "      <td>88</td>\n",
              "      <td>8</td>\n",
              "      <td>13</td>\n",
              "      <td>4.0</td>\n",
              "      <td>20.0</td>\n",
              "      <td>0.200000</td>\n",
              "      <td>5</td>\n",
              "      <td>3</td>\n",
              "    </tr>\n",
              "    <tr>\n",
              "      <th>2</th>\n",
              "      <td>2</td>\n",
              "      <td>1</td>\n",
              "      <td>1</td>\n",
              "      <td>73</td>\n",
              "      <td>59</td>\n",
              "      <td>14</td>\n",
              "      <td>10</td>\n",
              "      <td>4.0</td>\n",
              "      <td>24.0</td>\n",
              "      <td>0.166667</td>\n",
              "      <td>2</td>\n",
              "      <td>0</td>\n",
              "    </tr>\n",
              "    <tr>\n",
              "      <th>3</th>\n",
              "      <td>3</td>\n",
              "      <td>1</td>\n",
              "      <td>1</td>\n",
              "      <td>50</td>\n",
              "      <td>65</td>\n",
              "      <td>11</td>\n",
              "      <td>9</td>\n",
              "      <td>0.0</td>\n",
              "      <td>19.0</td>\n",
              "      <td>0.000000</td>\n",
              "      <td>2</td>\n",
              "      <td>0</td>\n",
              "    </tr>\n",
              "    <tr>\n",
              "      <th>4</th>\n",
              "      <td>4</td>\n",
              "      <td>3</td>\n",
              "      <td>1</td>\n",
              "      <td>76</td>\n",
              "      <td>39</td>\n",
              "      <td>13</td>\n",
              "      <td>7</td>\n",
              "      <td>2.0</td>\n",
              "      <td>20.0</td>\n",
              "      <td>0.100000</td>\n",
              "      <td>4</td>\n",
              "      <td>2</td>\n",
              "    </tr>\n",
              "  </tbody>\n",
              "</table>\n",
              "</div>"
            ],
            "text/plain": [
              "   id  freq_qid1  freq_qid2  ...  word_share  freq_q1+q2  freq_q1-q2\n",
              "0   0          1          1  ...    0.434783           2           0\n",
              "1   1          4          1  ...    0.200000           5           3\n",
              "2   2          1          1  ...    0.166667           2           0\n",
              "3   3          1          1  ...    0.000000           2           0\n",
              "4   4          3          1  ...    0.100000           4           2\n",
              "\n",
              "[5 rows x 12 columns]"
            ]
          },
          "metadata": {
            "tags": []
          },
          "execution_count": 9
        }
      ]
    },
    {
      "cell_type": "code",
      "metadata": {
        "id": "TZ9R4L8vfcqi",
        "colab_type": "code",
        "outputId": "de31c74c-f0ed-4c25-d411-2e78093cae90",
        "colab": {
          "base_uri": "https://localhost:8080/",
          "height": 195
        }
      },
      "source": [
        "df3.head()"
      ],
      "execution_count": 0,
      "outputs": [
        {
          "output_type": "execute_result",
          "data": {
            "text/html": [
              "<div>\n",
              "<style scoped>\n",
              "    .dataframe tbody tr th:only-of-type {\n",
              "        vertical-align: middle;\n",
              "    }\n",
              "\n",
              "    .dataframe tbody tr th {\n",
              "        vertical-align: top;\n",
              "    }\n",
              "\n",
              "    .dataframe thead th {\n",
              "        text-align: right;\n",
              "    }\n",
              "</style>\n",
              "<table border=\"1\" class=\"dataframe\">\n",
              "  <thead>\n",
              "    <tr style=\"text-align: right;\">\n",
              "      <th></th>\n",
              "      <th>id</th>\n",
              "      <th>question1</th>\n",
              "      <th>question2</th>\n",
              "    </tr>\n",
              "  </thead>\n",
              "  <tbody>\n",
              "    <tr>\n",
              "      <th>0</th>\n",
              "      <td>0</td>\n",
              "      <td>What is the step by step guide to invest in sh...</td>\n",
              "      <td>What is the step by step guide to invest in sh...</td>\n",
              "    </tr>\n",
              "    <tr>\n",
              "      <th>1</th>\n",
              "      <td>1</td>\n",
              "      <td>What is the story of Kohinoor (Koh-i-Noor) Dia...</td>\n",
              "      <td>What would happen if the Indian government sto...</td>\n",
              "    </tr>\n",
              "    <tr>\n",
              "      <th>2</th>\n",
              "      <td>2</td>\n",
              "      <td>How can I increase the speed of my internet co...</td>\n",
              "      <td>How can Internet speed be increased by hacking...</td>\n",
              "    </tr>\n",
              "    <tr>\n",
              "      <th>3</th>\n",
              "      <td>3</td>\n",
              "      <td>Why am I mentally very lonely? How can I solve...</td>\n",
              "      <td>Find the remainder when [math]23^{24}[/math] i...</td>\n",
              "    </tr>\n",
              "    <tr>\n",
              "      <th>4</th>\n",
              "      <td>4</td>\n",
              "      <td>Which one dissolve in water quikly sugar, salt...</td>\n",
              "      <td>Which fish would survive in salt water?</td>\n",
              "    </tr>\n",
              "  </tbody>\n",
              "</table>\n",
              "</div>"
            ],
            "text/plain": [
              "   id  ...                                          question2\n",
              "0   0  ...  What is the step by step guide to invest in sh...\n",
              "1   1  ...  What would happen if the Indian government sto...\n",
              "2   2  ...  How can Internet speed be increased by hacking...\n",
              "3   3  ...  Find the remainder when [math]23^{24}[/math] i...\n",
              "4   4  ...            Which fish would survive in salt water?\n",
              "\n",
              "[5 rows x 3 columns]"
            ]
          },
          "metadata": {
            "tags": []
          },
          "execution_count": 10
        }
      ]
    },
    {
      "cell_type": "code",
      "metadata": {
        "colab_type": "code",
        "id": "Ozz83vh4dMWU",
        "outputId": "6122b66a-18b0-4e5c-f24a-92ba6c57060a",
        "colab": {
          "base_uri": "https://localhost:8080/",
          "height": 84
        }
      },
      "source": [
        "print(\"Number of features in nlp dataframe :\", df1.shape[1])\n",
        "print(\"Number of features in preprocessed dataframe :\", df2.shape[1])\n",
        "print(\"Number of features in question1 w2v  dataframe :\", df3.shape[1])\n",
        "# print(\"Number of features in question2 w2v  dataframe :\", df3_q2.shape[1])\n",
        "print(\"Number of features in final dataframe  :\", df1.shape[1]+df2.shape[1]+df3.shape[1])"
      ],
      "execution_count": 0,
      "outputs": [
        {
          "output_type": "stream",
          "text": [
            "Number of features in nlp dataframe : 17\n",
            "Number of features in preprocessed dataframe : 12\n",
            "Number of features in question1 w2v  dataframe : 3\n",
            "Number of features in final dataframe  : 32\n"
          ],
          "name": "stdout"
        }
      ]
    },
    {
      "cell_type": "code",
      "metadata": {
        "id": "9NSkNaBtzjTq",
        "colab_type": "code",
        "colab": {}
      },
      "source": [
        "dff = df1.merge(df2, on='id',how='left')\n",
        "dff = df3.merge(dff, on='id',how='left')"
      ],
      "execution_count": 0,
      "outputs": []
    },
    {
      "cell_type": "code",
      "metadata": {
        "id": "hXOjD6YLzzUW",
        "colab_type": "code",
        "outputId": "96cc6b8d-9a85-474a-fdaa-da8180441b31",
        "colab": {
          "base_uri": "https://localhost:8080/",
          "height": 34
        }
      },
      "source": [
        "dff.shape"
      ],
      "execution_count": 0,
      "outputs": [
        {
          "output_type": "execute_result",
          "data": {
            "text/plain": [
              "(404290, 30)"
            ]
          },
          "metadata": {
            "tags": []
          },
          "execution_count": 15
        }
      ]
    },
    {
      "cell_type": "code",
      "metadata": {
        "id": "7yV3duPaz3jl",
        "colab_type": "code",
        "outputId": "a8ccb936-992e-4fce-eab0-7b96a0d2ee6f",
        "colab": {
          "base_uri": "https://localhost:8080/",
          "height": 294
        }
      },
      "source": [
        "dff.head(2)"
      ],
      "execution_count": 0,
      "outputs": [
        {
          "output_type": "execute_result",
          "data": {
            "text/html": [
              "<div>\n",
              "<style scoped>\n",
              "    .dataframe tbody tr th:only-of-type {\n",
              "        vertical-align: middle;\n",
              "    }\n",
              "\n",
              "    .dataframe tbody tr th {\n",
              "        vertical-align: top;\n",
              "    }\n",
              "\n",
              "    .dataframe thead th {\n",
              "        text-align: right;\n",
              "    }\n",
              "</style>\n",
              "<table border=\"1\" class=\"dataframe\">\n",
              "  <thead>\n",
              "    <tr style=\"text-align: right;\">\n",
              "      <th></th>\n",
              "      <th>id</th>\n",
              "      <th>question1</th>\n",
              "      <th>question2</th>\n",
              "      <th>is_duplicate</th>\n",
              "      <th>cwc_min</th>\n",
              "      <th>cwc_max</th>\n",
              "      <th>csc_min</th>\n",
              "      <th>csc_max</th>\n",
              "      <th>ctc_min</th>\n",
              "      <th>ctc_max</th>\n",
              "      <th>last_word_eq</th>\n",
              "      <th>first_word_eq</th>\n",
              "      <th>abs_len_diff</th>\n",
              "      <th>mean_len</th>\n",
              "      <th>token_set_ratio</th>\n",
              "      <th>token_sort_ratio</th>\n",
              "      <th>fuzz_ratio</th>\n",
              "      <th>fuzz_partial_ratio</th>\n",
              "      <th>longest_substr_ratio</th>\n",
              "      <th>freq_qid1</th>\n",
              "      <th>freq_qid2</th>\n",
              "      <th>q1len</th>\n",
              "      <th>q2len</th>\n",
              "      <th>q1_n_words</th>\n",
              "      <th>q2_n_words</th>\n",
              "      <th>word_Common</th>\n",
              "      <th>word_Total</th>\n",
              "      <th>word_share</th>\n",
              "      <th>freq_q1+q2</th>\n",
              "      <th>freq_q1-q2</th>\n",
              "    </tr>\n",
              "  </thead>\n",
              "  <tbody>\n",
              "    <tr>\n",
              "      <th>0</th>\n",
              "      <td>0</td>\n",
              "      <td>What is the step by step guide to invest in sh...</td>\n",
              "      <td>What is the step by step guide to invest in sh...</td>\n",
              "      <td>0</td>\n",
              "      <td>0.999980</td>\n",
              "      <td>0.833319</td>\n",
              "      <td>0.999983</td>\n",
              "      <td>0.999983</td>\n",
              "      <td>0.916659</td>\n",
              "      <td>0.785709</td>\n",
              "      <td>0.0</td>\n",
              "      <td>1.0</td>\n",
              "      <td>2.0</td>\n",
              "      <td>13.0</td>\n",
              "      <td>100</td>\n",
              "      <td>93</td>\n",
              "      <td>93</td>\n",
              "      <td>100</td>\n",
              "      <td>0.982759</td>\n",
              "      <td>1</td>\n",
              "      <td>1</td>\n",
              "      <td>66</td>\n",
              "      <td>57</td>\n",
              "      <td>14</td>\n",
              "      <td>12</td>\n",
              "      <td>10.0</td>\n",
              "      <td>23.0</td>\n",
              "      <td>0.434783</td>\n",
              "      <td>2</td>\n",
              "      <td>0</td>\n",
              "    </tr>\n",
              "    <tr>\n",
              "      <th>1</th>\n",
              "      <td>1</td>\n",
              "      <td>What is the story of Kohinoor (Koh-i-Noor) Dia...</td>\n",
              "      <td>What would happen if the Indian government sto...</td>\n",
              "      <td>0</td>\n",
              "      <td>0.799984</td>\n",
              "      <td>0.399996</td>\n",
              "      <td>0.749981</td>\n",
              "      <td>0.599988</td>\n",
              "      <td>0.699993</td>\n",
              "      <td>0.466664</td>\n",
              "      <td>0.0</td>\n",
              "      <td>1.0</td>\n",
              "      <td>5.0</td>\n",
              "      <td>12.5</td>\n",
              "      <td>86</td>\n",
              "      <td>63</td>\n",
              "      <td>66</td>\n",
              "      <td>75</td>\n",
              "      <td>0.596154</td>\n",
              "      <td>4</td>\n",
              "      <td>1</td>\n",
              "      <td>51</td>\n",
              "      <td>88</td>\n",
              "      <td>8</td>\n",
              "      <td>13</td>\n",
              "      <td>4.0</td>\n",
              "      <td>20.0</td>\n",
              "      <td>0.200000</td>\n",
              "      <td>5</td>\n",
              "      <td>3</td>\n",
              "    </tr>\n",
              "  </tbody>\n",
              "</table>\n",
              "</div>"
            ],
            "text/plain": [
              "   id  ... freq_q1-q2\n",
              "0   0  ...          0\n",
              "1   1  ...          3\n",
              "\n",
              "[2 rows x 30 columns]"
            ]
          },
          "metadata": {
            "tags": []
          },
          "execution_count": 16
        }
      ]
    },
    {
      "cell_type": "markdown",
      "metadata": {
        "id": "QcdX4IOm7skQ",
        "colab_type": "text"
      },
      "source": [
        "### 3.1 Random train test split( 70:30)"
      ]
    },
    {
      "cell_type": "code",
      "metadata": {
        "id": "DZtH_gF8KfV7",
        "colab_type": "code",
        "colab": {}
      },
      "source": [
        "import pandas as pd\n",
        "import matplotlib.pyplot as plt\n",
        "import re\n",
        "import time\n",
        "import warnings\n",
        "import sqlite3\n",
        "from sqlalchemy import create_engine # database connection\n",
        "import csv\n",
        "import os\n",
        "warnings.filterwarnings(\"ignore\")\n",
        "import datetime as dt\n",
        "import numpy as np\n",
        "from nltk.corpus import stopwords\n",
        "from sklearn.decomposition import TruncatedSVD\n",
        "from sklearn.preprocessing import normalize\n",
        "from sklearn.feature_extraction.text import CountVectorizer\n",
        "from sklearn.manifold import TSNE\n",
        "import seaborn as sns\n",
        "from sklearn.neighbors import KNeighborsClassifier\n",
        "from sklearn.metrics import confusion_matrix\n",
        "from sklearn.metrics.classification import accuracy_score, log_loss\n",
        "from sklearn.feature_extraction.text import TfidfVectorizer\n",
        "from collections import Counter\n",
        "from scipy.sparse import hstack\n",
        "from sklearn.multiclass import OneVsRestClassifier\n",
        "from sklearn.svm import SVC\n",
        "from sklearn.model_selection import StratifiedKFold \n",
        "from collections import Counter, defaultdict\n",
        "from sklearn.calibration import CalibratedClassifierCV\n",
        "from sklearn.naive_bayes import MultinomialNB\n",
        "from sklearn.naive_bayes import GaussianNB\n",
        "from sklearn.model_selection import train_test_split\n",
        "from sklearn.model_selection import GridSearchCV\n",
        "import math\n",
        "from sklearn.metrics import normalized_mutual_info_score\n",
        "from sklearn.ensemble import RandomForestClassifier\n",
        "\n",
        "\n",
        "\n",
        "from sklearn.model_selection import cross_val_score\n",
        "from sklearn.linear_model import SGDClassifier\n",
        "from mlxtend.classifier import StackingClassifier\n",
        "\n",
        "from sklearn import model_selection\n",
        "from sklearn.linear_model import LogisticRegression\n",
        "from sklearn.metrics import precision_recall_curve, auc, roc_curve"
      ],
      "execution_count": 0,
      "outputs": []
    },
    {
      "cell_type": "code",
      "metadata": {
        "id": "JOx7DCBk8M0E",
        "colab_type": "code",
        "outputId": "d837d668-b99f-44c0-8643-10b343a29242",
        "colab": {
          "base_uri": "https://localhost:8080/",
          "height": 50
        }
      },
      "source": [
        "#dff_sampled = dff.sample(n=100000)\n",
        "#X = dff_sampled.drop('is_duplicate',axis=1)\n",
        "#y_true = dff_sampled['is_duplicate']\n",
        "\n",
        "X = dff.drop('is_duplicate',axis=1)\n",
        "y_true = dff['is_duplicate']\n",
        "\n",
        "print(X.shape)\n",
        "print(y_true.shape)"
      ],
      "execution_count": 0,
      "outputs": [
        {
          "output_type": "stream",
          "text": [
            "(404290, 29)\n",
            "(404290,)\n"
          ],
          "name": "stdout"
        }
      ]
    },
    {
      "cell_type": "code",
      "metadata": {
        "id": "9ZaGLTio8vq5",
        "colab_type": "code",
        "outputId": "907c1476-70e6-4ebc-e5c5-ede2b56620b4",
        "colab": {
          "base_uri": "https://localhost:8080/",
          "height": 294
        }
      },
      "source": [
        "X.head(2)"
      ],
      "execution_count": 0,
      "outputs": [
        {
          "output_type": "execute_result",
          "data": {
            "text/html": [
              "<div>\n",
              "<style scoped>\n",
              "    .dataframe tbody tr th:only-of-type {\n",
              "        vertical-align: middle;\n",
              "    }\n",
              "\n",
              "    .dataframe tbody tr th {\n",
              "        vertical-align: top;\n",
              "    }\n",
              "\n",
              "    .dataframe thead th {\n",
              "        text-align: right;\n",
              "    }\n",
              "</style>\n",
              "<table border=\"1\" class=\"dataframe\">\n",
              "  <thead>\n",
              "    <tr style=\"text-align: right;\">\n",
              "      <th></th>\n",
              "      <th>id</th>\n",
              "      <th>question1</th>\n",
              "      <th>question2</th>\n",
              "      <th>cwc_min</th>\n",
              "      <th>cwc_max</th>\n",
              "      <th>csc_min</th>\n",
              "      <th>csc_max</th>\n",
              "      <th>ctc_min</th>\n",
              "      <th>ctc_max</th>\n",
              "      <th>last_word_eq</th>\n",
              "      <th>first_word_eq</th>\n",
              "      <th>abs_len_diff</th>\n",
              "      <th>mean_len</th>\n",
              "      <th>token_set_ratio</th>\n",
              "      <th>token_sort_ratio</th>\n",
              "      <th>fuzz_ratio</th>\n",
              "      <th>fuzz_partial_ratio</th>\n",
              "      <th>longest_substr_ratio</th>\n",
              "      <th>freq_qid1</th>\n",
              "      <th>freq_qid2</th>\n",
              "      <th>q1len</th>\n",
              "      <th>q2len</th>\n",
              "      <th>q1_n_words</th>\n",
              "      <th>q2_n_words</th>\n",
              "      <th>word_Common</th>\n",
              "      <th>word_Total</th>\n",
              "      <th>word_share</th>\n",
              "      <th>freq_q1+q2</th>\n",
              "      <th>freq_q1-q2</th>\n",
              "    </tr>\n",
              "  </thead>\n",
              "  <tbody>\n",
              "    <tr>\n",
              "      <th>0</th>\n",
              "      <td>0</td>\n",
              "      <td>What is the step by step guide to invest in sh...</td>\n",
              "      <td>What is the step by step guide to invest in sh...</td>\n",
              "      <td>0.999980</td>\n",
              "      <td>0.833319</td>\n",
              "      <td>0.999983</td>\n",
              "      <td>0.999983</td>\n",
              "      <td>0.916659</td>\n",
              "      <td>0.785709</td>\n",
              "      <td>0.0</td>\n",
              "      <td>1.0</td>\n",
              "      <td>2.0</td>\n",
              "      <td>13.0</td>\n",
              "      <td>100</td>\n",
              "      <td>93</td>\n",
              "      <td>93</td>\n",
              "      <td>100</td>\n",
              "      <td>0.982759</td>\n",
              "      <td>1</td>\n",
              "      <td>1</td>\n",
              "      <td>66</td>\n",
              "      <td>57</td>\n",
              "      <td>14</td>\n",
              "      <td>12</td>\n",
              "      <td>10.0</td>\n",
              "      <td>23.0</td>\n",
              "      <td>0.434783</td>\n",
              "      <td>2</td>\n",
              "      <td>0</td>\n",
              "    </tr>\n",
              "    <tr>\n",
              "      <th>1</th>\n",
              "      <td>1</td>\n",
              "      <td>What is the story of Kohinoor (Koh-i-Noor) Dia...</td>\n",
              "      <td>What would happen if the Indian government sto...</td>\n",
              "      <td>0.799984</td>\n",
              "      <td>0.399996</td>\n",
              "      <td>0.749981</td>\n",
              "      <td>0.599988</td>\n",
              "      <td>0.699993</td>\n",
              "      <td>0.466664</td>\n",
              "      <td>0.0</td>\n",
              "      <td>1.0</td>\n",
              "      <td>5.0</td>\n",
              "      <td>12.5</td>\n",
              "      <td>86</td>\n",
              "      <td>63</td>\n",
              "      <td>66</td>\n",
              "      <td>75</td>\n",
              "      <td>0.596154</td>\n",
              "      <td>4</td>\n",
              "      <td>1</td>\n",
              "      <td>51</td>\n",
              "      <td>88</td>\n",
              "      <td>8</td>\n",
              "      <td>13</td>\n",
              "      <td>4.0</td>\n",
              "      <td>20.0</td>\n",
              "      <td>0.200000</td>\n",
              "      <td>5</td>\n",
              "      <td>3</td>\n",
              "    </tr>\n",
              "  </tbody>\n",
              "</table>\n",
              "</div>"
            ],
            "text/plain": [
              "   id  ... freq_q1-q2\n",
              "0   0  ...          0\n",
              "1   1  ...          3\n",
              "\n",
              "[2 rows x 29 columns]"
            ]
          },
          "metadata": {
            "tags": []
          },
          "execution_count": 19
        }
      ]
    },
    {
      "cell_type": "code",
      "metadata": {
        "id": "elbEsQP87rch",
        "colab_type": "code",
        "colab": {}
      },
      "source": [
        "from sklearn.model_selection import train_test_split\n",
        "X_train,X_test, y_train, y_test = train_test_split(X, y_true, stratify=y_true, test_size=0.3)"
      ],
      "execution_count": 0,
      "outputs": []
    },
    {
      "cell_type": "markdown",
      "metadata": {
        "id": "mdMva5Ya1MPP",
        "colab_type": "text"
      },
      "source": [
        "### 3.2 Featurizing text data with TFIDF W2V"
      ]
    },
    {
      "cell_type": "code",
      "metadata": {
        "colab_type": "code",
        "id": "RU3HqJXwdMUj",
        "colab": {}
      },
      "source": [
        "from sklearn.feature_extraction.text import TfidfVectorizer\n",
        "from sklearn.feature_extraction.text import CountVectorizer\n",
        "# merge texts\n",
        "questions = list(X_train['question1']) + list(X_train['question2'])\n",
        "\n",
        "tfidf = TfidfVectorizer(lowercase=False, )\n",
        "tfidf.fit(questions)\n",
        "\n",
        "# dict key:word and value:tf-idf score\n",
        "word2tfidf = dict(zip(tfidf.get_feature_names(), tfidf.idf_))"
      ],
      "execution_count": 0,
      "outputs": []
    },
    {
      "cell_type": "markdown",
      "metadata": {
        "colab_type": "text",
        "collapsed": true,
        "id": "2JKI2yT4dMUv"
      },
      "source": [
        "- After we find TF-IDF scores, we convert each question to a weighted average of word2vec vectors by these scores.\n",
        "- here we use a pre-trained GLOVE model which comes free with \"Spacy\".  https://spacy.io/usage/vectors-similarity\n",
        "- It is trained on Wikipedia and therefore, it is stronger in terms of word semantics. "
      ]
    },
    {
      "cell_type": "code",
      "metadata": {
        "colab_type": "code",
        "id": "PFS6m8z5dMUz",
        "outputId": "fcd1ac3e-925c-4fca-b9cd-4a71b3fd3126",
        "colab": {
          "base_uri": "https://localhost:8080/",
          "height": 34
        }
      },
      "source": [
        "# en_vectors_web_lg, which includes over 1 million unique vectors.\n",
        "nlp = spacy.load('en_core_web_sm')\n",
        "\n",
        "vecs1_train = []\n",
        "# https://github.com/noamraph/tqdm\n",
        "# tqdm is used to print the progress bar\n",
        "for qu1 in tqdm(list(X_train['question1'])):\n",
        "    doc1 = nlp(qu1) \n",
        "    # 384 is the number of dimensions of vectors \n",
        "    mean_vec1 = np.zeros([len(doc1), len(doc1[0].vector)])\n",
        "    for word1 in doc1:\n",
        "        # word2vec\n",
        "        vec1 = word1.vector\n",
        "        # fetch df score\n",
        "        try:\n",
        "            idf = word2tfidf[str(word1)]\n",
        "        except:\n",
        "            idf = 0\n",
        "        # compute final vec\n",
        "        mean_vec1 += vec1 * idf\n",
        "    mean_vec1 = mean_vec1.mean(axis=0)\n",
        "    vecs1_train.append(mean_vec1)\n",
        "# df['q1_feats_m'] = list(vecs1)\n"
      ],
      "execution_count": 0,
      "outputs": [
        {
          "output_type": "stream",
          "text": [
            "100%|██████████| 283003/283003 [44:16<00:00, 106.53it/s]\n"
          ],
          "name": "stderr"
        }
      ]
    },
    {
      "cell_type": "code",
      "metadata": {
        "colab_type": "code",
        "id": "62GEF-RbdMVB",
        "outputId": "7da6d8f6-6fbc-4aca-b90d-98705709f41a",
        "colab": {
          "base_uri": "https://localhost:8080/",
          "height": 34
        }
      },
      "source": [
        "vecs2_train = []\n",
        "for qu2 in tqdm(list(X_train['question2'])):\n",
        "    doc2 = nlp(qu2) \n",
        "    mean_vec2 = np.zeros([len(doc1), len(doc2[0].vector)])\n",
        "    for word2 in doc2:\n",
        "        # word2vec\n",
        "        vec2 = word2.vector\n",
        "        # fetch df score\n",
        "        try:\n",
        "            idf = word2tfidf[str(word2)]\n",
        "        except:\n",
        "            #print word\n",
        "            idf = 0\n",
        "        # compute final vec\n",
        "        mean_vec2 += vec2 * idf\n",
        "    mean_vec2 = mean_vec2.mean(axis=0)\n",
        "    vecs2_train.append(mean_vec2)\n",
        "# df['q2_feats_m'] = list(vecs2)"
      ],
      "execution_count": 0,
      "outputs": [
        {
          "output_type": "stream",
          "text": [
            "100%|██████████| 283003/283003 [45:06<00:00, 104.56it/s]\n"
          ],
          "name": "stderr"
        }
      ]
    },
    {
      "cell_type": "code",
      "metadata": {
        "id": "KcYLCKs27xin",
        "colab_type": "code",
        "outputId": "66a1162a-8148-4f29-c4d6-ed0b247eb943",
        "colab": {
          "base_uri": "https://localhost:8080/",
          "height": 34
        }
      },
      "source": [
        "# en_vectors_web_lg, which includes over 1 million unique vectors.\n",
        "nlp = spacy.load('en_core_web_sm')\n",
        "\n",
        "vecs1_test = []\n",
        "# https://github.com/noamraph/tqdm\n",
        "# tqdm is used to print the progress bar\n",
        "for qu1 in tqdm(list(X_test['question1'])):\n",
        "    doc1 = nlp(qu1) \n",
        "    # 384 is the number of dimensions of vectors \n",
        "    mean_vec1 = np.zeros([len(doc1), len(doc1[0].vector)])\n",
        "    for word1 in doc1:\n",
        "        # word2vec\n",
        "        vec1 = word1.vector\n",
        "        # fetch df score\n",
        "        try:\n",
        "            idf = word2tfidf[str(word1)]\n",
        "        except:\n",
        "            idf = 0\n",
        "        # compute final vec\n",
        "        mean_vec1 += vec1 * idf\n",
        "    mean_vec1 = mean_vec1.mean(axis=0)\n",
        "    vecs1_test.append(mean_vec1)\n",
        "# df['q1_feats_m'] = list(vecs1)\n"
      ],
      "execution_count": 0,
      "outputs": [
        {
          "output_type": "stream",
          "text": [
            "100%|██████████| 121287/121287 [19:00<00:00, 106.32it/s]\n"
          ],
          "name": "stderr"
        }
      ]
    },
    {
      "cell_type": "code",
      "metadata": {
        "id": "kNbYwvyA70uf",
        "colab_type": "code",
        "outputId": "fef8dd62-bc4d-45a5-c0c3-b8c470535e30",
        "colab": {
          "base_uri": "https://localhost:8080/",
          "height": 34
        }
      },
      "source": [
        "vecs2_test = []\n",
        "for qu2 in tqdm(list(X_test['question2'])):\n",
        "    doc2 = nlp(qu2) \n",
        "    mean_vec2 = np.zeros([len(doc1), len(doc2[0].vector)])\n",
        "    for word2 in doc2:\n",
        "        # word2vec\n",
        "        vec2 = word2.vector\n",
        "        # fetch df score\n",
        "        try:\n",
        "            idf = word2tfidf[str(word2)]\n",
        "        except:\n",
        "            #print word\n",
        "            idf = 0\n",
        "        # compute final vec\n",
        "        mean_vec2 += vec2 * idf\n",
        "    mean_vec2 = mean_vec2.mean(axis=0)\n",
        "    vecs2_test.append(mean_vec2)\n",
        "# df['q2_feats_m'] = list(vecs2)"
      ],
      "execution_count": 0,
      "outputs": [
        {
          "output_type": "stream",
          "text": [
            "100%|██████████| 121287/121287 [18:44<00:00, 107.83it/s]\n"
          ],
          "name": "stderr"
        }
      ]
    },
    {
      "cell_type": "code",
      "metadata": {
        "id": "sq1GOypTA41g",
        "colab_type": "code",
        "outputId": "2ac7af6a-66d0-4479-e7df-bd02b384c4fb",
        "colab": {
          "base_uri": "https://localhost:8080/",
          "height": 34
        }
      },
      "source": [
        "type(vecs1_train)"
      ],
      "execution_count": 0,
      "outputs": [
        {
          "output_type": "execute_result",
          "data": {
            "text/plain": [
              "list"
            ]
          },
          "metadata": {
            "tags": []
          },
          "execution_count": 30
        }
      ]
    },
    {
      "cell_type": "code",
      "metadata": {
        "id": "eD56lH3JCpl6",
        "colab_type": "code",
        "colab": {}
      },
      "source": [
        "q1_tfidfw2v_train_df = pd.DataFrame(vecs1_train)\n",
        "q1_tfidfw2v_train_df = q1_tfidfw2v_train_df.fillna(0)\n",
        "\n",
        "q2_tfidfw2v_train_df = pd.DataFrame(vecs2_train)\n",
        "q2_tfidfw2v_train_df = q2_tfidfw2v_train_df.fillna(0)\n",
        "\n",
        "q1_tfidfw2v_test_df = pd.DataFrame(vecs1_test) \n",
        "q1_tfidfw2v_test_df = q1_tfidfw2v_test_df.fillna(0)\n",
        "\n",
        "q2_tfidfw2v_test_df = pd.DataFrame(vecs2_test) \n",
        "q2_tfidfw2v_test_df = q2_tfidfw2v_test_df.fillna(0)"
      ],
      "execution_count": 0,
      "outputs": []
    },
    {
      "cell_type": "code",
      "metadata": {
        "id": "7_9rTG3xDT_k",
        "colab_type": "code",
        "colab": {}
      },
      "source": [
        "q1_tfidfw2v_train_df['id']=X_train['id']\n",
        "q2_tfidfw2v_train_df['id']=X_train['id']\n",
        "q1_tfidfw2v_test_df['id']=X_test['id']\n",
        "q2_tfidfw2v_test_df['id']=X_test['id']"
      ],
      "execution_count": 0,
      "outputs": []
    },
    {
      "cell_type": "code",
      "metadata": {
        "id": "yMkBys49Ci1k",
        "colab_type": "code",
        "colab": {}
      },
      "source": [
        "X_train_tfidfw2v = X_train.merge(q1_tfidfw2v_train_df, on='id',how='left')\n",
        "X_train_tfidfw2v = X_train_tfidfw2v.merge(q2_tfidfw2v_train_df, on='id',how='left')\n",
        "\n",
        "X_test_tfidfw2v = X_test.merge(q1_tfidfw2v_test_df, on='id',how='left')\n",
        "X_test_tfidfw2v = X_test_tfidfw2v.merge(q2_tfidfw2v_test_df, on='id',how='left')"
      ],
      "execution_count": 0,
      "outputs": []
    },
    {
      "cell_type": "code",
      "metadata": {
        "id": "HOz1gVP4IIi7",
        "colab_type": "code",
        "colab": {}
      },
      "source": [
        "X_train_tfidfw2v = X_train_tfidfw2v.fillna(0)\n",
        "X_test_tfidfw2v = X_test_tfidfw2v.fillna(0)"
      ],
      "execution_count": 0,
      "outputs": []
    },
    {
      "cell_type": "code",
      "metadata": {
        "id": "1sdZfEzjI6ug",
        "colab_type": "code",
        "colab": {}
      },
      "source": [
        "X_train_tfidfw2v = X_train_tfidfw2v.drop(['question1','question2'],axis=1)\n",
        "X_test_tfidfw2v = X_test_tfidfw2v.drop(['question1','question2'],axis=1)"
      ],
      "execution_count": 0,
      "outputs": []
    },
    {
      "cell_type": "code",
      "metadata": {
        "id": "n7Ar5qYsEjj9",
        "colab_type": "code",
        "outputId": "54b49643-da6c-463b-905d-d7610fbc4c6b",
        "colab": {
          "base_uri": "https://localhost:8080/",
          "height": 50
        }
      },
      "source": [
        "print(X_train_tfidfw2v.shape)\n",
        "print(X_test_tfidfw2v.shape)"
      ],
      "execution_count": 0,
      "outputs": [
        {
          "output_type": "stream",
          "text": [
            "(283003, 219)\n",
            "(121287, 219)\n"
          ],
          "name": "stdout"
        }
      ]
    },
    {
      "cell_type": "code",
      "metadata": {
        "id": "n1G3G24DEw-i",
        "colab_type": "code",
        "outputId": "421f6fa4-bbd2-4e14-98e1-162651aeebff",
        "colab": {
          "base_uri": "https://localhost:8080/",
          "height": 172
        }
      },
      "source": [
        "X_train_tfidfw2v.head(2)"
      ],
      "execution_count": 0,
      "outputs": [
        {
          "output_type": "execute_result",
          "data": {
            "text/html": [
              "<div>\n",
              "<style scoped>\n",
              "    .dataframe tbody tr th:only-of-type {\n",
              "        vertical-align: middle;\n",
              "    }\n",
              "\n",
              "    .dataframe tbody tr th {\n",
              "        vertical-align: top;\n",
              "    }\n",
              "\n",
              "    .dataframe thead th {\n",
              "        text-align: right;\n",
              "    }\n",
              "</style>\n",
              "<table border=\"1\" class=\"dataframe\">\n",
              "  <thead>\n",
              "    <tr style=\"text-align: right;\">\n",
              "      <th></th>\n",
              "      <th>id</th>\n",
              "      <th>cwc_min</th>\n",
              "      <th>cwc_max</th>\n",
              "      <th>csc_min</th>\n",
              "      <th>csc_max</th>\n",
              "      <th>ctc_min</th>\n",
              "      <th>ctc_max</th>\n",
              "      <th>last_word_eq</th>\n",
              "      <th>first_word_eq</th>\n",
              "      <th>abs_len_diff</th>\n",
              "      <th>mean_len</th>\n",
              "      <th>token_set_ratio</th>\n",
              "      <th>token_sort_ratio</th>\n",
              "      <th>fuzz_ratio</th>\n",
              "      <th>fuzz_partial_ratio</th>\n",
              "      <th>longest_substr_ratio</th>\n",
              "      <th>freq_qid1</th>\n",
              "      <th>freq_qid2</th>\n",
              "      <th>q1len</th>\n",
              "      <th>q2len</th>\n",
              "      <th>q1_n_words</th>\n",
              "      <th>q2_n_words</th>\n",
              "      <th>word_Common</th>\n",
              "      <th>word_Total</th>\n",
              "      <th>word_share</th>\n",
              "      <th>freq_q1+q2</th>\n",
              "      <th>freq_q1-q2</th>\n",
              "      <th>0_x</th>\n",
              "      <th>1_x</th>\n",
              "      <th>2_x</th>\n",
              "      <th>3_x</th>\n",
              "      <th>4_x</th>\n",
              "      <th>5_x</th>\n",
              "      <th>6_x</th>\n",
              "      <th>7_x</th>\n",
              "      <th>8_x</th>\n",
              "      <th>9_x</th>\n",
              "      <th>10_x</th>\n",
              "      <th>11_x</th>\n",
              "      <th>12_x</th>\n",
              "      <th>...</th>\n",
              "      <th>56_y</th>\n",
              "      <th>57_y</th>\n",
              "      <th>58_y</th>\n",
              "      <th>59_y</th>\n",
              "      <th>60_y</th>\n",
              "      <th>61_y</th>\n",
              "      <th>62_y</th>\n",
              "      <th>63_y</th>\n",
              "      <th>64_y</th>\n",
              "      <th>65_y</th>\n",
              "      <th>66_y</th>\n",
              "      <th>67_y</th>\n",
              "      <th>68_y</th>\n",
              "      <th>69_y</th>\n",
              "      <th>70_y</th>\n",
              "      <th>71_y</th>\n",
              "      <th>72_y</th>\n",
              "      <th>73_y</th>\n",
              "      <th>74_y</th>\n",
              "      <th>75_y</th>\n",
              "      <th>76_y</th>\n",
              "      <th>77_y</th>\n",
              "      <th>78_y</th>\n",
              "      <th>79_y</th>\n",
              "      <th>80_y</th>\n",
              "      <th>81_y</th>\n",
              "      <th>82_y</th>\n",
              "      <th>83_y</th>\n",
              "      <th>84_y</th>\n",
              "      <th>85_y</th>\n",
              "      <th>86_y</th>\n",
              "      <th>87_y</th>\n",
              "      <th>88_y</th>\n",
              "      <th>89_y</th>\n",
              "      <th>90_y</th>\n",
              "      <th>91_y</th>\n",
              "      <th>92_y</th>\n",
              "      <th>93_y</th>\n",
              "      <th>94_y</th>\n",
              "      <th>95_y</th>\n",
              "    </tr>\n",
              "  </thead>\n",
              "  <tbody>\n",
              "    <tr>\n",
              "      <th>0</th>\n",
              "      <td>402501</td>\n",
              "      <td>0.714276</td>\n",
              "      <td>0.624992</td>\n",
              "      <td>0.749981</td>\n",
              "      <td>0.599988</td>\n",
              "      <td>0.727266</td>\n",
              "      <td>0.571424</td>\n",
              "      <td>0.0</td>\n",
              "      <td>1.0</td>\n",
              "      <td>3.0</td>\n",
              "      <td>12.5</td>\n",
              "      <td>82</td>\n",
              "      <td>76</td>\n",
              "      <td>72</td>\n",
              "      <td>69</td>\n",
              "      <td>0.426471</td>\n",
              "      <td>4</td>\n",
              "      <td>7</td>\n",
              "      <td>83</td>\n",
              "      <td>65</td>\n",
              "      <td>12</td>\n",
              "      <td>10</td>\n",
              "      <td>7.0</td>\n",
              "      <td>22.0</td>\n",
              "      <td>0.318182</td>\n",
              "      <td>11</td>\n",
              "      <td>3</td>\n",
              "      <td>0.000000</td>\n",
              "      <td>0.00000</td>\n",
              "      <td>0.000000</td>\n",
              "      <td>0.000000</td>\n",
              "      <td>0.000000</td>\n",
              "      <td>0.000000</td>\n",
              "      <td>0.000000</td>\n",
              "      <td>0.000000</td>\n",
              "      <td>0.000000</td>\n",
              "      <td>0.000000</td>\n",
              "      <td>0.000000</td>\n",
              "      <td>0.000000</td>\n",
              "      <td>0.000000</td>\n",
              "      <td>...</td>\n",
              "      <td>0.000000</td>\n",
              "      <td>0.00000</td>\n",
              "      <td>0.000000</td>\n",
              "      <td>0.000000</td>\n",
              "      <td>0.00000</td>\n",
              "      <td>0.000000</td>\n",
              "      <td>0.000000</td>\n",
              "      <td>0.00000</td>\n",
              "      <td>0.000000</td>\n",
              "      <td>0.000000</td>\n",
              "      <td>0.000000</td>\n",
              "      <td>0.000000</td>\n",
              "      <td>0.000000</td>\n",
              "      <td>0.000000</td>\n",
              "      <td>0.000000</td>\n",
              "      <td>0.000000</td>\n",
              "      <td>0.000000</td>\n",
              "      <td>0.000000</td>\n",
              "      <td>0.000000</td>\n",
              "      <td>0.000000</td>\n",
              "      <td>0.00000</td>\n",
              "      <td>0.00000</td>\n",
              "      <td>0.000000</td>\n",
              "      <td>0.000000</td>\n",
              "      <td>0.000000</td>\n",
              "      <td>0.00000</td>\n",
              "      <td>0.000000</td>\n",
              "      <td>0.000000</td>\n",
              "      <td>0.000000</td>\n",
              "      <td>0.000000</td>\n",
              "      <td>0.00000</td>\n",
              "      <td>0.000000</td>\n",
              "      <td>0.000000</td>\n",
              "      <td>0.000000</td>\n",
              "      <td>0.0000</td>\n",
              "      <td>0.000000</td>\n",
              "      <td>0.000000</td>\n",
              "      <td>0.000000</td>\n",
              "      <td>0.000000</td>\n",
              "      <td>0.000000</td>\n",
              "    </tr>\n",
              "    <tr>\n",
              "      <th>1</th>\n",
              "      <td>212709</td>\n",
              "      <td>0.599988</td>\n",
              "      <td>0.499992</td>\n",
              "      <td>0.999980</td>\n",
              "      <td>0.714276</td>\n",
              "      <td>0.799992</td>\n",
              "      <td>0.615380</td>\n",
              "      <td>1.0</td>\n",
              "      <td>1.0</td>\n",
              "      <td>3.0</td>\n",
              "      <td>11.5</td>\n",
              "      <td>85</td>\n",
              "      <td>67</td>\n",
              "      <td>72</td>\n",
              "      <td>60</td>\n",
              "      <td>0.274510</td>\n",
              "      <td>5</td>\n",
              "      <td>4</td>\n",
              "      <td>75</td>\n",
              "      <td>50</td>\n",
              "      <td>13</td>\n",
              "      <td>10</td>\n",
              "      <td>8.0</td>\n",
              "      <td>23.0</td>\n",
              "      <td>0.347826</td>\n",
              "      <td>9</td>\n",
              "      <td>1</td>\n",
              "      <td>111.434554</td>\n",
              "      <td>-225.00761</td>\n",
              "      <td>-150.657731</td>\n",
              "      <td>-208.897756</td>\n",
              "      <td>-10.436873</td>\n",
              "      <td>19.682463</td>\n",
              "      <td>262.707818</td>\n",
              "      <td>35.196698</td>\n",
              "      <td>19.537061</td>\n",
              "      <td>92.673827</td>\n",
              "      <td>35.930772</td>\n",
              "      <td>40.450104</td>\n",
              "      <td>-131.673889</td>\n",
              "      <td>...</td>\n",
              "      <td>-35.618016</td>\n",
              "      <td>119.35999</td>\n",
              "      <td>-136.177729</td>\n",
              "      <td>100.831392</td>\n",
              "      <td>4.58462</td>\n",
              "      <td>-85.915894</td>\n",
              "      <td>-4.206022</td>\n",
              "      <td>41.09576</td>\n",
              "      <td>13.954815</td>\n",
              "      <td>24.149359</td>\n",
              "      <td>20.281964</td>\n",
              "      <td>10.292116</td>\n",
              "      <td>-91.667022</td>\n",
              "      <td>82.317786</td>\n",
              "      <td>32.783072</td>\n",
              "      <td>-43.189971</td>\n",
              "      <td>-16.351201</td>\n",
              "      <td>20.561116</td>\n",
              "      <td>33.273871</td>\n",
              "      <td>89.062332</td>\n",
              "      <td>-14.71115</td>\n",
              "      <td>2.15307</td>\n",
              "      <td>13.313856</td>\n",
              "      <td>39.210896</td>\n",
              "      <td>53.950338</td>\n",
              "      <td>-11.26187</td>\n",
              "      <td>-125.887256</td>\n",
              "      <td>15.390348</td>\n",
              "      <td>-57.160231</td>\n",
              "      <td>-87.743426</td>\n",
              "      <td>198.94356</td>\n",
              "      <td>-62.949797</td>\n",
              "      <td>2.824495</td>\n",
              "      <td>76.278428</td>\n",
              "      <td>67.1854</td>\n",
              "      <td>30.259046</td>\n",
              "      <td>-64.616903</td>\n",
              "      <td>44.010895</td>\n",
              "      <td>-114.076862</td>\n",
              "      <td>-10.381497</td>\n",
              "    </tr>\n",
              "  </tbody>\n",
              "</table>\n",
              "<p>2 rows × 219 columns</p>\n",
              "</div>"
            ],
            "text/plain": [
              "       id   cwc_min   cwc_max  ...       93_y        94_y       95_y\n",
              "0  402501  0.714276  0.624992  ...   0.000000    0.000000   0.000000\n",
              "1  212709  0.599988  0.499992  ...  44.010895 -114.076862 -10.381497\n",
              "\n",
              "[2 rows x 219 columns]"
            ]
          },
          "metadata": {
            "tags": []
          },
          "execution_count": 37
        }
      ]
    },
    {
      "cell_type": "code",
      "metadata": {
        "id": "IHuCs2pfFX3r",
        "colab_type": "code",
        "outputId": "be239684-ad68-4589-e5aa-ea0eed2b19dd",
        "colab": {
          "base_uri": "https://localhost:8080/",
          "height": 172
        }
      },
      "source": [
        "X_test_tfidfw2v.head(2)"
      ],
      "execution_count": 0,
      "outputs": [
        {
          "output_type": "execute_result",
          "data": {
            "text/html": [
              "<div>\n",
              "<style scoped>\n",
              "    .dataframe tbody tr th:only-of-type {\n",
              "        vertical-align: middle;\n",
              "    }\n",
              "\n",
              "    .dataframe tbody tr th {\n",
              "        vertical-align: top;\n",
              "    }\n",
              "\n",
              "    .dataframe thead th {\n",
              "        text-align: right;\n",
              "    }\n",
              "</style>\n",
              "<table border=\"1\" class=\"dataframe\">\n",
              "  <thead>\n",
              "    <tr style=\"text-align: right;\">\n",
              "      <th></th>\n",
              "      <th>id</th>\n",
              "      <th>cwc_min</th>\n",
              "      <th>cwc_max</th>\n",
              "      <th>csc_min</th>\n",
              "      <th>csc_max</th>\n",
              "      <th>ctc_min</th>\n",
              "      <th>ctc_max</th>\n",
              "      <th>last_word_eq</th>\n",
              "      <th>first_word_eq</th>\n",
              "      <th>abs_len_diff</th>\n",
              "      <th>mean_len</th>\n",
              "      <th>token_set_ratio</th>\n",
              "      <th>token_sort_ratio</th>\n",
              "      <th>fuzz_ratio</th>\n",
              "      <th>fuzz_partial_ratio</th>\n",
              "      <th>longest_substr_ratio</th>\n",
              "      <th>freq_qid1</th>\n",
              "      <th>freq_qid2</th>\n",
              "      <th>q1len</th>\n",
              "      <th>q2len</th>\n",
              "      <th>q1_n_words</th>\n",
              "      <th>q2_n_words</th>\n",
              "      <th>word_Common</th>\n",
              "      <th>word_Total</th>\n",
              "      <th>word_share</th>\n",
              "      <th>freq_q1+q2</th>\n",
              "      <th>freq_q1-q2</th>\n",
              "      <th>0_x</th>\n",
              "      <th>1_x</th>\n",
              "      <th>2_x</th>\n",
              "      <th>3_x</th>\n",
              "      <th>4_x</th>\n",
              "      <th>5_x</th>\n",
              "      <th>6_x</th>\n",
              "      <th>7_x</th>\n",
              "      <th>8_x</th>\n",
              "      <th>9_x</th>\n",
              "      <th>10_x</th>\n",
              "      <th>11_x</th>\n",
              "      <th>12_x</th>\n",
              "      <th>...</th>\n",
              "      <th>56_y</th>\n",
              "      <th>57_y</th>\n",
              "      <th>58_y</th>\n",
              "      <th>59_y</th>\n",
              "      <th>60_y</th>\n",
              "      <th>61_y</th>\n",
              "      <th>62_y</th>\n",
              "      <th>63_y</th>\n",
              "      <th>64_y</th>\n",
              "      <th>65_y</th>\n",
              "      <th>66_y</th>\n",
              "      <th>67_y</th>\n",
              "      <th>68_y</th>\n",
              "      <th>69_y</th>\n",
              "      <th>70_y</th>\n",
              "      <th>71_y</th>\n",
              "      <th>72_y</th>\n",
              "      <th>73_y</th>\n",
              "      <th>74_y</th>\n",
              "      <th>75_y</th>\n",
              "      <th>76_y</th>\n",
              "      <th>77_y</th>\n",
              "      <th>78_y</th>\n",
              "      <th>79_y</th>\n",
              "      <th>80_y</th>\n",
              "      <th>81_y</th>\n",
              "      <th>82_y</th>\n",
              "      <th>83_y</th>\n",
              "      <th>84_y</th>\n",
              "      <th>85_y</th>\n",
              "      <th>86_y</th>\n",
              "      <th>87_y</th>\n",
              "      <th>88_y</th>\n",
              "      <th>89_y</th>\n",
              "      <th>90_y</th>\n",
              "      <th>91_y</th>\n",
              "      <th>92_y</th>\n",
              "      <th>93_y</th>\n",
              "      <th>94_y</th>\n",
              "      <th>95_y</th>\n",
              "    </tr>\n",
              "  </thead>\n",
              "  <tbody>\n",
              "    <tr>\n",
              "      <th>0</th>\n",
              "      <td>113755</td>\n",
              "      <td>0.874989</td>\n",
              "      <td>0.874989</td>\n",
              "      <td>0.999983</td>\n",
              "      <td>0.999983</td>\n",
              "      <td>0.928565</td>\n",
              "      <td>0.928565</td>\n",
              "      <td>0.0</td>\n",
              "      <td>1.0</td>\n",
              "      <td>0.0</td>\n",
              "      <td>14.0</td>\n",
              "      <td>96</td>\n",
              "      <td>92</td>\n",
              "      <td>96</td>\n",
              "      <td>95</td>\n",
              "      <td>0.913580</td>\n",
              "      <td>4</td>\n",
              "      <td>1</td>\n",
              "      <td>80</td>\n",
              "      <td>81</td>\n",
              "      <td>14</td>\n",
              "      <td>14</td>\n",
              "      <td>13.0</td>\n",
              "      <td>28.0</td>\n",
              "      <td>0.464286</td>\n",
              "      <td>5</td>\n",
              "      <td>3</td>\n",
              "      <td>103.923637</td>\n",
              "      <td>-35.989789</td>\n",
              "      <td>-51.271691</td>\n",
              "      <td>-83.837261</td>\n",
              "      <td>-55.745899</td>\n",
              "      <td>-54.127919</td>\n",
              "      <td>95.702778</td>\n",
              "      <td>79.344495</td>\n",
              "      <td>-22.614627</td>\n",
              "      <td>51.464426</td>\n",
              "      <td>-41.724352</td>\n",
              "      <td>-48.535597</td>\n",
              "      <td>-94.297173</td>\n",
              "      <td>...</td>\n",
              "      <td>104.529365</td>\n",
              "      <td>-0.831035</td>\n",
              "      <td>-173.668709</td>\n",
              "      <td>30.084574</td>\n",
              "      <td>5.87329</td>\n",
              "      <td>8.337711</td>\n",
              "      <td>18.120971</td>\n",
              "      <td>-66.785587</td>\n",
              "      <td>18.31628</td>\n",
              "      <td>36.183876</td>\n",
              "      <td>43.431479</td>\n",
              "      <td>-2.655021</td>\n",
              "      <td>13.708967</td>\n",
              "      <td>52.254463</td>\n",
              "      <td>16.037837</td>\n",
              "      <td>-50.224871</td>\n",
              "      <td>-63.355928</td>\n",
              "      <td>199.409421</td>\n",
              "      <td>-16.813476</td>\n",
              "      <td>7.506533</td>\n",
              "      <td>-54.455068</td>\n",
              "      <td>-60.919389</td>\n",
              "      <td>66.714602</td>\n",
              "      <td>-59.792312</td>\n",
              "      <td>49.619057</td>\n",
              "      <td>20.512666</td>\n",
              "      <td>-200.824042</td>\n",
              "      <td>143.391984</td>\n",
              "      <td>-39.620633</td>\n",
              "      <td>94.576085</td>\n",
              "      <td>66.384932</td>\n",
              "      <td>17.484414</td>\n",
              "      <td>63.706162</td>\n",
              "      <td>73.244424</td>\n",
              "      <td>64.621352</td>\n",
              "      <td>-7.469189</td>\n",
              "      <td>-18.475727</td>\n",
              "      <td>30.108276</td>\n",
              "      <td>-76.996616</td>\n",
              "      <td>72.607268</td>\n",
              "    </tr>\n",
              "    <tr>\n",
              "      <th>1</th>\n",
              "      <td>365279</td>\n",
              "      <td>0.000000</td>\n",
              "      <td>0.000000</td>\n",
              "      <td>0.000000</td>\n",
              "      <td>0.000000</td>\n",
              "      <td>0.000000</td>\n",
              "      <td>0.000000</td>\n",
              "      <td>0.0</td>\n",
              "      <td>0.0</td>\n",
              "      <td>6.0</td>\n",
              "      <td>11.0</td>\n",
              "      <td>19</td>\n",
              "      <td>18</td>\n",
              "      <td>21</td>\n",
              "      <td>30</td>\n",
              "      <td>0.052632</td>\n",
              "      <td>13</td>\n",
              "      <td>4</td>\n",
              "      <td>56</td>\n",
              "      <td>79</td>\n",
              "      <td>8</td>\n",
              "      <td>14</td>\n",
              "      <td>0.0</td>\n",
              "      <td>21.0</td>\n",
              "      <td>0.000000</td>\n",
              "      <td>17</td>\n",
              "      <td>9</td>\n",
              "      <td>0.000000</td>\n",
              "      <td>0.000000</td>\n",
              "      <td>0.000000</td>\n",
              "      <td>0.000000</td>\n",
              "      <td>0.000000</td>\n",
              "      <td>0.000000</td>\n",
              "      <td>0.000000</td>\n",
              "      <td>0.000000</td>\n",
              "      <td>0.000000</td>\n",
              "      <td>0.000000</td>\n",
              "      <td>0.000000</td>\n",
              "      <td>0.000000</td>\n",
              "      <td>0.000000</td>\n",
              "      <td>...</td>\n",
              "      <td>0.000000</td>\n",
              "      <td>0.000000</td>\n",
              "      <td>0.000000</td>\n",
              "      <td>0.000000</td>\n",
              "      <td>0.00000</td>\n",
              "      <td>0.000000</td>\n",
              "      <td>0.000000</td>\n",
              "      <td>0.000000</td>\n",
              "      <td>0.00000</td>\n",
              "      <td>0.000000</td>\n",
              "      <td>0.000000</td>\n",
              "      <td>0.000000</td>\n",
              "      <td>0.000000</td>\n",
              "      <td>0.000000</td>\n",
              "      <td>0.000000</td>\n",
              "      <td>0.000000</td>\n",
              "      <td>0.000000</td>\n",
              "      <td>0.000000</td>\n",
              "      <td>0.000000</td>\n",
              "      <td>0.000000</td>\n",
              "      <td>0.000000</td>\n",
              "      <td>0.000000</td>\n",
              "      <td>0.000000</td>\n",
              "      <td>0.000000</td>\n",
              "      <td>0.000000</td>\n",
              "      <td>0.000000</td>\n",
              "      <td>0.000000</td>\n",
              "      <td>0.000000</td>\n",
              "      <td>0.000000</td>\n",
              "      <td>0.000000</td>\n",
              "      <td>0.000000</td>\n",
              "      <td>0.000000</td>\n",
              "      <td>0.000000</td>\n",
              "      <td>0.000000</td>\n",
              "      <td>0.000000</td>\n",
              "      <td>0.000000</td>\n",
              "      <td>0.000000</td>\n",
              "      <td>0.000000</td>\n",
              "      <td>0.000000</td>\n",
              "      <td>0.000000</td>\n",
              "    </tr>\n",
              "  </tbody>\n",
              "</table>\n",
              "<p>2 rows × 219 columns</p>\n",
              "</div>"
            ],
            "text/plain": [
              "       id   cwc_min   cwc_max  ...       93_y       94_y       95_y\n",
              "0  113755  0.874989  0.874989  ...  30.108276 -76.996616  72.607268\n",
              "1  365279  0.000000  0.000000  ...   0.000000   0.000000   0.000000\n",
              "\n",
              "[2 rows x 219 columns]"
            ]
          },
          "metadata": {
            "tags": []
          },
          "execution_count": 38
        }
      ]
    },
    {
      "cell_type": "code",
      "metadata": {
        "id": "TkOr21b8KWSR",
        "colab_type": "code",
        "outputId": "3ff716e1-d895-4d46-9492-6797a2fc9319",
        "colab": {
          "base_uri": "https://localhost:8080/",
          "height": 84
        }
      },
      "source": [
        "print(\"-\"*10, \"Distribution of output variable in train data\", \"-\"*10)\n",
        "train_distr = Counter(y_train)\n",
        "train_len = len(y_train)\n",
        "print(\"Class 0: \",int(train_distr[0])/train_len,\"Class 1: \", int(train_distr[1])/train_len)\n",
        "print(\"-\"*10, \"Distribution of output variable in train data\", \"-\"*10)\n",
        "test_distr = Counter(y_test)\n",
        "test_len = len(y_test)\n",
        "print(\"Class 0: \",int(test_distr[1])/test_len, \"Class 1: \",int(test_distr[1])/test_len)"
      ],
      "execution_count": 0,
      "outputs": [
        {
          "output_type": "stream",
          "text": [
            "---------- Distribution of output variable in train data ----------\n",
            "Class 0:  0.6308025003268517 Class 1:  0.36919749967314835\n",
            "---------- Distribution of output variable in train data ----------\n",
            "Class 0:  0.3691986775169639 Class 1:  0.3691986775169639\n"
          ],
          "name": "stdout"
        }
      ]
    },
    {
      "cell_type": "code",
      "metadata": {
        "id": "FzM2tMIiKrrw",
        "colab_type": "code",
        "colab": {}
      },
      "source": [
        "# This function plots the confusion matrices given y_i, y_i_hat.\n",
        "def plot_confusion_matrix(test_y, predict_y):\n",
        "    C = confusion_matrix(test_y, predict_y)\n",
        "    # C = 9,9 matrix, each cell (i,j) represents number of points of class i are predicted class j\n",
        "    \n",
        "    A =(((C.T)/(C.sum(axis=1))).T)\n",
        "    #divid each element of the confusion matrix with the sum of elements in that column\n",
        "    \n",
        "    # C = [[1, 2],\n",
        "    #     [3, 4]]\n",
        "    # C.T = [[1, 3],\n",
        "    #        [2, 4]]\n",
        "    # C.sum(axis = 1)  axis=0 corresonds to columns and axis=1 corresponds to rows in two diamensional array\n",
        "    # C.sum(axix =1) = [[3, 7]]\n",
        "    # ((C.T)/(C.sum(axis=1))) = [[1/3, 3/7]\n",
        "    #                           [2/3, 4/7]]\n",
        "\n",
        "    # ((C.T)/(C.sum(axis=1))).T = [[1/3, 2/3]\n",
        "    #                           [3/7, 4/7]]\n",
        "    # sum of row elements = 1\n",
        "    \n",
        "    B =(C/C.sum(axis=0))\n",
        "    #divid each element of the confusion matrix with the sum of elements in that row\n",
        "    # C = [[1, 2],\n",
        "    #     [3, 4]]\n",
        "    # C.sum(axis = 0)  axis=0 corresonds to columns and axis=1 corresponds to rows in two diamensional array\n",
        "    # C.sum(axix =0) = [[4, 6]]\n",
        "    # (C/C.sum(axis=0)) = [[1/4, 2/6],\n",
        "    #                      [3/4, 4/6]] \n",
        "    plt.figure(figsize=(20,4))\n",
        "    \n",
        "    labels = [1,2]\n",
        "    # representing A in heatmap format\n",
        "    cmap=sns.light_palette(\"blue\")\n",
        "    plt.subplot(1, 3, 1)\n",
        "    sns.heatmap(C, annot=True, cmap=cmap, fmt=\".3f\", xticklabels=labels, yticklabels=labels)\n",
        "    plt.xlabel('Predicted Class')\n",
        "    plt.ylabel('Original Class')\n",
        "    plt.title(\"Confusion matrix\")\n",
        "    \n",
        "    plt.subplot(1, 3, 2)\n",
        "    sns.heatmap(B, annot=True, cmap=cmap, fmt=\".3f\", xticklabels=labels, yticklabels=labels)\n",
        "    plt.xlabel('Predicted Class')\n",
        "    plt.ylabel('Original Class')\n",
        "    plt.title(\"Precision matrix\")\n",
        "    \n",
        "    plt.subplot(1, 3, 3)\n",
        "    # representing B in heatmap format\n",
        "    sns.heatmap(A, annot=True, cmap=cmap, fmt=\".3f\", xticklabels=labels, yticklabels=labels)\n",
        "    plt.xlabel('Predicted Class')\n",
        "    plt.ylabel('Original Class')\n",
        "    plt.title(\"Recall matrix\")\n",
        "    \n",
        "    plt.show()"
      ],
      "execution_count": 0,
      "outputs": []
    },
    {
      "cell_type": "markdown",
      "metadata": {
        "id": "rGdA8aWBKOLq",
        "colab_type": "text"
      },
      "source": [
        "### 3.3 Building a random model (Finding worst-case log-loss) "
      ]
    },
    {
      "cell_type": "code",
      "metadata": {
        "id": "lDiWgeVWKNAh",
        "colab_type": "code",
        "outputId": "180e44e7-15e2-4c61-f0a4-bd68235026a2",
        "colab": {
          "base_uri": "https://localhost:8080/",
          "height": 332
        }
      },
      "source": [
        "# we need to generate 9 numbers and the sum of numbers should be 1\n",
        "# one solution is to genarate 9 numbers and divide each of the numbers by their sum\n",
        "# ref: https://stackoverflow.com/a/18662466/4084039\n",
        "# we create a output array that has exactly same size as the CV data\n",
        "predicted_y = np.zeros((test_len,2))\n",
        "for i in range(test_len):\n",
        "    rand_probs = np.random.rand(1,2)\n",
        "    predicted_y[i] = ((rand_probs/sum(sum(rand_probs)))[0])\n",
        "print(\"Log loss on Test Data using Random Model\",log_loss(y_test, predicted_y, eps=1e-15))\n",
        "\n",
        "predicted_y =np.argmax(predicted_y, axis=1)\n",
        "plot_confusion_matrix(y_test, predicted_y)"
      ],
      "execution_count": 0,
      "outputs": [
        {
          "output_type": "stream",
          "text": [
            "Log loss on Test Data using Random Model 0.8887162780872625\n"
          ],
          "name": "stdout"
        },
        {
          "output_type": "display_data",
          "data": {
            "image/png": "[encoded data removed]",
            "text/plain": [
              "<Figure size 1440x288 with 6 Axes>"
            ]
          },
          "metadata": {
            "tags": []
          }
        }
      ]
    },
    {
      "cell_type": "markdown",
      "metadata": {
        "id": "wirANAwAK3vv",
        "colab_type": "text"
      },
      "source": [
        "### 3.4 Logistic Regression with hyperparameter tuning\n",
        "\n"
      ]
    },
    {
      "cell_type": "code",
      "metadata": {
        "id": "j8WR0_0vK6y_",
        "colab_type": "code",
        "outputId": "a298a188-e694-4148-eea9-85de312433ae",
        "colab": {
          "base_uri": "https://localhost:8080/",
          "height": 761
        }
      },
      "source": [
        "alpha = [10 ** x for x in range(-5, 2)] # hyperparam for SGD classifier.\n",
        "\n",
        "# read more about SGDClassifier() at http://scikit-learn.org/stable/modules/generated/sklearn.linear_model.SGDClassifier.html\n",
        "# ------------------------------\n",
        "# default parameters\n",
        "# SGDClassifier(loss=’hinge’, penalty=’l2’, alpha=0.0001, l1_ratio=0.15, fit_intercept=True, max_iter=None, tol=None, \n",
        "# shuffle=True, verbose=0, epsilon=0.1, n_jobs=1, random_state=None, learning_rate=’optimal’, eta0=0.0, power_t=0.5, \n",
        "# class_weight=None, warm_start=False, average=False, n_iter=None)\n",
        "\n",
        "# some of methods\n",
        "# fit(X, y[, coef_init, intercept_init, …])\tFit linear model with Stochastic Gradient Descent.\n",
        "# predict(X)\tPredict class labels for samples in X.\n",
        "\n",
        "#-------------------------------\n",
        "# video link: \n",
        "#------------------------------\n",
        "\n",
        "\n",
        "log_error_array=[]\n",
        "for i in alpha:\n",
        "    clf = SGDClassifier(alpha=i, penalty='l2', loss='log', random_state=42,n_jobs=-1)\n",
        "    clf.fit(X_train_tfidfw2v, y_train)\n",
        "    sig_clf = CalibratedClassifierCV(clf, method=\"sigmoid\")\n",
        "    sig_clf.fit(X_train_tfidfw2v, y_train)\n",
        "    predict_y = sig_clf.predict_proba(X_test_tfidfw2v)\n",
        "    log_error_array.append(log_loss(y_test, predict_y, labels=clf.classes_, eps=1e-15))\n",
        "    print('For values of alpha = ', i, \"The log loss is:\",log_loss(y_test, predict_y, labels=clf.classes_, eps=1e-15))\n",
        "\n",
        "fig, ax = plt.subplots()\n",
        "ax.plot(alpha, log_error_array,c='g')\n",
        "for i, txt in enumerate(np.round(log_error_array,3)):\n",
        "    ax.annotate((alpha[i],np.round(txt,3)), (alpha[i],log_error_array[i]))\n",
        "plt.grid()\n",
        "plt.title(\"Cross Validation Error for each alpha\")\n",
        "plt.xlabel(\"Alpha i's\")\n",
        "plt.ylabel(\"Error measure\")\n",
        "plt.show()\n",
        "\n",
        "\n",
        "best_alpha = np.argmin(log_error_array)\n",
        "clf = SGDClassifier(alpha=alpha[best_alpha], penalty='l2', loss='log', random_state=42)\n",
        "clf.fit(X_train_tfidfw2v, y_train)\n",
        "sig_clf = CalibratedClassifierCV(clf, method=\"sigmoid\")\n",
        "sig_clf.fit(X_train_tfidfw2v, y_train)\n",
        "\n",
        "predict_y = sig_clf.predict_proba(X_train_tfidfw2v)\n",
        "print('For values of best alpha = ', alpha[best_alpha], \"The train log loss is:\",log_loss(y_train, predict_y, labels=clf.classes_, eps=1e-15))\n",
        "predict_y = sig_clf.predict_proba(X_test_tfidfw2v)\n",
        "print('For values of best alpha = ', alpha[best_alpha], \"The test log loss is:\",log_loss(y_test, predict_y, labels=clf.classes_, eps=1e-15))\n",
        "predicted_y =np.argmax(predict_y,axis=1)\n",
        "print(\"Total number of data points :\", len(predicted_y))\n",
        "plot_confusion_matrix(y_test, predicted_y)"
      ],
      "execution_count": 0,
      "outputs": [
        {
          "output_type": "stream",
          "text": [
            "For values of alpha =  1e-05 The log loss is: 0.6585278256347589\n",
            "For values of alpha =  0.0001 The log loss is: 0.6585278256347589\n",
            "For values of alpha =  0.001 The log loss is: 0.6585278256347589\n",
            "For values of alpha =  0.01 The log loss is: 0.6585278256347589\n",
            "For values of alpha =  0.1 The log loss is: 0.6447398098588599\n",
            "For values of alpha =  1 The log loss is: 0.6348496347523985\n",
            "For values of alpha =  10 The log loss is: 0.5941716050926925\n"
          ],
          "name": "stdout"
        },
        {
          "output_type": "display_data",
          "data": {
            "image/png": "[encoded data removed]",
            "text/plain": [
              "<Figure size 432x288 with 1 Axes>"
            ]
          },
          "metadata": {
            "tags": []
          }
        },
        {
          "output_type": "stream",
          "text": [
            "For values of best alpha =  10 The train log loss is: 0.5922424445697081\n",
            "For values of best alpha =  10 The test log loss is: 0.5941716050926925\n",
            "Total number of data points : 121287\n"
          ],
          "name": "stdout"
        },
        {
          "output_type": "display_data",
          "data": {
            "image/png": "[encoded data removed]",
            "text/plain": [
              "<Figure size 1440x288 with 6 Axes>"
            ]
          },
          "metadata": {
            "tags": []
          }
        }
      ]
    },
    {
      "cell_type": "markdown",
      "metadata": {
        "id": "lbZWcfMsLdwm",
        "colab_type": "text"
      },
      "source": [
        "### 3.5 Linear SVM with hyperparameter tuning "
      ]
    },
    {
      "cell_type": "code",
      "metadata": {
        "id": "-Q8h1lznLfQ2",
        "colab_type": "code",
        "outputId": "2537c5e1-a05d-48b6-8230-a2e89be81bb0",
        "colab": {
          "base_uri": "https://localhost:8080/",
          "height": 761
        }
      },
      "source": [
        "alpha = [10 ** x for x in range(-5, 2)] # hyperparam for SGD classifier.\n",
        "\n",
        "# read more about SGDClassifier() at http://scikit-learn.org/stable/modules/generated/sklearn.linear_model.SGDClassifier.html\n",
        "# ------------------------------\n",
        "# default parameters\n",
        "# SGDClassifier(loss=’hinge’, penalty=’l2’, alpha=0.0001, l1_ratio=0.15, fit_intercept=True, max_iter=None, tol=None, \n",
        "# shuffle=True, verbose=0, epsilon=0.1, n_jobs=1, random_state=None, learning_rate=’optimal’, eta0=0.0, power_t=0.5, \n",
        "# class_weight=None, warm_start=False, average=False, n_iter=None)\n",
        "\n",
        "# some of methods\n",
        "# fit(X, y[, coef_init, intercept_init, …])\tFit linear model with Stochastic Gradient Descent.\n",
        "# predict(X)\tPredict class labels for samples in X.\n",
        "\n",
        "#-------------------------------\n",
        "# video link: \n",
        "#------------------------------\n",
        "\n",
        "\n",
        "log_error_array=[]\n",
        "for i in alpha:\n",
        "    clf = SGDClassifier(alpha=i, penalty='l1', loss='hinge', random_state=42,n_jobs=-1)\n",
        "    clf.fit(X_train_tfidfw2v, y_train)\n",
        "    sig_clf = CalibratedClassifierCV(clf, method=\"sigmoid\")\n",
        "    sig_clf.fit(X_train_tfidfw2v, y_train)\n",
        "    predict_y = sig_clf.predict_proba(X_test_tfidfw2v)\n",
        "    log_error_array.append(log_loss(y_test, predict_y, labels=clf.classes_, eps=1e-15))\n",
        "    print('For values of alpha = ', i, \"The log loss is:\",log_loss(y_test, predict_y, labels=clf.classes_, eps=1e-15))\n",
        "\n",
        "fig, ax = plt.subplots()\n",
        "ax.plot(alpha, log_error_array,c='g')\n",
        "for i, txt in enumerate(np.round(log_error_array,3)):\n",
        "    ax.annotate((alpha[i],np.round(txt,3)), (alpha[i],log_error_array[i]))\n",
        "plt.grid()\n",
        "plt.title(\"Cross Validation Error for each alpha\")\n",
        "plt.xlabel(\"Alpha i's\")\n",
        "plt.ylabel(\"Error measure\")\n",
        "plt.show()\n",
        "\n",
        "\n",
        "best_alpha = np.argmin(log_error_array)\n",
        "clf = SGDClassifier(alpha=alpha[best_alpha], penalty='l1', loss='hinge', random_state=42)\n",
        "clf.fit(X_train_tfidfw2v, y_train)\n",
        "sig_clf = CalibratedClassifierCV(clf, method=\"sigmoid\")\n",
        "sig_clf.fit(X_train_tfidfw2v, y_train)\n",
        "\n",
        "predict_y = sig_clf.predict_proba(X_train_tfidfw2v)\n",
        "print('For values of best alpha = ', alpha[best_alpha], \"The train log loss is:\",log_loss(y_train, predict_y, labels=clf.classes_, eps=1e-15))\n",
        "predict_y = sig_clf.predict_proba(X_test_tfidfw2v)\n",
        "print('For values of best alpha = ', alpha[best_alpha], \"The test log loss is:\",log_loss(y_test, predict_y, labels=clf.classes_, eps=1e-15))\n",
        "predicted_y =np.argmax(predict_y,axis=1)\n",
        "print(\"Total number of data points :\", len(predicted_y))\n",
        "plot_confusion_matrix(y_test, predicted_y)"
      ],
      "execution_count": 0,
      "outputs": [
        {
          "output_type": "stream",
          "text": [
            "For values of alpha =  1e-05 The log loss is: 0.6585278256347589\n",
            "For values of alpha =  0.0001 The log loss is: 0.6585278256347589\n",
            "For values of alpha =  0.001 The log loss is: 0.6585278256347589\n",
            "For values of alpha =  0.01 The log loss is: 0.6585278256347589\n",
            "For values of alpha =  0.1 The log loss is: 0.6585278256347589\n",
            "For values of alpha =  1 The log loss is: 0.6585278256347589\n",
            "For values of alpha =  10 The log loss is: 0.655087920478348\n"
          ],
          "name": "stdout"
        },
        {
          "output_type": "display_data",
          "data": {
            "image/png": "[encoded data removed]",
            "text/plain": [
              "<Figure size 432x288 with 1 Axes>"
            ]
          },
          "metadata": {
            "tags": []
          }
        },
        {
          "output_type": "stream",
          "text": [
            "For values of best alpha =  10 The train log loss is: 0.6557461044790134\n",
            "For values of best alpha =  10 The test log loss is: 0.655087920478348\n",
            "Total number of data points : 121287\n"
          ],
          "name": "stdout"
        },
        {
          "output_type": "display_data",
          "data": {
            "image/png": "[encoded data removed]",
            "text/plain": [
              "<Figure size 1440x288 with 6 Axes>"
            ]
          },
          "metadata": {
            "tags": []
          }
        }
      ]
    },
    {
      "cell_type": "markdown",
      "metadata": {
        "id": "20w0HK4-M3Js",
        "colab_type": "text"
      },
      "source": [
        "### 3.6 XGBoost "
      ]
    },
    {
      "cell_type": "code",
      "metadata": {
        "id": "W7e53KgjM4xF",
        "colab_type": "code",
        "outputId": "65aa28a4-aae4-4316-b760-c97fc2bb23be",
        "colab": {
          "base_uri": "https://localhost:8080/",
          "height": 235
        }
      },
      "source": [
        "from sklearn.model_selection import RandomizedSearchCV\n",
        "from xgboost import XGBClassifier\n",
        "import matplotlib.pyplot as plt\n",
        "\n",
        "\n",
        " \n",
        "tuned_parameters = {'max_depth':[2,5,7,10],'n_estimators':[10,50,100,500]}\n",
        "\n",
        "clf_gb = XGBClassifier(objective='binary:logistic', eval_metric='logloss',n_jobs=-1)\n",
        "\n",
        " \n",
        "\n",
        "#Using RandomSearchCV\n",
        "model_tfidfw2v = RandomizedSearchCV(clf_gb, tuned_parameters,verbose=5,n_jobs=10)\n",
        "model_tfidfw2v.fit(X_train_tfidfw2v, y_train)\n",
        "\n",
        " \n",
        "\n",
        "print(model_tfidfw2v.best_estimator_)\n",
        "print(model_tfidfw2v.score(X_train_tfidfw2v, y_train))\n",
        "\n",
        "\n",
        " \n",
        "\n",
        "\n"
      ],
      "execution_count": 0,
      "outputs": [
        {
          "output_type": "stream",
          "text": [
            "Fitting 3 folds for each of 10 candidates, totalling 30 fits\n"
          ],
          "name": "stdout"
        },
        {
          "output_type": "stream",
          "text": [
            "[Parallel(n_jobs=10)]: Using backend LokyBackend with 10 concurrent workers.\n",
            "[Parallel(n_jobs=10)]: Done  18 out of  30 | elapsed: 58.4min remaining: 39.0min\n",
            "[Parallel(n_jobs=10)]: Done  25 out of  30 | elapsed: 90.5min remaining: 18.1min\n",
            "[Parallel(n_jobs=10)]: Done  30 out of  30 | elapsed: 100.4min finished\n"
          ],
          "name": "stderr"
        },
        {
          "output_type": "stream",
          "text": [
            "XGBClassifier(base_score=0.5, booster='gbtree', colsample_bylevel=1,\n",
            "              colsample_bynode=1, colsample_bytree=1, eval_metric='logloss',\n",
            "              gamma=0, learning_rate=0.1, max_delta_step=0, max_depth=10,\n",
            "              min_child_weight=1, missing=None, n_estimators=100, n_jobs=-1,\n",
            "              nthread=None, objective='binary:logistic', random_state=0,\n",
            "              reg_alpha=0, reg_lambda=1, scale_pos_weight=1, seed=None,\n",
            "              silent=None, subsample=1, verbosity=1)\n",
            "0.8724395147754618\n"
          ],
          "name": "stdout"
        }
      ]
    },
    {
      "cell_type": "code",
      "metadata": {
        "id": "dobWknJXM9TE",
        "colab_type": "code",
        "outputId": "3e60ad23-c24e-42f2-9203-3e7cb5bfe864",
        "colab": {
          "base_uri": "https://localhost:8080/",
          "height": 151
        }
      },
      "source": [
        "print(model_tfidfw2v.best_estimator_)\n",
        "print(model_tfidfw2v.score(X_test_tfidfw2v, y_test))"
      ],
      "execution_count": 0,
      "outputs": [
        {
          "output_type": "stream",
          "text": [
            "XGBClassifier(base_score=0.5, booster='gbtree', colsample_bylevel=1,\n",
            "              colsample_bynode=1, colsample_bytree=1, eval_metric='logloss',\n",
            "              gamma=0, learning_rate=0.1, max_delta_step=0, max_depth=10,\n",
            "              min_child_weight=1, missing=None, n_estimators=100, n_jobs=-1,\n",
            "              nthread=None, objective='binary:logistic', random_state=0,\n",
            "              reg_alpha=0, reg_lambda=1, scale_pos_weight=1, seed=None,\n",
            "              silent=None, subsample=1, verbosity=1)\n",
            "0.8328757410109905\n"
          ],
          "name": "stdout"
        }
      ]
    },
    {
      "cell_type": "code",
      "metadata": {
        "id": "MytI73_DM_1F",
        "colab_type": "code",
        "outputId": "27dea693-9c23-44ac-f966-3bf547239b6b",
        "colab": {
          "base_uri": "https://localhost:8080/",
          "height": 50
        }
      },
      "source": [
        "print('optimal max_depth:10')\n",
        "print('optimal n_estimators:100')\n"
      ],
      "execution_count": 0,
      "outputs": [
        {
          "output_type": "stream",
          "text": [
            "optimal max_depth:10\n",
            "optimal n_estimators:100\n"
          ],
          "name": "stdout"
        }
      ]
    },
    {
      "cell_type": "code",
      "metadata": {
        "id": "LIjmzuZKNCIo",
        "colab_type": "code",
        "outputId": "eb269467-6742-4839-ac50-73807f02e3fb",
        "colab": {
          "base_uri": "https://localhost:8080/",
          "height": 773
        }
      },
      "source": [
        "import xgboost as xgb\n",
        "params = {}\n",
        "params['objective'] = 'binary:logistic'\n",
        "params['eval_metric'] = 'logloss'\n",
        "params['eta'] = 0.02\n",
        "params['max_depth'] = 10\n",
        "params['n_estimators'] = 100\n",
        "\n",
        "d_train = xgb.DMatrix(X_train_tfidfw2v, label=y_train)\n",
        "d_test = xgb.DMatrix(X_test_tfidfw2v, label=y_test)\n",
        "\n",
        "watchlist = [(d_train, 'train'), (d_test, 'valid')]\n",
        "\n",
        "bst = xgb.train(params, d_train, 400, watchlist, early_stopping_rounds=20, verbose_eval=10)\n",
        "\n",
        "xgdmat = xgb.DMatrix(X_train_tfidfw2v,y_train)\n",
        "predict_y = bst.predict(d_test)\n",
        "print(\"The test log loss is:\",log_loss(y_test, predict_y, eps=1e-15))"
      ],
      "execution_count": 0,
      "outputs": [
        {
          "output_type": "stream",
          "text": [
            "[0]\ttrain-logloss:0.682592\tvalid-logloss:0.682864\n",
            "Multiple eval metrics have been passed: 'valid-logloss' will be used for early stopping.\n",
            "\n",
            "Will train until valid-logloss hasn't improved in 20 rounds.\n",
            "[10]\ttrain-logloss:0.596266\tvalid-logloss:0.599114\n",
            "[20]\ttrain-logloss:0.534559\tvalid-logloss:0.539765\n",
            "[30]\ttrain-logloss:0.488898\tvalid-logloss:0.496228\n",
            "[40]\ttrain-logloss:0.453819\tvalid-logloss:0.463194\n",
            "[50]\ttrain-logloss:0.426552\tvalid-logloss:0.437859\n",
            "[60]\ttrain-logloss:0.405104\tvalid-logloss:0.418226\n",
            "[70]\ttrain-logloss:0.3881\tvalid-logloss:0.4028\n",
            "[80]\ttrain-logloss:0.37424\tvalid-logloss:0.390549\n",
            "[90]\ttrain-logloss:0.362689\tvalid-logloss:0.380593\n",
            "[100]\ttrain-logloss:0.35305\tvalid-logloss:0.372372\n",
            "[110]\ttrain-logloss:0.345021\tvalid-logloss:0.365723\n",
            "[120]\ttrain-logloss:0.338514\tvalid-logloss:0.360496\n",
            "[130]\ttrain-logloss:0.333071\tvalid-logloss:0.35633\n",
            "[140]\ttrain-logloss:0.328545\tvalid-logloss:0.352976\n",
            "[150]\ttrain-logloss:0.324543\tvalid-logloss:0.35014\n",
            "[160]\ttrain-logloss:0.321081\tvalid-logloss:0.34781\n",
            "[170]\ttrain-logloss:0.318243\tvalid-logloss:0.345872\n",
            "[180]\ttrain-logloss:0.315795\tvalid-logloss:0.344264\n",
            "[190]\ttrain-logloss:0.313554\tvalid-logloss:0.342972\n",
            "[200]\ttrain-logloss:0.311673\tvalid-logloss:0.341885\n",
            "[210]\ttrain-logloss:0.309864\tvalid-logloss:0.340942\n",
            "[220]\ttrain-logloss:0.308276\tvalid-logloss:0.340151\n",
            "[230]\ttrain-logloss:0.306766\tvalid-logloss:0.339416\n",
            "[240]\ttrain-logloss:0.305399\tvalid-logloss:0.338819\n",
            "[250]\ttrain-logloss:0.304115\tvalid-logloss:0.33833\n",
            "[260]\ttrain-logloss:0.302696\tvalid-logloss:0.337856\n",
            "[270]\ttrain-logloss:0.301516\tvalid-logloss:0.337436\n",
            "[280]\ttrain-logloss:0.300413\tvalid-logloss:0.337084\n",
            "[290]\ttrain-logloss:0.29934\tvalid-logloss:0.336695\n",
            "[300]\ttrain-logloss:0.298283\tvalid-logloss:0.336387\n",
            "[310]\ttrain-logloss:0.297315\tvalid-logloss:0.336094\n",
            "[320]\ttrain-logloss:0.296395\tvalid-logloss:0.335849\n",
            "[330]\ttrain-logloss:0.295288\tvalid-logloss:0.335614\n",
            "[340]\ttrain-logloss:0.294256\tvalid-logloss:0.3354\n",
            "[350]\ttrain-logloss:0.293254\tvalid-logloss:0.335237\n",
            "[360]\ttrain-logloss:0.29233\tvalid-logloss:0.335131\n",
            "[370]\ttrain-logloss:0.291219\tvalid-logloss:0.334926\n",
            "[380]\ttrain-logloss:0.290511\tvalid-logloss:0.334869\n",
            "[390]\ttrain-logloss:0.289584\tvalid-logloss:0.334745\n",
            "[399]\ttrain-logloss:0.288712\tvalid-logloss:0.334651\n",
            "The test log loss is: 0.3346510975373082\n"
          ],
          "name": "stdout"
        }
      ]
    },
    {
      "cell_type": "code",
      "metadata": {
        "id": "pl3Qi1VL-kO_",
        "colab_type": "code",
        "outputId": "7bda2cf6-9048-4019-fb71-bc3a57ad1822",
        "colab": {
          "base_uri": "https://localhost:8080/",
          "height": 332
        }
      },
      "source": [
        "predicted_y =np.array(predict_y>0.5,dtype=int)\n",
        "print(\"Total number of data points :\", len(predicted_y))\n",
        "plot_confusion_matrix(y_test, predicted_y)"
      ],
      "execution_count": 0,
      "outputs": [
        {
          "output_type": "stream",
          "text": [
            "Total number of data points : 121287\n"
          ],
          "name": "stdout"
        },
        {
          "output_type": "display_data",
          "data": {
            "image/png": "[encoded data removed]",
            "text/plain": [
              "<Figure size 1440x288 with 6 Axes>"
            ]
          },
          "metadata": {
            "tags": []
          }
        }
      ]
    },
    {
      "cell_type": "markdown",
      "metadata": {
        "id": "QJoZexR0rmi1",
        "colab_type": "text"
      },
      "source": [
        "# 4. TFIDF"
      ]
    },
    {
      "cell_type": "code",
      "metadata": {
        "id": "Y8pkBmOPrqAr",
        "colab_type": "code",
        "outputId": "c8c96126-9a52-469a-d576-58ceed403ce3",
        "colab": {
          "base_uri": "https://localhost:8080/",
          "height": 138
        }
      },
      "source": [
        "from sklearn.feature_extraction.text import TfidfVectorizer\n",
        " \n",
        "# merge texts\n",
        "questions = list(X_train['question1']) + list(X_train['question2'])\n",
        "\n",
        "\n",
        "tfidf = TfidfVectorizer(min_df=5)\n",
        "tfidf.fit(questions)\n",
        "\n",
        "q1_train_tfidf = tfidf.transform(X_train['question1'].values)\n",
        "q2_train_tfidf = tfidf.transform(X_train['question2'].values)\n",
        "\n",
        "q1_test_tfidf = tfidf.transform(X_test['question1'].values)\n",
        "q2_test_tfidf = tfidf.transform(X_test['question2'].values)\n",
        "\n",
        "\n",
        "# # dict key:word and value:tf-idf score\n",
        "# word2tfidf = dict(zip(tfidf.get_feature_names(), tfidf.idf_))\n",
        "\n",
        "print(\"After vectorizations\")\n",
        "print(q1_train_tfidf.shape)\n",
        "print(q2_train_tfidf.shape)\n",
        "print(q1_test_tfidf.shape)\n",
        "print(q2_test_tfidf.shape)\n",
        "\n",
        "print(tfidf.get_feature_names())"
      ],
      "execution_count": 0,
      "outputs": [
        {
          "output_type": "stream",
          "text": [
            "After vectorizations\n",
            "(283003, 25458)\n",
            "(283003, 25458)\n",
            "(121287, 25458)\n",
            "(121287, 25458)\n",
            "['00', '000', '00am', '01', '02', '03', '04', '05', '06', '07', '08', '09', '0s', '10', '100', '1000', '10000', '100000', '10000inr', '1000rs', '1000s', '100cc', '100k', '100m', '100mbps', '100w', '101', '102', '1024', '103', '104', '105', '1050', '106', '1060', '107', '1070', '108', '1080', '1080i', '1080p', '109', '1099', '10cgpa', '10k', '10kg', '10m', '10mg', '10th', '10x', '11', '110', '1100', '110v', '111', '1112', '112', '113', '114', '115', '117', '119', '11g', '11kv', '11th', '12', '120', '1200', '12000', '1200d', '120k', '120v', '121', '122', '123', '124', '125', '125cc', '126', '127', '128', '128gb', '129', '12c', '12k', '12pm', '12th', '12v', '13', '130', '1300', '13000', '1300d', '130k', '1337', '135', '1361', '137', '13k', '13th', '14', '140', '1400', '14000', '140k', '141', '142', '144', '145', '147', '148', '149', '14days', '14th', '15', '150', '1500', '15000', '150cc', '150k', '150r', '151', '152', '1525', '153', '154', '155', '157', '15k', '15kgs', '15mg', '15th', '16', '160', '1600', '16000', '160r', '161', '1611', '162', '164', '165', '168', '1687', '16gb', '16k', '16th', '17', '170', '1700', '172', '173', '1746', '175', '1751', '1755', '178', '1787', '1789', '179', '17k', '17th', '18', '180', '1800', '18000', '1800_', '1800s', '1812', '1822', '1835', '184', '185', '1850', '1857', '1860', '18650', '1868', '1877', '18879', '189', '1893', '1896', '18k', '18th', '19', '190', '1900', '1900s', '191', '1914', '192', '1920', '1920s', '1922', '1924', '1930', '1930s', '1935', '1938', '1940', '1940s', '1941', '1945', '1946', '1947', '1948', '1950', '1950s', '1952', '1953', '1956', '1957', '196', '1960', '1960s', '1961', '1962', '1963', '1964', '1965', '1966', '1967', '1968', '1969', '1970', '1970s', '1971', '1972', '1973', '1974', '1976', '1977', '1978', '1979', '1980', '1980s', '1982', '1983', '1984', '1985', '1986', '1987', '1988', '1989', '1990', '1990s', '1991', '1992', '1993', '1994', '1995', '1996', '1997', '1998', '1999', '19th', '1a', '1b', '1bhk', '1d', '1g', '1gb', '1j', '1k', '1kg', '1km', '1l', '1m', '1mb', '1s', '1st', '1tb', '1v1', '1x', '1z0', '20', '200', '2000', '20000', '2000rs', '2000s', '2001', '2002', '2003', '2004', '2005', '2006', '2007', '2008', '2009', '200ah', '200k', '200mg', '200mm', '200ns', '201', '2010', '2010s', '2011', '2012', '2013', '2014', '2015', '2016', '2017', '2018', '2019', '202', '2020', '20200', '2020s', '2024', '2025', '2026', '2030', '2030s', '204', '2040s', '2048', '2050', '206', '207', '20g', '20k', '20kg', '20s', '20th', '21', '210', '2100', '214', '2178', '21st', '21yr', '22', '220', '220v', '22k', '22nd', '23', '230', '230v', '234', '23andme', '23rd', '24', '240', '2400', '240v', '241', '243', '245', '247', '24hrs', '24th', '24x7', '25', '250', '2500', '25000', '25000inr', '250k', '250r', '250w', '251', '256', '25k', '25th', '26', '2600', '260lb', '264', '265', '26th', '27', '270', '2750u', '278', '27k', '27th', '28', '280', '28000', '28th', '29', '290', '292', '297', '299', '29th', '2a', '2am', '2b', '2d', '2ft', '2g', '2gb', '2ghz', '2i', '2k', '2k17', '2kg', '2l', '2mbps', '2months', '2n', '2nd', '2pac', '2s', '2t', '2x', '2x2', '2y', '2yrs', '30', '300', '3000', '30000', '300000', '30000rs', '300grain', '300k', '300mm', '301', '302', '303', '304', '305', '306', '308', '30k', '30s', '30th', '31', '310', '312', '314', '315', '316', '317', '319', '31st', '32', '320', '3200', '321', '322', '325', '32gb', '33', '330', '34', '340', '345', '35', '350', '35000', '35k', '35mm', '36', '360', '3600', '362', '365', '37', '370', '371', '375', '377', '38', '380', '39', '390', '3a', '3am', '3d', '3days', '3ds', '3g', '3gb', '3gp', '3gs', '3k', '3kg', '3m', '3rd', '3s', '3t', '3weeks', '3x', '3x3', '3yrs', '40', '400', '4000', '40000', '400m', '401', '401k', '403', '404', '405', '40k', '40s', '40w', '41', '410', '4130', '42', '420', '425', '43', '430', '432', '435', '439', '44', '440', '4400', '45', '450', '4500', '45000', '456', '457', '458', '45k', '45th', '46', '460', '4600', '4620', '47', '470', '48', '480', '480p', '485', '488', '49', '4919', '496', '4chan', '4d', '4g', '4gb', '4i', '4k', '4kg', '4l', '4mg', '4n', '4s', '4th', '4v', '4x', '4x2', '4x4', '4y', '50', '500', '5000', '50000', '500000', '5005u', '500gb', '500k', '500mg', '500rs', '500s', '503', '504', '50ae', '50cc', '50hz', '50k', '50mm', '50s', '51', '510', '511', '51st', '52', '520', '5200', '5200u', '53', '530', '535', '54', '55', '550', '5500', '55000', '55k', '55mm', '56', '560', '57', '58', '59', '5am', '5c', '5cm', '5d', '5g', '5gb', '5k', '5kg', '5kgs', '5km', '5l', '5m', '5mm', '5s', '5th', '5v', '5x', '5yrs', '60', '600', '6000', '60000', '600d', '60d', '60fps', '60hz', '60k', '60m', '60s', '61', '6100', '6100u', '615', '617', '62', '620', '6200u', '625', '626', '63', '630', '64', '640', '64bit', '64gb', '65', '650', '6500', '65000', '6500u', '65k', '66', '6600k', '666', '66kg', '67', '68', '69', '6am', '6d', '6ft', '6k', '6kg', '6l', '6p', '6s', '6th', '6x', '70', '700', '7000', '70000', '700d', '705', '70d', '70k', '70s', '71', '72', '720', '720p', '73', '730', '74', '741', '747', '75', '750', '750d', '76', '77', '770', '777', '778', '78', '786', '787', '79', '7d', '7ghz', '7k', '7kgs', '7pm', '7s', '7th', '7x', '80', '800', '8000', '80000', '8009315079', '801', '802', '8051', '8085', '8086', '80k', '80s', '81', '810', '816', '816g', '82', '820', '820m', '826', '83', '84', '840m', '85', '8500', '85k', '86', '87', '8700p', '877', '88', '89', '8969', '8g', '8gb', '8k', '8lpa', '8th', '90', '900', '9000', '9001', '900k', '9066', '907', '90k', '90s', '91', '911', '92', '920m', '925', '93', '94', '940', '940m', '940mx', '95', '950', '950m', '96', '960', '960m', '97', '970', '98', '99', '999', '99th', '9am', '9gag', '9k', '9mm', '9pm', '9th', '9v', '_251_', '_4919', '__', '_____', '_h_a_t', 'a1', 'a10', 'a102', 'a2', 'a2a', 'a2as', 'a3', 'a320', 'a380', 'a4', 'a5', 'a53', 'a6', 'a6000', 'a7', 'a7000', 'a8', 'aa', 'aaa', 'aac', 'aachen', 'aadhaar', 'aadhar', 'aadmi', 'aai', 'aakash', 'aam', 'aamir', 'aao', 'aap', 'aardman', 'aaron', 'ab', 'abandon', 'abandoned', 'abandonment', 'abap', 'abbey', 'abbreviation', 'abbreviations', 'abc', 'abdomen', 'abdominal', 'abducted', 'abduction', 'abdul', 'abel', 'abhimanyu', 'abhishek', 'abhiyan', 'abide', 'abigail', 'abilities', 'ability', 'abiotic', 'able', 'ableton', 'abnormal', 'aboard', 'abolish', 'abolished', 'abolishing', 'abominable', 'aboriginal', 'aboriginals', 'abort', 'abortion', 'abortions', 'about', 'above', 'abraham', 'abrahamic', 'abrams', 'abroad', 'abrupt', 'abruptly', 'abs', 'absence', 'absent', 'absolute', 'absolutely', 'absolutes', 'absorb', 'absorbed', 'absorber', 'absorbing', 'absorbs', 'absorption', 'abstain', 'abstinence', 'abstract', 'abstraction', 'absurd', 'abt', 'abu', 'abundance', 'abundancestockadvisors', 'abundant', 'abuse', 'abused', 'abuses', 'abusing', 'abusive', 'ac', 'aca', 'academia', 'academic', 'academically', 'academics', 'academies', 'academy', 'acb', 'acca', 'accelerate', 'accelerated', 'accelerating', 'acceleration', 'accelerator', 'accelerators', 'accent', 'accents', 'accenture', 'accept', 'acceptable', 'acceptance', 'accepted', 'accepting', 'accepts', 'access', 'accessed', 'accessibility', 'accessible', 'accessing', 'accessories', 'accident', 'accidental', 'accidentally', 'accidently', 'accidents', 'acclaimed', 'accommodate', 'accommodation', 'accomodation', 'accompany', 'accomplish', 'accomplished', 'accomplishing', 'accomplishment', 'accomplishments', 'accord', 'according', 'accordingly', 'accords', 'account', 'accountable', 'accountancy', 'accountant', 'accountants', 'accounting', 'accounts', 'accreditation', 'accredited', 'accrued', 'accumulate', 'accumulated', 'accumulating', 'accumulation', 'accuracy', 'accurate', 'accurately', 'accusation', 'accusations', 'accuse', 'accused', 'accusers', 'accusing', 'ace', 'acer', 'aces', 'acet', 'acetaminophen', 'acetate', 'acetic', 'acetone', 'acetylcholine', 'ach', 'achanakmar', 'ache', 'aches', 'achievable', 'achieve', 'achieved', 'achievement', 'achievements', 'achievers', 'achieving', 'acid', 'acidic', 'acidity', 'acids', 'acknowledge', 'acknowledged', 'acknowledgement', 'acknowledging', 'acl', 'aclu', 'acm', 'acne', 'acnes', 'acorns', 'acoustic', 'acquaintance', 'acquainted', 'acquire', 'acquired', 'acquiring', 'acquisition', 'acquisitions', 'acquitted', 'acre', 'acrobat', 'acronym', 'acronyms', 'across', 'acrylic', 'acs', 'act', 'acted', 'acting', 'action', 'actionable', 'actions', 'actionscript', 'activa', 'activate', 'activated', 'activation', 'active', 'actively', 'activia', 'activism', 'activist', 'activists', 'activities', 'activity', 'acton', 'actor', 'actors', 'actress', 'actresses', 'acts', 'actual', 'actualized', 'actually', 'actuarial', 'actuaries', 'actuary', 'acupuncture', 'acura', 'acute', 'ad', 'ada', 'adages', 'adalat', 'adam', 'adamant', 'adams', 'adani', 'adapt', 'adaptation', 'adaptations', 'adapted', 'adapter', 'adapters', 'adaptive', 'adblock', 'adc', 'add', 'addanyproject', 'added', 'adder', 'adderall', 'addict', 'addicted', 'addicting', 'addiction', 'addictions', 'addictive', 'addicts', 'adding', 'addition', 'additional', 'additives', 'addmision', 'addmission', 'address', 'addressed', 'addresses', 'addressing', 'adds', 'adduce', 'adelaide', 'adele', 'adenovirus', 'adequate', 'adequately', 'adha', 'adhaar', 'adhar', 'adhd', 'adiabatic', 'adidas', 'aditya', 'adjacent', 'adjective', 'adjectives', 'adjust', 'adjusted', 'adjusting', 'adjustment', 'adjustments', 'admin', 'administered', 'administration', 'administrative', 'administrator', 'administrators', 'admins', 'admiration', 'admire', 'admired', 'admission', 'admissions', 'admit', 'admits', 'admitted', 'admitting', 'admob', 'adobe', 'adolf', 'adopt', 'adopted', 'adopters', 'adopting', 'adoption', 'adopts', 'adorable', 'adore', 'adp', 'adrenaline', 'adreno', 'adress', 'adrian', 'ads', 'adsense', 'adsl', 'adsorption', 'adt', 'adult', 'adulterated', 'adulteration', 'adultery', 'adulthood', 'adults', 'adv', 'advaita', 'advance', 'advanced', 'advancement', 'advancements', 'advances', 'advantage', 'advantageous', 'advantages', 'advent', 'adventure', 'adventures', 'adventurous', 'adverb', 'adverbs', 'adverse', 'adversely', 'advert', 'advertise', 'advertised', 'advertisement', 'advertisements', 'advertiser', 'advertisers', 'advertising', 'advice', 'advices', 'advil', 'advisable', 'advise', 'advised', 'adviser', 'advisers', 'advises', 'advising', 'advisor', 'advisors', 'advisory', 'advocate', 'advocates', 'adware', 'adwords', 'ae', 'aed', 'aee', 'aerial', 'aero', 'aerobic', 'aerodynamics', 'aeronautical', 'aeronautics', 'aeroplane', 'aeroplanes', 'aerospace', 'aes', 'aesthetic', 'aesthetically', 'aesthetics', 'aether', 'af', 'afar', 'afcat', 'affair', 'affairs', 'affect', 'affected', 'affecting', 'affection', 'affectionate', 'affective', 'affects', 'affidavit', 'affiliate', 'affiliated', 'affiliates', 'affiliation', 'affiliations', 'affine', 'affinity', 'affirmative', 'affleck', 'afford', 'affordable', 'afghan', 'afghanistan', 'afghans', 'afmc', 'afraid', 'afreechat', 'afresh', 'africa', 'african', 'africans', 'afro', 'afsb', 'after', 'afterlife', 'aftermarket', 'aftermath', 'afternoon', 'aftershave', 'afterward', 'afterwards', 'aftr', 'ag', 'again', 'against', 'agaist', 'agartala', 'agarwal', 'agatha', 'age', 'aged', 'ageism', 'agencies', 'agency', 'agenda', 'agent', 'agents', 'ages', 'aggregate', 'aggregates', 'aggregation', 'aggregator', 'aggregators', 'aggression', 'aggressive', 'aggressively', 'agi', 'agile', 'agilent', 'agility', 'aging', 'agnostic', 'agnosticism', 'agnostics', 'ago', 'agoura', 'agra', 'agrawal', 'agree', 'agreed', 'agreement', 'agreements', 'agrees', 'agri', 'agricultural', 'agriculture', 'aguanga', 'ah', 'ahai', 'ahalya', 'ahead', 'ahmad', 'ahmadabad', 'ahmed', 'ahmedabad', 'ahn', 'ahok', 'ai', 'aiats', 'aichi', 'aicte', 'aid', 'aids', 'aieee', 'aiesec', 'aiib', 'aiims', 'aiits', 'aikido', 'ailments', 'aim', 'aima', 'aimed', 'aiming', 'aims', 'aipmt', 'air', 'airbag', 'airbags', 'airbender', 'airbnb', 'airborne', 'airbus', 'aircraft', 'aircrafts', 'aired', 'airfare', 'airforce', 'airing', 'airline', 'airliner', 'airliners', 'airlines', 'airmen', 'airplane', 'airplanes', 'airplay', 'airpods', 'airport', 'airports', 'airprint', 'airs', 'airsoft', 'airtel', 'airtime', 'airwatch', 'airways', 'aishwarya', 'aiyyo', 'aj', 'ajax', 'ajay', 'ajith', 'ak', 'aka', 'akamai', 'akatsuki', 'akbar', 'akc', 'akhilesh', 'akira', 'akkadians', 'akshay', 'al', 'alabama', 'alameda', 'alan', 'alarm', 'alarms', 'alaska', 'albania', 'albanian', 'albanians', 'albany', 'albert', 'alberta', 'album', 'albums', 'albuquerque', 'albus', 'albuterol', 'alcatel', 'alchemist', 'alchemists', 'alchemy', 'alcohol', 'alcoholic', 'alcoholics', 'alcoholism', 'alcubierre', 'aldehydes', 'ale', 'aleppo', 'alert', 'alerts', 'aleve', 'alex', 'alexa', 'alexander', 'alexandria', 'alexis', 'alfred', 'algae', 'algebra', 'algebraic', 'algeria', 'algerian', 'algerians', 'algo', 'algorithm', 'algorithmic', 'algorithms', 'alhambra', 'ali', 'alia', 'alias', 'alibaba', 'alice', 'alicia', 'alien', 'alienate', 'aliens', 'alienware', 'aliexpress', 'aligarh', 'align', 'aligned', 'alignment', 'alike', 'alimony', 'aliso', 'alison', 'alive', 'alkali', 'alkaline', 'alkane', 'alkanes', 'alkenes', 'alkynes', 'all', 'allah', 'allahabad', 'allan', 'allbestlist', 'allegation', 'allegations', 'alleged', 'allegedly', 'allegiance', 'allegory', 'allele', 'alleles', 'allen', 'allergic', 'allergies', 'allergy', 'alleviate', 'alleviation', 'alley', 'allgenericmedicine', 'alliance', 'alliances', 'allied', 'allies', 'alligator', 'alliteration', 'allo', 'allocate', 'allocated', 'allocation', 'allopathy', 'alloted', 'allotted', 'allow', 'allowance', 'allowances', 'allowed', 'allowing', 'allows', 'alloy', 'alloys', 'allusion', 'allusions', 'ally', 'alma', 'almighty', 'almond', 'almonds', 'almost', 'aloe', 'aloha', 'alon', 'alone', 'along', 'alongside', 'alopecia', 'alot', 'aloud', 'alpha', 'alphabet', 'alphabetical', 'alphabets', 'alpine', 'alprazolam', 'already', 'alright', 'als', 'also', 'alt', 'alter', 'altera', 'altered', 'alternate', 'alternating', 'alternative', 'alternatives', 'alternator', 'although', 'altisource', 'altitude', 'altitudes', 'altman', 'alto', 'altogether', 'altoids', 'altruism', 'altucher', 'alum', 'aluminium', 'aluminum', 'alumni', 'always', 'alzheimer', 'am', 'ama', 'amadeus', 'aman', 'amartya', 'amateur', 'amateurs', 'amaze', 'amazing', 'amazon', 'ambani', 'ambanis', 'ambassador', 'ambassadors', 'ambedkar', 'amber', 'ambidextrous', 'ambien', 'ambience', 'ambient', 'ambiguous', 'ambition', 'ambitious', 'ambivert', 'ambrane', 'ambulance', 'amc', 'amca', 'amcat', 'amd', 'amdocs', 'amelia', 'amend', 'amended', 'amendment', 'amendments', 'america', 'american', 'americans', 'americas', 'amex', 'amg', 'amherst', 'amidst', 'amie', 'amino', 'amish', 'amit', 'amitabh', 'amity', 'amla', 'amma', 'ammeter', 'ammo', 'ammonia', 'ammonium', 'ammunition', 'amnesia', 'amnesty', 'amo', 'amoled', 'among', 'amongst', 'amontillado', 'amount', 'amounting', 'amounts', 'amoxicillin', 'amp', 'ampere', 'amperes', 'amphetamine', 'amphetamines', 'amplifier', 'amplifiers', 'amplify', 'amplitude', 'amps', 'amputated', 'amrita', 'amritsar', 'amsterdam', 'amt', 'amu', 'amul', 'amulyam', 'amur', 'amusement', 'amway', 'amy', 'amygdala', 'an', 'anabolic', 'anaconda', 'anaerobic', 'anagram', 'anaheim', 'anakin', 'anal', 'analog', 'analogic', 'analogies', 'analogous', 'analogue', 'analogy', 'analyse', 'analysing', 'analysis', 'analyst', 'analysts', 'analytic', 'analytical', 'analytically', 'analytics', 'analyze', 'analyzing', 'anand', 'anandiben', 'ananthagiri', 'anarchism', 'anarchist', 'anarcho', 'anarchy', 'anasazi', 'anatolia', 'anatomy', 'ancestor', 'ancestors', 'ancestry', 'anchor', 'anchorage', 'anchoring', 'anchors', 'ancient', 'and', 'andaman', 'anderson', 'andersons', 'andheri', 'andhra', 'andorra', 'andover', 'andrea', 'andreanof', 'andreas', 'andrew', 'andriod', 'android', 'androids', 'andromeda', 'andy', 'anecdotes', 'anemia', 'anesthesia', 'angel', 'angeles', 'angelina', 'angellist', 'angelo', 'angelou', 'angels', 'anger', 'angered', 'angioplasty', 'angiosperms', 'angle', 'angled', 'angles', 'anglo', 'angola', 'angry', 'angsty', 'anguilla', 'angular', 'angular2', 'angularjs', 'anil', 'animal', 'animals', 'animate', 'animated', 'animation', 'animations', 'animator', 'anime', 'animes', 'anion', 'anions', 'aniston', 'ankle', 'ankles', 'ankylosing', 'ann', 'anna', 'anne', 'annex', 'annexation', 'annexed', 'annexure', 'annie', 'anniversary', 'announce', 'announced', 'announcement', 'announcements', 'annoy', 'annoyed', 'annoying', 'annoyingly', 'annoys', 'annual', 'annually', 'annum', 'anode', 'anomaly', 'anon', 'anonymity', 'anonymous', 'anonymously', 'anorexia', 'anorexic', 'another', 'anova', 'ans', 'ansi', 'answer', 'answerable', 'answered', 'answering', 'answers', 'ansys', 'ant', 'antagonist', 'antarctic', 'antarctica', 'antenna', 'antennas', 'anterior', 'anthe', 'anthem', 'anthony', 'anthropogenic', 'anthropology', 'anti', 'antibiotic', 'antibiotics', 'antibodies', 'antichrist', 'anticipate', 'anticipated', 'antidepressant', 'antidepressants', 'antifragile', 'antigens', 'antigua', 'antimatter', 'antioch', 'antique', 'antiques', 'antisemitism', 'antisocial', 'antivirus', 'anton', 'antonio', 'antonym', 'antonyms', 'ants', 'anurag', 'anus', 'anushka', 'anxiety', 'anxious', 'any', 'anybody', 'anyhow', 'anymore', 'anyone', 'anything', 'anytime', 'anyway', 'anyways', 'anywhere', 'ao', 'aoe2', 'aol', 'aorta', 'ap', 'apac', 'apache', 'apart', 'apartheid', 'apartment', 'apartments', 'apathetic', 'apathy', 'apc', 'ape', 'aperture', 'apes', 'apex', 'api', 'apics', 'apigee', 'apis', 'apj', 'apk', 'apm', 'apnea', 'apocalypse', 'apocalyptic', 'apollo', 'apologetics', 'apologise', 'apologize', 'apologized', 'apologizing', 'apology', 'apostles', 'app', 'apparatus', 'apparel', 'apparent', 'apparently', 'appeal', 'appealing', 'appear', 'appearance', 'appearances', 'appeared', 'appearing', 'appears', 'appendicitis', 'appendix', 'appetite', 'apple', 'apples', 'applet', 'appliance', 'appliances', 'applicable', 'applicant', 'applicants', 'application', 'applications', 'applied', 'applies', 'applock', 'apply', 'applying', 'appoint', 'appointed', 'appointing', 'appointment', 'appointments', 'appoints', 'appraisal', 'appraise', 'appreciate', 'appreciated', 'appreciation', 'apprentice', 'apprenticeship', 'approach', 'approached', 'approaches', 'approaching', 'appropriate', 'appropriately', 'appropriation', 'appropriations', 'approval', 'approvals', 'approve', 'approved', 'approving', 'approx', 'approximate', 'approximately', 'approximation', 'apps', 'appsc', 'appstore', 'april', 'apron', 'aps', 'apt', 'aptitude', 'aptos', 'apu', 'aqua', 'aquarium', 'aquarius', 'aquatic', 'aqueous', 'aquinas', 'ar', 'arab', 'arabia', 'arabian', 'arabic', 'arabs', 'araku', 'aravind', 'arbitrage', 'arbitrary', 'arbitration', 'arc', 'arcade', 'arch', 'archaeological', 'archaeologist', 'archaeologists', 'archaeology', 'archaic', 'archeological', 'archer', 'archery', 'archetypal', 'archimedes', 'archipelago', 'architect', 'architects', 'architectural', 'architecture', 'architectures', 'archive', 'archived', 'archives', 'arcs', 'arctic', 'arduino', 'are', 'area', 'areas', 'areata', 'aren', 'arena', 'ares', 'argentina', 'argentine', 'argon', 'args', 'argue', 'argued', 'arguing', 'argument', 'argumentative', 'arguments', 'ariana', 'arica', 'aricent', 'arid', 'aries', 'arihant', 'arijit', 'arise', 'arista', 'aristotle', 'arithmetic', 'arizona', 'arjun', 'arjuna', 'ark', 'arkansas', 'arkham', 'arlington', 'arm', 'armature', 'armed', 'armenia', 'armenian', 'armenians', 'armies', 'armin', 'armor', 'armour', 'armpit', 'armpits', 'arms', 'armstrong', 'army', 'arnab', 'arnav', 'arnold', 'aroma', 'aromatherapy', 'aromatic', 'arora', 'around', 'arousal', 'aroused', 'arousing', 'arrange', 'arranged', 'arrangement', 'arrangements', 'arranging', 'array', 'arraylist', 'arrays', 'arrear', 'arrears', 'arrest', 'arrested', 'arrests', 'arri', 'arrival', 'arrive', 'arrived', 'arrives', 'arriving', 'arrogance', 'arrogant', 'arrow', 'arrows', 'arryn', 'arse', 'arsenal', 'art', 'artemis', 'arteries', 'artery', 'artform', 'arthakranti', 'arthritis', 'arthur', 'article', 'articles', 'articleship', 'artifacts', 'artificial', 'artificially', 'artillery', 'artisan', 'artist', 'artistic', 'artists', 'arts', 'artwork', 'aruba', 'arun', 'arundhati', 'arvind', 'arya', 'aryan', 'aryans', 'as', 'asaduddin', 'asana', 'asansol', 'asap', 'asbestos', 'ascendant', 'ascending', 'ascension', 'ascii', 'ascribe', 'ase', 'asean', 'asexual', 'asexuality', 'ash', 'asha', 'ashamed', 'ashes', 'ashford', 'ashkenazi', 'ashlee', 'ashley', 'ashok', 'ashoka', 'ashram', 'ashton', 'ashwagandha', 'ashwathama', 'ashwin', 'asia', 'asian', 'asians', 'asiatic', 'asic', 'asics', 'aside', 'asimov', 'ask', 'asked', 'asking', 'asks', 'asl', 'aslam', 'asleep', 'asme', 'aso', 'asocial', 'asoiaf', 'asp', 'aspect', 'aspects', 'aspen', 'asperger', 'aspergers', 'asphalt', 'aspirant', 'aspirants', 'aspirated', 'aspiration', 'aspire', 'aspirin', 'aspiring', 'aspx', 'ass', 'assad', 'assam', 'assange', 'assassin', 'assassinate', 'assassinated', 'assassinating', 'assassination', 'assassins', 'assault', 'assaulted', 'assaults', 'assemble', 'assembled', 'assembler', 'assembling', 'assembly', 'assertion', 'assertive', 'assertively', 'assess', 'assessment', 'assessments', 'asset', 'assets', 'asshole', 'assholes', 'assign', 'assigned', 'assignment', 'assignments', 'assist', 'assistance', 'assistant', 'assistants', 'assisted', 'associate', 'associated', 'associates', 'association', 'associations', 'associative', 'assonance', 'asst', 'assume', 'assumed', 'assumes', 'assuming', 'assumption', 'assumptions', 'assurance', 'assured', 'assyrian', 'asteroid', 'asteroids', 'asthma', 'astigmatism', 'astral', 'astro', 'astrologer', 'astrologers', 'astrological', 'astrology', 'astronaut', 'astronauts', 'astronomer', 'astronomers', 'astronomical', 'astronomy', 'astrophysicist', 'astrophysics', 'asu', 'asus', 'asvab', 'asylum', 'asymptote', 'asymptotes', 'asymptotic', 'asynchronous', 'at', 'atacama', 'atal', 'atascadero', 'ataturk', 'atc', 'ate', 'atg', 'ath', 'athavada', 'atheism', 'atheist', 'atheistic', 'atheists', 'athena', 'athens', 'athlete', 'athletes', 'athletic', 'athletics', 'atif', 'ativan', 'atkins', 'atkinson', 'atlanta', 'atlantic', 'atlas', 'atleast', 'atletico', 'atm', 'atmosphere', 'atmospheres', 'atmospheric', 'atms', 'atom', 'atomic', 'atomicity', 'atoms', 'atos', 'atp', 'atrial', 'atrocities', 'atrocity', 'atsume', 'attach', 'attached', 'attaching', 'attachment', 'attachments', 'attack', 'attacked', 'attacking', 'attacks', 'attain', 'attained', 'attains', 'attempt', 'attempted', 'attempting', 'attempts', 'attend', 'attendance', 'attendant', 'attendants', 'attended', 'attending', 'attention', 'attentive', 'attenuation', 'attire', 'attitude', 'attitudes', 'attorney', 'attorneys', 'attract', 'attracted', 'attracting', 'attraction', 'attractions', 'attractive', 'attractiveness', 'attracts', 'attribute', 'attributed', 'attributes', 'attrition', 'atul', 'atv', 'au', 'au111tx', 'auburn', 'auckland', 'auction', 'auctions', 'audacity', 'audi', 'audible', 'audience', 'audiences', 'audio', 'audiobook', 'audiobooks', 'audiology', 'audiophiles', 'audios', 'audit', 'audited', 'auditing', 'audition', 'auditioning', 'auditions', 'auditor', 'auditors', 'audrey', 'aug', 'augmented', 'august', 'augusta', 'aung', 'aunt', 'aunties', 'aunty', 'aura', 'aurangabad', 'aurora', 'aus', 'aussie', 'aussies', 'austen', 'austerity', 'austin', 'australia', 'australian', 'australians', 'austria', 'austrian', 'authentic', 'authenticate', 'authenticated', 'authentication', 'authenticator', 'authenticity', 'author', 'authorised', 'authoritarian', 'authoritative', 'authorities', 'authority', 'authorization', 'authorize', 'authorized', 'authors', 'autism', 'autistic', 'auto', 'autobahn', 'autobiographies', 'autobiography', 'autocad', 'autocomplete', 'autodesk', 'autofill', 'automata', 'automate', 'automated', 'automatic', 'automatically', 'automation', 'automobile', 'automobiles', 'automotive', 'autonomous', 'autopilot', 'autoplay', 'autopsy', 'autotroph', 'autotrophs', 'autowini', 'autumn', 'aux', 'auxiliary', 'av', 'ava', 'avada', 'avail', 'availability', 'available', 'availed', 'avalanche', 'avast', 'avatar', 'avatars', 'avenged', 'avenger', 'avengers', 'aventador', 'avenue', 'avenues', 'average', 'averages', 'aversion', 'avg', 'avi', 'aviation', 'avicii', 'avid', 'avira', 'aviv', 'avl', 'avocado', 'avocados', 'avogadro', 'avoid', 'avoidance', 'avoidant', 'avoided', 'avoiding', 'aw', 'awa', 'awaited', 'awaiting', 'awake', 'awaken', 'awakened', 'awakening', 'awakens', 'award', 'awarded', 'awards', 'aware', 'awareness', 'away', 'awd', 'awdhesh', 'awesome', 'awful', 'awhile', 'awk', 'awkward', 'aws', 'ax', 'axe', 'axial', 'axiomatic', 'axis', 'axl', 'axle', 'axon', 'ayahuasca', 'ayn', 'ayodhya', 'ayurved', 'ayurveda', 'ayurvedic', 'ayurvedically', 'az', 'azad', 'azamgarh', 'azerbaijan', 'azerbaijanis', 'azhar', 'azim', 'azkaban', 'azor', 'aztec', 'aztecs', 'azure', 'azusa', 'b1', 'b12', 'b2', 'b2b', 'b2c', 'b4', 'ba', 'baahubali', 'baar', 'baba', 'babajob', 'babar', 'babel', 'babies', 'babri', 'babu', 'baby', 'babylon', 'bac', 'bacardi', 'baccalaureate', 'bach', 'bachao', 'bachata', 'bachchan', 'bachelor', 'bachelorette', 'bachelors', 'back', 'backbone', 'backdoor', 'backed', 'backend', 'backfire', 'backgammon', 'background', 'backgrounds', 'backing', 'backlink', 'backlinks', 'backlog', 'backlogs', 'backpack', 'backpacking', 'backpage', 'backpropagation', 'backs', 'backstory', 'backtrack', 'backup', 'backups', 'backward', 'backwards', 'backyard', 'bacon', 'bacteria', 'bacterial', 'bacterium', 'bad', 'badal', 'badass', 'badge', 'badger', 'badly', 'badminton', 'badoo', 'badrinath', 'badí', 'baelish', 'bag', 'bagel', 'baggage', 'baggy', 'baghdad', 'bags', 'baha', 'bahadur', 'bahamas', 'bahasa', 'bahrain', 'baht', 'bahubali', 'baidu', 'bail', 'bailed', 'bailey', 'bain', 'bait', 'baja', 'bajaj', 'bajirao', 'bake', 'baked', 'baker', 'bakery', 'baking', 'bal', 'balaji', 'balance', 'balanced', 'balancer', 'balances', 'balancing', 'balcony', 'bald', 'baldness', 'baldwin', 'bale', 'baleno', 'bali', 'balk', 'balkan', 'ball', 'ballads', 'ballast', 'ballet', 'ballistic', 'ballon', 'balloon', 'balloons', 'ballot', 'ballpoint', 'balls', 'balm', 'balochistan', 'balrog', 'balsamic', 'baltic', 'baltimore', 'baltistan', 'baluchistan', 'bamboo', 'bams', 'ban', 'banana', 'bananas', 'bancshares', 'band', 'banda', 'bandana', 'bandh', 'bandhan', 'bandra', 'bands', 'bandwidth', 'bane', 'banega', 'banerjee', 'bang', 'bangalore', 'bangkok', 'bangladesh', 'bangladeshi', 'bangladeshis', 'banglore', 'bank', 'banker', 'bankers', 'banking', 'banknotes', 'bankrupt', 'bankruptcy', 'banks', 'banned', 'banner', 'banners', 'banning', 'bannon', 'banquo', 'bans', 'bansal', 'bao', 'baptism', 'baptist', 'baptized', 'bapu', 'bar', 'barack', 'baraka', 'baratheon', 'barbados', 'barbara', 'barbecue', 'barber', 'barbie', 'barc', 'barca', 'barcelona', 'barclays', 'barcode', 'bare', 'barefoot', 'bareilly', 'barely', 'bargain', 'bargaining', 'bariatric', 'barista', 'baristas', 'baritone', 'barium', 'bark', 'barkha', 'barking', 'barks', 'barnes', 'barnet', 'barney', 'baroda', 'barometer', 'baron', 'baroque', 'barred', 'barrel', 'barrels', 'barren', 'barrier', 'barriers', 'barrister', 'barron', 'barry', 'bars', 'bart', 'bartenders', 'bartending', 'basal', 'base', 'base64', 'baseball', 'baseband', 'based', 'basel', 'basement', 'bases', 'bash', 'bashar', 'basic', 'basically', 'basics', 'basil', 'basin', 'basing', 'basis', 'basket', 'basketball', 'bass', 'bastard', 'bat', 'bataan', 'batch', 'batches', 'bath', 'bathe', 'bathing', 'bathroom', 'bathrooms', 'batman', 'bats', 'batsman', 'batsmen', 'batter', 'batteries', 'battery', 'batting', 'battle', 'battlefield', 'battles', 'battleship', 'battleships', 'baumgartner', 'bauxite', 'bay', 'bayer', 'bayes', 'bayesian', 'bazaar', 'bb', 'bba', 'bbc', 'bbm', 'bbq', 'bbs', 'bc', 'bca', 'bcc', 'bcci', 'bcd', 'bcg', 'bcom', 'bd', 'bds', 'bdsm', 'be', 'beach', 'beaches', 'beacon', 'beads', 'beagle', 'beaker', 'beam', 'beams', 'bean', 'beans', 'bear', 'beard', 'bearded', 'beards', 'bearing', 'bearings', 'bears', 'beast', 'beasts', 'beat', 'beaten', 'beating', 'beatles', 'beats', 'beautiful', 'beautifully', 'beauty', 'beaver', 'beavers', 'became', 'because', 'beck', 'beckham', 'become', 'becomes', 'becoming', 'bed', 'bedding', 'bedi', 'bedroom', 'beds', 'bedsheets', 'bedtime', 'bee', 'beef', 'been', 'beep', 'beeping', 'beer', 'beers', 'bees', 'beethoven', 'befikre', 'before', 'beforehand', 'befriend', 'beg', 'began', 'beggar', 'beggars', 'begginers', 'begging', 'begin', 'begineer', 'begining', 'beginner', 'beginners', 'beginning', 'begins', 'begun', 'behalf', 'behance', 'behave', 'behaves', 'behaving', 'behavior', 'behavioral', 'behaviors', 'behaviour', 'behavioural', 'beheaded', 'beheading', 'behind', 'beholder', 'beijing', 'being', 'beings', 'bel', 'belarus', 'belfort', 'belgian', 'belgium', 'belief', 'beliefs', 'believable', 'believe', 'believed', 'believer', 'believers', 'believes', 'believing', 'belive', 'belize', 'belkin', 'bell', 'bella', 'bellatrix', 'bells', 'belly', 'belong', 'belonged', 'belonging', 'belongings', 'belongs', 'beloved', 'below', 'belt', 'belts', 'ben', 'benadryl', 'bench', 'benchmark', 'bend', 'bending', 'beneath', 'benedict', 'beneficial', 'benefit', 'benefited', 'benefits', 'benefitted', 'beneke', 'bengal', 'bengali', 'bengalis', 'bengaluru', 'benghazi', 'benifits', 'benin', 'benjamin', 'benjen', 'benning', 'bent', 'benz', 'benzene', 'benzoic', 'benzoyl', 'beowulf', 'berber', 'berets', 'berger', 'berkeley', 'berklee', 'berkshire', 'berlin', 'bermuda', 'bernard', 'bernardino', 'bernese', 'bernie', 'bernoulli', 'berry', 'berth', 'berths', 'beryllium', 'beside', 'besides', 'best', 'bestfriend', 'bestseller', 'bestselling', 'bet', 'bet365', 'beta', 'betray', 'betrayal', 'betrayed', 'betraying', 'bets', 'betta', 'better', 'betterment', 'betting', 'between', 'beverage', 'beverages', 'beverly', 'bewafa', 'beyonce', 'beyoncé', 'beyond', 'bezos', 'bf', 'bf1', 'bfs', 'bg', 'bhagat', 'bhagavad', 'bhagvad', 'bhagwad', 'bhakt', 'bhakti', 'bharat', 'bharatanatyam', 'bharath', 'bharatiya', 'bharti', 'bhat', 'bhatt', 'bhavan', 'bhel', 'bhilai', 'bhim', 'bhishma', 'bhk', 'bhms', 'bhogle', 'bhojpuri', 'bhopal', 'bhosle', 'bhp', 'bhu', 'bhubaneshwar', 'bhubaneswar', 'bhutan', 'bhutto', 'bi', 'bias', 'biased', 'biases', 'biasing', 'bible', 'biblical', 'bibliography', 'bicameral', 'bicarbonate', 'bicep', 'biceps', 'bicycle', 'bicycles', 'bid', 'bidding', 'biden', 'bieber', 'bifurcation', 'big', 'bigcommerce', 'bigdata', 'bigg', 'bigger', 'biggest', 'bigot', 'bigoted', 'bigotry', 'bihar', 'bihari', 'biharis', 'bike', 'biker', 'bikers', 'bikes', 'biking', 'bikini', 'bikinis', 'bilateral', 'bilbo', 'bile', 'biligiri', 'bilingual', 'bilirubin', 'bill', 'billboard', 'billboards', 'billiards', 'billie', 'billing', 'billion', 'billionaire', 'billionaires', 'billions', 'bills', 'billy', 'bilzerian', 'bim', 'bin', 'binary', 'binaural', 'bind', 'binding', 'bing', 'binge', 'binks', 'binoculars', 'binomial', 'bins', 'bio', 'biochemical', 'biochemistry', 'biodegradable', 'biodiversity', 'bioengineering', 'biogas', 'biographical', 'biographies', 'biography', 'bioinformatics', 'biological', 'biologically', 'biologist', 'biologists', 'biology', 'biomass', 'biome', 'biomed', 'biomedical', 'biomes', 'biometric', 'biometrics', 'bionic', 'biopic', 'bios', 'biosciences', 'biostatistics', 'biotech', 'biotechnology', 'biotic', 'bipartisan', 'bipc', 'bipolar', 'biracial', 'birchbox', 'bird', 'birds', 'birla', 'birmingham', 'birth', 'birthday', 'birthdays', 'birthplace', 'births', 'biryani', 'biscuits', 'bisector', 'bisexual', 'bisexuality', 'bismol', 'biswa', 'biswapati', 'bit', 'bitbucket', 'bitch', 'bitcoin', 'bitcoins', 'bitdefender', 'bite', 'bites', 'biting', 'bitlocker', 'bits', 'bitsat', 'bitten', 'bitter', 'bittersweet', 'bittorrent', 'bitumen', 'biz', 'bizarre', 'bjp', 'bjt', 'black', 'blackberry', 'blackhead', 'blackheads', 'blackholes', 'blackjack', 'blacklist', 'blacklisted', 'blackmail', 'blackmailing', 'blackout', 'blackrock', 'blacks', 'blackstone', 'bladder', 'blade', 'blades', 'blaine', 'blair', 'blake', 'blame', 'blamed', 'blames', 'blaming', 'blank', 'blanket', 'blankets', 'blast', 'blaster', 'blasting', 'blatant', 'blatantly', 'blazer', 'ble', 'bleach', 'bleached', 'bleaching', 'bled', 'bleed', 'bleeding', 'bleeds', 'blend', 'blender', 'blending', 'bless', 'blessed', 'blessing', 'blessings', 'blind', 'blinders', 'blindly', 'blindness', 'blink', 'blinking', 'bliss', 'blister', 'blisters', 'blizzard', 'bloated', 'bloating', 'blob', 'bloc', 'block', 'blockade', 'blockage', 'blockbuster', 'blockchain', 'blocked', 'blocker', 'blockers', 'blocking', 'blocks', 'blog', 'blogger', 'bloggers', 'blogging', 'blogs', 'blogspot', 'blond', 'blonde', 'blood', 'blooded', 'bloodiest', 'bloodline', 'bloods', 'bloodstream', 'bloody', 'bloom', 'bloomberg', 'blouse', 'blow', 'blowing', 'blowjob', 'blowjobs', 'blown', 'blows', 'blu', 'bludgeon', 'blue', 'blueberries', 'blueberry', 'bluemix', 'blueprint', 'blues', 'bluestacks', 'bluetooth', 'blunder', 'blunders', 'blur', 'bluray', 'blurred', 'blurring', 'blurry', 'bm', 'bmc', 'bmi', 'bml', 'bms', 'bmw', 'bnbr', 'bnp', 'bo', 'boar', 'board', 'boarding', 'boards', 'boast', 'boat', 'boats', 'bob', 'boba', 'bobby', 'bocconi', 'bodies', 'bodily', 'bodnick', 'body', 'bodybuilder', 'bodybuilders', 'bodybuilding', 'bodyguard', 'bodyguards', 'bodyweight', 'boeing', 'boer', 'boggling', 'bogota', 'bohemian', 'bohr', 'boil', 'boiled', 'boiler', 'boiling', 'boils', 'boko', 'bold', 'boleyn', 'bolivia', 'bollywood', 'bolt', 'bolton', 'bolts', 'bomb', 'bombard', 'bombay', 'bombed', 'bomber', 'bombers', 'bombing', 'bombings', 'bombs', 'bon', 'bonafide', 'bonaparte', 'bond', 'bonded', 'bonding', 'bonds', 'bone', 'boner', 'bones', 'bong', 'bono', 'bonobos', 'bonsai', 'bonus', 'bonuses', 'boo', 'boob', 'boobs', 'boogers', 'book', 'booked', 'booking', 'bookings', 'bookkeeping', 'bookmark', 'bookmarked', 'bookmarking', 'bookmarks', 'bookmyshow', 'books', 'bookstore', 'boolean', 'boom', 'booming', 'boon', 'boone', 'boost', 'booster', 'boosters', 'boosting', 'boot', 'bootable', 'bootcamp', 'bootcamps', 'booth', 'booths', 'booting', 'bootloader', 'boots', 'bootstrap', 'bootstrapped', 'bootstrapping', 'booty', 'bora', 'borat', 'borax', 'bord', 'border', 'borderline', 'borders', 'bore', 'borealis', 'bored', 'boredom', 'boric', 'boring', 'born', 'borneo', 'borodino', 'boron', 'borough', 'boroughs', 'borrow', 'borrowed', 'borrowing', 'boruto', 'bosch', 'bose', 'bosnia', 'boson', 'boss', 'bossa', 'bosses', 'boston', 'bot', 'botany', 'both', 'bother', 'bothered', 'bothering', 'bothers', 'botox', 'bots', 'botswana', 'bottle', 'bottled', 'bottleneck', 'bottles', 'bottom', 'bought', 'boulder', 'bounce', 'bounces', 'bouncing', 'bound', 'boundaries', 'boundary', 'bounded', 'bounty', 'bourbon', 'bourne', 'boutique', 'boutiques', 'bow', 'bowed', 'bowel', 'bowie', 'bowl', 'bowler', 'bowlers', 'bowling', 'bowls', 'bows', 'box', 'boxer', 'boxers', 'boxes', 'boxing', 'boy', 'boycott', 'boycotting', 'boyd', 'boyfriend', 'boyfriends', 'boyle', 'boys', 'bp', 'bpcl', 'bpd', 'bpharm', 'bpl', 'bpm', 'bpo', 'bps', 'bpsc', 'bpt', 'br', 'bra', 'brace', 'bracelet', 'bracelets', 'braces', 'bracket', 'brackets', 'brad', 'bradley', 'brady', 'brag', 'bragging', 'brahma', 'brahmaputra', 'brahmin', 'brahmins', 'brahmos', 'braid', 'braids', 'braille', 'brain', 'brains', 'brainstorm', 'brainstorming', 'brainwashed', 'brainwashing', 'brake', 'brakes', 'braking', 'braless', 'bran', 'branch', 'branches', 'brand', 'branded', 'branding', 'brandon', 'brands', 'brandy', 'bras', 'brass', 'brat', 'brave', 'braveheart', 'bravest', 'bravia', 'brawl', 'brazil', 'brazilian', 'brazilians', 'breach', 'breaches', 'breaching', 'bread', 'breadth', 'break', 'breakdown', 'breaker', 'breakers', 'breakfast', 'breaking', 'breaks', 'breakthrough', 'breakup', 'breakups', 'breast', 'breastfeed', 'breastfeeding', 'breasts', 'breath', 'breathalyzer', 'breathe', 'breathing', 'breathless', 'bred', 'breed', 'breeder', 'breeders', 'breeding', 'breeds', 'breeze', 'breezes', 'breitbart', 'brent', 'bret', 'brew', 'brewing', 'brexit', 'brezza', 'brian', 'bribe', 'bribing', 'brick', 'bricks', 'brics', 'bridal', 'bride', 'brides', 'bridesmaid', 'bridesmaids', 'bridge', 'bridges', 'brief', 'briefcase', 'briefings', 'briefly', 'briefs', 'brigade', 'briggs', 'bright', 'brightening', 'brighter', 'brightest', 'brightness', 'brijmohan', 'brilliance', 'brilliant', 'brin', 'brindle', 'bring', 'bringing', 'brings', 'brink', 'brio', 'brisbane', 'brisket', 'bristol', 'brit', 'brita', 'britain', 'britannia', 'british', 'britishers', 'britney', 'brits', 'brittany', 'brittle', 'bro', 'broad', 'broadband', 'broadcast', 'broadcasting', 'broadcasts', 'broader', 'broadly', 'broadway', 'broccoli', 'brock', 'broglie', 'broiler', 'broke', 'broken', 'broker', 'brokerage', 'brokered', 'brokers', 'bromance', 'bromide', 'bromine', 'bronchitis', 'bronn', 'bronte', 'bronx', 'bronze', 'brook', 'brooklyn', 'brooks', 'brooms', 'bros', 'broth', 'brothels', 'brother', 'brotherhood', 'brothers', 'brought', 'brouhaha', 'brown', 'brownian', 'brownie', 'brownies', 'browns', 'browse', 'browser', 'browsers', 'browsing', 'bruce', 'bruise', 'bruised', 'bruises', 'brunch', 'brunei', 'bruno', 'brunswick', 'brush', 'brushes', 'brushing', 'brussels', 'brutal', 'brutality', 'brutally', 'brute', 'bryan', 'bryant', 'bs', 'bsc', 'bsd', 'bse', 'bsf', 'bsnl', 'bt', 'btech', 'btm', 'bts', 'btw', 'bubble', 'bubbles', 'buchanan', 'bucharest', 'buck', 'bucket', 'bucks', 'bud', 'budapest', 'buddha', 'buddhism', 'buddhist', 'buddhists', 'buddies', 'buddy', 'buddybuild', 'budget', 'budgeting', 'budgets', 'budgies', 'buds', 'budweiser', 'buff', 'buffalo', 'buffer', 'buffering', 'buffet', 'buffett', 'bug', 'bugatti', 'bugged', 'buggy', 'bugs', 'build', 'builder', 'builders', 'building', 'buildings', 'builds', 'built', 'buisness', 'bukkake', 'bulb', 'bulbs', 'bulgaria', 'bulgarian', 'bulge', 'bulimia', 'bulk', 'bulking', 'bulky', 'bull', 'bulldog', 'bulldogs', 'bullet', 'bulletproof', 'bullets', 'bulleya', 'bullfighting', 'bullied', 'bullies', 'bulls', 'bullshit', 'bully', 'bullying', 'bulova', 'bum', 'bumble', 'bump', 'bumper', 'bumps', 'bunch', 'bundle', 'bungalow', 'bungee', 'bunk', 'bunker', 'bunny', 'buoyant', 'burberry', 'burden', 'bureau', 'bureaucracy', 'burger', 'burgers', 'burglar', 'burglars', 'burgundy', 'burhan', 'burial', 'buried', 'burj', 'burlap', 'burma', 'burmese', 'burn', 'burned', 'burner', 'burners', 'burning', 'burnout', 'burns', 'burnt', 'burp', 'burping', 'burps', 'burqa', 'burqas', 'burr', 'burrito', 'burst', 'burton', 'bury', 'bus', 'busan', 'buses', 'bush', 'busiest', 'busines', 'business', 'businesses', 'businessman', 'businessmen', 'bussiness', 'bust', 'busted', 'busy', 'but', 'butane', 'butcher', 'butler', 'butt', 'butter', 'buttercream', 'butterflies', 'butterfly', 'buttermilk', 'buttermyresume', 'buttock', 'buttocks', 'button', 'buttons', 'butts', 'buuren', 'buy', 'buyer', 'buyers', 'buying', 'buyout', 'buys', 'buzz', 'buzzfeed', 'by', 'bye', 'byju', 'bypass', 'byrne', 'byte', 'bytecode', 'bytes', 'byzantine', 'c1', 'c2', 'c2090', 'c2150', 'c2180', 'c3', 'c4', 'c5', 'ca', 'cab', 'cabbage', 'cabin', 'cabinet', 'cabinets', 'cabins', 'cable', 'cables', 'cabs', 'caccount', 'cache', 'cached', 'caching', 'cactus', 'cad', 'cadbury', 'cadet', 'cadets', 'cadre', 'cae', 'caesar', 'cafe', 'cafes', 'cafeteria', 'caffe', 'caffeine', 'café', 'cag', 'cage', 'cahoots', 'cain', 'cake', 'cakephp', 'cakes', 'cal', 'calabria', 'calangute', 'calcification', 'calcium', 'calculate', 'calculated', 'calculating', 'calculation', 'calculations', 'calculator', 'calculators', 'calculus', 'calcutta', 'caleb', 'calendar', 'calendars', 'calender', 'calexit', 'calf', 'calgary', 'calhoun', 'caliber', 'calibrated', 'calibration', 'calibri', 'calico', 'calicut', 'california', 'californians', 'caliper', 'caliphate', 'calisthenics', 'call', 'callao', 'callback', 'called', 'caller', 'callers', 'calligraphy', 'calling', 'calls', 'calm', 'calmer', 'caloric', 'calorie', 'calories', 'calorimeter', 'caltech', 'caltrain', 'calumny', 'calves', 'calvin', 'cam', 'camber', 'cambodia', 'cambogia', 'cambridge', 'came', 'camel', 'camels', 'camera', 'cameras', 'cameron', 'cameroon', 'camilla', 'camouflage', 'camp', 'campaign', 'campaigning', 'campaigns', 'campbell', 'camper', 'camping', 'camps', 'campus', 'campuses', 'cams', 'camshaft', 'camus', 'can', 'cana', 'canada', 'canadian', 'canadians', 'canal', 'canara', 'cancel', 'canceled', 'canceling', 'cancellation', 'cancellations', 'cancelled', 'cancelling', 'cancels', 'cancer', 'cancerous', 'cancun', 'candidacy', 'candidate', 'candidates', 'candies', 'candle', 'candles', 'candor', 'candy', 'cane', 'canker', 'cannabis', 'canned', 'cannibal', 'cannibalism', 'cannon', 'cannot', 'canoe', 'canola', 'canon', 'canonical', 'canonized', 'cans', 'cant', 'cantilever', 'cantonese', 'canva', 'canvas', 'canyon', 'cao', 'cap', 'capabilities', 'capability', 'capable', 'capacitance', 'capacitive', 'capacitor', 'capacitors', 'capacity', 'cape', 'capf', 'capgemini', 'capillaries', 'capillary', 'capita', 'capital', 'capitalism', 'capitalist', 'capitalists', 'capitalization', 'capitalize', 'capitalized', 'capitals', 'capitan', 'capitol', 'capo', 'cappuccino', 'capricorn', 'capricorns', 'caps', 'capsule', 'capsules', 'captain', 'captaincy', 'captcha', 'caption', 'captioning', 'captions', 'captive', 'captives', 'captivity', 'capture', 'captured', 'capturing', 'car', 'caramel', 'carat', 'carb', 'carbide', 'carbohydrate', 'carbohydrates', 'carbon', 'carbonate', 'carbonated', 'carbonic', 'carbons', 'carboxylic', 'carbs', 'carburetor', 'carcinogen', 'card', 'cardboard', 'cardiac', 'cardinal', 'cardio', 'cardiologist', 'cardiologists', 'cardiology', 'cardiovascular', 'cards', 'care', 'cared', 'career', 'careers', 'carefully', 'careless', 'cares', 'carey', 'cargo', 'caribbean', 'caring', 'carl', 'carleton', 'carlin', 'carlo', 'carlos', 'carlsen', 'carly', 'carnatic', 'carnegie', 'carnivores', 'carnivorous', 'carnot', 'carolina', 'carpal', 'carpenter', 'carpentry', 'carpet', 'carpets', 'carreer', 'carrer', 'carrera', 'carrey', 'carriage', 'carrie', 'carried', 'carrier', 'carrierbuilder', 'carriers', 'carries', 'carroll', 'carrot', 'carrots', 'carry', 'carrying', 'cars', 'carson', 'cart', 'carta', 'cartels', 'carter', 'cartesian', 'cartilage', 'cartoon', 'cartoons', 'cartridge', 'cartridges', 'carts', 'carving', 'cas', 'cas9', 'cascade', 'cascades', 'cascadia', 'case', 'casein', 'cases', 'casey', 'cash', 'cashback', 'cashbacks', 'cashew', 'cashews', 'cashier', 'cashing', 'cashless', 'casimir', 'casino', 'casinos', 'casio', 'cask', 'cassandra', 'cassava', 'cast', 'caste', 'casteism', 'caster', 'castes', 'castilian', 'casting', 'castle', 'castles', 'castor', 'castration', 'castro', 'casual', 'casually', 'casualties', 'cat', 'catabolic', 'catalan', 'catalog', 'catalonia', 'catalyst', 'catalysts', 'catalytic', 'catan', 'catastrophic', 'catch', 'catcher', 'catches', 'catching', 'catchy', 'categorical', 'categories', 'categorize', 'categorized', 'category', 'catelyn', 'catering', 'caterpillar', 'catfish', 'cathay', 'cathode', 'catholic', 'catholicism', 'catholics', 'catia', 'cation', 'cations', 'catnip', 'cats', 'cattle', 'caucasian', 'caucasians', 'caucus', 'caught', 'caulfield', 'cauliflower', 'causal', 'causality', 'cause', 'caused', 'causes', 'causing', 'cauvery', 'cavalier', 'cavalry', 'cave', 'cavemen', 'caves', 'caviar', 'cavities', 'cavity', 'cayman', 'cazpro', 'cb', 'cba', 'cbap', 'cbd', 'cbi', 'cbr', 'cbs', 'cbsc', 'cbse', 'cbt', 'cbz', 'cc', 'ccc', 'ccd', 'cce', 'ccie', 'ccmt', 'ccna', 'ccnp', 'ccp', 'ccs', 'cctv', 'cd', 'cdac', 'cdg', 'cdma', 'cdn', 'cdot', 'cds', 'cdse', 'ce', 'cease', 'ceasefire', 'ceases', 'ceasing', 'ceg', 'ceiba', 'ceiling', 'celebrate', 'celebrated', 'celebrates', 'celebrating', 'celebration', 'celebrations', 'celebrities', 'celebrity', 'celebs', 'celeron', 'celery', 'celestial', 'celiac', 'celibate', 'cell', 'celled', 'cello', 'cellphone', 'cellphones', 'cells', 'cellular', 'cellulite', 'cellulose', 'celsius', 'cement', 'cemetery', 'cena', 'cengage', 'censor', 'censored', 'censorship', 'census', 'cent', 'centauri', 'center', 'centered', 'centers', 'centimeters', 'centipede', 'centos', 'central', 'centre', 'centres', 'centrifugal', 'centripetal', 'centroid', 'cents', 'centuries', 'century', 'ceo', 'ceos', 'cept', 'ceramic', 'ceramics', 'cereal', 'cereals', 'cerebral', 'ceremonies', 'ceremony', 'cern', 'cersei', 'certain', 'certainly', 'certainty', 'certificate', 'certificates', 'certification', 'certifications', 'certified', 'certs', 'cervical', 'cervix', 'cet', 'cf', 'cfa', 'cfd', 'cfl', 'cfo', 'cfp', 'cg', 'cgi', 'cgl', 'cgpa', 'ch', 'ch2', 'ch3', 'chad', 'chafa', 'chai', 'chain', 'chains', 'chainsaw', 'chainsmokers', 'chair', 'chairman', 'chairmanship', 'chairperson', 'chairs', 'chaitanya', 'chakra', 'chakras', 'chaldeans', 'chalisa', 'chalk', 'challan', 'challenge', 'challenged', 'challenger', 'challenges', 'challenging', 'chamath', 'chamber', 'chambers', 'chamomile', 'champagne', 'champcash', 'champion', 'champions', 'championship', 'chan', 'chanakya', 'chance', 'chancellor', 'chances', 'chandigarh', 'chandler', 'chandra', 'chandragupta', 'chandrakar', 'chang', 'change', 'changed', 'changer', 'changes', 'changing', 'channel', 'channels', 'chant', 'chanting', 'chants', 'chaos', 'chaotic', 'chapati', 'chaplin', 'chapter', 'chapters', 'char', 'character', 'characteristic', 'characteristics', 'characterize', 'characterized', 'characterizes', 'characters', 'charades', 'charcoal', 'charge', 'charged', 'charger', 'chargers', 'charges', 'charging', 'charisma', 'charismatic', 'charitable', 'charities', 'charity', 'charles', 'charleston', 'charlie', 'charlotte', 'charm', 'charming', 'charms', 'chart', 'charted', 'charter', 'chartered', 'charting', 'charts', 'chase', 'chased', 'chaser', 'chashmah', 'chasing', 'chassis', 'chat', 'chatbot', 'chatbots', 'chatrapati', 'chats', 'chatswood', 'chatting', 'chaturthi', 'chauhan', 'chawla', 'che', 'cheap', 'cheaper', 'cheapest', 'cheaply', 'cheat', 'cheated', 'cheater', 'cheaters', 'cheating', 'cheats', 'check', 'checkbox', 'checked', 'checker', 'checkers', 'checking', 'checklist', 'checkmate', 'checkout', 'checkpoint', 'checks', 'checkup', 'cheddar', 'cheek', 'cheekbones', 'cheeks', 'cheer', 'cheerios', 'cheese', 'cheesecake', 'cheesy', 'cheetah', 'cheetahs', 'chef', 'chefs', 'chegg', 'chelsea', 'chem', 'chemical', 'chemically', 'chemicals', 'chemist', 'chemistry', 'chemists', 'chemo', 'chemotherapy', 'chen', 'cheney', 'chennai', 'cheque', 'cheques', 'cherenkov', 'cherish', 'chernobyl', 'cherokee', 'cherries', 'cherry', 'chesapeake', 'chess', 'chest', 'chetan', 'chevy', 'chew', 'chewing', 'chhath', 'chhatrapati', 'chhattisgarh', 'chi', 'chia', 'chiang', 'chicago', 'chick', 'chicken', 'chickenpox', 'chickens', 'chicks', 'chief', 'chiefs', 'chihuahua', 'chihuahuan', 'chikungunya', 'child', 'childbirth', 'childcare', 'childhood', 'childish', 'childless', 'children', 'childrens', 'chile', 'chili', 'chill', 'chilled', 'chilli', 'chilling', 'chills', 'chimp', 'chimpanzee', 'chimpanzees', 'chin', 'china', 'chinatown', 'chinese', 'chino', 'chip', 'chipotle', 'chips', 'chipset', 'chiropractic', 'chiropractor', 'chiseled', 'chit', 'chitkara', 'chivalrous', 'chlamydia', 'chloride', 'chlorine', 'chloroform', 'chlorophyll', 'chloroplast', 'chloroplasts', 'chocolate', 'chocolates', 'choice', 'choices', 'choir', 'choke', 'choked', 'choking', 'cholesterol', 'chomsky', 'choose', 'chooses', 'choosing', 'chop', 'chopin', 'chopper', 'chopra', 'chops', 'chopsticks', 'chord', 'chords', 'chores', 'chose', 'chosen', 'chouhan', 'chow', 'chris', 'christ', 'christian', 'christianists', 'christianity', 'christians', 'christie', 'christina', 'christmas', 'christopher', 'chromatids', 'chromatin', 'chromatography', 'chrome', 'chromebook', 'chromecast', 'chromium', 'chromosomal', 'chromosome', 'chromosomes', 'chronic', 'chronograph', 'chronological', 'chronologically', 'chsl', 'chubby', 'chuck', 'chunk', 'chunks', 'church', 'churches', 'churchill', 'churchofsatan', 'churn', 'chyawanprash', 'ci', 'cia', 'cialis', 'ciaz', 'cibil', 'cid', 'cider', 'cie', 'cif', 'cigarette', 'cigarettes', 'cigars', 'cilantro', 'cim', 'cima', 'cincinnati', 'cinder', 'cinderella', 'cinema', 'cinemark', 'cinemas', 'cinematic', 'cinematography', 'cinese', 'cinnamon', 'cio', 'circ11', 'circ4', 'circ5', 'circ6', 'circle', 'circles', 'circuit', 'circuits', 'circular', 'circulating', 'circulation', 'circulatory', 'circumcised', 'circumcision', 'circumference', 'circumstance', 'circumstances', 'circumvent', 'circus', 'cirque', 'cirrhosis', 'cis', 'cisc', 'cisco', 'cisf', 'cissp', 'cite', 'cited', 'citi', 'citibank', 'cities', 'citing', 'citizen', 'citizens', 'citizenship', 'citizenships', 'citric', 'citrus', 'city', 'civic', 'civil', 'civilian', 'civilians', 'civilisation', 'civilization', 'civilizations', 'civilized', 'civils', 'ckwl', 'cl', 'claim', 'claimed', 'claiming', 'claims', 'claire', 'clams', 'clan', 'clancy', 'clans', 'clap', 'clapping', 'clara', 'claremont', 'clarification', 'clarify', 'clarinet', 'clarity', 'clark', 'clarke', 'clarkson', 'clary', 'clash', 'class', 'classes', 'classic', 'classical', 'classics', 'classification', 'classifications', 'classified', 'classifieds', 'classifier', 'classifiers', 'classify', 'classmate', 'classmates', 'classpass', 'classroom', 'classrooms', 'classy', 'clat', 'claudius', 'claus', 'clause', 'clauses', 'clay', 'clayton', 'clean', 'cleaned', 'cleaner', 'cleaners', 'cleanest', 'cleaning', 'cleanliness', 'cleanse', 'cleanser', 'cleanup', 'clear', 'clearance', 'cleared', 'clearest', 'clearing', 'clearly', 'clears', 'cleavage', 'clenching', 'clerical', 'clerk', 'cleveland', 'clever', 'cleverest', 'cliche', 'cliché', 'clichés', 'click', 'clickable', 'clickbait', 'clickbank', 'clicked', 'clicking', 'clicks', 'client', 'clients', 'cliff', 'climate', 'climates', 'climatic', 'climax', 'climb', 'climbed', 'climbing', 'clingy', 'clinic', 'clinical', 'clinically', 'clinics', 'clinton', 'clintons', 'clip', 'clipboard', 'clipper', 'clippers', 'clipping', 'clips', 'clitoris', 'clixsense', 'cloak', 'cloaking', 'clock', 'clocks', 'clockwise', 'clockwork', 'clogged', 'clonazepam', 'clone', 'cloned', 'clones', 'cloning', 'clorox', 'close', 'closed', 'closely', 'closer', 'closes', 'closest', 'closet', 'closeted', 'closing', 'closure', 'clot', 'cloth', 'clothes', 'clothing', 'clothings', 'cloths', 'clots', 'cloud', 'cloudera', 'clouds', 'cloudy', 'clove', 'cloves', 'clown', 'clowns', 'clrs', 'club', 'clubbing', 'clubs', 'clue', 'clues', 'clumsy', 'cluster', 'clustering', 'clusters', 'clutch', 'clutches', 'cm', 'cma', 'cmat', 'cmc', 'cmd', 'cme', 'cmi', 'cmmi', 'cmo', 'cmos', 'cms', 'cmu', 'cn', 'cnc', 'cnf', 'cng', 'cnn', 'cny', 'co', 'co2', 'coach', 'coaches', 'coaching', 'coachings', 'coal', 'coalition', 'coarse', 'coast', 'coastal', 'coaster', 'coasters', 'coat', 'coated', 'coating', 'coax', 'coaxial', 'cobain', 'cobalt', 'cobb', 'cobol', 'cobra', 'coc', 'coca', 'cocaine', 'cochin', 'cochlear', 'cock', 'cocker', 'cockpit', 'cockroach', 'cockroaches', 'cocktail', 'cocktails', 'coco', 'cocoa', 'coconut', 'cocubes', 'cod', 'code', 'codeacademy', 'codeblocks', 'codecademy', 'codechef', 'coded', 'codeforces', 'codeigniter', 'codeine', 'coder', 'coders', 'codes', 'codevita', 'coding', 'codingparks', 'codon', 'cody', 'coe', 'coefficient', 'coefficients', 'coelho', 'coep', 'coexist', 'coffee', 'coffin', 'cofounder', 'cofounders', 'cognition', 'cognitive', 'cognizant', 'cohen', 'coherence', 'coherent', 'cohesion', 'cohort', 'coil', 'coils', 'coimbatore', 'coin', 'coincide', 'coincidence', 'coincidences', 'coined', 'coins', 'coitus', 'coke', 'cola', 'colbert', 'cold', 'colder', 'coldest', 'coldplay', 'colds', 'cole', 'colgate', 'coli', 'colin', 'colitis', 'collaborate', 'collaboration', 'collaborative', 'collaborators', 'collage', 'collapse', 'collapsed', 'collapses', 'collapsing', 'collar', 'collars', 'collateral', 'colleague', 'colleagues', 'collect', 'collected', 'collecting', 'collection', 'collections', 'collective', 'collectively', 'collector', 'collectors', 'college', 'colleges', 'collegium', 'collide', 'collided', 'collider', 'collides', 'collie', 'collins', 'collision', 'collisions', 'colloidal', 'colloquial', 'cologne', 'colombia', 'colombian', 'colombians', 'colon', 'colonial', 'colonialism', 'colonies', 'colonise', 'colonised', 'colonists', 'colonization', 'colonize', 'colonized', 'colonizing', 'colony', 'color', 'colorado', 'colored', 'colorful', 'coloring', 'colors', 'colossus', 'colour', 'coloured', 'colours', 'columbia', 'columbus', 'column', 'columns', 'com', 'coma', 'comas', 'comb', 'combat', 'combatants', 'combination', 'combinations', 'combinator', 'combinatorics', 'combine', 'combined', 'combines', 'combining', 'combo', 'combust', 'combustible', 'combustion', 'comcast', 'come', 'comeback', 'comebacks', 'comedian', 'comedians', 'comedic', 'comedies', 'comedk', 'comedy', 'comes', 'comet', 'comets', 'comey', 'comfort', 'comfortable', 'comfortably', 'comforting', 'comic', 'comics', 'coming', 'comm', 'comma', 'command', 'commandant', 'commander', 'commanders', 'commandments', 'commando', 'commands', 'commemorate', 'commencement', 'comment', 'commentary', 'commentator', 'commentators', 'commented', 'commenting', 'comments', 'commerce', 'commercial', 'commercially', 'commercials', 'commision', 'commission', 'commissioned', 'commissioner', 'commissions', 'commit', 'commitment', 'commits', 'committed', 'committee', 'committees', 'committing', 'commodities', 'commodity', 'common', 'commonly', 'commons', 'commonwealth', 'communal', 'communicate', 'communicating', 'communication', 'communications', 'communicative', 'communicator', 'communism', 'communist', 'communists', 'communities', 'community', 'commute', 'commuter', 'commutes', 'commuting', 'como', 'comp', 'compact', 'companies', 'companion', 'companionship', 'company', 'compaq', 'comparable', 'comparative', 'comparatively', 'compare', 'compared', 'compares', 'comparing', 'comparison', 'comparisons', 'compartment', 'compass', 'compassion', 'compassionate', 'compatibility', 'compatible', 'compelled', 'compelling', 'compensate', 'compensated', 'compensation', 'compete', 'competed', 'competency', 'competent', 'competing', 'competition', 'competitions', 'competitive', 'competitively', 'competitiveness', 'competitor', 'competitors', 'compilation', 'compile', 'compiled', 'compiler', 'compilers', 'complain', 'complaining', 'complains', 'complaint', 'complaints', 'complement', 'complementary', 'complete', 'completed', 'completely', 'completes', 'completing', 'completion', 'complex', 'complexion', 'complexities', 'complexity', 'compliance', 'compliant', 'complicated', 'complications', 'compliment', 'compliments', 'comply', 'component', 'components', 'compose', 'composed', 'composer', 'composers', 'composing', 'composite', 'composites', 'composition', 'compositions', 'compost', 'compound', 'compounded', 'compounds', 'comprehend', 'comprehension', 'comprehensive', 'comprehensively', 'compress', 'compressed', 'compression', 'compressive', 'compressor', 'compressors', 'comprise', 'compromise', 'compromised', 'compromising', 'comptia', 'compton', 'compulsion', 'compulsive', 'compulsory', 'computation', 'computational', 'compute', 'computed', 'computer', 'computers', 'computing', 'comsol', 'con', 'conan', 'concave', 'concealed', 'concealer', 'concede', 'conceive', 'conceived', 'conceiving', 'concentrate', 'concentrated', 'concentrating', 'concentration', 'concentrations', 'concentric', 'concepcion', 'concept', 'conception', 'concepts', 'conceptual', 'conceptually', 'concern', 'concerned', 'concerning', 'concerns', 'concert', 'concerts', 'concession', 'concierge', 'conciliation', 'conciousness', 'concise', 'conclude', 'concluded', 'conclusion', 'conclusions', 'conclusive', 'concorde', 'concrete', 'concurrent', 'concussion', 'condemn', 'condemned', 'condensate', 'condensation', 'condensed', 'condescending', 'condition', 'conditional', 'conditioned', 'conditioner', 'conditioners', 'conditioning', 'conditions', 'condo', 'condom', 'condoms', 'conduct', 'conducted', 'conducting', 'conduction', 'conductivity', 'conductor', 'conductors', 'conducts', 'cone', 'confederacy', 'confederate', 'confederation', 'conference', 'conferences', 'confess', 'confessed', 'confession', 'confidence', 'confident', 'confidential', 'confidentiality', 'confidently', 'configuration', 'configurations', 'configure', 'configured', 'confined', 'confinement', 'confirm', 'confirmation', 'confirmed', 'conflict', 'conflicts', 'conform', 'conformation', 'confortable', 'confront', 'confrontation', 'confronted', 'confucius', 'confuse', 'confused', 'confusing', 'confusion', 'congenital', 'congestion', 'congestive', 'congo', 'congress', 'congressional', 'congressman', 'congressmen', 'conio', 'conjecture', 'conjunct', 'conjunction', 'conjunctivitis', 'conjuring', 'connect', 'connected', 'connecticut', 'connecting', 'connection', 'connections', 'connectivity', 'connector', 'connects', 'connor', 'connotation', 'connotations', 'conor', 'conquer', 'conquered', 'conquering', 'conquest', 'cons', 'conscience', 'conscious', 'consciously', 'consciousness', 'consecutive', 'consensual', 'consensus', 'consent', 'consequence', 'consequences', 'conservation', 'conservatism', 'conservative', 'conservatives', 'conservativespirit', 'conserve', 'conserved', 'consider', 'considerable', 'considerably', 'consideration', 'considerations', 'considered', 'considering', 'considers', 'considred', 'consiglio', 'consist', 'consisted', 'consistency', 'consistent', 'consistently', 'consisting', 'consists', 'consol', 'console', 'consoles', 'consolidate', 'consolidated', 'consolidation', 'consonants', 'conspiracies', 'conspiracy', 'const', 'constance', 'constant', 'constantinople', 'constantly', 'constants', 'constellation', 'constellations', 'constipated', 'constipation', 'constituency', 'constituent', 'constitute', 'constitutes', 'constitution', 'constitutional', 'constraint', 'constraints', 'construct', 'constructed', 'constructing', 'construction', 'constructions', 'constructive', 'constructor', 'consular', 'consulate', 'consult', 'consultancies', 'consultancy', 'consultant', 'consultants', 'consultation', 'consulting', 'consume', 'consumed', 'consumer', 'consumers', 'consumes', 'consuming', 'consummate', 'consumption', 'contact', 'contacted', 'contacting', 'contactor', 'contacts', 'contagious', 'contain', 'contained', 'container', 'containers', 'containing', 'contains', 'contaminated', 'contemplate', 'contemporary', 'contempt', 'contend', 'content', 'contents', 'contest', 'contestant', 'contestants', 'contests', 'context', 'contextual', 'continent', 'continental', 'continents', 'contingency', 'continous', 'continously', 'continually', 'continuation', 'continue', 'continued', 'continues', 'continuing', 'continuity', 'continuous', 'continuously', 'continuum', 'contorted', 'contour', 'contraception', 'contraceptive', 'contract', 'contracted', 'contraction', 'contractions', 'contractor', 'contractors', 'contracts', 'contractual', 'contractually', 'contradict', 'contradicting', 'contradiction', 'contradictions', 'contradictory', 'contrary', 'contrast', 'contrasting', 'contribute', 'contributed', 'contributes', 'contributing', 'contribution', 'contributions', 'contributor', 'contributors', 'control', 'controlled', 'controller', 'controllers', 'controlling', 'controls', 'controversial', 'controversies', 'controversy', 'convection', 'convenience', 'convenient', 'convention', 'conventional', 'conventions', 'converge', 'convergence', 'convergent', 'conversation', 'conversational', 'conversationalist', 'conversations', 'converse', 'conversion', 'conversions', 'convert', 'converted', 'converter', 'converters', 'convertible', 'converting', 'converts', 'convex', 'convey', 'conveyancing', 'conveyor', 'convict', 'convicted', 'conviction', 'convictions', 'convince', 'convinced', 'convincing', 'convocation', 'convoluted', 'convolution', 'convolutional', 'conway', 'coo', 'cook', 'cookbook', 'cookbooks', 'cooked', 'cooker', 'cookie', 'cookies', 'cooking', 'cooks', 'cookware', 'cool', 'coolant', 'cooled', 'cooler', 'coolest', 'coolidge', 'cooling', 'coolpad', 'cooper', 'cooperate', 'cooperation', 'cooperative', 'coopers', 'coordinate', 'coordinates', 'coordinator', 'coorg', 'coors', 'cop', 'copa', 'cope', 'coped', 'copenhagen', 'copernicus', 'copied', 'copies', 'copilotsearch', 'coping', 'copper', 'cops', 'copy', 'copying', 'copyright', 'copyrighted', 'copyrights', 'copywriter', 'copywriting', 'coral', 'corbyn', 'cord', 'cordial', 'cordova', 'cords', 'core', 'corel', 'coreldraw', 'cores', 'corgi', 'coriander', 'coriolis', 'cormen', 'corn', 'cornea', 'corned', 'cornell', 'corner', 'corners', 'corning', 'cornstarch', 'corolla', 'corona', 'corp', 'corporate', 'corporation', 'corporations', 'corps', 'corpus', 'correct', 'corrected', 'correcting', 'correction', 'correctly', 'correctness', 'correlate', 'correlated', 'correlation', 'correlations', 'correspond', 'correspondence', 'corresponding', 'corridor', 'corrode', 'corrosion', 'corrugated', 'corrupt', 'corrupted', 'corrupting', 'corruption', 'corsets', 'cortana', 'cortex', 'cortisol', 'cortisone', 'cos', 'cosby', 'cosigner', 'cosine', 'cosmetic', 'cosmetics', 'cosmetology', 'cosmic', 'cosmology', 'cosmonaut', 'cosmonauts', 'cosmopolitan', 'cosmos', 'cosplay', 'cost', 'costa', 'costco', 'costing', 'costlier', 'costliest', 'costly', 'costs', 'costume', 'costumes', 'cosx', 'cot', 'cottage', 'cotton', 'cottonmouth', 'cottontail', 'cottonwood', 'couch', 'couchsurfing', 'cough', 'coughing', 'could', 'couldn', 'couldnt', 'coulomb', 'coulter', 'council', 'counseling', 'counselling', 'counsellor', 'counsellors', 'counselor', 'count', 'countable', 'countdown', 'counted', 'counter', 'counteract', 'counterclockwise', 'counterfeit', 'countermand', 'counterpart', 'counterparts', 'counterpoint', 'counters', 'countertop', 'countertops', 'counties', 'counting', 'countries', 'country', 'counts', 'county', 'coup', 'coupe', 'couple', 'coupled', 'couples', 'coupon', 'coupondunia', 'couponers', 'coupons', 'courage', 'courageous', 'courier', 'couriers', 'course', 'coursera', 'courses', 'coursework', 'court', 'courtesy', 'courtier', 'courts', 'cousin', 'cousins', 'coutries', 'covalent', 'cove', 'covenant', 'cover', 'coverage', 'covered', 'covering', 'covers', 'covert', 'covertly', 'coveted', 'cow', 'coward', 'cowardice', 'cowboy', 'coworker', 'coworkers', 'coworking', 'cows', 'cox', 'coyote', 'coyotes', 'coz', 'cp', 'cpa', 'cpap', 'cpc', 'cpec', 'cpg', 'cph4', 'cpi', 'cpl', 'cpm', 'cpo', 'cpr', 'cps', 'cpt', 'cpu', 'cpus', 'cpwd', 'cr', 'cr2016', 'cr2032', 'crab', 'crabs', 'crack', 'cracked', 'cracker', 'crackers', 'cracking', 'crackpot', 'cracks', 'craft', 'crafted', 'crafts', 'craig', 'craigslist', 'cram', 'cramp', 'cramping', 'cramps', 'cranberry', 'crane', 'cranes', 'cranial', 'crankshaft', 'cranky', 'crap', 'crash', 'crashed', 'crashes', 'crashing', 'crate', 'craters', 'crave', 'craving', 'cravings', 'crawl', 'crawler', 'crawling', 'craziest', 'crazy', 'cream', 'creams', 'creamy', 'creat', 'create', 'created', 'creates', 'creatine', 'creating', 'creation', 'creationism', 'creationists', 'creative', 'creatively', 'creativity', 'creator', 'creators', 'creature', 'creatures', 'credentials', 'credibility', 'credible', 'credit', 'credited', 'crediting', 'credits', 'creed', 'creek', 'creep', 'creepiest', 'creeps', 'creepy', 'cremated', 'creme', 'creo', 'crescent', 'crest', 'creta', 'crew', 'crews', 'crib', 'cricinfo', 'crick', 'cricket', 'cricketer', 'cricketers', 'cried', 'cries', 'crime', 'crimea', 'crimean', 'crimes', 'criminal', 'criminals', 'criminology', 'cringe', 'cripple', 'crippling', 'crips', 'crises', 'crisil', 'crisis', 'crisp', 'crispr', 'crispy', 'cristiano', 'criteria', 'criterias', 'criterion', 'critic', 'critical', 'critically', 'criticise', 'criticism', 'criticisms', 'criticize', 'criticized', 'criticizes', 'criticizing', 'critics', 'critique', 'critiques', 'crm', 'croatia', 'croatian', 'crocodile', 'crocodiles', 'croft', 'crook', 'crooked', 'crop', 'cropping', 'crops', 'crore', 'crorepati', 'crores', 'cross', 'crossdress', 'crossed', 'crosses', 'crossfit', 'crossing', 'crossover', 'crossroads', 'crossword', 'crotch', 'crow', 'crowd', 'crowded', 'crowdfunding', 'crowds', 'crowdsourcing', 'crown', 'crows', 'crpf', 'crr', 'crs', 'crt', 'crucial', 'crucible', 'crucified', 'crude', 'cruel', 'cruelest', 'cruelty', 'cruise', 'cruiser', 'cruises', 'cruising', 'crunch', 'crunchbase', 'crunches', 'crunchy', 'crunchyroll', 'crusade', 'crusades', 'crush', 'crushed', 'crusher', 'crushes', 'crushing', 'crust', 'cruz', 'cry', 'crying', 'crypto', 'cryptocurrency', 'cryptography', 'crypts', 'crystal', 'crystals', 'cs', 'cs5', 'cs50', 'cs6', 'csa', 'csab', 'csat', 'csc', 'cse', 'csgo', 'csir', 'csk', 'csr', 'css', 'cst', 'csu', 'csv', 'ct', 'ctc', 'cto', 'ctr', 'cts', 'cuba', 'cuban', 'cube', 'cubed', 'cubes', 'cubic', 'cuboid', 'cubs', 'cuckoo', 'cucumber', 'cucumbers', 'cuda', 'cuddle', 'cuddling', 'cue', 'cuisine', 'cuisines', 'culinary', 'culprit', 'cult', 'cultivate', 'cultivation', 'cultural', 'culturally', 'culture', 'cultures', 'cum', 'cumberbatch', 'cumin', 'cumulative', 'cunnilingus', 'cunning', 'cuomo', 'cup', 'cupcake', 'cupcakes', 'cupertino', 'cupid', 'cups', 'curable', 'curate', 'curated', 'curb', 'curbed', 'curbing', 'curd', 'cure', 'cured', 'cures', 'curfew', 'curing', 'curiosity', 'curious', 'curl', 'curling', 'curls', 'curly', 'currencies', 'currency', 'current', 'currently', 'currents', 'curricular', 'curriculum', 'curry', 'curse', 'cursed', 'cursive', 'curtain', 'curvature', 'curve', 'curved', 'curves', 'curvy', 'cusat', 'cushions', 'cuso4', 'custody', 'custom', 'customary', 'customer', 'customers', 'customised', 'customize', 'customized', 'customs', 'cut', 'cute', 'cutest', 'cutoff', 'cutoffs', 'cuts', 'cutter', 'cutters', 'cutting', 'cv', 'cvs', 'cvt', 'cvv', 'cw', 'cwg', 'cx', 'cyanide', 'cyanogen', 'cyanogenmod', 'cyber', 'cyberoam', 'cybersecurity', 'cyborg', 'cycle', 'cycles', 'cyclic', 'cycling', 'cyclist', 'cyclohexane', 'cyclone', 'cyclones', 'cydia', 'cylinder', 'cylinders', 'cylindrical', 'cynical', 'cynicism', 'cyprus', 'cyrius', 'cyrus', 'cyst', 'cystic', 'cysts', 'cytoplasm', 'cytosol', 'czech', 'd1', 'd2', 'd3', 'd3200', 'd3300', 'd5200', 'd5300', 'd5500', 'd9', 'da', 'daad', 'dabba', 'dabi', 'dac', 'dachshund', 'dad', 'daddy', 'dads', 'daenerys', 'daesh', 'daikin', 'daily', 'dailymotion', 'dairy', 'daisy', 'daith', 'dakota', 'dal', 'dalai', 'dalhousie', 'dalit', 'dalits', 'dallas', 'dalvik', 'dam', 'damage', 'damaged', 'damages', 'damaging', 'dame', 'damn', 'damon', 'damping', 'dams', 'dan', 'dana', 'dance', 'dancer', 'dancers', 'dances', 'dancing', 'dandruff', 'dane', 'dangal', 'danger', 'dangerous', 'dangers', 'daniel', 'danish', 'dank', 'dante', 'dare', 'daredevil', 'dares', 'darfur', 'daring', 'darjeeling', 'dark', 'darken', 'darker', 'darkest', 'darkness', 'darkweb', 'daro', 'dart', 'darth', 'dartmouth', 'darwin', 'das', 'dasa', 'dash', 'dashboard', 'dashboards', 'dasht', 'dat', 'data', 'database', 'databases', 'dataset', 'datasets', 'date', 'dated', 'dates', 'dating', 'datum', 'daughter', 'daughters', 'dave', 'david', 'davidson', 'davis', 'davv', 'daw', 'dawkins', 'dawn', 'dawood', 'day', 'dayananda', 'daycare', 'daydream', 'daydreaming', 'daylight', 'dayne', 'dayquil', 'days', 'daytime', 'daytona', 'db', 'dba', 'dbms', 'dbs', 'dbz', 'dc', 'dceu', 'dd', 'ddos', 'ddr', 'ddr2', 'ddr3', 'ddr4', 'dds', 'de', 'de0', 'dea', 'deactivate', 'deactivated', 'deactivating', 'dead', 'deadliest', 'deadlift', 'deadline', 'deadlock', 'deadly', 'deadpool', 'deadshot', 'deaf', 'deafness', 'deakin', 'deal', 'dealer', 'dealers', 'dealership', 'dealing', 'dealings', 'deals', 'dealt', 'dean', 'dear', 'dearest', 'death', 'deathly', 'deaths', 'debate', 'debated', 'debater', 'debates', 'debating', 'debbie', 'debian', 'debilitating', 'debit', 'debited', 'debris', 'debt', 'debts', 'debug', 'debugged', 'debugging', 'debunk', 'debut', 'dec', 'decade', 'decades', 'decay', 'deceased', 'deceive', 'deceived', 'december', 'decent', 'decently', 'deception', 'deceptive', 'decide', 'decided', 'decides', 'deciding', 'deciduous', 'decimal', 'decimals', 'decision', 'decisions', 'deck', 'decks', 'declaration', 'declare', 'declared', 'declares', 'declaring', 'decline', 'declined', 'declines', 'declining', 'decoder', 'decompose', 'decomposers', 'decomposition', 'decor', 'decorate', 'decorated', 'decorating', 'decoration', 'decorations', 'decorative', 'decrease', 'decreased', 'decreases', 'decreasing', 'decrypt', 'dedicated', 'dedication', 'deduce', 'deducing', 'deduct', 'deducted', 'deductible', 'deduction', 'deductions', 'deductive', 'deed', 'deeds', 'deemed', 'deep', 'deeper', 'deepest', 'deepika', 'deeply', 'deepmind', 'deepwater', 'deer', 'deewani', 'defamation', 'default', 'defeat', 'defeated', 'defeating', 'defecate', 'defect', 'defective', 'defects', 'defence', 'defend', 'defendant', 'defended', 'defender', 'defending', 'defense', 'defenses', 'defensive', 'defer', 'deferred', 'deficiencies', 'deficiency', 'deficient', 'deficit', 'deficits', 'defination', 'define', 'defined', 'defines', 'defining', 'definite', 'definitely', 'definition', 'definitions', 'definitive', 'definitively', 'deflation', 'deflection', 'deforestation', 'defrost', 'defy', 'degenerate', 'degeneration', 'degeneres', 'degradation', 'degrading', 'degrasse', 'degree', 'degrees', 'dehradun', 'dehydrated', 'dehydration', 'deionized', 'deism', 'deities', 'deja', 'dekho', 'del', 'delaware', 'delay', 'delayed', 'delays', 'delegate', 'delegates', 'delegation', 'delete', 'deleted', 'deletes', 'deleting', 'deletion', 'delft', 'delhi', 'deliberate', 'deliberately', 'delicious', 'delink', 'deliver', 'deliverables', 'delivered', 'deliveries', 'delivering', 'delivers', 'delivery', 'dell', 'dellhi', 'deloitte', 'delta', 'delusion', 'delusional', 'delusions', 'deluxe', 'demand', 'demanded', 'demanding', 'demands', 'demat', 'dementia', 'demerits', 'demi', 'demise', 'demo', 'demobilise', 'democracies', 'democracy', 'democrat', 'democratic', 'democratically', 'democrats', 'demographic', 'demographics', 'demography', 'demolished', 'demolition', 'demon', 'demonetisation', 'demonetise', 'demonetised', 'demonetising', 'demonetization', 'demonetize', 'demonetized', 'demonetizing', 'demonic', 'demonitisation', 'demonitization', 'demonitize', 'demonitizing', 'demonization', 'demons', 'demonstrate', 'demonstrated', 'demonstration', 'demotivated', 'den', 'dengue', 'denial', 'denied', 'deniers', 'denies', 'denim', 'denmark', 'dennis', 'denomination', 'denominations', 'denotation', 'denote', 'denotes', 'denounced', 'dense', 'denser', 'density', 'dent', 'dental', 'dentist', 'dentistry', 'dentists', 'denver', 'deny', 'denying', 'denzel', 'deodorant', 'deodorants', 'deol', 'deolo', 'deontology', 'departed', 'departing', 'department', 'departments', 'departure', 'depaul', 'depend', 'dependant', 'dependence', 'dependency', 'dependent', 'depending', 'depends', 'depersonalization', 'depict', 'depicted', 'depicting', 'depiction', 'depictions', 'depicts', 'depleted', 'depletion', 'deploy', 'deployed', 'deploying', 'deployment', 'deport', 'deported', 'deposit', 'deposited', 'depositing', 'depositional', 'deposits', 'depot', 'depreciate', 'depreciation', 'depressant', 'depressants', 'depressed', 'depressing', 'depression', 'depressive', 'deprivation', 'dept', 'depth', 'deputy', 'der', 'derby', 'derek', 'derivation', 'derivations', 'derivative', 'derivatives', 'derive', 'derived', 'derma', 'dermal', 'dermatologist', 'dermatology', 'derogatory', 'des', 'desalination', 'descartes', 'descend', 'descendant', 'descendants', 'descended', 'descending', 'descent', 'describe', 'described', 'describes', 'describing', 'description', 'descriptions', 'descriptive', 'descriptors', 'desert', 'deserted', 'deserts', 'deserve', 'deserved', 'deserves', 'deserving', 'desi', 'desiging', 'design', 'designated', 'designation', 'designed', 'designer', 'designers', 'designing', 'designjet', 'designs', 'desirable', 'desire', 'desired', 'desires', 'desk', 'deskjet', 'desks', 'desktop', 'desktops', 'desperate', 'desperately', 'desperation', 'despicable', 'despise', 'despite', 'dessert', 'desserts', 'destination', 'destinations', 'destined', 'destiny', 'destroy', 'destroyed', 'destroyer', 'destroying', 'destroys', 'destruction', 'destructive', 'desu', 'detach', 'detached', 'detachment', 'detail', 'detailed', 'detailing', 'details', 'detained', 'detect', 'detectable', 'detected', 'detecting', 'detection', 'detective', 'detectives', 'detector', 'detectors', 'detention', 'deter', 'detergent', 'deteriorating', 'determinant', 'determinants', 'determination', 'determine', 'determined', 'determines', 'determining', 'determinism', 'deterministic', 'detonated', 'detonation', 'detox', 'detoxify', 'detrimental', 'detroit', 'dettol', 'deus', 'deuterium', 'deutsche', 'dev', 'devaluation', 'devalue', 'devastated', 'devastating', 'devastations', 'develop', 'develope', 'developed', 'developer', 'developers', 'developing', 'development', 'developmental', 'developments', 'devi', 'deviant', 'deviated', 'deviation', 'device', 'devices', 'devil', 'devils', 'devoid', 'devolution', 'devops', 'devote', 'devoted', 'devotees', 'devout', 'dew', 'dewalt', 'dexter', 'dfa', 'dfrac', 'dfs', 'dg', 'dhabi', 'dhaka', 'dhan', 'dhanbad', 'dharamshala', 'dharma', 'dhcp', 'dhirubhai', 'dhl', 'dhoni', 'dhoom', 'dhulagarh', 'di', 'dia', 'diabetes', 'diabetic', 'diabetics', 'diablo', 'diagnose', 'diagnosed', 'diagnosis', 'diagnostic', 'diagnostics', 'diagonal', 'diagonals', 'diagram', 'diagrams', 'dial', 'dialect', 'dialects', 'dialer', 'dialogue', 'dialogues', 'dialysis', 'diameter', 'diamond', 'diamonds', 'diana', 'diapers', 'diaphragm', 'diaries', 'diarreah', 'diarrhea', 'diary', 'diaspora', 'diastolic', 'diatomaceous', 'diatomic', 'diazepam', 'dicaprio', 'dice', 'dick', 'dickinson', 'dicks', 'dictator', 'dictators', 'dictatorship', 'diction', 'dictionaries', 'dictionary', 'did', 'didi', 'didn', 'didnt', 'die', 'died', 'diego', 'dielectric', 'diem', 'dies', 'diesel', 'diet', 'dietary', 'dieting', 'dietitian', 'diets', 'diff', 'differ', 'differance', 'differece', 'difference', 'differences', 'different', 'differentiable', 'differential', 'differentials', 'differentiate', 'differentiated', 'differentiates', 'differentiation', 'differently', 'differing', 'differs', 'difficult', 'difficulties', 'difficulty', 'diffraction', 'diffrence', 'diffrent', 'diffusion', 'dig', 'digest', 'digested', 'digestion', 'digestive', 'digger', 'diggers', 'digging', 'digit', 'digital', 'digitally', 'digitalocean', 'digitization', 'digits', 'dignam', 'dignity', 'dijkstra', 'dil', 'dilate', 'dilated', 'dilation', 'dildo', 'dildos', 'dilemma', 'dilemmas', 'diligence', 'dilip', 'dilute', 'diluted', 'diluting', 'dilution', 'dilwale', 'dim', 'dime', 'dimension', 'dimensional', 'dimensions', 'dimethylamine', 'diminish', 'diminished', 'diminishing', 'dimple', 'dimples', 'din', 'dinar', 'dine', 'dining', 'dinner', 'dinosaur', 'dinosaurs', 'dint', 'diode', 'diodes', 'diogenes', 'dioxide', 'dip', 'diphenhydramine', 'diploid', 'diploma', 'diplomacy', 'diplomat', 'diplomatic', 'diplomats', 'dipole', 'dir', 'dire', 'direct', 'directed', 'directi', 'directing', 'direction', 'directional', 'directions', 'directive', 'directly', 'director', 'directories', 'directors', 'directory', 'directs', 'directv', 'dirichlet', 'dirt', 'dirtiest', 'dirty', 'dis', 'disabilities', 'disability', 'disable', 'disabled', 'disabling', 'disaccharides', 'disadvantage', 'disadvantaged', 'disadvantages', 'disagree', 'disappear', 'disappeared', 'disappearing', 'disappears', 'disappoint', 'disappointed', 'disappointing', 'disappointment', 'disaronno', 'disaster', 'disasters', 'disastrous', 'disbarred', 'disc', 'discard', 'discarded', 'discern', 'discharge', 'discharging', 'disciples', 'discipline', 'disciplined', 'disciplines', 'disclose', 'disclosed', 'disclosing', 'disclosure', 'discomfort', 'disconnect', 'disconnected', 'disconnecting', 'discontinuance', 'discontinuation', 'discontinue', 'discontinued', 'discontinuing', 'discontinuity', 'discos', 'discount', 'discounted', 'discounts', 'discourage', 'discouraged', 'discourse', 'discover', 'discovered', 'discoveries', 'discovering', 'discovery', 'discreetly', 'discrete', 'discretion', 'discriminate', 'discriminated', 'discriminating', 'discrimination', 'discs', 'discuss', 'discussed', 'discussing', 'discussion', 'discussions', 'discworld', 'disease', 'diseases', 'disguise', 'disgust', 'disgusted', 'disgusting', 'dish', 'dishes', 'dishonest', 'dishonesty', 'dishwasher', 'disintegrate', 'disk', 'disks', 'dislike', 'disliked', 'dislikes', 'dismiss', 'dismissals', 'dismissed', 'disney', 'disneyland', 'disorder', 'disorders', 'disorganized', 'disown', 'disparity', 'dispatch', 'dispatched', 'dispatcher', 'dispensary', 'dispersed', 'dispersion', 'displace', 'displaced', 'displacement', 'displacing', 'display', 'displayed', 'displaying', 'displayport', 'displays', 'displaystyle', 'disposable', 'disposal', 'dispose', 'disposed', 'disproportionate', 'disproportionately', 'disprove', 'disproved', 'disproven', 'disproving', 'dispute', 'disputed', 'disputes', 'disqualified', 'disqus', 'disregard', 'disrespect', 'disrespectful', 'disrespecting', 'disrupt', 'disrupted', 'disrupting', 'disruption', 'dissertation', 'dissipate', 'dissociation', 'dissociative', 'dissolve', 'dissolved', 'dissolves', 'dissolving', 'distance', 'distances', 'distant', 'distillation', 'distilled', 'distinct', 'distinction', 'distinctive', 'distinguish', 'distinguished', 'distinguishes', 'distort', 'distorted', 'distortion', 'distracted', 'distraction', 'distractions', 'distress', 'distribute', 'distributed', 'distributing', 'distribution', 'distributions', 'distributor', 'distributors', 'district', 'districts', 'distro', 'distros', 'distrust', 'disturb', 'disturbed', 'disturbing', 'ditch', 'ditched', 'div', 'dive', 'divergence', 'divergent', 'divers', 'diverse', 'diversify', 'diversity', 'divert', 'divide', 'divided', 'dividend', 'dividends', 'divider', 'divides', 'dividing', 'divine', 'diving', 'divisible', 'division', 'divisions', 'divisive', 'divorce', 'divorced', 'divorcee', 'divorces', 'divorcing', 'diwali', 'dixit', 'diy', 'dizziness', 'dizzy', 'dj', 'django', 'dji', 'djs', 'dk', 'dl', 'dlc', 'dll', 'dlp', 'dm', 'dmrc', 'dms', 'dmt', 'dmv', 'dna', 'dnc', 'dns', 'do', 'dob', 'doberman', 'doc', 'dock', 'docker', 'docking', 'docomo', 'docs', 'doctor', 'doctoral', 'doctorate', 'doctors', 'doctrine', 'document', 'documentaries', 'documentary', 'documentation', 'documented', 'documenting', 'documents', 'docx', 'dodge', 'dodo', 'doe', 'does', 'doesn', 'doesnt', 'dog', 'dogg', 'doggy', 'dogs', 'doha', 'doing', 'doings', 'doj', 'dolby', 'doll', 'dollar', 'dollars', 'dolls', 'dolphin', 'dolphins', 'domain', 'domains', 'dome', 'domestic', 'domestically', 'domesticated', 'domicile', 'dominance', 'dominant', 'dominar', 'dominate', 'dominated', 'dominating', 'domination', 'dominatrix', 'dominica', 'dominican', 'dominion', 'domino', 'dominos', 'doms', 'don', 'donald', 'donate', 'donated', 'donates', 'donating', 'donation', 'donations', 'done', 'dong', 'dongle', 'donkey', 'donna', 'donnie', 'donor', 'donors', 'donot', 'dont', 'donut', 'donuts', 'doo', 'doodle', 'dooku', 'doom', 'doomed', 'doomsday', 'door', 'doordash', 'doors', 'doorstep', 'dopamine', 'doping', 'doppelganger', 'doppler', 'doraemon', 'dorm', 'dormant', 'dorms', 'dorsey', 'dory', 'dos', 'dosa', 'dosage', 'dose', 'doses', 'dosha', 'dot', 'dota', 'dota2', 'dothan', 'dots', 'double', 'doubleclick', 'doubled', 'doubles', 'doubly', 'doubt', 'doubting', 'doubts', 'doug', 'dough', 'douglas', 'dow', 'dowload', 'down', 'downey', 'downfall', 'downgrade', 'downhill', 'download', 'downloadable', 'downloaded', 'downloader', 'downloading', 'downloads', 'downside', 'downsides', 'downton', 'downtown', 'downvote', 'downvoted', 'downvotes', 'downvoting', 'downward', 'downwards', 'dowry', 'doyle', 'dozen', 'dozing', 'dp', 'dps', 'dr', 'draco', 'draft', 'drafted', 'drafting', 'drafts', 'drag', 'dragon', 'dragonfly', 'dragons', 'drain', 'drainage', 'drained', 'draining', 'drains', 'drake', 'dram', 'drama', 'dramas', 'dramatic', 'dramatically', 'drank', 'drastic', 'drastically', 'draupadi', 'dravid', 'dravidian', 'dravidians', 'draw', 'drawback', 'drawbacks', 'drawer', 'drawing', 'drawings', 'drawn', 'draws', 'drdo', 'dre', 'dread', 'dreadful', 'dreadlocks', 'dream', 'dream11', 'dreamed', 'dreamer', 'dreaming', 'dreamliner', 'dreams', 'dreamt', 'dreamworks', 'dresden', 'dress', 'dressed', 'dresses', 'dressing', 'drew', 'dribbble', 'dried', 'drift', 'drill', 'drilling', 'drills', 'drink', 'drinkable', 'drinking', 'drinks', 'drip', 'drishyam', 'drive', 'driven', 'driver', 'driverless', 'drivers', 'drives', 'driveway', 'driveways', 'driving', 'drogo', 'droid', 'droids', 'drona', 'drone', 'drones', 'drooling', 'drop', 'dropbox', 'droplets', 'dropout', 'dropouts', 'dropped', 'dropper', 'droppers', 'dropping', 'drops', 'dropship', 'dropshipping', 'drought', 'drove', 'drown', 'drowning', 'drowsiness', 'drowsy', 'drs', 'drug', 'drugged', 'drugs', 'drum', 'drummer', 'drummers', 'drumming', 'drumpf', 'drums', 'drunk', 'drupal', 'dry', 'dryer', 'dryers', 'drying', 'dryness', 'drywall', 'ds', 'dse', 'dsl', 'dslr', 'dslrs', 'dsm', 'dsp', 'dt', 'dte', 'dth', 'dts', 'dtu', 'du', 'dua', 'dual', 'dualism', 'duality', 'dub', 'dubai', 'dubbed', 'dubbing', 'dubious', 'dublin', 'dubsmash', 'dubstep', 'duck', 'ducks', 'duckworth', 'duct', 'ductile', 'dude', 'due', 'duel', 'duet', 'dug', 'dui', 'duke', 'dull', 'dum', 'dumb', 'dumbbell', 'dumbbells', 'dumber', 'dumbest', 'dumbledore', 'dummies', 'dummy', 'dump', 'dumped', 'dumping', 'dumplings', 'dumps', 'dumpty', 'dun', 'dungeon', 'dungeons', 'dunk', 'dunkin', 'dunkirk', 'dunning', 'duo', 'duolingo', 'duos', 'duplex', 'duplicate', 'duplicated', 'duplicates', 'durability', 'durable', 'duration', 'durden', 'durga', 'durgapur', 'during', 'durpin', 'dushka', 'dusky', 'dust', 'dusty', 'dutch', 'duterte', 'duties', 'dutt', 'duty', 'dv', 'dvd', 'dvds', 'dvdscr', 'dvi', 'dvr', 'dwarf', 'dwarka', 'dwarves', 'dwayne', 'dwi', 'dx', 'dy', 'dye', 'dyed', 'dyes', 'dying', 'dylan', 'dynamic', 'dynamically', 'dynamics', 'dynamo', 'dynasty', 'dysfunction', 'dysfunctional', 'dyslexia', 'dyson', 'dysphoria', 'dystopian', 'dystrophy', 'dzire', 'déjà', 'döner', 'e1', 'e2', 'e3', 'e5', 'ea', 'each', 'eachother', 'ead', 'eager', 'eagerly', 'eagerpanda', 'eagle', 'eagles', 'ealing', 'eamcet', 'ear', 'earbuds', 'earl', 'earlier', 'earliest', 'earlobe', 'early', 'earn', 'earned', 'earning', 'earnings', 'earns', 'earphone', 'earphones', 'earpiece', 'earring', 'earrings', 'ears', 'earth', 'earthing', 'earthquake', 'earthquakes', 'earths', 'ease', 'easier', 'easiest', 'easily', 'easing', 'east', 'easter', 'eastern', 'eastman', 'easy', 'eat', 'eatalo', 'eaten', 'eater', 'eaters', 'eating', 'eats', 'eau', 'eb2', 'ebay', 'ebitda', 'ebiz', 'ebola', 'ebook', 'ebooks', 'ebt', 'ec', 'ec2', 'eca', 'ecc', 'eccentric', 'ecchi', 'ece', 'echo', 'eclipse', 'eclipses', 'ecm', 'ecnr', 'eco', 'ecological', 'ecology', 'ecommerce', 'econ', 'econometrics', 'economic', 'economical', 'economically', 'economics', 'economies', 'economist', 'economists', 'economy', 'ecosystem', 'ecosystems', 'ecpm', 'ecr', 'ecstasy', 'ectomorph', 'ectopic', 'ecu', 'ecuador', 'eczema', 'ed', 'edcuation', 'eddie', 'eden', 'edgar', 'edge', 'edges', 'edgware', 'edgy', 'edible', 'edinburgh', 'edison', 'edit', 'edited', 'editing', 'edition', 'editions', 'editor', 'editorial', 'editorials', 'editors', 'edits', 'edm', 'edmonton', 'edtech', 'edu', 'educate', 'educated', 'education', 'educational', 'educators', 'edupristine', 'edward', 'edwards', 'edx', 'ee', 'eecs', 'eee', 'eeg', 'eel', 'eenadu', 'eevee', 'ef', 'effect', 'effected', 'effective', 'effectively', 'effectiveness', 'effects', 'efficacy', 'efficiency', 'efficient', 'efficiently', 'effort', 'efforts', 'efi', 'efron', 'eg', 'egg', 'eggless', 'eggplant', 'eggs', 'ego', 'egoistic', 'egotistical', 'egypt', 'egyptian', 'egyptians', 'egyptology', 'eid', 'eidetic', 'eie', 'eiffel', 'eigen', 'eigenvalues', 'eight', 'eighteen', 'eighth', 'ein', 'einstein', 'eis', 'eisenhower', 'either', 'ejabberd', 'ejaculate', 'ejaculated', 'ejaculates', 'ejaculating', 'ejaculation', 'eject', 'ejection', 'ek', 'ekta', 'el', 'elaborate', 'elance', 'elastic', 'elasticity', 'elasticsearch', 'elbow', 'elbows', 'elder', 'elderly', 'elders', 'eldest', 'elearning', 'elect', 'elected', 'electing', 'election', 'elections', 'elective', 'electives', 'electoral', 'electors', 'electra', 'electric', 'electrical', 'electrically', 'electrician', 'electricians', 'electricity', 'electricty', 'electro', 'electrocuted', 'electrode', 'electrodes', 'electrolysis', 'electrolyte', 'electromagnet', 'electromagnetic', 'electromagnetism', 'electromotive', 'electron', 'electronegative', 'electronegativity', 'electronic', 'electronics', 'electrons', 'electrostatic', 'elegant', 'element', 'elementary', 'elements', 'elephant', 'elephants', 'elevate', 'elevated', 'elevation', 'elevator', 'elevators', 'eleven', 'elf', 'eli', 'eliezer', 'eligibility', 'eligible', 'eliminate', 'eliminated', 'eliminating', 'eliot', 'elisa', 'elite', 'elitist', 'elitists', 'elitmus', 'elixir', 'elizabeth', 'ellen', 'ellipse', 'elliptical', 'elo', 'elon', 'eloquent', 'else', 'elsewhere', 'elss', 'eluga', 'elusive', 'elves', 'elvis', 'em', 'emacs', 'email', 'emailed', 'emails', 'embarassing', 'embargo', 'embarrassed', 'embarrassing', 'embarrassment', 'embassy', 'embed', 'embedded', 'embedding', 'embeded', 'embolism', 'embrace', 'embraced', 'embracing', 'embrassing', 'emc', 'emerald', 'emerge', 'emerged', 'emergence', 'emergency', 'emergent', 'emerging', 'emf', 'emi', 'emigrate', 'emigrating', 'emigration', 'emilia', 'emily', 'eminem', 'emirates', 'emission', 'emissions', 'emit', 'emitted', 'emitter', 'emitting', 'emma', 'emmc', 'emmy', 'emoji', 'emojis', 'emoticon', 'emoticons', 'emotion', 'emotional', 'emotionally', 'emotionless', 'emotions', 'empath', 'empathetic', 'empathize', 'empathy', 'emperor', 'emperors', 'emphasis', 'emphasize', 'empire', 'empires', 'empirical', 'empirically', 'empiricism', 'employ', 'employability', 'employable', 'employed', 'employee', 'employees', 'employer', 'employers', 'employment', 'empower', 'empowered', 'empowering', 'empowerment', 'emptiness', 'empty', 'emr', 'ems', 'emulated', 'emulator', 'emulators', 'en', 'enable', 'enabled', 'enables', 'enabling', 'enact', 'enacted', 'enamel', 'encapsulation', 'enclosed', 'encoded', 'encoder', 'encoding', 'encounter', 'encountered', 'encounters', 'encourage', 'encouraged', 'encouragement', 'encourages', 'encouraging', 'encrypt', 'encrypted', 'encrypting', 'encryption', 'encyclopedia', 'end', 'endangered', 'endeavor', 'ended', 'endemic', 'ender', 'ending', 'endings', 'endless', 'endocrine', 'endometrium', 'endoplasmic', 'endorse', 'endorsed', 'endorsement', 'endorsements', 'endorsing', 'endoscopy', 'endothermic', 'endowed', 'endowment', 'endpoints', 'ends', 'endurance', 'endure', 'enema', 'enemies', 'enemy', 'energetic', 'energies', 'energized', 'energy', 'enfield', 'enfj', 'enforce', 'enforced', 'enforcement', 'enfp', 'enfps', 'eng', 'engage', 'engaged', 'engagement', 'engages', 'engaging', 'engg', 'engine', 'engineer', 'engineered', 'engineering', 'engineerings', 'engineers', 'engines', 'enginnering', 'england', 'english', 'englishmen', 'enhance', 'enhanced', 'enhancement', 'enhancements', 'enhancing', 'enigma', 'enjoy', 'enjoyable', 'enjoyed', 'enjoying', 'enjoyment', 'enjoys', 'enlarge', 'enlarged', 'enlargement', 'enlighten', 'enlightened', 'enlightenment', 'enlist', 'enlisted', 'enormous', 'enough', 'enquirer', 'enrich', 'enrique', 'enroll', 'enrolled', 'enrolling', 'enrollment', 'ensemble', 'enslave', 'enslaved', 'ensure', 'ensured', 'ent', 'entail', 'entangle', 'entangled', 'entanglement', 'entc', 'enter', 'entered', 'entering', 'enterprise', 'enterprises', 'enters', 'entertain', 'entertaining', 'entertainment', 'enthalpy', 'enthusiast', 'enthusiastic', 'enthusiasts', 'entire', 'entirely', 'entities', 'entitled', 'entity', 'entp', 'entps', 'entrance', 'entrances', 'entrepreneur', 'entrepreneurial', 'entrepreneurs', 'entrepreneurship', 'entries', 'entropy', 'entry', 'envelope', 'envelopes', 'envious', 'enviroment', 'environment', 'environmental', 'environments', 'envision', 'envy', 'enzyme', 'enzymes', 'eoi', 'eos', 'ep', 'epa', 'epf', 'epfo', 'epic', 'epics', 'epidemic', 'epidemiology', 'epigenetic', 'epilepsy', 'episode', 'episodes', 'epistemology', 'epithelial', 'epl', 'epoch', 'epoxy', 'epsilon', 'epsom', 'epson', 'epub', 'eq', 'equal', 'equality', 'equally', 'equals', 'equate', 'equation', 'equations', 'equator', 'equatorial', 'equidistant', 'equilateral', 'equilibrium', 'equipment', 'equipments', 'equipped', 'equitable', 'equities', 'equity', 'equivalence', 'equivalent', 'equivalents', 'er', 'era', 'eradicate', 'eradicated', 'eradicating', 'eradication', 'eragon', 'erase', 'erased', 'erasmus', 'erdogan', 'erect', 'erected', 'erectile', 'erection', 'erections', 'ergonomic', 'ergonomics', 'eric', 'ericsson', 'eritrea', 'erlang', 'ernakulam', 'ernest', 'ernst', 'erosion', 'erotic', 'erp', 'error', 'errors', 'ers', 'erupt', 'eruption', 'eruptive', 'erupts', 'es', 'es20', 'esa', 'escalate', 'escalation', 'escalators', 'escapade', 'escape', 'escaped', 'escaping', 'escobar', 'escort', 'escorted', 'escorts', 'escrow', 'ese', 'eskimos', 'esl', 'eslands', 'esp', 'especially', 'esperanto', 'espionage', 'espn', 'esports', 'espresso', 'essay', 'essays', 'essence', 'essential', 'essentially', 'essentials', 'est', 'establish', 'established', 'establishing', 'establishment', 'estate', 'esteem', 'ester', 'esther', 'estimate', 'estimated', 'estimates', 'estimating', 'estimation', 'estonia', 'estonian', 'estranged', 'estrogen', 'et', 'etabs', 'etc', 'eternal', 'eternity', 'etf', 'etfs', 'etg', 'eth', 'ethan', 'ethane', 'ethanol', 'ether', 'ethereum', 'ethernet', 'ethic', 'ethical', 'ethically', 'ethics', 'ethiopia', 'ethiopian', 'ethnic', 'ethnically', 'ethnicities', 'ethnicity', 'ethyl', 'etihad', 'etios', 'etiquette', 'etl', 'etoos', 'ets', 'etsy', 'etymology', 'eu', 'eucalyptus', 'euclid', 'euclidean', 'euglena', 'eukaryotes', 'eukaryotic', 'euler', 'eunuch', 'euphoric', 'eur', 'eureka', 'euro', 'europa', 'europe', 'european', 'europeans', 'euros', 'eurozone', 'euthanasia', 'euthanize', 'ev', 'eva', 'evacuate', 'evaluate', 'evaluated', 'evaluating', 'evaluation', 'evaluations', 'evangelical', 'evangelicals', 'evangelion', 'evaporate', 'evaporated', 'evaporation', 'eve', 'even', 'evening', 'evenings', 'evenly', 'event', 'eventbrite', 'events', 'eventual', 'eventuality', 'eventually', 'ever', 'everest', 'evergreen', 'everlasting', 'evernote', 'every', 'everybody', 'everyday', 'everyone', 'everything', 'everytime', 'everywhere', 'evidence', 'evidences', 'evident', 'evil', 'evils', 'evo', 'evolution', 'evolutionary', 'evolve', 'evolved', 'evolving', 'ex', 'exact', 'exactly', 'exaggerated', 'exalted', 'exam', 'examination', 'examinations', 'examine', 'examiner', 'example', 'examples', 'exams', 'exboyfriend', 'excalibur', 'exceed', 'exceeded', 'exceeds', 'excel', 'excellence', 'excellent', 'except', 'exception', 'exceptional', 'exceptionalism', 'exceptionally', 'exceptions', 'excercise', 'excess', 'excessive', 'excessively', 'exchange', 'exchanged', 'exchanger', 'exchanges', 'exchanging', 'excise', 'excitation', 'excited', 'excitement', 'excites', 'exciting', 'exclamation', 'exclamatory', 'exclude', 'excluded', 'excluding', 'exclusion', 'exclusive', 'exclusively', 'exclusives', 'excrete', 'excuse', 'excuses', 'exe', 'executable', 'execute', 'executed', 'executing', 'execution', 'executions', 'executive', 'executives', 'exemplary', 'exemplify', 'exempt', 'exemption', 'exemptions', 'exercise', 'exercised', 'exercises', 'exercising', 'exert', 'exes', 'exeter', 'exhale', 'exhaust', 'exhausted', 'exhibit', 'exhibition', 'exhibitions', 'exif', 'exile', 'exist', 'existance', 'existed', 'existence', 'existent', 'existential', 'existentialism', 'existing', 'exists', 'exit', 'exiting', 'exits', 'exo', 'exodus', 'exorcist', 'exothermic', 'exotic', 'exp', 'expand', 'expanded', 'expanding', 'expands', 'expansion', 'expat', 'expatriates', 'expats', 'expect', 'expectancy', 'expectation', 'expectations', 'expected', 'expecting', 'expects', 'expedia', 'expel', 'expelled', 'expelling', 'expenditure', 'expenditures', 'expense', 'expenses', 'expensive', 'experience', 'experienced', 'experiences', 'experiencing', 'experiment', 'experimental', 'experimentally', 'experiments', 'expert', 'expertise', 'experts', 'expiration', 'expire', 'expired', 'expires', 'expiry', 'explain', 'explaination', 'explained', 'explainer', 'explaining', 'explains', 'explanation', 'explanations', 'explicit', 'explicitly', 'explode', 'exploded', 'explodes', 'exploding', 'exploit', 'exploitation', 'exploration', 'exploratory', 'explore', 'explored', 'explorer', 'explorers', 'exploring', 'explosion', 'explosions', 'explosive', 'explosives', 'exponent', 'exponential', 'export', 'exported', 'exporter', 'exporting', 'exports', 'expose', 'exposed', 'exposing', 'exposure', 'express', 'expressed', 'expresses', 'expressing', 'expression', 'expressions', 'expressive', 'ext', 'extc', 'extempore', 'extend', 'extended', 'extending', 'extends', 'extension', 'extensions', 'extensive', 'extensively', 'extent', 'exterior', 'exterminate', 'external', 'externally', 'extinct', 'extinction', 'extinguisher', 'extra', 'extracellular', 'extract', 'extracted', 'extraction', 'extractor', 'extracts', 'extracurricular', 'extradition', 'extramarital', 'extranet', 'extraordinary', 'extraterrestrial', 'extraterrestrials', 'extreme', 'extremely', 'extremist', 'extremists', 'extrinsic', 'extrovert', 'extroverted', 'extroverts', 'extrusive', 'ey', 'eye', 'eyeball', 'eyebrow', 'eyebrows', 'eyed', 'eyeglass', 'eyeglasses', 'eyelash', 'eyelashes', 'eyelid', 'eyelids', 'eyeliner', 'eyes', 'eyeshadow', 'eyesight', 'eyre', 'f1', 'f1s', 'f2', 'f310', 'fa', 'fabric', 'fabricated', 'fabrication', 'fabrics', 'fabulous', 'face', 'facebook', 'faced', 'faceless', 'facepalm', 'faces', 'facetime', 'facial', 'facials', 'facilitate', 'facilities', 'facility', 'facing', 'fact', 'factions', 'facto', 'factor', 'factorial', 'factories', 'factorise', 'factorization', 'factorize', 'factors', 'factory', 'facts', 'factual', 'faculties', 'faculty', 'fad', 'fade', 'faded', 'fades', 'fading', 'fahrenheit', 'fail', 'failed', 'failing', 'fails', 'failure', 'failures', 'faint', 'fainting', 'fair', 'faire', 'fairly', 'fairness', 'fairs', 'fairy', 'faith', 'faithful', 'faithfully', 'faithless', 'faiths', 'faizabad', 'fake', 'faked', 'faking', 'falcon', 'falcons', 'falklands', 'fall', 'fallacies', 'fallacy', 'fallen', 'falling', 'fallon', 'fallout', 'falls', 'false', 'falsely', 'falsetto', 'falsifiable', 'falsification', 'falsified', 'fame', 'familiar', 'families', 'family', 'famine', 'famous', 'fan', 'fanatic', 'fanatics', 'fancy', 'fandom', 'fanduel', 'fanfiction', 'fanfictions', 'fanpage', 'fans', 'fantasies', 'fantasize', 'fantasizing', 'fantastic', 'fantasy', 'faq', 'far', 'farah', 'farc', 'fare', 'fared', 'fares', 'farewell', 'fargo', 'faridabad', 'farm', 'farmed', 'farmer', 'farmers', 'farming', 'farms', 'farmville', 'farsi', 'fart', 'farted', 'farther', 'farthest', 'farting', 'farts', 'fasciitis', 'fascinated', 'fascinating', 'fascination', 'fascism', 'fascist', 'fashion', 'fashionable', 'fashioned', 'fashionista', 'fast', 'faster', 'fastest', 'fasting', 'fat', 'fatal', 'fate', 'fateh', 'fatehpur', 'father', 'fathers', 'fatigue', 'fatigued', 'fats', 'fattening', 'fatty', 'faucets', 'fault', 'faults', 'faulty', 'fauna', 'faux', 'favor', 'favorable', 'favored', 'favorite', 'favorited', 'favorites', 'favors', 'favour', 'favourable', 'favoured', 'favouring', 'favourite', 'fayol', 'fb', 'fba', 'fbi', 'fc', 'fcc', 'fd', 'fda', 'fdi', 'fdr', 'fe', 'fea', 'fear', 'feared', 'fearful', 'fearing', 'fearless', 'fears', 'feasibility', 'feasible', 'feather', 'feathers', 'feature', 'featured', 'features', 'featuring', 'feb', 'february', 'feces', 'fed', 'federal', 'federalism', 'federalist', 'federation', 'federer', 'fedex', 'fedora', 'fee', 'feed', 'feedback', 'feeder', 'feeding', 'feedly', 'feedpost', 'feeds', 'feel', 'feeling', 'feelings', 'feels', 'fees', 'feet', 'felix', 'fell', 'fellatio', 'fellow', 'fellowship', 'fellowships', 'felon', 'felony', 'felt', 'fema', 'female', 'females', 'feminine', 'feminism', 'feminist', 'feminists', 'femoral', 'fence', 'fencing', 'fender', 'feng', 'fennel', 'ferguson', 'fermat', 'fermentation', 'fermi', 'ferrari', 'ferrero', 'ferret', 'ferrets', 'ferris', 'ferriss', 'ferromagnetic', 'ferrous', 'fertile', 'fertility', 'fertilization', 'fertilized', 'fertilizer', 'fertilizers', 'fest', 'festival', 'festivals', 'fests', 'fet', 'feta', 'fetch', 'fetched', 'fetish', 'fetishes', 'fetty', 'fetus', 'feud', 'feudal', 'feudalism', 'fever', 'few', 'fewer', 'feynman', 'fi', 'fiance', 'fiancee', 'fiancé', 'fiancée', 'fiat', 'fiber', 'fiberglass', 'fibers', 'fibonacci', 'fibre', 'fibromyalgia', 'fibrosis', 'fico', 'fiction', 'fictional', 'fictitious', 'fidel', 'fidelity', 'fied', 'field', 'fielder', 'fielding', 'fields', 'fifa', 'fifo', 'fifteen', 'fifth', 'fifty', 'fight', 'fighter', 'fighters', 'fighting', 'fights', 'figo', 'figurative', 'figure', 'figured', 'figures', 'fii', 'fiitjee', 'fiji', 'filament', 'filaments', 'file', 'filed', 'filepile', 'files', 'filet', 'filibuster', 'filing', 'filipino', 'filipinos', 'fill', 'filled', 'filler', 'fillers', 'filling', 'fills', 'film', 'filmed', 'filmfare', 'filming', 'filmmaker', 'filmmakers', 'filmmaking', 'films', 'filter', 'filtered', 'filtering', 'filters', 'filthy', 'fin', 'final', 'finale', 'finalize', 'finally', 'finals', 'finance', 'financed', 'finances', 'financial', 'financially', 'financing', 'find', 'finder', 'finding', 'findings', 'findout', 'finds', 'fine', 'fined', 'finest', 'finger', 'fingering', 'fingernail', 'fingerprint', 'fingerprints', 'fingers', 'finish', 'finished', 'finishes', 'finishing', 'finite', 'finland', 'finn', 'finnish', 'finserv', 'fintech', 'fir', 'fire', 'firearm', 'firearms', 'firebase', 'fired', 'firefighter', 'firefly', 'firefox', 'fireplace', 'firered', 'fires', 'firewall', 'fireworks', 'firing', 'firm', 'firms', 'firmware', 'first', 'firstly', 'fiscal', 'fiscally', 'fischer', 'fish', 'fisher', 'fishes', 'fishing', 'fishy', 'fission', 'fist', 'fit', 'fitbit', 'fitclown', 'fitness', 'fits', 'fitted', 'fitting', 'fitzgerald', 'five', 'fiverr', 'fix', 'fixed', 'fixer', 'fixing', 'fixtures', 'fl', 'flac', 'flaccid', 'flag', 'flagella', 'flagged', 'flags', 'flakes', 'flame', 'flamenco', 'flames', 'flannel', 'flap', 'flappy', 'flaps', 'flare', 'flash', 'flashed', 'flashes', 'flashing', 'flashlight', 'flask', 'flat', 'flatiron', 'flats', 'flaunt', 'flavor', 'flavored', 'flavors', 'flavour', 'flavoured', 'flavours', 'flaw', 'flawed', 'flawless', 'flaws', 'flax', 'flaxseed', 'flea', 'fleas', 'fled', 'fledged', 'flee', 'fleece', 'fleet', 'flesh', 'flew', 'flex', 'flexibility', 'flexible', 'flick', 'flicker', 'flickering', 'flickr', 'flies', 'flight', 'flights', 'flim', 'flings', 'flip', 'flipagram', 'flipboard', 'flipkart', 'flipped', 'flipping', 'flips', 'flirt', 'flirting', 'flirts', 'flirty', 'flixcart', 'float', 'floating', 'floats', 'flock', 'flood', 'flooded', 'flooding', 'floods', 'floor', 'flooring', 'floors', 'flop', 'flopped', 'flopping', 'floppy', 'flops', 'flora', 'florence', 'florida', 'floss', 'flounder', 'flour', 'flourish', 'flow', 'flowchart', 'flower', 'flowering', 'flowers', 'flowing', 'flows', 'floyd', 'flu', 'fluctuate', 'fluctuation', 'fluctuations', 'fluency', 'fluent', 'fluently', 'fluff', 'fluid', 'fluids', 'flume', 'fluorescent', 'fluoride', 'fluorine', 'flush', 'flushed', 'flushing', 'flute', 'flux', 'fly', 'flyer', 'flyers', 'flying', 'flynn', 'flyover', 'flys', 'flywheel', 'fm', 'fmcg', 'fms', 'foam', 'foamy', 'fob', 'focal', 'focus', 'focused', 'focuses', 'focusing', 'foe', 'fog', 'foggy', 'foil', 'fold', 'folded', 'folder', 'folders', 'folding', 'folk', 'folks', 'follicle', 'follicles', 'follow', 'followed', 'follower', 'followers', 'followership', 'following', 'follows', 'fond', 'fondest', 'fondles', 'font', 'fonts', 'foo', 'food', 'foods', 'fool', 'fooled', 'foolish', 'fools', 'foot', 'footage', 'football', 'footballer', 'footballers', 'footer', 'footing', 'footprint', 'footwear', 'footwork', 'for', 'forbes', 'forbid', 'forbidden', 'forbids', 'force', 'forced', 'forcefully', 'forces', 'forcing', 'ford', 'fordham', 'fore', 'forearm', 'forearms', 'forecast', 'forecasting', 'foreclosure', 'forehead', 'foreign', 'foreigner', 'foreigners', 'foreman', 'forensic', 'forensics', 'foresee', 'foreskin', 'forest', 'forestry', 'forests', 'forever', 'forex', 'forgave', 'forge', 'forged', 'forget', 'forgets', 'forgetting', 'forgive', 'forgiven', 'forgiveness', 'forgiving', 'forgot', 'forgotten', 'foriegn', 'fork', 'form', 'formal', 'formalities', 'formally', 'format', 'formation', 'formations', 'formats', 'formatted', 'formatting', 'formed', 'former', 'formerly', 'formic', 'forming', 'forms', 'formula', 'formulae', 'formulas', 'formulations', 'forrest', 'fort', 'forth', 'forthcoming', 'forties', 'fortress', 'fortune', 'forum', 'forums', 'forward', 'forwarded', 'forwarder', 'forwarding', 'forwards', 'fossil', 'fossils', 'foster', 'fought', 'foul', 'found', 'foundation', 'foundations', 'founded', 'founder', 'founders', 'founding', 'fountain', 'four', 'fourier', 'foursquare', 'fourteenth', 'fourth', 'fox', 'foxes', 'fpga', 'fpi', 'fpm', 'fps', 'fr', 'frac', 'frac1', 'fracking', 'fractal', 'fraction', 'fractional', 'fractions', 'fracture', 'fragile', 'fragment', 'fragmentation', 'fragrance', 'fragrances', 'frame', 'framed', 'frames', 'framework', 'frameworks', 'franca', 'france', 'franchise', 'franchisee', 'franchises', 'franchising', 'francis', 'francisco', 'franco', 'frank', 'franklin', 'franz', 'frappuccino', 'fraser', 'fraternity', 'fraud', 'frauds', 'fraudulent', 'freak', 'freaked', 'freaking', 'freckles', 'fred', 'freddie', 'freddy', 'frederick', 'free', 'freebies', 'freecharge', 'freed', 'freedom', 'freefall', 'freelance', 'freelancer', 'freelancers', 'freelancing', 'freeletics', 'freely', 'freeman', 'freemason', 'freemasonry', 'freemasons', 'freestyle', 'freeware', 'freeway', 'freeze', 'freezer', 'freezes', 'freezing', 'freight', 'french', 'frequencies', 'frequency', 'frequent', 'frequently', 'fresh', 'fresher', 'freshers', 'freshly', 'freshman', 'freshmen', 'freshwater', 'fresno', 'freud', 'freudian', 'fri', 'friction', 'frictional', 'frictionless', 'friday', 'fridays', 'fridge', 'fried', 'friend', 'friendliest', 'friendly', 'friends', 'friendship', 'friendships', 'friendster', 'friendzone', 'friendzoned', 'fries', 'fright', 'frightened', 'frightening', 'fringe', 'fringes', 'frisbee', 'frisk', 'frizzy', 'frm', 'frnds', 'fro', 'frodo', 'frog', 'frogs', 'from', 'front', 'frontend', 'frontier', 'frontline', 'frost', 'frosting', 'frozen', 'fructose', 'frugal', 'fruit', 'fruitful', 'fruits', 'frustrated', 'frustrating', 'frustration', 'frustrations', 'fry', 'fryer', 'frying', 'fs', 'fsa', 'ft', 'ftii', 'ftm', 'ftp', 'ftre', 'fu', 'fuck', 'fucked', 'fucking', 'fudge', 'fuel', 'fueled', 'fuels', 'fuji', 'fujian', 'fujifilm', 'fulfill', 'fulfilled', 'fulfilling', 'fulfillment', 'full', 'fullest', 'fullmetal', 'fullscreen', 'fullstack', 'fully', 'fulton', 'fumes', 'fun', 'function', 'functional', 'functionalities', 'functionality', 'functionally', 'functioning', 'functions', 'fund', 'fundamental', 'fundamentalism', 'fundamentally', 'fundamentals', 'funded', 'funding', 'fundraiser', 'fundraising', 'funds', 'fundsindia', 'funeral', 'funerals', 'fungal', 'fungi', 'fungus', 'funk', 'funky', 'funnel', 'funniest', 'funny', 'fur', 'furious', 'furnace', 'furnished', 'furniture', 'furry', 'further', 'furthermore', 'fury', 'fuse', 'fuses', 'fusion', 'fuss', 'future', 'futures', 'futuristic', 'fuzzy', 'fx', 'fyers', 'fyi', 'fz', 'g2', 'g20', 'g3', 'g4', 'g6', 'ga', 'gaana', 'gabor', 'gabriel', 'gaddafi', 'gaddar', 'gadget', 'gadgets', 'gaga', 'gail', 'gain', 'gained', 'gainer', 'gainers', 'gaines', 'gaining', 'gains', 'gal', 'galactic', 'galactus', 'galaxies', 'galaxy', 'galileo', 'gall', 'gallbladder', 'galleries', 'gallery', 'gallipoli', 'gallium', 'gallon', 'gallons', 'gals', 'galvanometer', 'gambhir', 'gambia', 'gamble', 'gambler', 'gambling', 'game', 'gamechanger', 'gameplay', 'gamer', 'gamers', 'games', 'gametes', 'gamification', 'gaming', 'gamma', 'gana', 'ganado', 'gandalf', 'gandhi', 'gandhiji', 'gandhinagar', 'ganesh', 'ganesha', 'gang', 'gangbang', 'ganges', 'gangnam', 'gangs', 'gangster', 'gangtok', 'ganguly', 'ganja', 'gantt', 'gap', 'gape', 'gaps', 'garage', 'garageband', 'garbage', 'garcinia', 'garden', 'gardens', 'garfield', 'garland', 'garlic', 'garment', 'garments', 'garmin', 'garnishments', 'garrett', 'garrison', 'gary', 'gas', 'gases', 'gasket', 'gasoline', 'gastly', 'gastric', 'gastritis', 'gate', 'gateforum', 'gates', 'gateway', 'gateways', 'gathbandhan', 'gather', 'gathered', 'gathering', 'gatherings', 'gatorade', 'gatsby', 'gauge', 'gaulle', 'gaurav', 'gauss', 'gaussian', 'gautam', 'gautama', 'gavaskar', 'gave', 'gawker', 'gay', 'gaya', 'gayle', 'gays', 'gaza', 'gazetted', 'gb', 'gbo', 'gbp', 'gbps', 'gbs', 'gc', 'gcc', 'gcd', 'gce', 'gcm', 'gcse', 'gd', 'gdp', 'gds', 'ge', 'gear', 'gearbest', 'gearbox', 'geared', 'gears', 'geass', 'ged', 'geek', 'geeks', 'geeky', 'geese', 'geeta', 'geforce', 'gel', 'gelatin', 'gelato', 'geller', 'gem', 'gemini', 'gems', 'gemstone', 'gen', 'gender', 'genders', 'gene', 'genealogy', 'general', 'generalization', 'generalizations', 'generalized', 'generally', 'generals', 'generate', 'generated', 'generates', 'generating', 'generation', 'generational', 'generations', 'generative', 'generator', 'generators', 'generic', 'generous', 'genes', 'genesis', 'genetic', 'genetically', 'genetics', 'geneva', 'genghis', 'genie', 'genital', 'genitals', 'genius', 'geniuses', 'genocide', 'genome', 'genomics', 'genotype', 'genre', 'genres', 'gentle', 'gentleman', 'gentlemen', 'gently', 'genuine', 'genuinely', 'geo', 'geocaching', 'geocentric', 'geographic', 'geographical', 'geographically', 'geography', 'geologic', 'geological', 'geologist', 'geology', 'geometric', 'geometry', 'geophysics', 'geopolitics', 'george', 'georgetown', 'georgia', 'geotechnical', 'geothermal', 'gerbils', 'gerd', 'german', 'germanic', 'germanium', 'germans', 'germany', 'germs', 'gerund', 'gerunds', 'gestation', 'gesture', 'gestures', 'get', 'getaways', 'gets', 'getting', 'getty', 'gettysburg', 'gf', 'ggsipu', 'ghana', 'ghar', 'ghaziabad', 'ghazwa', 'ghee', 'ghibli', 'ghori', 'ghosh', 'ghoshal', 'ghost', 'ghosting', 'ghosts', 'ghul', 'ghz', 'gi', 'giant', 'giants', 'gibbs', 'gibraltar', 'gibson', 'gif', 'gifs', 'gift', 'gifted', 'gifting', 'gifts', 'gig', 'gigabytes', 'gigantic', 'gigolo', 'gigs', 'gilgit', 'gill', 'gillian', 'gilligan', 'gilmore', 'gim', 'gimmick', 'gimp', 'gin', 'ginger', 'gingerbread', 'gini', 'ginny', 'gionee', 'giraffe', 'giraffes', 'girl', 'girlfriend', 'girlfriends', 'girls', 'girly', 'girth', 'gis', 'git', 'gita', 'github', 'giuliani', 'give', 'given', 'giver', 'gives', 'giving', 'gixxer', 'gk', 'glad', 'gland', 'glands', 'glasgow', 'glass', 'glassboro', 'glassdoor', 'glasses', 'glassware', 'glendale', 'glenn', 'glg', 'glide', 'glimpse', 'glitch', 'global', 'globalisation', 'globalism', 'globalization', 'globally', 'globe', 'globes', 'glock', 'glonass', 'glorified', 'glorify', 'glory', 'glossy', 'glove', 'gloves', 'glow', 'glowing', 'glucose', 'glue', 'glued', 'glutamine', 'glutathione', 'gluten', 'glycerin', 'glycerol', 'glycolysis', 'gm', 'gmail', 'gmat', 'gmc', 'gme', 'gmo', 'gmos', 'gmt', 'gn', 'gnome', 'gnp', 'gnu', 'gnwl', 'go', 'goa', 'goal', 'goalkeeper', 'goals', 'goat', 'goats', 'gobi', 'goblet', 'god', 'godaddy', 'godavari', 'goddess', 'godel', 'godfather', 'godin', 'godrej', 'gods', 'godse', 'godzilla', 'goebbels', 'goel', 'goenka', 'goes', 'goethe', 'gofundme', 'goggles', 'gohan', 'goi', 'going', 'goku', 'golang', 'gold', 'goldberg', 'golden', 'goldfish', 'golding', 'goldman', 'golf', 'golfer', 'golgi', 'goliath', 'gomez', 'gone', 'gong', 'gonna', 'goo', 'good', 'goodbye', 'goodness', 'goodnight', 'goodreads', 'goods', 'goodwill', 'gooey', 'google', 'googleable', 'googled', 'googling', 'goose', 'goosebumps', 'gop', 'gopichand', 'gopro', 'gorbachev', 'gordon', 'gore', 'gorgeous', 'gorilla', 'gorillas', 'gorkha', 'gosling', 'gospels', 'gossip', 'goswami', 'got', 'gotchas', 'gotham', 'gothic', 'goto', 'gotra', 'gotta', 'gotten', 'gourmet', 'gout', 'gov', 'goverment', 'govern', 'governance', 'governed', 'governer', 'governing', 'government', 'governmental', 'governments', 'governor', 'governors', 'governs', 'govt', 'gown', 'gowns', 'gox', 'gp', 'gpa', 'gprs', 'gps', 'gpsc', 'gpu', 'gpus', 'gr', 'grab', 'grabbed', 'grace', 'graceful', 'grad', 'grade', 'graded', 'grader', 'graders', 'grades', 'gradient', 'grading', 'gradle', 'grads', 'gradually', 'graduate', 'graduated', 'graduates', 'graduating', 'graduation', 'graduations', 'graffiti', 'graffittibooks', 'graft', 'graham', 'grain', 'grains', 'gram', 'gramatically', 'grammar', 'grammarly', 'grammatical', 'grammatically', 'grammer', 'grammy', 'grams', 'grand', 'grandchildren', 'grande', 'grandfather', 'grandma', 'grandmaster', 'grandmother', 'grandparents', 'grandson', 'granite', 'granny', 'grant', 'granted', 'granth', 'grants', 'granulated', 'granville', 'grape', 'grapes', 'graph', 'graphene', 'graphic', 'graphical', 'graphics', 'graphing', 'graphite', 'graphology', 'graphs', 'grasp', 'grass', 'grasslands', 'grateful', 'gratitude', 'gratuity', 'grave', 'graves', 'gravitation', 'gravitational', 'graviton', 'gravitons', 'gravity', 'gravy', 'gray', 'gre', 'grease', 'greasy', 'great', 'greater', 'greatest', 'greatly', 'greatness', 'greece', 'greed', 'greedy', 'greek', 'greeks', 'green', 'greene', 'greener', 'greenhouse', 'greenland', 'greenlit', 'greet', 'greeting', 'greg', 'gregorian', 'grenada', 'grenade', 'grew', 'grey', 'greyhound', 'grid', 'gridlines', 'grief', 'griffin', 'griffith', 'grill', 'grilled', 'grilling', 'grim', 'grind', 'grinder', 'grinding', 'grindr', 'grip', 'grit', 'grizzly', 'groceries', 'grocery', 'groin', 'groom', 'grooming', 'grooms', 'groped', 'groping', 'gross', 'grossing', 'ground', 'groundbreaking', 'grounded', 'grounding', 'grounds', 'group', 'group1', 'groupme', 'groupon', 'groups', 'grow', 'growing', 'growl', 'growling', 'grown', 'grows', 'growth', 'grub', 'grubhub', 'grudge', 'grudges', 'grumpy', 'gryffindor', 'gs', 'gsb', 'gsm', 'gsoc', 'gst', 'gt', 'gta', 'gta5', 'gtb', 'gtbit', 'gtr', 'gtx', 'guam', 'guantanamo', 'guarantee', 'guaranteed', 'guarantees', 'guard', 'guarded', 'guardian', 'guardians', 'guarding', 'guards', 'guatemala', 'guava', 'gucci', 'guerilla', 'guerrilla', 'guess', 'guessing', 'guest', 'guests', 'guevara', 'gui', 'guiana', 'guidance', 'guide', 'guided', 'guideline', 'guidelines', 'guides', 'guiding', 'guild', 'guilt', 'guilty', 'guinea', 'guinness', 'guitar', 'guitarist', 'guitarists', 'guitars', 'gujarat', 'gujarati', 'gujaratis', 'gujrat', 'gulf', 'gullible', 'gulp', 'gum', 'gummy', 'gump', 'gums', 'gun', 'gundam', 'guns', 'gunshot', 'guntur', 'gupta', 'gurgaon', 'gurren', 'guru', 'gustav', 'gut', 'guts', 'gutter', 'guwahati', 'guy', 'guys', 'gwalior', 'gym', 'gyming', 'gymnastics', 'gymnasts', 'gymnosperms', 'gyms', 'gynecologist', 'gynecomastia', 'gypsum', 'gypsy', 'gyro', 'gyros', 'gyroscope', 'gyroscopes', 'gödel', 'h1', 'h1b', 'h2', 'h2o', 'h2s', 'h2so4', 'h4', 'ha', 'habbit', 'habit', 'habitable', 'habitat', 'habits', 'habitual', 'hack', 'hackathon', 'hackathons', 'hacked', 'hacker', 'hackerearth', 'hackerrank', 'hackers', 'hacking', 'hackintosh', 'hacks', 'hacksaw', 'had', 'hades', 'hadith', 'hadn', 'hadoop', 'hadron', 'hafiz', 'hague', 'hai', 'haier', 'hain', 'hair', 'haircut', 'haired', 'hairfall', 'hairline', 'hairloss', 'hairs', 'hairstyle', 'hairstyles', 'hairy', 'haiti', 'hajj', 'hakusho', 'hal', 'halal', 'haley', 'half', 'halfway', 'hall', 'hallelujah', 'halliday', 'hallmark', 'halloween', 'hallows', 'halls', 'hallucinate', 'hallucination', 'hallucinations', 'hallway', 'halo', 'halogens', 'halt', 'halted', 'halves', 'ham', 'hamas', 'hamburg', 'hamburger', 'hamburgers', 'hamilton', 'hamlet', 'hammer', 'hamper', 'hampshire', 'hamster', 'hamsters', 'hamstring', 'han', 'hana', 'hancock', 'hand', 'handbag', 'handbags', 'handcuffs', 'handed', 'handedly', 'handedness', 'handful', 'handgun', 'handicap', 'handicapped', 'handicrafts', 'handing', 'handle', 'handled', 'handles', 'handling', 'handmade', 'hands', 'handset', 'handsets', 'handshake', 'handsome', 'handwriting', 'handwritten', 'hanes', 'hang', 'hanged', 'hanging', 'hangout', 'hangouts', 'hangover', 'hangovers', 'hangs', 'hangzhou', 'hank', 'hanks', 'hannibal', 'hanoi', 'hans', 'hansraj', 'hanuman', 'haploid', 'happen', 'happend', 'happends', 'happened', 'happening', 'happenings', 'happens', 'happier', 'happiest', 'happily', 'happiness', 'happy', 'happyness', 'haptik', 'haram', 'harappan', 'harassed', 'harassing', 'harassment', 'harbor', 'harboring', 'harbour', 'hard', 'hardcore', 'hardening', 'harder', 'hardest', 'hardik', 'hardly', 'hardness', 'hardship', 'hardships', 'hardware', 'hardwell', 'hardwood', 'hardwork', 'hardworking', 'hardy', 'hare', 'harem', 'haridwar', 'harley', 'harm', 'harmed', 'harmful', 'harmfull', 'harming', 'harmon', 'harmonic', 'harmonica', 'harmonics', 'harmony', 'harness', 'harnessed', 'harper', 'harris', 'harrison', 'harry', 'harsh', 'harsha', 'harsher', 'harshly', 'hart', 'haruki', 'harvard', 'harvest', 'harvested', 'harvesting', 'harvey', 'haryana', 'has', 'hash', 'hashing', 'hashmap', 'hashtag', 'hashtags', 'haskell', 'hasn', 'hassan', 'hassle', 'hat', 'hatch', 'hatchback', 'hatchbacks', 'hate', 'hated', 'hateful', 'haters', 'hates', 'hathaway', 'hathway', 'hating', 'hatred', 'hats', 'haul', 'haunt', 'haunted', 'haunting', 'hav', 'have', 'haven', 'havens', 'haves', 'having', 'hawaii', 'hawaiian', 'hawala', 'hawk', 'hawkeye', 'hawking', 'hawkish', 'hawks', 'hay', 'hazard', 'hazards', 'hazare', 'hazel', 'hbase', 'hbo', 'hbr', 'hbs', 'hbti', 'hc', 'hcf', 'hci', 'hcl', 'hcn', 'hd', 'hdd', 'hdfc', 'hdfs', 'hdl', 'hdmi', 'hdtv', 'he', 'head', 'headache', 'headaches', 'headed', 'header', 'headers', 'headhunters', 'heading', 'headlight', 'headlights', 'headline', 'headmaster', 'headphone', 'headphones', 'headquarters', 'heads', 'headscarf', 'headset', 'headsets', 'headshot', 'heal', 'healdsburg', 'healed', 'healer', 'healing', 'health', 'healthcare', 'healthier', 'healthiest', 'healthily', 'healthkart', 'healthprofs', 'healthwarehouse', 'healthy', 'heap', 'hear', 'heard', 'hearing', 'hears', 'heart', 'heartbeat', 'heartbreak', 'heartbroken', 'hearted', 'hearthstone', 'heartless', 'hearts', 'heartwarming', 'heat', 'heated', 'heater', 'heaters', 'heath', 'heathrow', 'heating', 'heats', 'heaven', 'heavier', 'heaviest', 'heavily', 'heaving', 'heavy', 'hebdo', 'hebei', 'hebrew', 'hebrews', 'hec', 'heck', 'hedge', 'heel', 'heeler', 'heels', 'hegel', 'heidi', 'height', 'heights', 'heil', 'heilongjiang', 'heinz', 'heir', 'heisenberg', 'hela', 'held', 'helen', 'helena', 'helical', 'helicopter', 'helicopters', 'helio', 'helium', 'helix', 'hell', 'hello', 'helmet', 'helmets', 'help', 'helped', 'helpful', 'helping', 'helpless', 'helplessness', 'helpline', 'helps', 'helsinki', 'hematoma', 'hematomas', 'hemingway', 'hemisphere', 'hemispheres', 'hemoglobin', 'hemorrhoids', 'hemp', 'hen', 'hence', 'hendrix', 'henna', 'henry', 'hens', 'hentai', 'hepatic', 'hepatitis', 'hepburn', 'her', 'hera', 'herb', 'herbal', 'herbalife', 'herbert', 'herbivore', 'herbivores', 'herbivorous', 'hercules', 'herd', 'here', 'hereditary', 'heredity', 'heritage', 'hermaphrodite', 'hermione', 'hernia', 'herniated', 'hero', 'heroes', 'heroin', 'heroines', 'heroku', 'herpes', 'hers', 'herself', 'hertz', 'herzegovina', 'hes', 'hesitant', 'hesitate', 'hesitating', 'heterogeneous', 'heteronym', 'heterosexual', 'heterotrophs', 'heuer', 'heuristic', 'hex', 'hexadecimal', 'hexagon', 'hexane', 'hey', 'hf', 'hft', 'hgh', 'hgtv', 'hh', 'hi', 'hibernate', 'hibernia', 'hiccup', 'hiccups', 'hickey', 'hid', 'hidden', 'hide', 'hides', 'hiding', 'hierarchical', 'hierarchy', 'higgs', 'high', 'highbrow', 'higher', 'highest', 'highland', 'highlands', 'highlight', 'highlighted', 'highlighting', 'highlights', 'highly', 'highschool', 'highway', 'highways', 'hiit', 'hijab', 'hijabs', 'hijack', 'hijacked', 'hijra', 'hijras', 'hike', 'hikes', 'hiking', 'hilarious', 'hilary', 'hill', 'hillary', 'hills', 'hillsborough', 'hilly', 'hilton', 'him', 'himachal', 'himalayan', 'himalayas', 'himself', 'himym', 'hinata', 'hind', 'hinder', 'hindi', 'hindrance', 'hindu', 'hinduism', 'hindus', 'hindustan', 'hindustani', 'hinged', 'hint', 'hints', 'hip', 'hippie', 'hippies', 'hippo', 'hips', 'hipster', 'hipsters', 'hire', 'hired', 'hires', 'hiring', 'hiroshima', 'his', 'hispanic', 'hispanics', 'histology', 'histone', 'historian', 'historians', 'historic', 'historical', 'historically', 'histories', 'history', 'histrionic', 'hit', 'hitachi', 'hitch', 'hitchcock', 'hitchhike', 'hitchhiker', 'hitler', 'hitman', 'hits', 'hitting', 'hiv', 'hive', 'hives', 'hk', 'hksar', 'hku', 'hkust', 'hl', 'hm', 'hms', 'hno3', 'ho', 'hoarding', 'hoax', 'hoaxes', 'hobbes', 'hobbies', 'hobbit', 'hobby', 'hoc', 'hockey', 'hoe', 'hoffman', 'hogan', 'hogwarts', 'hoisting', 'hokage', 'hold', 'holden', 'holder', 'holders', 'holding', 'holdings', 'holds', 'hole', 'holes', 'holi', 'holiday', 'holidays', 'holland', 'hollow', 'hollywood', 'holmes', 'holocaust', 'hologram', 'holograms', 'holographic', 'holy', 'home', 'homecoming', 'homejoy', 'homeland', 'homeless', 'homelessness', 'homemade', 'homeopathic', 'homeopathy', 'homeostasis', 'homeowners', 'homepage', 'homes', 'homeschool', 'homeschooled', 'homeschooling', 'homescreen', 'homesick', 'homesickness', 'hometown', 'homework', 'homicide', 'homie', 'hominem', 'hominid', 'homo', 'homogeneous', 'homologous', 'homonyms', 'homophobia', 'homophobic', 'homosexual', 'homosexuality', 'homosexuals', 'homozygous', 'honda', 'honduras', 'hone', 'honest', 'honestly', 'honesty', 'honey', 'honeymoon', 'honeywell', 'hong', 'hongkongers', 'honking', 'honolulu', 'honor', 'honorable', 'honored', 'honorifics', 'honors', 'honour', 'honours', 'hons', 'hood', 'hoodie', 'hoodies', 'hook', 'hookah', 'hooked', 'hooker', 'hookup', 'hoop', 'hooters', 'hootsuite', 'hoover', 'hop', 'hope', 'hopeful', 'hopefully', 'hopeless', 'hopes', 'hoping', 'hopkins', 'hopper', 'horcrux', 'horcruxes', 'horde', 'horizon', 'horizons', 'horizontal', 'horizontally', 'hormonal', 'hormone', 'hormones', 'horn', 'hornet', 'horny', 'horoscope', 'horoscopes', 'horrible', 'horribly', 'horrific', 'horrifying', 'horror', 'horse', 'horsemen', 'horsepower', 'horses', 'hortons', 'horus', 'hose', 'hospice', 'hospital', 'hospitality', 'hospitals', 'host', 'hostage', 'hosted', 'hostel', 'hostels', 'hostess', 'hostesses', 'hostile', 'hostility', 'hosting', 'hosts', 'hot', 'hotel', 'hotels', 'hotmail', 'hotspot', 'hotstar', 'hotter', 'hottest', 'hound', 'hour', 'hourglass', 'hourly', 'hours', 'house', 'housebuildup', 'household', 'households', 'housejoy', 'houses', 'housewife', 'housewives', 'housing', 'houston', 'hover', 'hoverboard', 'how', 'howard', 'however', 'howl', 'howrah', 'hows', 'hp', 'hp0', 'hp2', 'hpcl', 'hpe', 'hpv', 'hq', 'hr', 'hra', 'hrc', 'hrd', 'hrithik', 'hrm', 'hrs', 'hrt', 'hs', 'hsbc', 'hsc', 'hsu', 'ht', 'htc', 'html', 'html5', 'http', 'https', 'huawei', 'hub', 'hubble', 'hubs', 'hubspot', 'huckleberry', 'hudson', 'hue', 'huffington', 'hug', 'huge', 'hugging', 'hugh', 'hughes', 'hugo', 'hugs', 'huh', 'hula', 'hulk', 'hull', 'hult', 'hulu', 'human', 'humane', 'humanely', 'humanism', 'humanitarian', 'humanities', 'humanity', 'humankind', 'humans', 'humble', 'hume', 'humid', 'humidifier', 'humidity', 'humiliated', 'humiliating', 'hummingbird', 'hummus', 'humor', 'humorous', 'humour', 'hump', 'humping', 'humpty', 'hundred', 'hundreds', 'hung', 'hungama', 'hungarian', 'hungary', 'hunger', 'hungry', 'hunt', 'hunted', 'hunter', 'hunters', 'hunting', 'huntington', 'huntsman', 'huntsville', 'huracan', 'hurdle', 'hurdles', 'hurricane', 'hurricanes', 'hurry', 'hurt', 'hurtful', 'hurting', 'hurts', 'husband', 'husbands', 'hush', 'husk', 'huskies', 'husky', 'hussein', 'hut', 'hv', 'hvac', 'hw', 'hybrid', 'hybridization', 'hybris', 'hyderabad', 'hydrate', 'hydrated', 'hydraulic', 'hydraulics', 'hydro', 'hydrocarbon', 'hydrocarbons', 'hydrochloric', 'hydrocodone', 'hydroelectric', 'hydrogen', 'hydrology', 'hydrolysis', 'hydronium', 'hydrophobic', 'hydrosphere', 'hydroxide', 'hyenas', 'hygiene', 'hygienic', 'hygienist', 'hymen', 'hype', 'hyped', 'hypem', 'hyper', 'hyperactive', 'hyperbole', 'hyperbolic', 'hyperextended', 'hyperinflation', 'hyperlink', 'hyperloop', 'hypermarket', 'hypermesh', 'hypertension', 'hypertensive', 'hyperthyroidism', 'hypertonic', 'hypnosis', 'hypnotic', 'hypnotism', 'hypnotize', 'hypnotized', 'hypoallergenic', 'hypochlorite', 'hypocrisy', 'hypocrite', 'hypocrites', 'hypocritical', 'hypotheses', 'hypothesis', 'hypothetical', 'hypothetically', 'hypothyroid', 'hypothyroidism', 'hypotonic', 'hyundai', 'hz', 'i10', 'i140', 'i20', 'i3', 'i5', 'i7', 'ia', 'iaas', 'iac', 'iaf', 'iam', 'ian', 'ias', 'iata', 'ib', 'ibdp', 'ibibo', 'ibirité', 'ibiza', 'ibm', 'ibooks', 'ibps', 'ibrahim', 'ibs', 'ibt', 'ibuprofen', 'ic', 'icai', 'icbm', 'icc', 'ice', 'iceberg', 'iced', 'iceland', 'icelandic', 'icfai', 'icici', 'icing', 'icloud', 'icmr', 'icon', 'iconic', 'icons', 'icpc', 'icse', 'ict', 'icu', 'icwa', 'id', 'ida', 'idaho', 'idbi', 'idc', 'ide', 'idea', 'ideal', 'idealized', 'ideally', 'ideals', 'ideapad', 'ideas', 'identical', 'identification', 'identified', 'identifier', 'identifiers', 'identify', 'identifying', 'identities', 'identity', 'ideo', 'ideological', 'ideologies', 'ideology', 'ides', 'idf', 'idiom', 'idiomatic', 'idioms', 'idiot', 'idiotic', 'idiots', 'idk', 'idle', 'idm', 'idol', 'idolise', 'idolize', 'idols', 'idp', 'ids', 'ie', 'ieee', 'ielts', 'iem', 'ieo', 'ies', 'iet', 'if', 'ifb', 'iframe', 'ifs', 'ifsc', 'ifttt', 'ig', 'igate', 'igcse', 'iglesias', 'igneous', 'ignite', 'ignition', 'ignorance', 'ignorant', 'ignore', 'ignored', 'ignores', 'ignoring', 'ignou', 'ihm', 'ii', 'iict', 'iiest', 'iift', 'iii', 'iiit', 'iiitd', 'iiits', 'iim', 'iima', 'iimjobs', 'iims', 'iin', 'iinie', 'iisc', 'iiser', 'iist', 'iit', 'iitans', 'iitb', 'iitd', 'iitian', 'iitians', 'iitjee', 'iits', 'ike', 'ikea', 'il', 'ill', 'illegal', 'illegalization', 'illegally', 'illegitimate', 'illetarate', 'illinois', 'illiterate', 'illness', 'illnesses', 'illogical', 'illuminati', 'illusion', 'illusions', 'illustration', 'illustrations', 'illustrator', 'ilp', 'im', 'ima', 'imac', 'image', 'imagery', 'images', 'imaginable', 'imaginary', 'imagination', 'imagine', 'imagined', 'imaging', 'imagining', 'imam', 'imams', 'imap', 'imax', 'imbalance', 'imdb', 'imeetzu', 'imei', 'imessage', 'imessages', 'imf', 'img', 'imitation', 'immature', 'immediate', 'immediately', 'immense', 'immensely', 'immersed', 'immersion', 'immersive', 'immigrant', 'immigrants', 'immigrate', 'immigrating', 'immigration', 'imminent', 'immoral', 'immortal', 'immortality', 'immortals', 'immovable', 'immune', 'immunity', 'imo', 'imovie', 'impact', 'impacted', 'impacting', 'impacts', 'impaired', 'impairment', 'impala', 'impaler', 'impart', 'impeach', 'impeached', 'impeachment', 'impedance', 'impediment', 'impending', 'imperative', 'imperfect', 'imperial', 'imperialism', 'imperialist', 'impersonating', 'implant', 'implantation', 'implants', 'implement', 'implementation', 'implementations', 'implemented', 'implementing', 'implements', 'implication', 'implications', 'implicit', 'implied', 'implies', 'imply', 'impolite', 'import', 'importance', 'important', 'importantly', 'imported', 'importer', 'importers', 'importing', 'imports', 'importune', 'impose', 'imposed', 'imposing', 'impossible', 'imposter', 'impostor', 'impotence', 'impractical', 'impregnate', 'impress', 'impressed', 'impressing', 'impression', 'impressions', 'impressive', 'imprisoned', 'imprisonment', 'improper', 'improperly', 'improve', 'improved', 'improvement', 'improvements', 'improves', 'improving', 'improvment', 'imps', 'impulse', 'impulsive', 'impunity', 'imran', 'imrovement', 'ims', 'imt', 'imu', 'in', 'inability', 'inaccurate', 'inactive', 'inactivity', 'inadequate', 'inadvertently', 'inanimate', 'inappropriate', 'inappropriately', 'inarticulate', 'inattentive', 'inauguration', 'inbound', 'inbox', 'inbuilt', 'inc', 'incandescent', 'incans', 'incapable', 'incarcerated', 'incarnation', 'incense', 'incentive', 'incentives', 'inception', 'incessantly', 'incest', 'incestuous', 'inch', 'inches', 'incidence', 'incident', 'incidents', 'incite', 'inciting', 'inclined', 'include', 'included', 'includes', 'including', 'inclusion', 'inclusive', 'incognito', 'incognitovpn', 'income', 'incoming', 'incompatible', 'incompetence', 'incompetent', 'incomplete', 'incompleteness', 'incompressible', 'inconsistencies', 'inconsistent', 'incontinence', 'inconvenience', 'incorporate', 'incorporated', 'incorporation', 'incorrect', 'incorrectly', 'increase', 'increased', 'increases', 'increasing', 'increasingly', 'incredible', 'incredibly', 'incredulously', 'increment', 'incremental', 'increse', 'incubation', 'incubator', 'incubators', 'incur', 'incurable', 'incurred', 'ind', 'indeed', 'indeen', 'indefinite', 'indefinitely', 'indemnity', 'independence', 'independent', 'independently', 'independents', 'indesign', 'indestructible', 'index', 'indexed', 'indexes', 'indexing', 'india', 'indian', 'indiana', 'indianapolis', 'indians', 'indias', 'indica', 'indicate', 'indicated', 'indicates', 'indicating', 'indication', 'indications', 'indicative', 'indicator', 'indicators', 'indices', 'indicted', 'indie', 'indies', 'indifference', 'indifferent', 'indigenous', 'indigestion', 'indigo', 'indira', 'indiranagar', 'indirect', 'indirectly', 'indistinguishable', 'individual', 'individualism', 'individually', 'individuals', 'indo', 'indochina', 'indonesia', 'indonesian', 'indonesians', 'indoor', 'indoors', 'indore', 'indra', 'induce', 'induced', 'inductance', 'induction', 'inductive', 'inductor', 'inductors', 'indulge', 'indus', 'industrial', 'industrialist', 'industrialization', 'industries', 'industry', 'ineffective', 'inefficient', 'inelastic', 'inequalities', 'inequality', 'inert', 'inertia', 'inertial', 'inevitable', 'inevitably', 'inexpensive', 'inexperienced', 'inexplicable', 'infamous', 'infant', 'infantry', 'infants', 'infatuated', 'infatuation', 'infect', 'infected', 'infection', 'infections', 'infectious', 'infer', 'inference', 'inferior', 'inferiority', 'infertile', 'infertility', 'infestation', 'infested', 'infidelity', 'infinite', 'infinitely', 'infiniti', 'infinity', 'infj', 'infjs', 'inflammation', 'inflammatory', 'inflated', 'inflation', 'inflict', 'inflicted', 'influence', 'influenced', 'influencer', 'influencers', 'influences', 'influencing', 'influential', 'influx', 'info', 'infocus', 'infographics', 'inform', 'informal', 'informally', 'informatica', 'informatics', 'information', 'informational', 'informations', 'informative', 'informed', 'informing', 'infosys', 'infotech', 'infp', 'infra', 'infrared', 'infrastructure', 'infringement', 'infront', 'infty', 'infused', 'infusion', 'infy', 'ing', 'ingenious', 'ingest', 'ingested', 'ingesting', 'ingratiate', 'ingredient', 'ingredients', 'ingress', 'ingrown', 'inhabited', 'inhale', 'inhaler', 'inhaling', 'inhand', 'inherent', 'inherently', 'inherit', 'inheritance', 'inherited', 'inhibit', 'inhibited', 'inhibition', 'inhuman', 'initial', 'initialize', 'initially', 'initials', 'initiate', 'initiated', 'initiates', 'initiating', 'initiation', 'initiative', 'initiatives', 'initramfs', 'inject', 'injected', 'injecting', 'injection', 'injections', 'injure', 'injured', 'injuries', 'injurious', 'injury', 'injustice', 'ink', 'inkjet', 'inland', 'inline', 'inlove', 'inmate', 'inmates', 'inmortal', 'innate', 'inner', 'innie', 'innings', 'innocence', 'innocent', 'innovate', 'innovating', 'innovation', 'innovations', 'innovative', 'innovator', 'inorganic', 'inpatient', 'inplant', 'inprove', 'input', 'inputs', 'inquire', 'inquiry', 'inr', 'ins', 'insane', 'insanely', 'insanity', 'insas', 'inscribed', 'insead', 'insect', 'insects', 'insecure', 'insecurities', 'insecurity', 'insensitive', 'insert', 'inserted', 'inserting', 'inside', 'insider', 'insiders', 'insight', 'insightful', 'insights', 'insist', 'insists', 'insoluble', 'insomnia', 'insomniac', 'inspect', 'inspection', 'inspector', 'inspectors', 'inspiration', 'inspirational', 'inspirations', 'inspire', 'inspired', 'inspires', 'inspiring', 'inspiron', 'inspite', 'insta', 'instability', 'instacart', 'instagram', 'install', 'installable', 'installation', 'installed', 'installer', 'installing', 'installments', 'installs', 'instance', 'instances', 'instant', 'instantaneous', 'instantly', 'instead', 'instigate', 'instinct', 'instincts', 'institue', 'institute', 'institutes', 'institution', 'institutional', 'institutions', 'instruct', 'instruction', 'instructions', 'instructor', 'instrument', 'instrumental', 'instrumentation', 'instruments', 'insufficient', 'insulated', 'insulation', 'insulator', 'insulators', 'insulin', 'insult', 'insulted', 'insulting', 'insults', 'insurance', 'insurances', 'insured', 'insurers', 'insurgency', 'int', 'int_', 'intact', 'intake', 'intangible', 'integer', 'integers', 'integral', 'integrals', 'integrate', 'integrated', 'integrating', 'integration', 'integrations', 'integrity', 'intel', 'intellect', 'intellectual', 'intellectually', 'intellectuals', 'intelligence', 'intelligent', 'intelligently', 'intelligible', 'intend', 'intended', 'intending', 'intends', 'intense', 'intensely', 'intensity', 'intensive', 'intent', 'intention', 'intentional', 'intentionally', 'intentions', 'inter', 'interact', 'interacting', 'interaction', 'interactions', 'interactive', 'interacts', 'intercast', 'intercaste', 'intercept', 'intercepted', 'intercepts', 'interchangeably', 'intercourse', 'interdisciplinary', 'interest', 'interested', 'interesting', 'interests', 'interface', 'interfaces', 'interfere', 'interference', 'interfering', 'intergalactic', 'interior', 'interiors', 'intermediate', 'intermittent', 'intermolecular', 'intern', 'internal', 'internalized', 'internally', 'international', 'internationally', 'internet', 'interning', 'internment', 'interns', 'internship', 'internships', 'interpersonal', 'interphase', 'interpol', 'interpolation', 'interpret', 'interpretation', 'interpretations', 'interpreted', 'interpreter', 'interpreters', 'interracial', 'interrupt', 'interrupts', 'intersect', 'intersection', 'intersections', 'intersects', 'intership', 'interstate', 'interstellar', 'interval', 'intervals', 'intervene', 'intervention', 'interventions', 'interview', 'interviewed', 'interviewer', 'interviewers', 'interviewing', 'interviews', 'intestine', 'intestines', 'intex', 'intimacy', 'intimate', 'intimidate', 'intimidated', 'intimidating', 'intj', 'intjs', 'into', 'intolerance', 'intolerant', 'intonation', 'intoxicated', 'intp', 'intps', 'intra', 'intraday', 'intranet', 'intrest', 'intresting', 'intriguing', 'intrinsic', 'intrinsically', 'intro', 'introduce', 'introduced', 'introduces', 'introducing', 'introduction', 'introductory', 'introspect', 'introspection', 'introversion', 'introvert', 'introverted', 'introverts', 'intrusion', 'intrusive', 'intuit', 'intuition', 'intuitive', 'intuitively', 'inu', 'invade', 'invaded', 'invaders', 'invades', 'invading', 'invalid', 'invalidating', 'invalidity', 'invasion', 'invasive', 'invent', 'invented', 'inventing', 'invention', 'inventions', 'inventor', 'inventors', 'inventory', 'inverness', 'inverse', 'inversely', 'inversion', 'invert', 'invertebrates', 'inverted', 'inverter', 'invest', 'invested', 'investigate', 'investigated', 'investigating', 'investigation', 'investigator', 'investigators', 'investigatory', 'investing', 'investment', 'investments', 'investor', 'investors', 'invests', 'invisibility', 'invisible', 'invitation', 'invitations', 'invite', 'invited', 'invites', 'inviting', 'invoice', 'invoices', 'invoicing', 'invoke', 'involuntarily', 'involuntary', 'involve', 'involved', 'involvement', 'involves', 'involving', 'io', 'iocl', 'iodide', 'iodine', 'iodized', 'ioffer', 'ioi', 'iol', 'ion', 'ionic', 'ionisation', 'ionization', 'ions', 'ios', 'ios9', 'iot', 'iowa', 'ip', 'ipad', 'ipads', 'ipc', 'ipcc', 'iphone', 'iphone7', 'iphones', 'iphoto', 'ipill', 'ipl', 'ipm', 'ipo', 'ipod', 'ips', 'iptv', 'ipu', 'ipv4', 'ipv6', 'ipython', 'iq', 'iqs', 'iquique', 'ir', 'ira', 'iran', 'irani', 'iranian', 'iranians', 'iraq', 'iraqi', 'irc', 'irctc', 'ireland', 'iridium', 'iris', 'irish', 'irl', 'irma', 'irnss', 'iron', 'ironic', 'ironman', 'irony', 'iroquois', 'irr', 'irrational', 'irrefutable', 'irregular', 'irrelevant', 'irrespective', 'irresponsible', 'irreversible', 'irrigation', 'irritable', 'irritate', 'irritated', 'irritates', 'irritating', 'irritation', 'irs', 'irvine', 'is', 'isaac', 'isb', 'isbn', 'isc', 'isca', 'ischemic', 'ise', 'isfj', 'ish', 'isha', 'ishrat', 'isi', 'isil', 'isis', 'iskcon', 'isl', 'islam', 'islamabad', 'islamia', 'islamic', 'islamist', 'islamophobia', 'island', 'islands', 'isles', 'ism', 'isn', 'isnt', 'iso', 'isolate', 'isolated', 'isolating', 'isolation', 'isomers', 'isopropyl', 'isosceles', 'isothermal', 'isotope', 'isotopes', 'isotropic', 'isp', 'isps', 'israel', 'israeli', 'israelis', 'israelites', 'isro', 'iss', 'issuance', 'issue', 'issued', 'issues', 'issuing', 'ist', 'istanbul', 'it', 'ita', 'itachi', 'italian', 'italians', 'italic', 'italy', 'itc', 'itch', 'itchiness', 'itching', 'itchy', 'item', 'items', 'iterative', 'iti', 'itil', 'itinerary', 'itis', 'itm', 'itr', 'its', 'itself', 'itt', 'ittefaq', 'ittehad', 'itu', 'itunes', 'iupac', 'iv', 'ivan', 'ivanka', 'ive', 'ivectorize', 'ivf', 'ivies', 'ivy', 'iwant', 'ix', 'j1', 'j2', 'j2ee', 'j5', 'j7', 'ja', 'jabalpur', 'jabba', 'jabong', 'jace', 'jack', 'jacket', 'jackets', 'jackie', 'jackpot', 'jacks', 'jackson', 'jacksonville', 'jacob', 'jacobs', 'jact', 'jadavpur', 'jaggery', 'jaggi', 'jagriti', 'jaguar', 'jahan', 'jai', 'jail', 'jailbreak', 'jailbreaking', 'jailbroken', 'jailed', 'jaime', 'jain', 'jainism', 'jains', 'jaipur', 'jaish', 'jakarta', 'jake', 'jakku', 'jalandhar', 'jallikattu', 'jam', 'jamaica', 'jamaican', 'jamboree', 'james', 'jamia', 'jamie', 'jammer', 'jammu', 'jams', 'jamshedpur', 'jan', 'jana', 'janata', 'jane', 'janeiro', 'janet', 'janitor', 'january', 'japan', 'japanese', 'jaqen', 'jar', 'jared', 'jarvis', 'jasmine', 'jason', 'jat', 'jatt', 'jaundice', 'java', 'javafx', 'javascript', 'jaw', 'jawaharlal', 'jawbone', 'jawline', 'jaws', 'jay', 'jayalalitha', 'jayalalithaa', 'jaypee', 'jazz', 'jbims', 'jbl', 'jd', 'jdbc', 'jdk', 'je', 'jealous', 'jealousy', 'jean', 'jeans', 'jeb', 'jecrc', 'jedi', 'jee', 'jeenkart', 'jeep', 'jeevan', 'jeff', 'jefferson', 'jeffrey', 'jehovah', 'jelly', 'jellyfish', 'jem', 'jenkins', 'jenner', 'jennifer', 'jeopardy', 'jeremy', 'jerk', 'jerks', 'jerky', 'jerry', 'jersey', 'jerseys', 'jerusalem', 'jesse', 'jessica', 'jest', 'jesus', 'jet', 'jetliner', 'jets', 'jew', 'jewellery', 'jewelry', 'jewels', 'jewish', 'jews', 'jf', 'jfk', 'jha', 'jhansi', 'jharkhand', 'jhunjhunwala', 'ji', 'jigsaw', 'jihad', 'jiit', 'jill', 'jillian', 'jim', 'jimi', 'jimmy', 'jindal', 'jingle', 'jinnah', 'jinns', 'jinping', 'jio', 'jio4gvoice', 'jiofi', 'jipmer', 'jira', 'jitsu', 'jitterbug', 'jiu', 'jk', 'jmeter', 'jn0', 'jntu', 'jnu', 'jo', 'joan', 'joanna', 'joaquin', 'job', 'jobless', 'jobs', 'jock', 'jockey', 'jodhpur', 'joe', 'joel', 'joey', 'joffrey', 'jog', 'jogging', 'johannesburg', 'johar', 'john', 'johnny', 'johns', 'johnson', 'join', 'joined', 'joining', 'joins', 'joint', 'joints', 'joke', 'joker', 'jokers', 'jokes', 'jolie', 'jon', 'jonathan', 'jones', 'jong', 'jony', 'joomla', 'jorah', 'jordan', 'josaa', 'jose', 'josef', 'joseph', 'josh', 'joshi', 'joshua', 'joules', 'journal', 'journalism', 'journalist', 'journalists', 'journals', 'journey', 'joy', 'joyce', 'jp', 'jpeg', 'jpg', 'jquery', 'jr', 'jrf', 'js', 'jsf', 'json', 'jsp', 'jss', 'juan', 'judaism', 'judas', 'judge', 'judged', 'judgement', 'judgemental', 'judges', 'judging', 'judgment', 'judgmental', 'judicial', 'judiciary', 'judo', 'judy', 'juggle', 'juice', 'juices', 'juicing', 'julia', 'julian', 'juliet', 'julius', 'july', 'jump', 'jumped', 'jumping', 'jumps', 'junction', 'june', 'juneau', 'jung', 'jungle', 'junior', 'juniors', 'juniper', 'junk', 'juno', 'jupiter', 'jurassic', 'jurisdiction', 'jurisdictions', 'jury', 'just', 'justice', 'justices', 'justifiable', 'justification', 'justified', 'justify', 'justin', 'juvenile', 'jvm', 'jw', 'k2', 'k3', 'k4', 'k5', 'ka', 'kaaba', 'kaabil', 'kabaddi', 'kabali', 'kabbadi', 'kaepernick', 'kafka', 'kaggle', 'kaguya', 'kai', 'kaif', 'kailash', 'kaine', 'kakashi', 'kaku', 'kalahari', 'kalam', 'kale', 'kali', 'kalinga', 'kalman', 'kalpana', 'kalyan', 'kama', 'kamagra', 'kamal', 'kamasutra', 'kamchatca', 'kamikaze', 'kangana', 'kangaroos', 'kanhangad', 'kannada', 'kannadiga', 'kannadigas', 'kanniyakumari', 'kanodia', 'kanpur', 'kansas', 'kant', 'kanti', 'kanyakumari', 'kanye', 'kapil', 'kaplan', 'kapoor', 'kapu', 'karachi', 'karakum', 'karan', 'karaoke', 'karate', 'kardashian', 'kardashians', 'kargil', 'karl', 'karma', 'karna', 'karnataka', 'kart', 'kashmir', 'kashmiri', 'kashmiris', 'kashyap', 'kasol', 'kaspersky', 'kat', 'katana', 'kate', 'kathmandu', 'kaththi', 'katju', 'katrina', 'katy', 'kaufmich', 'kaun', 'kaveri', 'kavir', 'kawasaki', 'kay', 'kayak', 'kazakhstan', 'kb', 'kbps', 'kcet', 'kd', 'ke', 'keanu', 'kebab', 'kedavra', 'keen', 'keenmobi', 'keep', 'keeper', 'keeping', 'keeps', 'keepsafe', 'kefir', 'kejriwal', 'keller', 'kelley', 'kellogg', 'kelly', 'kellyanne', 'kelpie', 'kelvin', 'kemal', 'ken', 'kendra', 'kendrick', 'kendriya', 'kennedy', 'kenobi', 'kent', 'kentucky', 'kenya', 'kenyan', 'kepler', 'kept', 'kerala', 'keralites', 'keratin', 'keratoconus', 'keratosis', 'kerbal', 'kerbi', 'kernel', 'kernels', 'kerosene', 'kerry', 'kershaw', 'kesh', 'ketamine', 'ketchum', 'ketchup', 'keto', 'ketogenic', 'ketones', 'ketosis', 'kettle', 'ketu', 'kevin', 'key', 'keyboard', 'keyboards', 'keychain', 'keylogger', 'keynes', 'keynesian', 'keynote', 'keypad', 'keys', 'keyword', 'keywords', 'kfc', 'kg', 'kgb', 'kgi', 'kgp', 'kgs', 'khajuraho', 'khaki', 'khal', 'khaled', 'khalid', 'khalifa', 'khalistan', 'khan', 'kharagpur', 'khasra', 'khata', 'khizr', 'khmer', 'khoury', 'ki', 'kia', 'kibana', 'kibbutz', 'kick', 'kickass', 'kickasstorrents', 'kickboxing', 'kicked', 'kicks', 'kickstarter', 'kid', 'kidnap', 'kidnapped', 'kidney', 'kidneys', 'kids', 'kiev', 'kiip', 'kiit', 'kijiji', 'kik', 'kilauea', 'kill', 'killed', 'killer', 'killers', 'killing', 'killings', 'kills', 'kilo', 'kilogram', 'kilograms', 'kilometer', 'kilometers', 'kilos', 'kilowatt', 'kim', 'kimchi', 'kimi', 'kimmel', 'kind', 'kinda', 'kinder', 'kindergarten', 'kindest', 'kindle', 'kindly', 'kindness', 'kinds', 'kinect', 'kinematic', 'kinematics', 'kinetic', 'king', 'kingdom', 'kingdoms', 'kingfisher', 'kingroot', 'kings', 'kingston', 'kinkiest', 'kiosk', 'kippur', 'kiran', 'kirby', 'kiritimati', 'kirk', 'kiss', 'kissed', 'kisser', 'kisses', 'kissing', 'kissinger', 'kit', 'kitchen', 'kitchenaid', 'kitchener', 'kitchens', 'kitchkarma', 'kite', 'kites', 'kitkat', 'kits', 'kitten', 'kittens', 'kitty', 'kj', 'kkk', 'klan', 'kleenex', 'klein', 'klonopin', 'klopp', 'klout', 'klum', 'klux', 'km', 'kmc', 'kml', 'kmph', 'kms', 'kn', 'knead', 'knee', 'knees', 'knew', 'knife', 'knight', 'knighted', 'knights', 'knit', 'knitted', 'knitting', 'knives', 'knock', 'knocked', 'knocking', 'knot', 'knots', 'know', 'knowing', 'knowingly', 'knowledge', 'knowledgeable', 'known', 'knows', 'knox', 'knuckle', 'knuckles', 'knw', 'ko', 'kobe', 'kobo', 'kochi', 'kodaikanal', 'kodak', 'kodi', 'koffee', 'koh', 'kohinoor', 'kohl', 'kohli', 'koi', 'kolhapur', 'kolkata', 'kollywood', 'kombat', 'kong', 'kony', 'kool', 'koran', 'korea', 'korean', 'koreans', 'korra', 'kors', 'kosher', 'kosovo', 'kota', 'kotak', 'kowloon', 'kozhikode', 'kp', 'kpi', 'kpis', 'kpit', 'kpmg', 'kpo', 'kpop', 'kraft', 'kramer', 'kranti', 'krav', 'krazybutterfly', 'kremlin', 'krishna', 'krishnamurti', 'kriya', 'krk', 'kroeger', 'kruger', 'ksa', 'kshatriya', 'kshatriyas', 'kt', 'kth', 'ktm', 'ku', 'kuala', 'kuan', 'kubo', 'kudrow', 'kumar', 'kumon', 'kundali', 'kundalini', 'kundli', 'kung', 'kunti', 'kurdish', 'kurdistan', 'kurds', 'kuril', 'kurt', 'kurta', 'kurtis', 'kurukshetra', 'kutcher', 'kuwait', 'kv', 'kva', 'kvpy', 'kw', 'kwid', 'ky', 'kya', 'kyc', 'kyi', 'kyle', 'kylie', 'kylo', 'kyo', 'kyojin', 'kyoto', 'kyrgyzstan', 'l1', 'l1b', 'l2', 'l4', 'la', 'laakmann', 'lab', 'label', 'labeled', 'labelled', 'labels', 'labia', 'labor', 'laboratories', 'laboratory', 'labour', 'labrador', 'labs', 'labview', 'lac', 'lace', 'lack', 'lacking', 'lacks', 'lacrosse', 'lacs', 'lactic', 'lactose', 'ladakh', 'ladder', 'laden', 'ladies', 'ladoga', 'lady', 'ladyboys', 'lafayette', 'lag', 'lagann', 'lager', 'lagging', 'lagna', 'lagrange', 'lags', 'laguna', 'lahore', 'laid', 'laissez', 'lake', 'lakes', 'lakh', 'lakhs', 'lakshadweep', 'lakshmi', 'lal', 'lalu', 'lama', 'lamar', 'lamarck', 'lamb', 'lambda', 'lamborghini', 'lambs', 'lame', 'laminar', 'laminate', 'lamo', 'lamp', 'lamps', 'lan', 'lana', 'lance', 'land', 'landed', 'landforms', 'landing', 'landings', 'landline', 'landlord', 'landlords', 'landmark', 'landmarks', 'lands', 'landscape', 'landscapes', 'landslide', 'lane', 'lanes', 'lang', 'langer', 'language', 'languages', 'lanka', 'lankan', 'lankans', 'lannister', 'lannisters', 'lansdowne', 'lantern', 'lanyard', 'lanyards', 'laos', 'lap', 'laplace', 'lapse', 'laptop', 'laptops', 'lara', 'laravel', 'lard', 'large', 'largely', 'larger', 'largest', 'larry', 'larson', 'larvae', 'larynx', 'las', 'laser', 'laserjet', 'lasik', 'lassitude', 'last', 'lasted', 'lasting', 'lasts', 'lata', 'latch', 'late', 'lately', 'latency', 'latent', 'later', 'lateral', 'latest', 'latex', 'lathe', 'latin', 'latina', 'latino', 'latinos', 'latitude', 'latitudes', 'latte', 'latter', 'lattice', 'latvia', 'lauderdale', 'laugh', 'laughing', 'laughs', 'laughter', 'launch', 'launched', 'launcher', 'launches', 'launching', 'launder', 'laundering', 'laundry', 'lauren', 'laurent', 'laurie', 'lava', 'laveen', 'lavender', 'lavish', 'law', 'lawn', 'lawrence', 'laws', 'lawsuit', 'lawsuits', 'lawyer', 'lawyers', 'lax', 'laxative', 'laxatives', 'laxmikanth', 'lay', 'layer', 'layered', 'layers', 'laying', 'layman', 'layoff', 'layoffs', 'layout', 'layouts', 'layover', 'lays', 'lazada', 'laziest', 'laziness', 'lazy', 'lb', 'lbs', 'lbsnaa', 'lca', 'lcd', 'lcm', 'ld', 'lda', 'ldl', 'ldots', 'ldr', 'le', 'lead', 'leader', 'leaders', 'leadership', 'leading', 'leads', 'leaf', 'league', 'leagues', 'leak', 'leakage', 'leaked', 'leaking', 'leaks', 'leaky', 'lean', 'leaning', 'leap', 'lear', 'learn', 'learned', 'learner', 'learners', 'learning', 'learnings', 'learns', 'learnt', 'lease', 'leased', 'leash', 'leasing', 'least', 'leather', 'leave', 'leaves', 'leaving', 'lebanese', 'lebanon', 'lebron', 'lecter', 'lecture', 'lecturer', 'lecturers', 'lectures', 'led', 'ledger', 'leds', 'lee', 'leeco', 'leeds', 'leetcode', 'left', 'leftist', 'leftover', 'leg', 'legacy', 'legal', 'legalised', 'legalization', 'legalize', 'legalized', 'legalizing', 'legally', 'legalzoom', 'legend', 'legendary', 'legends', 'legged', 'leggings', 'legion', 'legislation', 'legislative', 'legislature', 'legit', 'legitimacy', 'legitimate', 'legitimately', 'lego', 'legolas', 'legs', 'leguminous', 'leh', 'lehenga', 'leia', 'leicester', 'leisure', 'lelouch', 'lemon', 'lemonade', 'lemons', 'lend', 'lender', 'lenders', 'lending', 'lenght', 'length', 'lengths', 'lengthy', 'lenin', 'leningrad', 'lennon', 'lenovo', 'lens', 'lense', 'lenses', 'lentils', 'leo', 'leon', 'leonard', 'leonardo', 'leone', 'leopard', 'leopards', 'les', 'lesbian', 'lesbians', 'leslie', 'lesnar', 'lesotho', 'less', 'lessen', 'lesser', 'lesson', 'lessons', 'lest', 'let', 'lethal', 'leto', 'lets', 'letsbuydrink', 'letter', 'letters', 'letting', 'lettuce', 'letv', 'level', 'leveling', 'levels', 'lever', 'leverage', 'levi', 'levied', 'levis', 'levitation', 'levity', 'lewis', 'lex', 'lexapro', 'lexus', 'leyland', 'lg', 'lgbt', 'lgbti', 'lgbtq', 'lgbtqi', 'lhc', 'lhmc', 'li', 'liabilities', 'liability', 'liable', 'liam', 'liar', 'liars', 'libel', 'liberal', 'liberalism', 'liberally', 'liberals', 'liberated', 'liberation', 'liberia', 'libertarian', 'libertarianism', 'libertarians', 'liberties', 'liberty', 'libido', 'libra', 'librarian', 'libraries', 'library', 'libration', 'libya', 'lic', 'lice', 'licence', 'license', 'licensed', 'licenses', 'licensing', 'lick', 'licked', 'licking', 'lid', 'lie', 'liechtenstein', 'lied', 'lien', 'lies', 'lieutenant', 'life', 'lifelong', 'lifespan', 'lifestyle', 'lifestyles', 'lifetime', 'lift', 'lifted', 'lifting', 'lifts', 'liga', 'ligament', 'ligand', 'ligation', 'light', 'lighten', 'lightening', 'lighter', 'lighters', 'lightest', 'lighting', 'lightly', 'lightning', 'lightroom', 'lights', 'lightsaber', 'lightsabers', 'lightweight', 'like', 'likeable', 'likealittle', 'liked', 'likelihood', 'likely', 'likers', 'likes', 'liking', 'lil', 'lilith', 'lily', 'lim', 'lim_', 'lima', 'limb', 'limbaugh', 'limbo', 'limbs', 'lime', 'limelight', 'limerice', 'limes', 'limestone', 'limit', 'limitation', 'limitations', 'limited', 'limiter', 'limiting', 'limitless', 'limits', 'limits_', 'limp', 'limping', 'lin', 'lincoln', 'linda', 'linden', 'line', 'lineage', 'linear', 'linearity', 'liner', 'liners', 'lines', 'linga', 'lingerie', 'lingua', 'lingual', 'linguist', 'linguistic', 'linguistics', 'linguists', 'lining', 'link', 'linked', 'linkedin', 'linkin', 'linking', 'linkis', 'links', 'linksys', 'linode', 'lint', 'linus', 'linux', 'lion', 'lionel', 'lions', 'lip', 'lipid', 'lipids', 'liposuction', 'lips', 'lipstick', 'lipton', 'liquid', 'liquidated', 'liquidity', 'liquids', 'liquor', 'liquors', 'lisa', 'lisbon', 'lisp', 'list', 'listed', 'listen', 'listened', 'listener', 'listeners', 'listening', 'listenonrepeat', 'listens', 'listing', 'listings', 'lists', 'lit', 'lite', 'liter', 'literacy', 'literal', 'literally', 'literary', 'literate', 'literature', 'liters', 'lithium', 'lithosphere', 'lithuania', 'litigation', 'litmus', 'litre', 'litres', 'litter', 'littered', 'littering', 'little', 'littlefinger', 'liu', 'livable', 'live', 'liveable', 'lived', 'liver', 'liverpool', 'lives', 'livestock', 'livestream', 'living', 'lizard', 'lizards', 'ljubljana', 'll', 'llb', 'llc', 'llm', 'lloyd', 'llp', 'lm', 'lms', 'ln', 'lnmiit', 'load', 'loaded', 'loading', 'loads', 'loan', 'loans', 'loanwords', 'loathing', 'lobby', 'lobbyists', 'lobe', 'lobes', 'lobster', 'lobsters', 'loc', 'local', 'locality', 'localized', 'locally', 'locals', 'locate', 'located', 'locating', 'location', 'locations', 'locator', 'lochte', 'lock', 'locke', 'locked', 'locker', 'lockheed', 'locking', 'locks', 'loco', 'locomotive', 'locus', 'lodge', 'lodging', 'lodha', 'loft', 'log', 'logan', 'logarithm', 'logarithmic', 'logarithms', 'logged', 'logging', 'logic', 'logical', 'logically', 'login', 'logistic', 'logistics', 'logitech', 'logo', 'logos', 'logout', 'logs', 'lok', 'lokpal', 'loksabha', 'lol', 'lolipop', 'lollipop', 'london', 'lone', 'loneliness', 'lonely', 'loner', 'long', 'longboard', 'longer', 'longest', 'longevity', 'longitude', 'longitudes', 'longitudinal', 'lonliness', 'lonsdale', 'look', 'lookalike', 'looked', 'looking', 'looks', 'lookup', 'loon', 'loong', 'loop', 'loophole', 'loopholes', 'loops', 'loose', 'loosen', 'looses', 'loosing', 'loot', 'looted', 'lopez', 'lor', 'lord', 'lorde', 'lords', 'lore', 'los', 'lose', 'loser', 'losers', 'loses', 'losing', 'loss', 'losses', 'lossless', 'lost', 'lot', 'lotion', 'lotions', 'lotr', 'lots', 'lottery', 'lotto', 'lotus', 'loud', 'louder', 'loudly', 'loudspeakers', 'louis', 'louisiana', 'lounge', 'lovable', 'love', 'lovecraft', 'loved', 'lovely', 'lover', 'lovers', 'loves', 'loving', 'low', 'lowe', 'lower', 'lowered', 'lowering', 'lowest', 'loyal', 'loyalty', 'loyola', 'lp', 'lpa', 'lpg', 'lpu', 'ls', 'lsat', 'lsd', 'lse', 'lt', 'ltd', 'lte', 'lts', 'lua', 'lube', 'lubricant', 'lubrication', 'lucas', 'lucid', 'lucifer', 'luck', 'luckiest', 'lucknow', 'lucky', 'lucrative', 'lucy', 'luffy', 'luggage', 'luis', 'luke', 'lumber', 'lumia', 'lumosity', 'lump', 'lumps', 'lumpur', 'luna', 'lunar', 'lunch', 'lung', 'lungs', 'lust', 'luther', 'luthor', 'luxembourg', 'luxurious', 'luxury', 'ly', 'lyanna', 'lyf', 'lyft', 'lying', 'lymph', 'lymphatic', 'lymphoma', 'lynch', 'lynda', 'lyon', 'lyric', 'lyrical', 'lyricist', 'lyrics', 'lî', 'm1', 'm16', 'm2', 'm20x', 'm230', 'm3', 'm30x', 'm330', 'm4', 'm40x', 'm440', 'm452dw', 'm4v', 'm5', 'm506x', 'm553x', 'm604dn', 'm604n', 'm606x', 'm7', 'm712dn', 'm750n', 'm8', 'ma', 'maa', 'mac', 'macaron', 'macaroni', 'macarons', 'macau', 'macaulay', 'macbeth', 'macbok', 'macbook', 'macbooks', 'macchiato', 'mace', 'macedonia', 'mach', 'machiavelli', 'machina', 'machine', 'machinery', 'machines', 'machining', 'macos', 'macro', 'macroeconomics', 'macromolecules', 'macros', 'macs', 'macular', 'macy', 'mad', 'madagascar', 'madam', 'madara', 'madden', 'made', 'madeeasy', 'madera', 'madhya', 'madison', 'madly', 'madness', 'madonna', 'madras', 'madrid', 'madurai', 'mae', 'maersk', 'maestro', 'maeve', 'mafia', 'mafias', 'mag', 'maga', 'magazine', 'magazines', 'magenta', 'magento', 'maggi', 'maggot', 'magi', 'magic', 'magical', 'magically', 'magician', 'magicians', 'magistrate', 'magna', 'magnesium', 'magnet', 'magnetic', 'magnetism', 'magneto', 'magnets', 'magnification', 'magnificent', 'magnifying', 'magnitude', 'magnum', 'magnus', 'magpie', 'mah', 'maha', 'mahabharat', 'mahabharata', 'mahabharatha', 'mahadasha', 'mahal', 'mahamantra', 'maharaj', 'maharaja', 'maharashtra', 'maharshi', 'mahatma', 'mahavira', 'mahayana', 'mahdi', 'mahendra', 'maher', 'mahesh', 'maheshwari', 'mahindra', 'mai', 'maia', 'maibong', 'maid', 'maida', 'maiden', 'mail', 'mailbox', 'mailchimp', 'mailed', 'mailing', 'mails', 'main', 'maine', 'mainframe', 'mainland', 'mainly', 'mains', 'mainstream', 'maintain', 'maintained', 'maintaining', 'maintains', 'maintenance', 'mait', 'majboori', 'major', 'majoring', 'majority', 'majors', 'makar', 'make', 'makemytrip', 'makeover', 'maker', 'makers', 'makes', 'makeup', 'maki', 'making', 'maladaptive', 'malala', 'malawi', 'malay', 'malayalam', 'malayali', 'malays', 'malaysia', 'malaysian', 'malaysians', 'malazan', 'malcolm', 'maldives', 'male', 'males', 'malfoy', 'malfunction', 'mali', 'malia', 'malibu', 'malicious', 'malignant', 'malik', 'mall', 'malleable', 'malley', 'malls', 'mallya', 'malmö', 'malpractice', 'malt', 'malta', 'maltese', 'malware', 'mam', 'mama', 'mamata', 'mamc', 'mammal', 'mammals', 'mamta', 'man', 'mana', 'manage', 'managed', 'management', 'manager', 'managerial', 'managers', 'manages', 'managing', 'managment', 'manali', 'manaphy', 'manchester', 'manchurian', 'mandarin', 'mandate', 'mandatory', 'mandela', 'mandir', 'mane', 'maneuver', 'manga', 'mangal', 'mangalore', 'manger', 'mangeshkar', 'manglik', 'mango', 'mangoes', 'manhattan', 'manhunter', 'maniac', 'manic', 'manifest', 'manifestation', 'manila', 'manipal', 'manipulate', 'manipulated', 'manipulating', 'manipulation', 'manipulative', 'manipulator', 'manipur', 'manit', 'manitoba', 'mankind', 'manly', 'manmohan', 'mann', 'manned', 'manner', 'mannerisms', 'manners', 'manning', 'manor', 'manpower', 'mans', 'mansion', 'manson', 'manstein', 'mantis', 'mantle', 'mantra', 'mantras', 'mantri', 'manu', 'manual', 'manually', 'manufacture', 'manufactured', 'manufacturer', 'manufacturers', 'manufactures', 'manufacturing', 'manure', 'manuscript', 'manwë', 'many', 'manyata', 'mao', 'maoism', 'maoists', 'map', 'maple', 'mapped', 'mapping', 'mapreduce', 'maps', 'mar', 'maratha', 'marathas', 'marathi', 'marathon', 'marathons', 'marble', 'marc', 'march', 'marcos', 'marcus', 'margaery', 'margaret', 'margarine', 'margin', 'marginal', 'margins', 'margo', 'maria', 'mariah', 'mariana', 'marie', 'marijuana', 'marilyn', 'marin', 'marina', 'marine', 'mariner', 'marines', 'mario', 'marion', 'marissa', 'marital', 'maritime', 'mark', 'markdown', 'marked', 'marker', 'markers', 'market', 'marketable', 'marketed', 'marketer', 'marketers', 'marketing', 'marketo', 'marketplace', 'marketplaces', 'markets', 'marking', 'markings', 'markov', 'marks', 'marksheet', 'markup', 'marlboro', 'marley', 'maroon', 'marquis', 'marraige', 'marriage', 'marriages', 'married', 'marries', 'marriott', 'marrow', 'marry', 'marrying', 'mars', 'marshal', 'marshall', 'marshmallow', 'mart', 'martial', 'martian', 'martin', 'martinique', 'martyn', 'maruti', 'marvel', 'marvell', 'marx', 'marxism', 'marxist', 'marxists', 'mary', 'maryland', 'mas', 'masaan', 'masala', 'mascara', 'mascot', 'masculine', 'mashed', 'masjid', 'mask', 'masks', 'mason', 'masons', 'masood', 'mass', 'massachisetts', 'massachusetts', 'massacre', 'massacres', 'massage', 'massages', 'massaging', 'masses', 'masseuse', 'massive', 'massless', 'mastani', 'master', 'masterbate', 'masterbation', 'mastercard', 'masterchef', 'mastered', 'mastering', 'mastermind', 'masters', 'mastery', 'masti', 'mastiff', 'mastrubation', 'masturation', 'masturbate', 'masturbated', 'masturbates', 'masturbating', 'masturbation', 'masturbations', 'masturbatory', 'mat', 'mata', 'matapan', 'match', 'matched', 'matches', 'matching', 'matchmaking', 'mate', 'mateo', 'mater', 'material', 'materialistic', 'materials', 'maternal', 'maternity', 'mates', 'math', 'mathbb', 'mathematica', 'mathematical', 'mathematically', 'mathematician', 'mathematicians', 'mathematics', 'mathers', 'mathrm', 'maths', 'mathura', 'mating', 'matlab', 'matrices', 'matriculation', 'matrimonial', 'matrimony', 'matrix', 'mats', 'matt', 'matte', 'matter', 'matters', 'matthew', 'mattress', 'mattresses', 'mature', 'matured', 'maturity', 'maui', 'mauritania', 'mauritius', 'maurya', 'maven', 'mavericks', 'max', 'maximise', 'maximization', 'maximize', 'maximum', 'maxwell', 'may', 'maya', 'mayan', 'mayans', 'mayawati', 'maybach', 'maybe', 'mayday', 'mayer', 'maynard', 'mayo', 'mayonnaise', 'mayor', 'mayweather', 'mazda', 'maze', 'mb', 'mb6', 'mba', 'mbas', 'mbb', 'mbbs', 'mbps', 'mbs', 'mbt', 'mbti', 'mc', 'mca', 'mcat', 'mcb', 'mccartney', 'mcconaughey', 'mcd', 'mcdonald', 'mcdonalds', 'mcdowell', 'mcgill', 'mcgraw', 'mcgregor', 'mci', 'mckenna', 'mckinsey', 'mclr', 'mcmahon', 'mcom', 'mcq', 'mcqs', 'mcs', 'mcu', 'md', 'mdi', 'mdlive', 'mdma', 'mdr', 'mds', 'me', 'mea', 'meal', 'meals', 'mean', 'meanest', 'meaning', 'meaningful', 'meaningless', 'meanings', 'means', 'meant', 'meanwhile', 'measurable', 'measure', 'measured', 'measurement', 'measurements', 'measures', 'measuring', 'meat', 'meatballs', 'meats', 'mecca', 'mech', 'mechanic', 'mechanical', 'mechanics', 'mechanism', 'mechanisms', 'mechatronic', 'mechatronics', 'med', 'medal', 'medalist', 'medals', 'medellin', 'media', 'mediahuman', 'medial', 'median', 'mediatek', 'mediation', 'mediawiki', 'medicaid', 'medical', 'medically', 'medicals', 'medicare', 'medicate', 'medication', 'medications', 'medici', 'medicinal', 'medicine', 'medicines', 'medieval', 'medina', 'mediocre', 'meditate', 'meditating', 'meditation', 'mediterranean', 'medium', 'mediums', 'meds', 'medulla', 'meerut', 'meese', 'meet', 'meeting', 'meetings', 'meetme', 'meets', 'meetup', 'meetups', 'mega', 'megapixels', 'meghalaya', 'megyn', 'mehndi', 'mehta', 'mein', 'meiosis', 'meir', 'melania', 'melanin', 'melatonin', 'melbourne', 'meldonium', 'melisandre', 'mellon', 'melodies', 'melodious', 'melody', 'melt', 'melted', 'melting', 'melts', 'member', 'members', 'membership', 'membrane', 'membranes', 'meme', 'memes', 'memo', 'memoirs', 'memorable', 'memorial', 'memories', 'memorise', 'memorize', 'memorizing', 'memory', 'memphis', 'men', 'menace', 'mend', 'mendeley', 'meng', 'mengele', 'menlo', 'menon', 'menopause', 'mens', 'mensa', 'menstrual', 'menstruate', 'menstruating', 'menstruation', 'mental', 'mentalism', 'mentalist', 'mentality', 'mentally', 'menthol', 'mention', 'mentioned', 'mentioning', 'mentions', 'mentor', 'mentors', 'mentos', 'menu', 'menus', 'meowing', 'merced', 'mercedes', 'mercer', 'merchandise', 'merchandising', 'merchant', 'merchants', 'mercury', 'mercy', 'mere', 'merely', 'merge', 'merged', 'merger', 'mergers', 'merging', 'meridian', 'merit', 'meritocracy', 'merits', 'merkel', 'merlin', 'mermaid', 'mermaids', 'merry', 'meru', 'meryl', 'mesa', 'mesh', 'meso', 'mesopotamia', 'mesra', 'mess', 'message', 'messaged', 'messages', 'messaging', 'messanger', 'messed', 'messeges', 'messenger', 'messi', 'messiah', 'messianic', 'messy', 'met', 'meta', 'metabolic', 'metabolism', 'metadata', 'metal', 'metallic', 'metallica', 'metalloid', 'metallurgical', 'metallurgy', 'metals', 'metamorphic', 'metamorphosis', 'metaphor', 'metaphors', 'metaphysics', 'meteor', 'meteors', 'meter', 'metered', 'meters', 'meth', 'methadone', 'methamphetamine', 'methamphetamines', 'methane', 'methanol', 'method', 'methodologies', 'methodology', 'methods', 'methyl', 'methylphenidate', 'metre', 'metres', 'metric', 'metrics', 'metro', 'metrocard', 'metropolitan', 'mew', 'mexican', 'mexicans', 'mexico', 'mf', 'mfm', 'mfn', 'mg', 'mgb', 'mgm', 'mgmt', 'mh', 'mh370', 'mha', 'mhrd', 'mht', 'mhz', 'mi', 'mi3', 'mi4i', 'mi5', 'mia', 'miami', 'mic', 'mica', 'micat', 'mice', 'michael', 'michelin', 'michelle', 'michigan', 'michio', 'mickey', 'micro', 'microbes', 'microbial', 'microbiologist', 'microbiology', 'microchip', 'microcontroller', 'microcontrollers', 'microeconomics', 'microevolution', 'microfinance', 'micromax', 'microorganisms', 'microphone', 'microphones', 'microprocessor', 'microprocessors', 'microscope', 'microscopes', 'microscopic', 'microsd', 'microsoft', 'microwave', 'microwaves', 'mid', 'midday', 'middle', 'middleman', 'middleware', 'midget', 'midgets', 'midi', 'midlife', 'midnight', 'midnightexpressions', 'midsection', 'midst', 'midsummer', 'midterm', 'midway', 'midwest', 'midwife', 'mig', 'might', 'mightier', 'mighty', 'mignon', 'migraine', 'migraines', 'migrant', 'migrants', 'migrate', 'migrated', 'migrating', 'migration', 'miguel', 'mika', 'mike', 'mikhail', 'mil', 'milan', 'mild', 'mildew', 'mile', 'mileage', 'miles', 'miley', 'milf', 'militant', 'militants', 'militaries', 'militarily', 'militarism', 'military', 'militia', 'milk', 'milking', 'milkshake', 'milky', 'mill', 'millennial', 'millennials', 'millennium', 'miller', 'millia', 'milligrams', 'milliliters', 'millimeters', 'million', 'millionaire', 'millionaires', 'millions', 'mills', 'milo', 'milpitas', 'milton', 'milwaukee', 'mim', 'mimic', 'min', 'minaj', 'minance', 'minar', 'minato', 'mind', 'mindblowing', 'minded', 'mindedness', 'mindfuck', 'mindfulness', 'minds', 'mindset', 'mindtree', 'mine', 'minecraft', 'mined', 'miner', 'mineral', 'minerals', 'minerva', 'mines', 'ming', 'minh', 'mini', 'miniature', 'miniclip', 'minimal', 'minimalist', 'minimize', 'minimum', 'mining', 'minions', 'minister', 'ministerial', 'ministers', 'ministry', 'minneapolis', 'minnesota', 'minor', 'minora', 'minorities', 'minority', 'minors', 'minoxidil', 'mins', 'mint', 'mints', 'minus', 'minute', 'minutes', 'mips', 'miracle', 'miracles', 'mirage', 'miranda', 'mirror', 'mirroring', 'mirrorless', 'mirrors', 'mirza', 'mis', 'misb', 'misbehave', 'misc', 'miscarriage', 'miscegenation', 'miscellaneous', 'mischievous', 'misconception', 'misconceptions', 'misdemeanor', 'misdiagnosed', 'miserable', 'miserables', 'miserably', 'mishra', 'misinformation', 'misinterpreted', 'misleading', 'miso', 'misogynist', 'misogynists', 'misogyny', 'misplaced', 'mispronounced', 'miss', 'missed', 'misses', 'missile', 'missiles', 'missing', 'mission', 'missionary', 'missions', 'mississippi', 'missouri', 'misspelled', 'misspelt', 'mist', 'mistake', 'mistaken', 'mistakenly', 'mistakes', 'mistletoe', 'mistress', 'mistruths', 'mistry', 'misunderstand', 'misunderstanding', 'misunderstood', 'misuse', 'misused', 'misérables', 'mit', 'mitacs', 'mites', 'mitigate', 'mitochondria', 'mitosis', 'mitsubishi', 'mitt', 'miui', 'mix', 'mixed', 'mixer', 'mixers', 'mixes', 'mixing', 'mixture', 'mixtures', 'mizoram', 'mj', 'mjolnir', 'mkv', 'ml', 'mla', 'mlb', 'mlc', 'mlm', 'mm', 'mma', 'mmo', 'mmorpg', 'mmr', 'mms', 'mn', 'mnc', 'mncs', 'mnit', 'mnnit', 'mo', 'moan', 'mob', 'mobikwik', 'mobile', 'mobiles', 'mobility', 'moby', 'mocha', 'mock', 'mocked', 'mocking', 'mockingbird', 'mocks', 'mod', 'modafinil', 'modal', 'modded', 'mode', 'model', 'modeled', 'modeling', 'modelling', 'models', 'modem', 'moderate', 'moderated', 'moderating', 'moderation', 'moderator', 'moderators', 'modern', 'modernism', 'modes', 'modest', 'modestly', 'modi', 'modification', 'modifications', 'modified', 'modify', 'modifying', 'modiji', 'modinagar', 'modis', 'mods', 'modular', 'modulation', 'module', 'modules', 'modulus', 'mohali', 'mohammad', 'mohammed', 'mohan', 'mohanlal', 'mohawk', 'mohenjo', 'moist', 'moisture', 'moisturizer', 'mojave', 'mol', 'molar', 'molarity', 'molars', 'molasses', 'mold', 'molding', 'moldova', 'moldy', 'mole', 'molecular', 'molecule', 'molecules', 'moles', 'molestation', 'molested', 'molten', 'molyneux', 'mom', 'moment', 'moments', 'momentum', 'momo', 'moms', 'mon', 'mona', 'monaco', 'monarch', 'monarchs', 'monarchy', 'monash', 'monatomic', 'monday', 'mondays', 'monetary', 'monetise', 'monetization', 'monetize', 'monetized', 'monetizing', 'money', 'mongo', 'mongodb', 'mongol', 'mongolia', 'mongolian', 'mongolians', 'mongols', 'monica', 'monitor', 'monitored', 'monitoring', 'monitors', 'monjee', 'monk', 'monkey', 'monkeys', 'monks', 'mono', 'monochromatic', 'monocytes', 'monogamous', 'monogamy', 'monolithic', 'monologue', 'monologues', 'monomer', 'monomers', 'monopoles', 'monopolistic', 'monopoly', 'monorail', 'monotheism', 'monotheistic', 'monotonous', 'monoxide', 'monroe', 'monrovia', 'monsanto', 'monsoon', 'monsoons', 'monster', 'monsters', 'montana', 'montauk', 'monte', 'monterey', 'montgomery', 'month', 'monthly', 'months', 'montreal', 'montréal', 'montserrat', 'monty', 'monuments', 'mooc', 'moocs', 'mood', 'moodle', 'moody', 'moon', 'moons', 'moonshine', 'moore', 'moors', 'moose', 'moped', 'moral', 'morale', 'morality', 'morally', 'morals', 'mordor', 'more', 'moreover', 'morgan', 'morghulis', 'morgoth', 'moria', 'mormon', 'mormons', 'morning', 'mornings', 'moroccan', 'moroccans', 'morocco', 'morpheme', 'morphine', 'morris', 'morrison', 'morse', 'mortal', 'mortality', 'mortar', 'mortgage', 'mortgages', 'mos', 'moscow', 'moses', 'mosfet', 'mosque', 'mosques', 'mosquito', 'mosquitoes', 'mosquitos', 'moss', 'mossad', 'most', 'mostly', 'motel', 'moth', 'mother', 'motherboard', 'motherboards', 'mothers', 'moths', 'motion', 'motions', 'motivate', 'motivated', 'motivates', 'motivating', 'motivation', 'motivational', 'motive', 'motives', 'moto', 'motogp', 'motor', 'motorbike', 'motorcycle', 'motorcycles', 'motorcycling', 'motorola', 'motors', 'motorsports', 'motto', 'mount', 'mountain', 'mountaineering', 'mountains', 'mountbatten', 'mounted', 'mourinho', 'mouse', 'mousse', 'moustache', 'moustaches', 'mouth', 'mouthwash', 'mov', 'movable', 'move', 'moved', 'movement', 'movements', 'movers', 'moves', 'moveset', 'movie', 'movies', 'moving', 'mozambique', 'mozart', 'mozilla', 'mozzarella', 'mp', 'mp3', 'mp4', 'mph', 'mphil', 'mpi', 'mpls', 'mpsc', 'mr', 'mrf', 'mri', 'mrna', 'mrp', 'mrs', 'ms', 'msba', 'msbi', 'msc', 'mscs', 'msd', 'msg', 'msi', 'msit', 'msm', 'msn', 'msnbc', 'msrit', 'msu', 'mt', 'mtech', 'mtnl', 'mts', 'mtv', 'mu', 'muammar', 'muay', 'much', 'mucinex', 'mucus', 'mud', 'mudra', 'muffin', 'muffins', 'mug', 'muggle', 'mughal', 'mughals', 'mugs', 'muhammad', 'muhammed', 'mukesh', 'mukherjee', 'mulayam', 'mullah', 'muller', 'multi', 'multibagger', 'multicellular', 'multiculturalism', 'multilingual', 'multimedia', 'multimeter', 'multimillionaire', 'multinational', 'multiplayer', 'multiple', 'multiples', 'multiplication', 'multiplied', 'multiplier', 'multiply', 'multiplying', 'multiprocessing', 'multitasking', 'multithreading', 'multivariable', 'multivariate', 'multiverse', 'multiverses', 'multivitamin', 'multivitamins', 'mum', 'mumbai', 'mummy', 'mun', 'mundane', 'munich', 'municipal', 'municipality', 'munjal', 'munnar', 'munsiyari', 'murakami', 'murder', 'murdered', 'murderer', 'murderers', 'murders', 'murdoch', 'murga', 'murph', 'murphy', 'murr', 'murray', 'muscle', 'muscled', 'muscles', 'muscular', 'muse', 'museum', 'museums', 'mushkil', 'mushroom', 'mushrooms', 'music', 'musical', 'musically', 'musicals', 'musician', 'musicians', 'musigma', 'musk', 'muslim', 'muslims', 'mussels', 'mussolini', 'mussoorie', 'must', 'mustache', 'mustaches', 'mustafa', 'mustaine', 'mustard', 'musturbating', 'mutant', 'mutants', 'mutated', 'mutation', 'mutations', 'mute', 'mutex', 'muting', 'mutton', 'mutual', 'mutualism', 'mutually', 'muzzle', 'mv', 'mva', 'mvc', 'mvp', 'mw', 'mx', 'my', 'myanmar', 'mycroft', 'myers', 'myjio', 'myntra', 'myoho', 'myopia', 'myopic', 'mypromovideos', 'myriad', 'myself', 'mysore', 'myspace', 'mysql', 'mysteries', 'mysterious', 'mystery', 'mystic', 'mystical', 'mysticism', 'myth', 'mythical', 'mythological', 'mythologies', 'mythology', 'myths', 'málaga', 'n00b', 'n2', 'n300', 'n3540', 'n3700', 'na', 'na2o', 'naam', 'nacl', 'nadal', 'nadar', 'nadella', 'nadu', 'nafta', 'nag', 'naga', 'nagaland', 'nagar', 'nagasaki', 'nagato', 'nagging', 'nagpur', 'naik', 'nail', 'nails', 'nainital', 'nair', 'nairobi', 'naive', 'najeeb', 'nakamoto', 'naked', 'nalanda', 'nallamala', 'nam', 'name', 'named', 'nameless', 'namely', 'names', 'namespace', 'namib', 'naming', 'nan', 'nana', 'nanak', 'nandi', 'nanjing', 'nanking', 'nano', 'nanodegree', 'nanodegrees', 'nanoparticles', 'nanotechnology', 'nanshan', 'naoh', 'nap', 'napa', 'napkins', 'napoleon', 'napoleonic', 'naproxen', 'naps', 'narayan', 'narayana', 'narcissa', 'narcissism', 'narcissist', 'narcissistic', 'narcissists', 'narcos', 'narcotic', 'narendra', 'narmada', 'narrative', 'narrator', 'narrow', 'narsee', 'naruto', 'nas', 'nasa', 'nasal', 'nascar', 'nasdaq', 'nash', 'nashik', 'nashville', 'nassim', 'nasty', 'nat', 'nata', 'natal', 'natalie', 'nath', 'nathan', 'nathuram', 'nation', 'national', 'nationalised', 'nationalism', 'nationalist', 'nationalistic', 'nationalists', 'nationalities', 'nationality', 'nationalized', 'nationally', 'nationals', 'nations', 'native', 'natives', 'nato', 'natural', 'naturalism', 'naturalization', 'naturally', 'nature', 'natwest', 'naughty', 'naukri', 'nausea', 'nauseous', 'nautical', 'nav', 'navajo', 'naval', 'navel', 'navels', 'navi', 'navic', 'navigate', 'navigation', 'navigator', 'navigators', 'navjot', 'navratri', 'navy', 'nawaz', 'naxalism', 'naxalites', 'nazi', 'nazis', 'nazism', 'nba', 'nbc', 'nbfc', 'nc', 'ncaa', 'ncc', 'ncert', 'ncis', 'ncl', 'ncr', 'ncsu', 'nd', 'nda', 'ndtv', 'ne', 'neal', 'neanderthal', 'neanderthals', 'near', 'nearbuy', 'nearby', 'nearest', 'nearly', 'neat', 'nebosh', 'nebraska', 'necessarily', 'necessary', 'necessity', 'neck', 'necklace', 'ned', 'need', 'needed', 'needing', 'needle', 'needles', 'needs', 'needy', 'neeson', 'neet', 'neft', 'neg', 'negan', 'negative', 'negatively', 'negatives', 'negativity', 'neglect', 'neglected', 'negligible', 'negotiable', 'negotiablesales', 'negotiate', 'negotiating', 'negotiation', 'negotiations', 'nehru', 'nehwal', 'neighbor', 'neighborhood', 'neighborhoods', 'neighboring', 'neighbors', 'neighbour', 'neighbourhoods', 'neighbouring', 'neighbours', 'neil', 'neistat', 'neither', 'neko', 'nelson', 'nemo', 'neo', 'neobux', 'neoclassical', 'neoliberal', 'neon', 'nepal', 'nepalese', 'nepali', 'nepean', 'nephew', 'nepotism', 'neptune', 'nerd', 'nerds', 'nerdy', 'nerf', 'nero', 'nerve', 'nerves', 'nervous', 'nervousness', 'nes', 'nespresso', 'nest', 'nested', 'nestle', 'nestlé', 'nests', 'net', 'netaji', 'netanyahu', 'netapp', 'netbanking', 'netbeans', 'neteller', 'netflix', 'netgear', 'netherlands', 'nets', 'netsuite', 'network', 'networking', 'networks', 'neumann', 'neural', 'neuro', 'neurological', 'neurologist', 'neuron', 'neurons', 'neuropathy', 'neuroplasticity', 'neuropsychology', 'neuroscience', 'neuroscientists', 'neurotic', 'neurotransmitters', 'neutral', 'neutrality', 'neutralize', 'neutrino', 'neutrinos', 'neutron', 'neutrons', 'nevada', 'never', 'nevertheless', 'neville', 'new', 'newbie', 'newborn', 'newborns', 'newcastle', 'newcomer', 'newer', 'newest', 'newly', 'newport', 'news', 'newsfeed', 'newshour', 'newsletter', 'newsletters', 'newspaper', 'newspapers', 'newsroom', 'newton', 'newtons', 'nexa', 'nexium', 'next', 'nexus', 'neymar', 'nfa', 'nfc', 'nfl', 'nfs', 'ng', 'ngc', 'nginx', 'ngo', 'ngos', 'nh3', 'nh4cl', 'nhl', 'nhs', 'ni', 'niacin', 'niantic', 'nibiru', 'nicaragua', 'nice', 'nicely', 'nicer', 'nicest', 'niche', 'niches', 'nicholas', 'nicholson', 'nick', 'nickel', 'nickelback', 'nickelodeon', 'nicki', 'nickname', 'nicknames', 'nicmar', 'nicobar', 'nicole', 'nicotine', 'nid', 'nidhi', 'niece', 'nielit', 'nietzsche', 'nift', 'nifty', 'nigam', 'nigeria', 'nigerian', 'nigerians', 'nigga', 'nigger', 'night', 'nightclubs', 'nightfall', 'nightlife', 'nightly', 'nightmare', 'nightmares', 'nights', 'nightwears', 'nigiri', 'nihilism', 'nihilist', 'nihilistic', 'nihilists', 'niit', 'nike', 'nikesh', 'nikhil', 'nikola', 'nikon', 'nile', 'nimcet', 'nine', 'nineteen', 'ninety', 'ning', 'ninja', 'ninjas', 'nintendo', 'ninth', 'nios', 'nipomo', 'nipple', 'nipples', 'nirbhaya', 'nirma', 'niro', 'nirvana', 'niser', 'nissan', 'nit', 'nite', 'niti', 'nitie', 'nitish', 'nitk', 'nitrate', 'nitric', 'nitride', 'nitro', 'nitrogen', 'nitrogenous', 'nits', 'nixon', 'niño', 'nj', 'njac', 'nk', 'nlp', 'nlsiu', 'nlu', 'nm', 'nmat', 'nmims', 'nmos', 'nn', 'no', 'no2', 'noah', 'noam', 'nobel', 'nobility', 'noble', 'nobody', 'noc', 'nocturnal', 'node', 'nodejs', 'nodes', 'nodules', 'noetics', 'nofap', 'noida', 'noise', 'noises', 'noisy', 'nokia', 'nolan', 'nomad', 'nomads', 'nomenclature', 'nominal', 'nominate', 'nominated', 'nomination', 'nominations', 'nominee', 'nominees', 'non', 'none', 'nonexistent', 'nonfiction', 'nonlinear', 'nonmetal', 'nonmetals', 'nonpolar', 'nonprofit', 'nonrenewable', 'nonsense', 'nonstop', 'nonverbal', 'noodles', 'nook', 'noon', 'noor', 'nootropics', 'nor', 'nordic', 'norm', 'normal', 'normalization', 'normalize', 'normalized', 'normally', 'norman', 'normandy', 'normative', 'norms', 'norris', 'norse', 'north', 'northeast', 'northeastern', 'northern', 'northwest', 'northwestern', 'norton', 'norway', 'norwegian', 'nose', 'noses', 'nosql', 'nostalgia', 'nostalgic', 'nostradamus', 'nostril', 'nosy', 'not', 'notable', 'notarized', 'notary', 'notation', 'notch', 'note', 'notebook', 'notebooks', 'noted', 'notepad', 'notes', 'noteworthy', 'nothing', 'notice', 'noticeable', 'noticed', 'notices', 'noticing', 'notification', 'notifications', 'notified', 'notify', 'notion', 'notorious', 'nott', 'nougat', 'noun', 'nouns', 'nov', 'nova', 'novel', 'novelist', 'novels', 'november', 'novice', 'now', 'nowadays', 'nowazardan', 'nowhere', 'nowzaradan', 'nozzle', 'np', 'npa', 'npas', 'npat', 'npcil', 'npd', 'npn', 'npr', 'nps', 'npt', 'nptel', 'npti', 'npv', 'nra', 'nre', 'nri', 'nris', 'nro', 'ns', 'nsa', 'nse', 'nsejs', 'nsf', 'nsfw', 'nsg', 'nsh', 'nsit', 'nsitians', 'nsr', 'nss', 'nt', 'ntfs', 'nth', 'ntpc', 'ntse', 'ntt', 'ntu', 'nuance', 'nuclear', 'nuclei', 'nucleic', 'nucleoplasm', 'nucleotide', 'nucleotides', 'nucleus', 'nude', 'nudes', 'nudist', 'nudity', 'nugget', 'nuke', 'nuked', 'nukes', 'null', 'nullification', 'numb', 'number', 'numbered', 'numbers', 'numbness', 'numerals', 'numeric', 'numerical', 'numerically', 'numericals', 'numerology', 'numerous', 'numpy', 'nun', 'nuns', 'nuremberg', 'nurse', 'nursery', 'nurses', 'nursing', 'nurture', 'nurturing', 'nuru', 'nus', 'nusrat', 'nust', 'nut', 'nutanix', 'nutella', 'nutrients', 'nutrilite', 'nutrition', 'nutritional', 'nutritionally', 'nutritious', 'nuts', 'nutshell', 'nvc', 'nvidia', 'nx', 'ny', 'nyc', 'nye', 'nylon', 'nyquil', 'nyse', 'nyu', 'nz', 'nzérékoré', 'o2', 'oak', 'oakland', 'oakley', 'oasis', 'oat', 'oath', 'oatmeal', 'oats', 'oauth', 'obama', 'obamacare', 'obc', 'obedient', 'obese', 'obesity', 'obey', 'obi', 'object', 'objection', 'objections', 'objective', 'objectively', 'objectives', 'objectivism', 'objects', 'obligated', 'obligation', 'obligations', 'obligatory', 'obliged', 'oblivious', 'oblongata', 'obnoxious', 'obscure', 'obscurial', 'observable', 'observant', 'observation', 'observational', 'observations', 'observe', 'observed', 'observer', 'observers', 'observing', 'obsess', 'obsessed', 'obsessing', 'obsession', 'obsessive', 'obsessively', 'obsolete', 'obstacle', 'obstacles', 'obstruct', 'obtain', 'obtainable', 'obtained', 'obtaining', 'obtuse', 'obvious', 'obviously', 'oc', 'oca', 'ocajp', 'occasion', 'occasional', 'occasionally', 'occasions', 'occipital', 'occult', 'occupation', 'occupational', 'occupations', 'occupied', 'occupies', 'occupy', 'occupying', 'occur', 'occured', 'occuring', 'occurred', 'occurrence', 'occurring', 'occurs', 'ocd', 'ocean', 'oceaneering', 'oceania', 'oceanic', 'oceanography', 'oceans', 'oces', 'oci', 'ocjp', 'ocpjp', 'ocr', 'oct', 'octa', 'octal', 'octane', 'octave', 'octaves', 'octet', 'october', 'octopus', 'octopuses', 'oculus', 'ocw', 'od', 'odd', 'oddest', 'oddevendobara', 'odds', 'odesk', 'odi', 'odin', 'odisha', 'odoo', 'odor', 'odorless', 'odour', 'odysseus', 'odyssey', 'oem', 'oet', 'of', 'off', 'offcampus', 'offence', 'offend', 'offended', 'offenders', 'offending', 'offense', 'offensive', 'offer', 'offered', 'offering', 'offers', 'office', 'officejet', 'officer', 'officers', 'offices', 'official', 'officially', 'officials', 'offline', 'offs', 'offset', 'offshore', 'offspring', 'often', 'ogilvy', 'oh', 'ohio', 'ohm', 'ohms', 'oil', 'oils', 'oily', 'oj', 'ok', 'okay', 'okcupid', 'oklahoma', 'ola', 'olacabs', 'old', 'olden', 'older', 'oldest', 'olds', 'oled', 'oligarchs', 'olive', 'oliver', 'olives', 'olx', 'olympiad', 'olympiads', 'olympian', 'olympians', 'olympic', 'olympics', 'olympus', 'om', 'omaha', 'oman', 'omega', 'omegle', 'omelette', 'omen', 'omnidirectional', 'omnipotent', 'omniscient', 'omnivores', 'on', 'on7', 'onboard', 'onboarding', 'once', 'oncoming', 'one', 'onecoin', 'onedrive', 'onenote', 'oneplus', 'ones', 'oneself', 'ongc', 'ongoing', 'onida', 'onion', 'onions', 'online', 'only', 'onomatopoeia', 'ons', 'onset', 'onshore', 'onsite', 'ontario', 'onto', 'ontology', 'onward', 'onwards', 'ooltah', 'oop', 'oops', 'ooty', 'op', 'opaque', 'opc', 'opec', 'open', 'openai', 'opencourseware', 'opencv', 'opened', 'opener', 'opengl', 'opening', 'openings', 'openly', 'opens', 'openstack', 'opera', 'operant', 'operas', 'operate', 'operated', 'operates', 'operating', 'operation', 'operational', 'operations', 'operative', 'operator', 'operators', 'ophelia', 'opiates', 'opine', 'opinion', 'opinionated', 'opinions', 'opium', 'oppenheim', 'oppo', 'opponent', 'opponents', 'opportunities', 'opportunity', 'oppose', 'opposed', 'opposes', 'opposing', 'opposite', 'opposition', 'oppressed', 'oppression', 'oprah', 'ops', 'opt', 'opted', 'optic', 'optical', 'optically', 'optics', 'optimal', 'optimism', 'optimist', 'optimistic', 'optimization', 'optimize', 'optimized', 'optimizer', 'optimizing', 'optimum', 'optimus', 'opting', 'option', 'optional', 'options', 'opus', 'or', 'oracle', 'oral', 'orange', 'oranges', 'orator', 'orbit', 'orbital', 'orbitals', 'orbiting', 'orbits', 'orca', 'orchestra', 'orchestral', 'orchestras', 'order', 'ordered', 'ordering', 'orders', 'ordinance', 'ordinary', 'ordnance', 'ore', 'oregon', 'oreo', 'org', 'organ', 'organelle', 'organelles', 'organic', 'organically', 'organisation', 'organisational', 'organisations', 'organise', 'organised', 'organising', 'organism', 'organisms', 'organization', 'organizational', 'organizations', 'organize', 'organized', 'organizer', 'organizers', 'organizing', 'organs', 'orgasm', 'orgasms', 'orgy', 'oriental', 'orientation', 'oriented', 'origami', 'origin', 'original', 'originally', 'originals', 'originate', 'originated', 'originates', 'origins', 'orissa', 'orlando', 'orleans', 'orm', 'orop', 'orphan', 'orphanage', 'orphanages', 'orphans', 'orthodox', 'orthogonal', 'orthopedic', 'orwell', 'os', 'osaka', 'osama', 'oscar', 'oscars', 'oscillation', 'oscillations', 'oscillator', 'oscillators', 'osell', 'oshawa', 'osho', 'osi', 'osiris', 'oslo', 'osmania', 'osmosis', 'oss', 'ost', 'oswald', 'osx', 'ota', 'otc', 'otg', 'othello', 'other', 'others', 'otherwise', 'otp', 'ottawa', 'otto', 'ottoman', 'ottomans', 'ou', 'ought', 'ouija', 'ounce', 'ounces', 'our', 'ours', 'ourselves', 'ousted', 'ouster', 'out', 'outage', 'outback', 'outbound', 'outbreak', 'outbursts', 'outcome', 'outcomes', 'outdated', 'outdoor', 'outdoors', 'outer', 'outfit', 'outfits', 'outgoing', 'outie', 'outing', 'outlawed', 'outlet', 'outlets', 'outline', 'outlook', 'outperform', 'output', 'outputs', 'outrageous', 'outright', 'outrun', 'outs', 'outside', 'outsider', 'outsiders', 'outsmart', 'outsource', 'outsourced', 'outsourcing', 'outstanding', 'outward', 'outweigh', 'oval', 'ovarian', 'ovaries', 'ovary', 'oven', 'ovens', 'over', 'overall', 'overanalyzing', 'overbite', 'overboard', 'overclock', 'overcome', 'overcoming', 'overdose', 'overdosing', 'overdraft', 'overdrive', 'overdue', 'overfitting', 'overflow', 'overflowing', 'overhead', 'overheard', 'overheat', 'overheating', 'overhyped', 'overlap', 'overlapping', 'overlay', 'overload', 'overloaded', 'overloading', 'overlook', 'overlooked', 'overly', 'overnight', 'overpopulation', 'overpowered', 'overpriced', 'overprotective', 'overrated', 'overrating', 'overreacting', 'override', 'overriding', 'overs', 'overseas', 'oversees', 'oversleep', 'overstayed', 'overt', 'overtake', 'overtaking', 'overthinking', 'overthrow', 'overthrown', 'overtime', 'overturn', 'overturned', 'overused', 'overvalued', 'overview', 'overwatch', 'overweight', 'overwhelmed', 'overwhelming', 'overwhelmingly', 'ovulation', 'ow', 'owaisi', 'owe', 'owens', 'owes', 'owing', 'owl', 'owls', 'own', 'owned', 'owner', 'owners', 'ownership', 'owning', 'owns', 'oxalic', 'oxford', 'oxidation', 'oxidative', 'oxide', 'oxidized', 'oxidizing', 'oxygen', 'oxymoron', 'oyo', 'oyster', 'oysters', 'oz', 'ozone', 'p1', 'p1102w', 'p2p', 'p90x', 'pa', 'paas', 'pablo', 'pac', 'pace', 'pacific', 'pacino', 'pack', 'package', 'packaged', 'packages', 'packaging', 'packed', 'packers', 'packet', 'packets', 'packing', 'packs', 'pact', 'pad', 'padded', 'paddington', 'paddle', 'paddy', 'padi', 'padmanabhaswamy', 'pads', 'padukone', 'paella', 'pagan', 'paganism', 'page', 'pageant', 'pagerank', 'pages', 'pageviews', 'paid', 'pain', 'painful', 'painfully', 'paining', 'painkillers', 'painless', 'painlessly', 'pains', 'paint', 'paintball', 'painted', 'painter', 'painters', 'painting', 'paintings', 'paints', 'pair', 'pairs', 'pajamas', 'pak', 'pakistan', 'pakistani', 'pakistanis', 'paksh', 'pal', 'palace', 'palaces', 'palakkad', 'palantir', 'palawan', 'pale', 'paleo', 'palestine', 'palestinian', 'palestinians', 'palihapitiya', 'palin', 'palindrome', 'palladium', 'palm', 'palmistry', 'palms', 'palo', 'palpatine', 'palsy', 'pan', 'panacea', 'panama', 'panasonic', 'pancake', 'pancakes', 'panchayat', 'panchayati', 'pancreas', 'pancreatic', 'panda', 'pandas', 'pandava', 'pandavas', 'pandey', 'pandit', 'pandits', 'pandora', 'pane', 'paneer', 'panel', 'panels', 'panera', 'panic', 'panicking', 'panipat', 'pans', 'pansexual', 'pant', 'panther', 'panthers', 'panties', 'panting', 'pantnagar', 'pants', 'panty', 'pantyhose', 'papa', 'papaya', 'paper', 'paperback', 'papers', 'paperwhite', 'paperwork', 'pappu', 'paprika', 'papua', 'par', 'para', 'parabola', 'paracetamol', 'parachute', 'parachutes', 'parade', 'paradigm', 'paradigms', 'paradise', 'paradox', 'paradoxes', 'paradoxical', 'paragraph', 'paragraphs', 'paraguay', 'parakeet', 'parallax', 'parallel', 'parallelogram', 'parallels', 'paralympic', 'paralysis', 'paralyzed', 'paramagnetism', 'paramedics', 'parameter', 'parameters', 'parametric', 'paramilitary', 'paramount', 'paranoia', 'paranoid', 'paranormal', 'paraphrase', 'paraphrasing', 'parasites', 'parcel', 'pardon', 'parent', 'parentage', 'parental', 'parentheses', 'parenthood', 'parenting', 'parents', 'paribas', 'paribhasha', 'parineeti', 'paris', 'park', 'parked', 'parker', 'parking', 'parkinson', 'parkour', 'parks', 'parkway', 'parkways', 'parliament', 'parliamentary', 'parlor', 'parlour', 'parlours', 'parody', 'paroxetine', 'parrot', 'parrots', 'parse', 'parshuram', 'parsing', 'parsis', 'parsley', 'part', 'partial', 'partially', 'participants', 'participate', 'participated', 'participating', 'participation', 'participatory', 'participle', 'particle', 'particles', 'particular', 'particularly', 'parties', 'partisan', 'partition', 'partitioned', 'partly', 'partner', 'partners', 'partnership', 'partnerships', 'parts', 'party', 'partying', 'pas', 'pascal', 'pass', 'passage', 'passages', 'passbook', 'passcode', 'passed', 'passenger', 'passengers', 'passer', 'passes', 'passing', 'passion', 'passionate', 'passions', 'passive', 'passout', 'passport', 'passports', 'password', 'passwords', 'past', 'pasta', 'paste', 'pasteurized', 'pasting', 'pastor', 'pastors', 'pastry', 'pat', 'patagonian', 'patanjali', 'patch', 'patcher', 'patches', 'patek', 'patekar', 'patel', 'patent', 'patented', 'patents', 'paternal', 'path', 'pathankot', 'pathetic', 'pathogens', 'pathological', 'pathologist', 'pathology', 'paths', 'pathway', 'pathways', 'patience', 'patient', 'patients', 'patil', 'patna', 'patreon', 'patriarchal', 'patrick', 'patriot', 'patriotic', 'patriotism', 'patriots', 'patrol', 'patrons', 'patronus', 'pattaya', 'pattern', 'patterns', 'patties', 'patton', 'paul', 'paulo', 'pause', 'paused', 'pavilion', 'paw', 'pawar', 'pawn', 'pax', 'paxil', 'pay', 'payable', 'paycheck', 'payday', 'payed', 'payee', 'payer', 'payers', 'paying', 'payload', 'payme0', 'payment', 'payments', 'payoneer', 'payout', 'payouts', 'paypal', 'payroll', 'pays', 'paytm', 'payu', 'payumoney', 'pb', 'pbn', 'pbs', 'pbuh', 'pc', 'pca', 'pcb', 'pci', 'pcie', 'pcm', 'pcmb', 'pcmc', 'pcod', 'pcos', 'pcr', 'pcs', 'pd', 'pdf', 'pdfs', 'pdpu', 'pe', 'pea', 'peace', 'peaceful', 'peacefully', 'peach', 'peaches', 'peak', 'peaks', 'peaky', 'peanut', 'peanuts', 'pear', 'pearl', 'pearls', 'pearson', 'peas', 'peasant', 'pec', 'pedal', 'pedals', 'pedantic', 'pedestal', 'pedigree', 'pedophile', 'pedophiles', 'pedophilia', 'pedro', 'pee', 'peeing', 'peel', 'peeling', 'peels', 'peer', 'peers', 'pees', 'peeve', 'peeves', 'pega', 'pegging', 'pele', 'pellets', 'pelvic', 'pelvis', 'pembroke', 'pen', 'penal', 'penalized', 'penalties', 'penalty', 'penang', 'pence', 'pencil', 'pencils', 'pending', 'pendrive', 'pendulum', 'penetrate', 'penetrated', 'penetrating', 'penetration', 'penguin', 'penguins', 'peninsula', 'penis', 'penises', 'penn', 'pennies', 'pennsylvania', 'penny', 'pens', 'pension', 'pentagon', 'pentane', 'penthouse', 'pentium', 'penultimate', 'people', 'peoples', 'peoplesoft', 'pepper', 'pepperoni', 'peppers', 'pepsi', 'pepsico', 'pepto', 'per', 'perceive', 'perceived', 'perceiving', 'percent', 'percentage', 'percentages', 'percentile', 'percentilers', 'perception', 'perceptions', 'perceptual', 'percocet', 'percussion', 'percy', 'perfect', 'perfection', 'perfectionist', 'perfectly', 'perform', 'performance', 'performances', 'performed', 'performer', 'performers', 'performing', 'performs', 'perfume', 'perfumes', 'perhaps', 'perimeter', 'period', 'periodic', 'periodically', 'periods', 'peripheral', 'peripherals', 'periscope', 'perish', 'periyar', 'perjury', 'perk', 'perks', 'perl', 'perm', 'permanent', 'permanently', 'permanetly', 'permantley', 'permeability', 'permissible', 'permission', 'permissions', 'permit', 'permits', 'permitted', 'permittivity', 'perms', 'permutations', 'peroxide', 'perpendicular', 'perpetrated', 'perpetual', 'perry', 'persecuted', 'perseverance', 'persia', 'persian', 'persians', 'persist', 'persistent', 'persists', 'person', 'persona', 'personable', 'personal', 'personalities', 'personality', 'personalize', 'personalized', 'personally', 'personas', 'personification', 'personnel', 'persons', 'perspective', 'perspectives', 'persuade', 'persuasion', 'persuasive', 'persue', 'persuing', 'pertaining', 'perth', 'peru', 'pervert', 'perverted', 'pes', 'pesit', 'peso', 'pesos', 'pessimism', 'pessimist', 'pessimistic', 'pest', 'pesticides', 'pesu', 'pet', 'peta', 'petals', 'pete', 'peter', 'petersburg', 'petition', 'petitions', 'petrol', 'petroleum', 'pets', 'petted', 'petting', 'petty', 'petyr', 'peugeot', 'pewdiepie', 'pewter', 'peyton', 'pf', 'pg', 'pgdc', 'pgdie', 'pgdm', 'pgp', 'pgpm', 'ph', 'phantom', 'pharaoh', 'pharaohs', 'pharm', 'pharma', 'pharmaceutical', 'pharmaceuticals', 'pharmacies', 'pharmacist', 'pharmacists', 'pharmacology', 'pharmacovigilance', 'pharmacy', 'phase', 'phases', 'phasing', 'phasor', 'phd', 'phds', 'phelps', 'phenol', 'phenomena', 'phenomenon', 'phenotype', 'phenyl', 'phenylalanine', 'phi', 'phil', 'philadelphia', 'philip', 'philippine', 'philippines', 'philips', 'phillipines', 'phillips', 'philosopher', 'philosophers', 'philosophical', 'philosophies', 'philosophy', 'phishing', 'phlegm', 'phobia', 'phobias', 'phoebe', 'phoenix', 'phogat', 'phone', 'phonegap', 'phones', 'phonetic', 'phonons', 'phosphate', 'phosphide', 'phosphoric', 'phosphorus', 'phosphorylation', 'photo', 'photobooth', 'photograph', 'photographer', 'photographers', 'photographic', 'photographs', 'photography', 'photon', 'photonics', 'photons', 'photos', 'photoshop', 'photoshopped', 'photosynthesis', 'photovoltaic', 'php', 'phrasal', 'phrase', 'phrases', 'phuket', 'phy', 'physical', 'physically', 'physician', 'physicians', 'physicist', 'physicists', 'physics', 'physiological', 'physiology', 'physiotherapist', 'physiotherapy', 'physique', 'pi', 'pianist', 'pianists', 'piano', 'pianos', 'pic', 'picasso', 'pichai', 'pick', 'picked', 'picker', 'pickers', 'picking', 'pickle', 'pickles', 'pickpocket', 'picks', 'pickup', 'picky', 'picnic', 'pics', 'pictorial', 'picture', 'pictures', 'pie', 'piece', 'pieces', 'pierce', 'pierced', 'piercing', 'piercings', 'piezoelectric', 'pig', 'pigeon', 'pigeons', 'pigmentation', 'pigments', 'pigs', 'pikachu', 'pil', 'pilani', 'pilaris', 'pile', 'piles', 'pilger', 'pilgrimage', 'pilgrims', 'pill', 'pillar', 'pillars', 'pillow', 'pillows', 'pills', 'pilot', 'pilots', 'pilsner', 'pimple', 'pimples', 'pin', 'pinched', 'pine', 'pineal', 'pineapple', 'pineapples', 'ping', 'pinger', 'pinhole', 'pinion', 'pink', 'pinkman', 'pinky', 'pinnacle', 'pinocchio', 'pins', 'pinscher', 'pint', 'pinterest', 'pinto', 'pio', 'pioneer', 'pip', 'pipe', 'pipeline', 'pipes', 'piping', 'piracy', 'pirate', 'pirated', 'pirates', 'pisa', 'pisces', 'piss', 'pissed', 'pistol', 'pistols', 'piston', 'pit', 'pitampura', 'pitbull', 'pitbulls', 'pitch', 'pitched', 'pitcher', 'pitchers', 'pitches', 'pitching', 'pits', 'pitt', 'pittsburgh', 'pity', 'pivot', 'pivotal', 'pixar', 'pixel', 'pixels', 'pixie', 'pizza', 'pizzas', 'pk', 'pka', 'pl', 'pla', 'place', 'placebo', 'placed', 'placement', 'placements', 'places', 'placing', 'plagarism', 'plagiarism', 'plagiarizing', 'plain', 'plains', 'plainview', 'plan', 'planck', 'plane', 'planes', 'planet', 'planetarium', 'planetary', 'planets', 'planing', 'plankton', 'planned', 'planner', 'planners', 'planning', 'plano', 'plans', 'plant', 'plantar', 'plantation', 'planted', 'planting', 'plants', 'plasma', 'plaster', 'plastering', 'plastic', 'plasticity', 'plastics', 'plate', 'plateau', 'platelet', 'plates', 'platform', 'platforms', 'plating', 'platinum', 'plato', 'platonic', 'plausible', 'play', 'playable', 'playback', 'playboy', 'played', 'player', 'players', 'playing', 'playlist', 'playlists', 'playoff', 'plays', 'playstation', 'playstore', 'plaza', 'plc', 'plea', 'plead', 'pleasant', 'please', 'pleasing', 'pleasurable', 'pleasure', 'pleasures', 'plebiscite', 'pledge', 'plenty', 'plot', 'plots', 'plotting', 'pls', 'pluck', 'plug', 'plugged', 'plugging', 'plugin', 'plugins', 'plugs', 'plum', 'plumbers', 'plumbing', 'plural', 'plus', 'pluto', 'plywood', 'plz', 'pm', 'pm2', 'pmc', 'pmo', 'pmp', 'pms', 'pmt', 'pn', 'pnb', 'pneumatic', 'pneumonia', 'png', 'pnp', 'pnr', 'po', 'poach', 'poached', 'poaching', 'poc', 'pocket', 'pockets', 'pod', 'podcast', 'podcasts', 'pods', 'poe', 'poem', 'poems', 'poet', 'poetic', 'poetry', 'poets', 'pogba', 'point', 'pointe', 'pointed', 'pointer', 'pointers', 'pointing', 'pointless', 'points', 'poison', 'poisoned', 'poisoning', 'poisonous', 'poisons', 'poisson', 'pok', 'poke', 'pokecoins', 'pokemon', 'pokemons', 'poker', 'poké', 'pokémon', 'pokémons', 'pol', 'poland', 'polar', 'polaris', 'polarity', 'polarization', 'polarized', 'polaroid', 'pole', 'poles', 'police', 'policeman', 'policies', 'policing', 'policy', 'polio', 'polish', 'polishing', 'polite', 'politely', 'political', 'politically', 'politician', 'politicians', 'politics', 'polity', 'poll', 'pollen', 'pollination', 'polling', 'pollock', 'polls', 'pollutants', 'polluted', 'pollution', 'polo', 'poly', 'polyamorous', 'polyamory', 'polyatomic', 'polycystic', 'polyester', 'polyethylene', 'polygamous', 'polygamy', 'polygon', 'polymath', 'polymer', 'polymerase', 'polymerization', 'polymers', 'polymorphism', 'polynomial', 'polynomials', 'polypeptide', 'polyphasic', 'polypropylene', 'polytechnic', 'polytropic', 'polyvore', 'pomade', 'pomegranate', 'pomeranian', 'pomona', 'pond', 'pondicherry', 'pong', 'pongal', 'pony', 'ponyo', 'ponzi', 'poo', 'poodle', 'pooh', 'pooja', 'pool', 'pools', 'poona', 'poop', 'pooping', 'poops', 'poor', 'poorer', 'poorest', 'poorly', 'pop', 'popcorn', 'pope', 'popped', 'popping', 'poppy', 'pops', 'poptropica', 'popular', 'popularity', 'popularize', 'populated', 'population', 'populations', 'populism', 'populist', 'popup', 'porcelain', 'pores', 'pork', 'porn', 'pornhub', 'pornographic', 'pornography', 'pornstar', 'pornstars', 'porridge', 'porsche', 'port', 'portability', 'portable', 'portal', 'portals', 'porter', 'portfolio', 'portion', 'portions', 'portland', 'portrait', 'portraits', 'portray', 'portrayal', 'portrayed', 'portraying', 'ports', 'portugal', 'portuguese', 'pos', 'pose', 'posed', 'poseidon', 'poses', 'posh', 'posible', 'posing', 'position', 'positioned', 'positioning', 'positions', 'positive', 'positively', 'positives', 'positivism', 'possable', 'posses', 'possesed', 'possess', 'possessed', 'possession', 'possessions', 'possessive', 'possessiveness', 'possibilities', 'possibility', 'possible', 'possibly', 'possum', 'post', 'postage', 'postal', 'postcard', 'postdoc', 'posted', 'poster', 'posterior', 'posters', 'postfix', 'postgraduate', 'postgresql', 'posting', 'postings', 'postmates', 'postpaid', 'postpartum', 'postpone', 'postponed', 'postponing', 'posts', 'postscript', 'postulates', 'posture', 'pot', 'potassium', 'potato', 'potatoes', 'potent', 'potential', 'potentiality', 'potentially', 'potions', 'pots', 'potter', 'pottermore', 'potts', 'potty', 'potus', 'pouch', 'poultry', 'pound', 'pounds', 'pour', 'poured', 'pouring', 'poverty', 'pow', 'powai', 'powder', 'powdered', 'powders', 'power', 'powerbank', 'powered', 'powerful', 'powerhouse', 'powering', 'powerpoint', 'powers', 'powershell', 'powerwall', 'pows', 'pox', 'pp', 'ppc', 'ppe', 'ppf', 'ppi', 'ppl', 'ppp', 'ppt', 'pqwl', 'pr', 'practical', 'practically', 'practice', 'practiced', 'practices', 'practicing', 'practise', 'practised', 'practising', 'practitioner', 'practitioners', 'practo', 'pradeep', 'pradesh', 'pradhan', 'pragmatic', 'pragmatism', 'prague', 'praise', 'praised', 'praises', 'pranab', 'pranav', 'pranayama', 'pranic', 'prank', 'pranks', 'prasad', 'prasoon', 'pratap', 'pratchett', 'pray', 'prayer', 'prayers', 'praying', 'prc', 'pre', 'preach', 'preacher', 'preamble', 'precariously', 'precautions', 'precede', 'precedence', 'preceding', 'precious', 'precipitated', 'precipitation', 'precise', 'precisely', 'precision', 'precooked', 'precure', 'predator', 'predators', 'predecessors', 'predestined', 'predetermined', 'predicate', 'predict', 'predicted', 'predicting', 'prediction', 'predictions', 'predictive', 'predominantly', 'prefer', 'preferable', 'preferably', 'prefered', 'preference', 'preferences', 'preferred', 'prefers', 'prefix', 'prefixes', 'prefrontal', 'pregnancies', 'pregnancy', 'pregnant', 'pregnent', 'prejudice', 'prejudiced', 'prelim', 'preliminary', 'prelims', 'premam', 'premarital', 'premature', 'prematurely', 'premier', 'premiere', 'premiership', 'premise', 'premises', 'premium', 'premiums', 'premji', 'prep', 'prepaid', 'preparation', 'preparations', 'prepare', 'prepared', 'prepares', 'preparing', 'preposition', 'prepositions', 'prepration', 'preprocessor', 'prequel', 'prequels', 'prerequisite', 'prerequisites', 'pres', 'preschool', 'preschoolers', 'preschools', 'prescott', 'prescribe', 'prescribed', 'prescribing', 'prescription', 'prescriptions', 'presedential', 'presence', 'present', 'presentation', 'presentations', 'presented', 'presenter', 'presenting', 'presently', 'presents', 'preservation', 'preserve', 'preserved', 'preserving', 'presidency', 'president', 'presidential', 'presidents', 'presley', 'prespective', 'press', 'pressed', 'presses', 'pressing', 'pressure', 'pressures', 'pressurized', 'prestashop', 'prestige', 'prestigious', 'presumably', 'pretences', 'pretend', 'pretended', 'pretending', 'pretentious', 'prettier', 'prettiest', 'pretty', 'prevail', 'prevailing', 'prevalent', 'prevent', 'prevented', 'preventing', 'prevention', 'preventions', 'preventive', 'prevents', 'preview', 'previous', 'previously', 'prey', 'prez', 'prezi', 'price', 'priced', 'priceless', 'prices', 'pricey', 'pricing', 'pride', 'priest', 'priests', 'prim', 'primaries', 'primarily', 'primary', 'primates', 'prime', 'primer', 'primes', 'primitive', 'prince', 'prince2', 'princes', 'princess', 'princesses', 'princeton', 'principal', 'principals', 'principle', 'principles', 'print', 'printed', 'printer', 'printers', 'printf', 'printing', 'prints', 'prior', 'priorities', 'prioritize', 'priority', 'prism', 'prisma', 'prisms', 'prison', 'prisoner', 'prisoners', 'prisons', 'prithviraj', 'privacy', 'private', 'privately', 'privatisation', 'privatise', 'privatization', 'privatized', 'privilege', 'privileged', 'privileges', 'priyanka', 'prize', 'prized', 'prizes', 'pro', 'proactiv', 'proactive', 'proadvisor', 'proavisor', 'probabilistic', 'probabilities', 'probability', 'probable', 'probably', 'probation', 'probationary', 'probiotic', 'probiotics', 'problem', 'problematic', 'problems', 'procedural', 'procedure', 'procedures', 'proceed', 'proceeded', 'proceedings', 'process', 'processed', 'processes', 'processing', 'processor', 'processors', 'proclaim', 'proclamation', 'procrastinate', 'procrastinating', 'procrastination', 'procrastinator', 'procreate', 'procter', 'procure', 'procurement', 'prodigy', 'produce', 'produced', 'producer', 'producers', 'produces', 'producing', 'product', 'production', 'productions', 'productive', 'productively', 'productivity', 'products', 'prof', 'profanity', 'profession', 'professional', 'professionalism', 'professionally', 'professionals', 'professions', 'professor', 'professorial', 'professors', 'proficiency', 'proficient', 'profile', 'profiler', 'profiles', 'profiling', 'profit', 'profitability', 'profitable', 'profits', 'profound', 'profoundly', 'program', 'programatically', 'programing', 'programmable', 'programmatically', 'programme', 'programmed', 'programmer', 'programmers', 'programmes', 'programming', 'programs', 'progress', 'progressing', 'progression', 'progressive', 'progressives', 'progressivism', 'prohibit', 'prohibited', 'prohibiting', 'prohibition', 'prohibits', 'project', 'projected', 'projectile', 'projection', 'projections', 'projector', 'projectors', 'projects', 'prokaryotes', 'prokaryotic', 'proliferation', 'prolific', 'prolog', 'prolong', 'prolonged', 'prom', 'promethazine', 'prominent', 'promiscuity', 'promiscuous', 'promise', 'promised', 'promises', 'promising', 'promissory', 'promo', 'promote', 'promoted', 'promoter', 'promotes', 'promoting', 'promotion', 'promotional', 'promotions', 'prompt', 'prompting', 'prone', 'prong', 'pronoun', 'pronounce', 'pronounced', 'pronouncing', 'pronouns', 'pronunciation', 'pronunciations', 'proof', 'proofread', 'proofreading', 'proofs', 'prop', 'propaganda', 'propagate', 'propagating', 'propagation', 'propane', 'propel', 'propelled', 'propeller', 'propellers', 'proper', 'properly', 'properties', 'property', 'prophecies', 'prophecy', 'prophet', 'prophets', 'proportion', 'proportional', 'proportions', 'proposal', 'proposals', 'propose', 'proposed', 'proposes', 'proposing', 'proposition', 'proprietary', 'proprietor', 'proprietorship', 'props', 'propulsion', 'pros', 'prose', 'prosecute', 'prosecuted', 'prosecution', 'prosecutor', 'prospect', 'prospective', 'prospects', 'prosperity', 'prosperous', 'prostate', 'prosthetics', 'prostitute', 'prostitutes', 'prostitution', 'protagonist', 'protect', 'protected', 'protecting', 'protection', 'protective', 'protector', 'protectors', 'protects', 'protein', 'proteins', 'protest', 'protestant', 'protestants', 'protesters', 'protesting', 'protestors', 'protests', 'protinex', 'proto', 'protocol', 'protocols', 'proton', 'protons', 'prototype', 'prototyping', 'protruding', 'proud', 'proudest', 'prove', 'proved', 'proven', 'proverb', 'proverbs', 'proves', 'provide', 'provided', 'providence', 'provident', 'provider', 'providers', 'provides', 'providing', 'province', 'provinces', 'proving', 'provision', 'provisional', 'provisions', 'provoke', 'provoking', 'proxima', 'proximity', 'proxy', 'prozac', 'prs', 'prudent', 'prune', 'prussian', 'príncipe', 'ps', 'ps2', 'ps3', 'ps4', 'psat', 'psc', 'psd', 'pse', 'pseudo', 'pseudoephedrine', 'pseudoscience', 'psg', 'psi', 'psk', 'psn', 'psoriasis', 'psp', 'pst', 'psu', 'psus', 'psych', 'psychedelic', 'psychedelics', 'psychiatric', 'psychiatrist', 'psychiatrists', 'psychiatry', 'psychic', 'psychics', 'psycho', 'psychoanalysis', 'psychological', 'psychologically', 'psychologist', 'psychologists', 'psychology', 'psychometric', 'psychometrics', 'psychopath', 'psychopathic', 'psychopaths', 'psychopathy', 'psychotherapists', 'psychotherapy', 'psychotic', 'psyllium', 'pt', 'ptc', 'pte', 'ptr', 'ptsd', 'pu', 'pub', 'puberty', 'pubic', 'public', 'publically', 'publication', 'publications', 'publicity', 'publicly', 'publish', 'published', 'publisher', 'publishers', 'publishing', 'pubs', 'puc', 'pudding', 'puducherry', 'puerto', 'puffiness', 'puffs', 'puffy', 'pug', 'puja', 'puk', 'pull', 'pulled', 'puller', 'pulley', 'pulleys', 'pulling', 'pulls', 'pulmonary', 'pulp', 'pulsar', 'pulsating', 'pulse', 'pulses', 'pulsing', 'puma', 'pumice', 'pump', 'pumping', 'pumpkin', 'pumpkins', 'pumps', 'pun', 'punch', 'punching', 'punctual', 'punctuate', 'punctuation', 'puncture', 'pundits', 'pune', 'punish', 'punishable', 'punished', 'punishment', 'punishments', 'punjab', 'punjabi', 'punjabis', 'punk', 'punnett', 'puns', 'punta', 'pup', 'pupil', 'pupils', 'puppet', 'puppies', 'puppy', 'puranas', 'purchase', 'purchased', 'purchases', 'purchasing', 'purdue', 'pure', 'purely', 'purest', 'purge', 'puri', 'purified', 'purifier', 'purifiers', 'purify', 'purity', 'purple', 'purported', 'purpose', 'purposeful', 'purposefully', 'purposely', 'purposes', 'purr', 'purse', 'pursue', 'pursued', 'pursuing', 'pursuit', 'pus', 'push', 'pushed', 'pushes', 'pushing', 'pushover', 'pushups', 'pussy', 'put', 'putin', 'putlocker', 'puts', 'putting', 'putty', 'puzzle', 'puzzles', 'pv', 'pvc', 'pvr', 'pvt', 'pwc', 'pwd', 'pygame', 'pygmy', 'pyramid', 'pyramids', 'pyrenees', 'pyrex', 'pyridine', 'pyrolysis', 'pyspark', 'pythagurus', 'python', 'pythons', 'q2', 'qa', 'qaeda', 'qatar', 'qbasic', 'qe', 'qi', 'qing', 'qlikview', 'qm', 'qnet', 'qoura', 'qq', 'qr', 'qt', 'qtp', 'quad', 'quadcopter', 'quadcopters', 'quadratic', 'quadrilateral', 'quadruple', 'qualcom', 'qualcomm', 'qualification', 'qualifications', 'qualified', 'qualifies', 'qualify', 'qualifying', 'qualitative', 'qualities', 'quality', 'quant', 'quanta', 'quantico', 'quantified', 'quantitative', 'quantities', 'quantity', 'quantization', 'quantized', 'quants', 'quantum', 'quanzhou', 'quara', 'quark', 'quarks', 'quarter', 'quarterbacks', 'quarterly', 'quarters', 'quartz', 'quasi', 'que', 'quebec', 'queefing', 'queen', 'queens', 'queensland', 'queer', 'quentin', 'queries', 'query', 'quesitons', 'quest', 'question', 'questioned', 'questioner', 'questioners', 'questioning', 'questionnaire', 'questions', 'queue', 'quibble', 'quick', 'quickbooks', 'quicker', 'quickest', 'quickly', 'quiet', 'quietly', 'quikr', 'quincy', 'quinn', 'quinoa', 'quintessential', 'quip', 'quirky', 'quit', 'quite', 'quits', 'quitted', 'quitting', 'quiz', 'quizzer', 'quizzes', 'quo', 'quora', 'quoran', 'quorans', 'quota', 'quotable', 'quotation', 'quotations', 'quote', 'quoted', 'quotes', 'quotient', 'qur', 'quran', 'qvc', 'qwerty', 'r15', 'r2', 'r3', 'r5', 'r7', 'ra', 'raavan', 'rabat', 'rabbit', 'rabbitmq', 'rabbits', 'rabid', 'rabies', 'rabindranath', 'rac', 'raccoon', 'raccoons', 'race', 'races', 'rachel', 'racial', 'racially', 'racing', 'racism', 'racist', 'racists', 'rack', 'racket', 'rackets', 'racquet', 'radar', 'radeon', 'radha', 'radial', 'radiant', 'radiation', 'radiator', 'radical', 'radically', 'radicals', 'radio', 'radioactive', 'radiohead', 'radiologist', 'radiology', 'radius', 'radley', 'radyance', 'raees', 'rafale', 'raft', 'rafting', 'rag', 'raga', 'rage', 'ragging', 'raghuram', 'rahat', 'rahman', 'rahu', 'rahul', 'rai', 'raid', 'raider', 'raids', 'rail', 'railroad', 'rails', 'railway', 'railways', 'rain', 'raina', 'rainbow', 'rainbows', 'rainfall', 'rainforest', 'raining', 'rains', 'rainwater', 'rainy', 'raipur', 'raise', 'raised', 'raises', 'raising', 'raisins', 'raj', 'raja', 'rajan', 'rajasthan', 'rajdeep', 'rajdhani', 'rajinikanth', 'rajiv', 'rajnikant', 'rajnikanth', 'rajput', 'rajputs', 'rajya', 'rajyasabha', 'rakesh', 'raksha', 'rallied', 'rallies', 'rally', 'ralph', 'ram', 'rama', 'ramadan', 'ramaiah', 'ramakrishna', 'raman', 'ramana', 'ramanujan', 'ramapuram', 'ramayan', 'ramayana', 'ramdev', 'ramen', 'ramesh', 'ramifications', 'ramit', 'ramon', 'rampage', 'rampant', 'rams', 'ramsay', 'ran', 'rana', 'ranaut', 'ranbir', 'ranch', 'ranchi', 'rancid', 'rand', 'random', 'randomly', 'randomness', 'randwick', 'randy', 'range', 'ranger', 'rangers', 'ranges', 'ranging', 'ranikhet', 'ranji', 'rank', 'ranked', 'rankine', 'ranking', 'rankings', 'ranks', 'ransom', 'ranveer', 'rao', 'rap', 'rapastinel', 'rape', 'raped', 'rapes', 'rapid', 'rapidly', 'raping', 'rapist', 'rapists', 'rapper', 'rappers', 'raptor', 'rapture', 'rar', 'rare', 'rarely', 'rarest', 'ras', 'rash', 'rashi', 'rashtriya', 'raspberry', 'rat', 'ratan', 'rate', 'rated', 'rates', 'rath', 'rather', 'ratification', 'ratified', 'rating', 'ratings', 'ratio', 'ration', 'rational', 'rationale', 'rationality', 'rationally', 'ratios', 'ratna', 'rats', 'rattan', 'ravan', 'ravana', 'rave', 'raven', 'ravenclaw', 'ravi', 'ravindra', 'ravish', 'ravula', 'raw', 'ray', 'raymond', 'rayon', 'rays', 'razer', 'razor', 'razors', 'rb', 'rbc', 'rbf', 'rbi', 'rc', 'rca', 'rcb', 'rcc', 'rcmp', 'rd', 'rdbms', 'rds', 're', 'reach', 'reached', 'reaches', 'reaching', 'react', 'reactance', 'reactants', 'reacted', 'reacting', 'reaction', 'reactions', 'reactivate', 'reactivated', 'reactive', 'reactivity', 'reactjs', 'reactor', 'reactors', 'reacts', 'read', 'readable', 'reader', 'readers', 'readership', 'readily', 'reading', 'readings', 'reads', 'ready', 'reagan', 'reagent', 'real', 'reald', 'realise', 'realised', 'realism', 'realist', 'realistic', 'realistically', 'realities', 'reality', 'realization', 'realize', 'realized', 'realizing', 'really', 'realm', 'realted', 'realtor', 'realty', 'reappear', 'reapply', 'rear', 'rearrange', 'reason', 'reasonable', 'reasonably', 'reasoning', 'reasons', 'reassignment', 'rebel', 'rebellion', 'rebels', 'rebirth', 'reboot', 'rebooting', 'reborn', 'rebuild', 'recall', 'recalling', 'recaptcha', 'reccomend', 'receding', 'receipt', 'receipts', 'receivable', 'receive', 'received', 'receiver', 'receivers', 'receives', 'receiving', 'recent', 'recently', 'reception', 'receptionist', 'receptions', 'receptor', 'receptors', 'recession', 'recessive', 'recharge', 'rechargeable', 'recharged', 'recieve', 'recieved', 'recipe', 'recipes', 'recipient', 'recipients', 'reciprocal', 'reciprocating', 'recite', 'reciting', 'reckless', 'reckon', 'reclaim', 'reclaimed', 'recognise', 'recognised', 'recognition', 'recognize', 'recognized', 'recognizing', 'recommend', 'recommendable', 'recommendation', 'recommendations', 'recommended', 'recommender', 'reconcile', 'reconciled', 'reconciliation', 'reconsider', 'reconstruction', 'record', 'recorded', 'recorder', 'recorders', 'recording', 'recordings', 'records', 'recount', 'recover', 'recovered', 'recovering', 'recovery', 'recreate', 'recreation', 'recreational', 'recruit', 'recruited', 'recruiter', 'recruiters', 'recruiting', 'recruitment', 'recruitments', 'recruits', 'rectangle', 'rectangular', 'rectified', 'rectifier', 'rectifiers', 'rectify', 'rectum', 'recurrence', 'recurrent', 'recurring', 'recursion', 'recursive', 'recycle', 'recycled', 'recycling', 'red', 'redbull', 'reddit', 'redditors', 'reddy', 'redeem', 'redeemed', 'redeeming', 'redemption', 'redesign', 'redesigned', 'redirect', 'redirected', 'redirecting', 'redis', 'redmi', 'redness', 'redo', 'redox', 'redshift', 'reduce', 'reduced', 'reduces', 'reducing', 'reduction', 'redundant', 'redux', 'redwood', 'reebok', 'reed', 'reef', 'reefs', 'reel', 'reelected', 'reeves', 'refactor', 'refer', 'referee', 'referees', 'reference', 'referenced', 'references', 'referendum', 'referral', 'referrals', 'referred', 'referring', 'refers', 'refill', 'refilling', 'refinance', 'refinancing', 'refined', 'refinery', 'reflect', 'reflected', 'reflecting', 'reflection', 'reflective', 'reflectors', 'reflects', 'reflex', 'reflexes', 'reflux', 'reform', 'reformat', 'reformation', 'reformed', 'reforms', 'refraction', 'refractive', 'refrain', 'refrence', 'refresh', 'refreshing', 'refrigerant', 'refrigerate', 'refrigerated', 'refrigeration', 'refrigerator', 'refrigerators', 'refugee', 'refugees', 'refund', 'refundable', 'refunded', 'refurbished', 'refusal', 'refuse', 'refused', 'refuses', 'refusing', 'refute', 'regain', 'regard', 'regarded', 'regarding', 'regardless', 'regards', 'regenerate', 'regeneration', 'regenerative', 'reggae', 'reggio', 'regime', 'regimen', 'regiment', 'regiments', 'regimes', 'regina', 'region', 'regional', 'regionals', 'regions', 'registan', 'register', 'registered', 'registering', 'registers', 'registrar', 'registrars', 'registration', 'registry', 'regression', 'regret', 'regretful', 'regrets', 'regretted', 'regretting', 'regrow', 'regrowth', 'regular', 'regularly', 'regulate', 'regulated', 'regulating', 'regulation', 'regulations', 'regulator', 'regulatory', 'regulus', 'rehab', 'rehabilitation', 'reheat', 'reich', 'reign', 'reiki', 'reilly', 'reimbursement', 'reincarnated', 'reincarnation', 'reinforced', 'reinforcement', 'reinstall', 'reinstated', 'reinvent', 'reissue', 'reissued', 'reit', 'reject', 'rejected', 'rejecting', 'rejection', 'rejects', 'rejoin', 'rejuvenate', 'relaince', 'relapse', 'relatable', 'relate', 'related', 'relates', 'relating', 'relation', 'relational', 'relations', 'relationship', 'relationships', 'relative', 'relatively', 'relatives', 'relativism', 'relativistic', 'relativity', 'relax', 'relaxation', 'relaxed', 'relaxing', 'relay', 'relays', 'release', 'released', 'releases', 'releasing', 'relevance', 'relevant', 'reliability', 'reliable', 'reliably', 'reliance', 'reliant', 'relic', 'relief', 'relieve', 'relieved', 'relieving', 'religion', 'religions', 'religious', 'religiously', 'relinquish', 'relive', 'reload', 'relocate', 'relocated', 'relocating', 'relocation', 'reluctant', 'rely', 'relying', 'rem', 'remade', 'remain', 'remainder', 'remainders', 'remained', 'remaining', 'remains', 'remake', 'remakes', 'remark', 'remarkable', 'remarks', 'remedies', 'remedy', 'remember', 'remembered', 'remembering', 'remembers', 'remind', 'reminded', 'reminder', 'reminders', 'reminds', 'remington', 'reminiscent', 'remittance', 'remix', 'remodeling', 'remorse', 'remote', 'remotely', 'removable', 'removal', 'removalists', 'removals', 'remove', 'removed', 'removing', 'ren', 'renaissance', 'renal', 'rename', 'renamed', 'renault', 'render', 'rendered', 'rendering', 'rendition', 'renew', 'renewable', 'renewal', 'renewed', 'renge', 'renminbi', 'renounce', 'renovate', 'renovation', 'renowned', 'rent', 'rental', 'rentals', 'rented', 'renting', 'rents', 'reopen', 'reopened', 'rep', 'repair', 'repaired', 'repairing', 'repairs', 'repay', 'repayment', 'repeal', 'repealed', 'repeat', 'repeated', 'repeatedly', 'repeater', 'repeaters', 'repeating', 'repeats', 'repel', 'repellent', 'repellents', 'repercussions', 'repetition', 'repetitions', 'repetitive', 'rephrase', 'replace', 'replaced', 'replacement', 'replacements', 'replaces', 'replacing', 'replica', 'replicate', 'replication', 'replied', 'replies', 'reply', 'replying', 'repo', 'repopulate', 'report', 'reported', 'reporter', 'reporters', 'reporting', 'reports', 'repositories', 'repository', 'represent', 'representation', 'representative', 'representatives', 'represented', 'representing', 'represents', 'reprinting', 'reproduce', 'reproducing', 'reproduction', 'reproductive', 'reprogram', 'reps', 'reptiles', 'republic', 'republican', 'republicans', 'repulsion', 'repulsive', 'reputable', 'reputation', 'reputed', 'request', 'requested', 'requesting', 'requests', 'require', 'required', 'requirement', 'requirements', 'requires', 'requiring', 'requisites', 'res', 'resale', 'reschedule', 'rescind', 'rescue', 'research', 'researcher', 'researchers', 'researches', 'researching', 'resell', 'reseller', 'reselling', 'resemblance', 'resemble', 'resembles', 'resentment', 'reservation', 'reservations', 'reserve', 'reserved', 'reserves', 'reservoir', 'reset', 'resetting', 'reside', 'residence', 'residency', 'resident', 'residential', 'residents', 'residing', 'residual', 'residue', 'resign', 'resignation', 'resigned', 'resigning', 'resilience', 'resin', 'resist', 'resistance', 'resistances', 'resistant', 'resistivity', 'resistor', 'resistors', 'resize', 'resnick', 'resolution', 'resolutions', 'resolve', 'resolved', 'resonance', 'resonate', 'resoning', 'resort', 'resorting', 'resorts', 'resource', 'resources', 'respect', 'respectable', 'respected', 'respectful', 'respectfully', 'respecting', 'respective', 'respectively', 'respects', 'respiration', 'respiratory', 'respond', 'responded', 'responding', 'responds', 'response', 'responses', 'responsibilites', 'responsibilities', 'responsibility', 'responsible', 'responsive', 'rest', 'restart', 'restarting', 'restarts', 'restaurant', 'restaurants', 'restaurent', 'restful', 'resting', 'restless', 'restoration', 'restore', 'restored', 'restorer', 'restoring', 'restraining', 'restrict', 'restricted', 'restricting', 'restriction', 'restrictions', 'restrictive', 'restroom', 'restructuring', 'result', 'resultant', 'resulted', 'resulting', 'results', 'resume', 'resumes', 'resumé', 'resurgence', 'resurrect', 'resurrection', 'retail', 'retailer', 'retailers', 'retain', 'retained', 'retainer', 'retaining', 'retake', 'retaliate', 'retaliation', 'retarded', 'retention', 'retest', 'rethink', 'reticulum', 'retina', 'retire', 'retired', 'retirement', 'retiring', 'retract', 'retractable', 'retreat', 'retribution', 'retrieval', 'retrieve', 'retrieved', 'retriever', 'retro', 'retrograde', 'retrospect', 'return', 'returned', 'returning', 'returns', 'retweet', 'retweets', 'reunification', 'reunion', 'reunite', 'reunited', 'reusable', 'reuse', 'reused', 'reuters', 'rev', 'revamp', 'revamped', 'reveal', 'revealed', 'revealing', 'reveals', 'revelation', 'revelations', 'revenant', 'revenge', 'revenue', 'revenues', 'revered', 'reversal', 'reverse', 'reversed', 'reversible', 'reversing', 'revert', 'review', 'reviewed', 'reviewer', 'reviewers', 'reviewing', 'reviews', 'revise', 'revised', 'revision', 'revit', 'revive', 'revived', 'revoke', 'revoked', 'revolt', 'revolution', 'revolutionary', 'revolutions', 'revolve', 'revolver', 'revolves', 'revolving', 'reward', 'rewarded', 'rewarding', 'rewards', 'rewire', 'rewrite', 'rex', 'rey', 'reynolds', 'rf', 'rfid', 'rgb', 'rgpv', 'rh', 'rhaegar', 'rhapsody', 'rhce', 'rhcsa', 'rhetoric', 'rhetorical', 'rheumatoid', 'rhinitis', 'rhino', 'rho', 'rhode', 'rhombus', 'rhonda', 'rhyme', 'rhymes', 'rhyming', 'rhythm', 'rib', 'ribbon', 'ribosomes', 'ribs', 'rica', 'rican', 'rice', 'rich', 'richard', 'richer', 'riches', 'richest', 'richmond', 'rick', 'rickshaw', 'rico', 'rics', 'rid', 'ridden', 'riddle', 'riddler', 'riddles', 'ride', 'rider', 'riders', 'rides', 'ridge', 'ridgecrest', 'ridges', 'ridicule', 'ridiculed', 'ridiculous', 'riding', 'ridley', 'riemann', 'riffs', 'rifle', 'rifles', 'rift', 'rig', 'rigged', 'right', 'righteous', 'rightful', 'rights', 'rigid', 'rigidity', 'rigor', 'rigorous', 'rim', 'rime', 'rimjob', 'rims', 'ring', 'ringing', 'rings', 'ringtone', 'ringtones', 'ringworm', 'rinnegan', 'rinse', 'rio', 'riot', 'riots', 'rip', 'ripe', 'ripen', 'ripped', 'ripper', 'ripping', 'ripple', 'ripples', 'risc', 'rise', 'risen', 'rises', 'rishikesh', 'rising', 'risk', 'risking', 'risks', 'risky', 'risotto', 'rit', 'ritalin', 'ritchie', 'ritual', 'rituals', 'rival', 'rivalry', 'rivals', 'river', 'rivers', 'riyadh', 'rizal', 'rj', 'rj45', 'rlc', 'rlgn', 'rlwl', 'rm', 'rmg', 'rmit', 'rms', 'rna', 'rnc', 'ro', 'roach', 'roaches', 'road', 'roadies', 'roadrunner', 'roads', 'roadside', 'roam', 'roaming', 'roast', 'roasted', 'roasting', 'rob', 'robb', 'robbed', 'robbery', 'robbins', 'robert', 'roberts', 'robertson', 'robes', 'robin', 'robinhood', 'robinson', 'roblox', 'robo', 'robot', 'robotic', 'robotics', 'robots', 'robust', 'roc', 'rocher', 'rochester', 'rock', 'rockdale', 'rockefeller', 'rocket', 'rockets', 'rocks', 'rockstar', 'rockville', 'rockwell', 'rocky', 'rod', 'rodrigo', 'rods', 'roe', 'rog', 'rogaine', 'rogan', 'roger', 'rogers', 'rogue', 'rohingya', 'rohit', 'rohtak', 'roi', 'roku', 'role', 'roles', 'rolex', 'roll', 'rolled', 'roller', 'rolling', 'rollins', 'rollout', 'rolls', 'rom', 'roman', 'romance', 'romania', 'romanian', 'romanians', 'romans', 'romantic', 'romantically', 'rome', 'romedy', 'romeo', 'rommel', 'romney', 'roms', 'ron', 'ronald', 'ronaldinho', 'ronaldo', 'ronda', 'roof', 'roofing', 'rooftop', 'rookie', 'room', 'roommate', 'roommates', 'rooms', 'rooney', 'roorkee', 'roosevelt', 'rooster', 'root', 'rooted', 'rooting', 'roots', 'rope', 'ror', 'rory', 'ros', 'rosa', 'rosary', 'rosberg', 'rose', 'roses', 'rosetta', 'roshan', 'ross', 'rostov', 'roswell', 'rot', 'rotary', 'rotate', 'rotated', 'rotates', 'rotating', 'rotation', 'rotational', 'rote', 'roth', 'rothschild', 'rothschilds', 'roti', 'rotor', 'rotors', 'rotten', 'rottweiler', 'rouge', 'rough', 'roughly', 'roulette', 'round', 'rounded', 'rounder', 'rounding', 'rounds', 'rourkela', 'rousey', 'route', 'router', 'routers', 'routes', 'routine', 'routines', 'routing', 'rover', 'rovers', 'row', 'rowan', 'rowing', 'rowling', 'rows', 'roy', 'royal', 'royale', 'royals', 'royalties', 'royalty', 'royce', 'rpa', 'rpg', 'rpm', 'rpo', 'rr', 'rrb', 'rs', 'rs1000', 'rs500', 'rs60000', 'rsa', 'rsi', 'rsm', 'rsorder', 'rss', 'rsu', 'rsus', 'rswl', 'rt', 'rtgs', 'rti', 'rtl', 'rto', 'rtos', 'rtr', 'rts', 'rub', 'rubber', 'rubbing', 'rubbish', 'rubble', 'rubidium', 'rubik', 'rubin', 'rubio', 'rubix', 'ruby', 'rude', 'rudest', 'rug', 'rugby', 'ruin', 'ruined', 'ruining', 'ruins', 'rukh', 'rule', 'ruled', 'ruler', 'rulers', 'rules', 'ruling', 'rum', 'rumi', 'ruminant', 'rummy', 'rumor', 'rumored', 'rumors', 'rumour', 'rumours', 'run', 'runescape', 'runner', 'runners', 'running', 'runny', 'runs', 'runtime', 'runway', 'runways', 'rupay', 'rupee', 'rupees', 'rupert', 'rural', 'rush', 'rushing', 'ruskin', 'russell', 'russia', 'russian', 'russians', 'rust', 'rusting', 'rustom', 'rusty', 'rut', 'rutgers', 'rutherford', 'ruthless', 'rutterdam', 'rv', 'rvce', 'rwanda', 'rwth', 'rx', 'ryan', 'ryanair', 'rye', 'résumé', 's1', 's2', 's3', 's4', 's5', 's6', 's7', 'sa', 'sa1', 'sa2', 'saarc', 'saas', 'saavn', 'sabbath', 'sabha', 'sabotage', 'sac', 'sacha', 'sachin', 'sachs', 'sack', 'sacked', 'sacramento', 'sacred', 'sacrifice', 'sacrifices', 'sacrificing', 'sad', 'saddam', 'saddest', 'saddle', 'sade', 'sadhguru', 'sadist', 'sadness', 'sae', 'saeed', 'safari', 'safe', 'safeguard', 'safely', 'safer', 'safest', 'safety', 'saffron', 'saga', 'sagan', 'sagar', 'sage', 'sagittarius', 'sahara', 'saharan', 'sahib', 'sai', 'said', 'saif', 'sail', 'sailboats', 'sailing', 'sailor', 'sails', 'saina', 'saini', 'saint', 'saints', 'sairat', 'saitama', 'saiyan', 'sakaldiwipi', 'sake', 'sakshi', 'sakura', 'sal', 'salad', 'salaried', 'salaries', 'salary', 'sale', 'salem', 'sales', 'salesforce', 'salesman', 'salesmen', 'salespeople', 'salicylic', 'salient', 'saline', 'salinger', 'saliva', 'sally', 'salman', 'salmon', 'salmonella', 'salon', 'salons', 'salsa', 'salt', 'salted', 'salts', 'saltwater', 'salty', 'salute', 'salvador', 'salvation', 'sam', 'samaj', 'samajwadi', 'samantha', 'same', 'samoa', 'sampann', 'sample', 'samples', 'sampling', 'samsung', 'samuel', 'samurai', 'san', 'sanctioned', 'sanctions', 'sanctuaries', 'sanctuary', 'sand', 'sandberg', 'sandbox', 'sandeep', 'sandeepani', 'sanders', 'sanding', 'sandler', 'sandwich', 'sandwiches', 'sandy', 'sane', 'sang', 'sangh', 'sangli', 'sanitary', 'sanitation', 'sanitizer', 'sanity', 'sanjay', 'sankranti', 'sanriku', 'sans', 'sansa', 'sanskrit', 'santa', 'sanyo', 'sao', 'sap', 'sap2000', 'sapiens', 'sapient', 'sapphire', 'sapui5', 'sar', 'sarah', 'saraswat', 'saraswati', 'sarcasm', 'sarcastic', 'sardar', 'sardesai', 'saree', 'sarees', 'saris', 'sarkar', 'saruman', 'sas', 'sasha', 'sashimi', 'sasikala', 'saskatchewan', 'sass', 'sastra', 'sasuke', 'sat', 'sata', 'satan', 'satanic', 'satanism', 'satanists', 'satellite', 'satellites', 'sathya', 'sati', 'satin', 'satire', 'satirical', 'satisfaction', 'satisfactory', 'satisfied', 'satisfy', 'satisfying', 'satoshi', 'sats', 'saturated', 'saturation', 'saturday', 'saturdays', 'saturn', 'satya', 'sauce', 'sauces', 'saudi', 'saul', 'sauna', 'sauron', 'sausage', 'sausages', 'savage', 'savannah', 'save', 'saved', 'saver', 'saves', 'saving', 'savings', 'savvy', 'saw', 'saxon', 'saxophone', 'say', 'sayeed', 'saying', 'sayings', 'says', 'sb', 'sbh', 'sbi', 'sbt', 'sc', 'scab', 'scabs', 'scada', 'scala', 'scalable', 'scalar', 'scale', 'scaled', 'scales', 'scalia', 'scaling', 'scalp', 'scam', 'scammed', 'scammer', 'scammers', 'scams', 'scan', 'scandal', 'scandals', 'scandinavia', 'scandinavian', 'scandinavians', 'scanf', 'scanned', 'scanner', 'scanners', 'scanning', 'scans', 'scar', 'scarce', 'scarcity', 'scare', 'scared', 'scares', 'scarier', 'scariest', 'scars', 'scary', 'scattered', 'scattering', 'scenario', 'scenarios', 'scene', 'scenery', 'scenes', 'scenic', 'scent', 'schedule', 'scheduled', 'scheduler', 'schedules', 'scheduling', 'schema', 'scheme', 'schemes', 'schengen', 'schindler', 'schizoaffective', 'schizoid', 'schizoids', 'schizophrenia', 'schizophrenic', 'schizophrenics', 'schizotypal', 'schlumberger', 'schmidt', 'scholar', 'scholarly', 'scholars', 'scholarship', 'scholarships', 'school', 'schooled', 'schooler', 'schoolers', 'schooling', 'schools', 'schrödinger', 'schultz', 'schwann', 'schwarzenegger', 'schweser', 'sci', 'sciatica', 'science', 'sciences', 'scientific', 'scientifically', 'scientist', 'scientists', 'scientologist', 'scientologists', 'scientology', 'scikit', 'scissors', 'sclerosis', 'scm', 'scold', 'scoliosis', 'scooby', 'scoop', 'scooter', 'scooters', 'scooty', 'scope', 'scopes', 'scopus', 'score', 'scored', 'scores', 'scoring', 'scorm', 'scorpene', 'scorpio', 'scorpion', 'scorpions', 'scorsese', 'scotch', 'scotia', 'scotland', 'scots', 'scott', 'scottish', 'scotus', 'scout', 'scouts', 'scra', 'scrambled', 'scrap', 'scrape', 'scraped', 'scraping', 'scrapped', 'scrapping', 'scraps', 'scratch', 'scratched', 'scratches', 'scratching', 'scream', 'screaming', 'screen', 'screenedrenters', 'screening', 'screenings', 'screenplay', 'screens', 'screenshot', 'screenshots', 'screenshotted', 'screenwriter', 'screenwriters', 'screenwriting', 'screw', 'screwed', 'screws', 'scribd', 'script', 'scripted', 'scripting', 'scripts', 'scriptures', 'scroll', 'scrolling', 'scrolls', 'scrum', 'scs', 'scuba', 'sculpture', 'sculptures', 'sd', 'sde', 'sdhc', 'sdk', 'sdlc', 'sdn', 'se', 'sea', 'seafood', 'seagate', 'seagulls', 'seal', 'sealed', 'seals', 'seamless', 'sean', 'search', 'searched', 'searches', 'searching', 'searh', 'sears', 'seas', 'season', 'seasonal', 'seasoning', 'seasonings', 'seasons', 'seat', 'seated', 'seater', 'seating', 'seats', 'seattle', 'seaweed', 'sebaceous', 'sebi', 'sec', 'secede', 'second', 'secondary', 'secondhand', 'seconds', 'secret', 'secretariat', 'secretaries', 'secretary', 'secretive', 'secretly', 'secrets', 'sect', 'section', 'sectional', 'sections', 'sector', 'sectors', 'sects', 'secular', 'secularism', 'secure', 'secured', 'securely', 'securing', 'securities', 'security', 'sed', 'sedan', 'sedans', 'sedimentary', 'sedimentology', 'seduce', 'seductive', 'see', 'seed', 'seeding', 'seeds', 'seeing', 'seek', 'seeker', 'seekers', 'seeking', 'seeks', 'seem', 'seeman', 'seemed', 'seeming', 'seemingly', 'seems', 'seen', 'sees', 'segment', 'segmentation', 'segmented', 'segments', 'segregation', 'sehwag', 'seiko', 'seinfeld', 'seismic', 'seize', 'seized', 'seizure', 'seizures', 'seldom', 'select', 'selected', 'selecting', 'selection', 'selections', 'selective', 'selena', 'selenium', 'self', 'selfie', 'selfies', 'selfish', 'selfishness', 'selfless', 'sell', 'seller', 'sellers', 'selling', 'sells', 'seltzer', 'sem', 'semantic', 'semantically', 'semantics', 'semaphore', 'semen', 'semester', 'semesters', 'semi', 'semicolon', 'semiconductor', 'semiconductors', 'seminal', 'seminar', 'seminars', 'semiotics', 'semitic', 'semitism', 'semolina', 'sen', 'sena', 'senate', 'senator', 'senators', 'send', 'sender', 'sending', 'sends', 'senegal', 'senior', 'seniors', 'sennheiser', 'sensation', 'sensations', 'sense', 'senseless', 'senses', 'sensex', 'sensible', 'sensing', 'sensitive', 'sensitivity', 'sensor', 'sensors', 'sensory', 'sensual', 'sent', 'sentence', 'sentenced', 'sentences', 'sentient', 'sentiment', 'sentimental', 'sentiments', 'sentinel', 'sentry', 'seo', 'seomoz', 'seoul', 'sep', 'separate', 'separated', 'separately', 'separates', 'separating', 'separation', 'separatists', 'seperate', 'sephora', 'sept', 'september', 'septic', 'septum', 'sequel', 'sequels', 'sequence', 'sequences', 'sequential', 'sequestration', 'ser', 'serbia', 'serbs', 'serena', 'serenity', 'sergeant', 'sergey', 'serial', 'serialization', 'serials', 'serie', 'series', 'serious', 'seriously', 'seroquel', 'serotonin', 'serp', 'serpent', 'serum', 'servant', 'servants', 'serve', 'served', 'server', 'servere', 'servers', 'serves', 'service', 'serviced', 'servicemen', 'servicenow', 'services', 'servicing', 'serving', 'servlet', 'servlets', 'servo', 'sesame', 'session', 'sessions', 'set', 'seth', 'sethi', 'sets', 'setters', 'setting', 'settings', 'settle', 'settled', 'settlement', 'settlements', 'settlers', 'settling', 'setup', 'seva', 'sevan', 'seven', 'sevenfold', 'seventeen', 'seventh', 'sever', 'several', 'severally', 'severance', 'severe', 'severed', 'severely', 'severity', 'severus', 'sewage', 'sewing', 'sewn', 'sex', 'sexes', 'sexiest', 'sexism', 'sexist', 'sext', 'sexting', 'sexual', 'sexuality', 'sexually', 'sexy', 'seychelles', 'sez', 'sf', 'sfo', 'sg', 'sgd', 'sgot', 'sgpa', 'sgpt', 'sgsits', 'sgx', 'sha', 'shade', 'shaded', 'shades', 'shadow', 'shadows', 'shae', 'shaft', 'shah', 'shahid', 'shahrukh', 'shake', 'shakes', 'shakespeare', 'shaking', 'shakti', 'shakur', 'shaky', 'shale', 'shall', 'shallow', 'shame', 'shameful', 'shameless', 'shampoo', 'shampoos', 'shanghai', 'shankar', 'shape', 'shaped', 'shapes', 'shaping', 'sharad', 'sharapova', 'share', 'shared', 'shareholder', 'shareholders', 'shareit', 'sharepoint', 'shares', 'sharia', 'sharif', 'sharing', 'sharingan', 'sharjah', 'shark', 'sharks', 'sharma', 'sharp', 'sharpen', 'sharpener', 'sharpening', 'sharpie', 'shashi', 'shastri', 'shatabdi', 'shatner', 'shatri', 'shatter', 'shattered', 'shaurya', 'shave', 'shaved', 'shaver', 'shaving', 'shaw', 'shawarma', 'shawshank', 'shayari', 'shazam', 'she', 'shear', 'shed', 'sheen', 'sheep', 'sheer', 'sheet', 'sheets', 'sheik', 'sheikh', 'sheila', 'shek', 'shelby', 'sheldon', 'shelf', 'shell', 'shells', 'shelter', 'shelters', 'sheltie', 'shemale', 'shenzhen', 'shepherd', 'shepherds', 'sheridan', 'sheriff', 'sherkiy', 'sherlock', 'sherperd', 'sherry', 'sheryl', 'shes', 'shia', 'shias', 'shiba', 'shibpur', 'shield', 'shielding', 'shift', 'shifted', 'shifting', 'shifts', 'shigoto', 'shih', 'shillong', 'shimla', 'shimply', 'shin', 'shine', 'shingeki', 'shingles', 'shining', 'shinobi', 'shiny', 'ship', 'shipment', 'shipments', 'shipped', 'shipping', 'shippuden', 'ships', 'shirdi', 'shire', 'shirt', 'shirts', 'shit', 'shitty', 'shiv', 'shiva', 'shivaay', 'shivaji', 'shiver', 'shivers', 'shivling', 'shld', 'shobhit', 'shock', 'shocked', 'shocking', 'shocks', 'shoe', 'shoes', 'shoot', 'shooter', 'shooting', 'shootings', 'shoots', 'shop', 'shopify', 'shopkeeper', 'shoppers', 'shopping', 'shops', 'shore', 'short', 'shortage', 'shortcomings', 'shortcut', 'shortcuts', 'shorten', 'shortened', 'shortener', 'shortening', 'shorter', 'shortest', 'shorthand', 'shortlist', 'shortlisted', 'shortlisting', 'shortly', 'shortness', 'shorts', 'shot', 'shotgun', 'shotguns', 'shots', 'shoud', 'should', 'shoulder', 'shoulders', 'shouldn', 'shout', 'shouting', 'shovel', 'show', 'showcase', 'showcasing', 'showed', 'shower', 'showering', 'showers', 'showing', 'shown', 'showroom', 'showrooms', 'shows', 'showtime', 'shredded', 'shree', 'shreya', 'shri', 'shrimp', 'shrink', 'shrinking', 'shrinks', 'shriram', 'shroud', 'shrugged', 'shrunk', 'shud', 'shudra', 'shudras', 'shuffle', 'shui', 'shunt', 'shut', 'shutdown', 'shuts', 'shutter', 'shutters', 'shutting', 'shuttle', 'shuttles', 'shy', 'shyness', 'si', 'sia', 'siamese', 'siberia', 'siberian', 'sibling', 'siblings', 'sibm', 'sic', 'sicilians', 'sicily', 'sick', 'sickle', 'sickness', 'side', 'sidebar', 'sidecar', 'sided', 'sideline', 'sides', 'sideways', 'sidhu', 'sidious', 'siege', 'siemens', 'sierra', 'sif4', 'sight', 'sightings', 'sights', 'sigma', 'sigmund', 'sign', 'signal', 'signaling', 'signals', 'signature', 'signatures', 'signed', 'significance', 'significant', 'significantly', 'signifies', 'signify', 'signing', 'signs', 'siib', 'sikh', 'sikhism', 'sikhs', 'sikkim', 'silchar', 'silence', 'silencer', 'silencers', 'silent', 'silently', 'silica', 'silicon', 'silicone', 'siliguri', 'silk', 'silky', 'silliest', 'silly', 'silmarillion', 'silt', 'silver', 'silverback', 'silverlight', 'sim', 'simcity', 'similar', 'similarities', 'similarity', 'similarly', 'simile', 'similes', 'simon', 'simple', 'simpler', 'simplest', 'simplicity', 'simplified', 'simplify', 'simplilearn', 'simply', 'simps', 'simpson', 'simpsons', 'sims', 'simulate', 'simulated', 'simulation', 'simulations', 'simulator', 'simulink', 'simultaneous', 'simultaneously', 'sin', 'sinai', 'sinatra', 'since', 'sincere', 'sincerely', 'sindhis', 'sindhu', 'sindri', 'sine', 'sinful', 'sing', 'singapore', 'singaporean', 'singaporeans', 'singer', 'singers', 'singh', 'singing', 'single', 'singles', 'singleton', 'singly', 'sings', 'singular', 'singularities', 'singularity', 'sinha', 'sinhalese', 'sink', 'sinking', 'sinks', 'sinner', 'sino', 'sins', 'sinus', 'sinuses', 'sinusoidal', 'sinx', 'sip', 'sips', 'sir', 'siren', 'sirens', 'siri', 'sirius', 'sister', 'sisters', 'sit', 'sita', 'sitcom', 'sitcoms', 'site', 'sitemap', 'sites', 'sith', 'sits', 'sitting', 'situated', 'situation', 'situational', 'situations', 'six', 'sixteen', 'sixth', 'sixties', 'size', 'sized', 'sizes', 'sizing', 'sjsu', 'skate', 'skateboard', 'skateboarding', 'skates', 'skating', 'skeletal', 'skeleton', 'skeptical', 'sketch', 'sketches', 'sketching', 'sketchup', 'skew', 'skewed', 'ski', 'skies', 'skiing', 'skill', 'skilled', 'skills', 'skillselect', 'skim', 'skin', 'skincare', 'skinned', 'skinny', 'skins', 'skip', 'skipping', 'skirt', 'skirts', 'skit', 'skittles', 'skoda', 'skrill', 'skull', 'skullcandy', 'skunk', 'skunks', 'sky', 'skydive', 'skydiving', 'skylake', 'skyline', 'skype', 'skyrim', 'skyscraper', 'skyscrapers', 'skywalker', 'sl', 'slab', 'slabs', 'slack', 'slam', 'slamming', 'slams', 'slander', 'slang', 'slangs', 'slap', 'slapped', 'slash', 'slate', 'slaughter', 'slaughtered', 'slaughtering', 'slave', 'slavery', 'slaves', 'slavic', 'slavs', 'sledging', 'sleep', 'sleeper', 'sleepiness', 'sleeping', 'sleepover', 'sleeps', 'sleepwalking', 'sleepy', 'sleeve', 'sleeved', 'slept', 'slice', 'sliced', 'slices', 'slide', 'slider', 'slides', 'sliding', 'slight', 'slightest', 'slightly', 'slim', 'slime', 'slimmer', 'slimming', 'slingshot', 'slip', 'slippers', 'slipping', 'slips', 'slit', 'slogan', 'slogans', 'slokas', 'slope', 'sloping', 'slot', 'sloth', 'slots', 'slouching', 'slovakia', 'slovenia', 'slow', 'slowed', 'slower', 'slowing', 'slowly', 'slows', 'slr', 'sls', 'slugs', 'slum', 'slums', 'slut', 'slytherin', 'sm', 'small', 'smaller', 'smallest', 'smart', 'smarter', 'smartest', 'smartly', 'smartphone', 'smartphones', 'smartwatch', 'smash', 'smaug', 'smb', 'sme', 'smear', 'smell', 'smelling', 'smells', 'smelly', 'smile', 'smiled', 'smiles', 'smilevo', 'smiley', 'smileys', 'smiling', 'smirnoff', 'smith', 'smo', 'smog', 'smoke', 'smoked', 'smoker', 'smokers', 'smokes', 'smoking', 'smooth', 'smoothening', 'smoother', 'smoothie', 'smoothies', 'smoothly', 'smriti', 'sms', 'smu', 'smuggled', 'sn', 'snack', 'snackbar', 'snacks', 'snails', 'snake', 'snakes', 'snap', 'snapchat', 'snapchats', 'snapdeal', 'snapdragon', 'snape', 'snapped', 'snapping', 'snaps', 'snapshot', 'snapstreak', 'sneakers', 'sneaking', 'sneeze', 'sneezes', 'sneezing', 'sniff', 'sniffing', 'sniper', 'snipers', 'snl', 'snob', 'snoke', 'snooker', 'snoop', 'snore', 'snores', 'snoring', 'snorlax', 'snort', 'snorted', 'snorting', 'snow', 'snowboard', 'snowboarding', 'snowden', 'snowflake', 'snowstorm', 'snyder', 'so', 'so2', 'so3', 'soa', 'soak', 'soaked', 'soap', 'soaps', 'sober', 'soc', 'soccer', 'sochi', 'sociable', 'social', 'socialism', 'socialist', 'socialists', 'socialization', 'socialize', 'socializing', 'socially', 'socialtrade', 'societal', 'societies', 'society', 'socio', 'socioeconomic', 'sociological', 'sociology', 'sociopath', 'sociopaths', 'sociopathy', 'sock', 'socket', 'sockets', 'socks', 'socrates', 'soda', 'sodas', 'sodexo', 'sodium', 'soetoro', 'sofa', 'sofia', 'soft', 'soften', 'softener', 'softer', 'software', 'softwares', 'sofware', 'sohei', 'soil', 'sol', 'solar', 'solarcity', 'solaris', 'sold', 'solder', 'soldering', 'soldier', 'soldiers', 'sole', 'soleil', 'solely', 'solenoid', 'soles', 'solicit', 'solicitor', 'solid', 'solidarity', 'solids', 'solidworks', 'solipsism', 'solitary', 'solitude', 'solo', 'solomon', 'solubility', 'soluble', 'solute', 'solution', 'solutions', 'solve', 'solved', 'solvent', 'solvents', 'solver', 'solves', 'solving', 'soma', 'somaiya', 'somalia', 'somatic', 'somatra', 'some', 'somebody', 'someday', 'somehow', 'someone', 'someones', 'something', 'somethings', 'sometime', 'sometimes', 'somewhat', 'somewhere', 'somme', 'sommelier', 'somone', 'son', 'sonakshi', 'sonam', 'sonar', 'sonata', 'song', 'songs', 'songwriter', 'songwriters', 'songwriting', 'sonia', 'sonic', 'sonoma', 'sonoran', 'sons', 'sonu', 'sony', 'sood', 'soon', 'sooryavansham', 'soothing', 'sop', 'sophisticated', 'sophomore', 'soppy', 'soprano', 'sopranos', 'sore', 'soreness', 'sores', 'sorority', 'soros', 'sorrow', 'sorry', 'sort', 'sorted', 'sorting', 'sorts', 'sought', 'soul', 'soulful', 'soulmate', 'soulmates', 'souls', 'sound', 'soundcloud', 'sounding', 'soundmagic', 'sounds', 'soundtrack', 'soundtracks', 'soup', 'soups', 'sour', 'sourav', 'source', 'sources', 'sourcing', 'south', 'southeast', 'southern', 'southwest', 'souvenirs', 'sovereign', 'sovereignty', 'soviet', 'soviets', 'soy', 'soya', 'soylent', 'sp', 'spa', 'space', 'spacecraft', 'spacecrafts', 'spaceflight', 'spaces', 'spaceship', 'spaceships', 'spacetime', 'spacex', 'spacial', 'spacing', 'spaghetti', 'spain', 'spam', 'spamming', 'span', 'spandex', 'spaniard', 'spaniards', 'spaniel', 'spanish', 'spank', 'spanked', 'spanking', 'spare', 'spark', 'sparkling', 'sparknotes', 'sparks', 'sparse', 'spartacus', 'spartan', 'spasms', 'spatial', 'spawn', 'speak', 'speaker', 'speakers', 'speaking', 'speaks', 'spears', 'spec', 'special', 'specialisation', 'specialist', 'specialists', 'specialities', 'speciality', 'specialization', 'specializations', 'specialize', 'specialized', 'specializes', 'specializing', 'specially', 'specialty', 'species', 'specific', 'specifically', 'specification', 'specifications', 'specifics', 'specified', 'specifier', 'specifiers', 'specify', 'specks', 'specs', 'spectacles', 'specter', 'spectra', 'spectral', 'spectrometer', 'spectrum', 'speculation', 'speech', 'speeches', 'speed', 'speeding', 'speeds', 'spell', 'spelled', 'spelling', 'spellings', 'spells', 'spencer', 'spend', 'spending', 'spends', 'spent', 'sperm', 'sperms', 'spf', 'sphere', 'spheres', 'spherical', 'sphincter', 'sphinx', 'spi', 'spice', 'spicejet', 'spices', 'spicy', 'spider', 'spidercam', 'spiderman', 'spiders', 'spielberg', 'spies', 'spike', 'spill', 'spin', 'spinach', 'spinal', 'spindle', 'spine', 'spinner', 'spinning', 'spins', 'spiral', 'spirit', 'spirits', 'spiritual', 'spiritualism', 'spirituality', 'spiritually', 'spirts', 'spit', 'spite', 'spitting', 'spjimr', 'splash', 'spleen', 'splinter', 'split', 'splits', 'splitting', 'splunk', 'spoil', 'spoiled', 'spoiler', 'spoilers', 'spoils', 'spoj', 'spoke', 'spoken', 'spondylitis', 'spongebob', 'sponsor', 'sponsored', 'sponsoring', 'sponsors', 'sponsorship', 'sponsorships', 'spontaneous', 'spontaneously', 'spoof', 'spookiest', 'spooky', 'spoon', 'sport', 'sporting', 'sports', 'sportsman', 'sportspersons', 'spot', 'spotify', 'spotlight', 'spots', 'spotted', 'spotting', 'spouse', 'spouses', 'spout', 'sprain', 'sprained', 'spratly', 'spray', 'sprayed', 'spraying', 'spread', 'spreading', 'spreads', 'spreadsheet', 'spree', 'spring', 'springfield', 'springs', 'springsteen', 'sprinkler', 'sprint', 'sprinter', 'sprite', 'spss', 'spun', 'spurt', 'spy', 'spying', 'spyware', 'sq', 'sqft', 'sql', 'sqlite', 'sqrt', 'squad', 'square', 'squared', 'squares', 'squarespace', 'squash', 'squat', 'squats', 'squatting', 'squeaking', 'squeeze', 'squeezed', 'squid', 'squirrel', 'squirrels', 'squirt', 'squirting', 'sr', 'sram', 'src', 'srcc', 'sri', 'srilanka', 'srinagar', 'sriram', 'srk', 'srm', 'srour', 'srt', 'ss', 'ssb', 'ssc', 'ssd', 'sse', 'ssh', 'ssis', 'ssl', 'ssn', 'ssri', 'ssris', 'st', 'stab', 'stabbed', 'stabbing', 'stability', 'stabilization', 'stabilize', 'stabilizer', 'stable', 'stack', 'stacking', 'stacks', 'stadium', 'stadiums', 'staff', 'staffing', 'staffy', 'stag', 'stage', 'staged', 'stages', 'stain', 'stained', 'staining', 'stainless', 'stains', 'staircase', 'stairs', 'stairway', 'stake', 'stakeholders', 'stakes', 'stale', 'stalemate', 'stalin', 'stalingrad', 'stalk', 'stalked', 'stalker', 'stalkers', 'stalking', 'stall', 'stalling', 'stallman', 'stalls', 'stamina', 'stammering', 'stamp', 'stamped', 'stamping', 'stamps', 'stan', 'stance', 'stand', 'standalone', 'standard', 'standardized', 'standards', 'standby', 'standford', 'standing', 'standpoint', 'stands', 'standup', 'stanford', 'stanley', 'stannis', 'stanza', 'stanzas', 'staples', 'star', 'starboy', 'starbucks', 'starch', 'starcraft', 'stardom', 'stardust', 'stare', 'stares', 'starfish', 'stargate', 'staring', 'stark', 'starks', 'starred', 'starring', 'stars', 'starship', 'start', 'started', 'starter', 'starters', 'starting', 'starts', 'startup', 'startups', 'starvation', 'starve', 'starved', 'starving', 'stat', 'state', 'stated', 'statement', 'statements', 'staten', 'states', 'static', 'stating', 'station', 'stationary', 'stationed', 'stationery', 'stations', 'statistic', 'statistical', 'statistically', 'statistician', 'statistics', 'stator', 'stats', 'statue', 'statues', 'stature', 'status', 'statuses', 'statute', 'statutes', 'statutory', 'stay', 'stayed', 'staying', 'stays', 'std', 'stdin', 'stds', 'steady', 'steak', 'steakhouse', 'steaks', 'steal', 'stealing', 'steals', 'stealth', 'steam', 'steamed', 'steaming', 'steel', 'steely', 'steer', 'steering', 'stefan', 'stein', 'stellar', 'stem', 'stemming', 'stems', 'step', 'stephanie', 'stephen', 'stepmother', 'stepped', 'stepping', 'steps', 'stereo', 'stereotype', 'stereotyped', 'stereotypes', 'stereotypical', 'stereotyping', 'sterile', 'sterling', 'stern', 'steroid', 'steroids', 'steve', 'steven', 'stevens', 'stevie', 'stew', 'stewart', 'stick', 'sticker', 'stickers', 'sticking', 'sticks', 'sticky', 'stiff', 'stiffness', 'stifling', 'stigma', 'still', 'stimulant', 'stimulate', 'stimulating', 'stimulation', 'stimulus', 'sting', 'stingy', 'stink', 'stinks', 'stinson', 'stipend', 'stirling', 'stitch', 'stitches', 'stl', 'stochastic', 'stock', 'stockbroker', 'stockholm', 'stockings', 'stockpile', 'stocks', 'stokes', 'stole', 'stolen', 'stomach', 'stomachs', 'stone', 'stoned', 'stones', 'stony', 'stood', 'stool', 'stop', 'stopped', 'stopping', 'stops', 'storage', 'store', 'stored', 'storeguide', 'stores', 'storey', 'stories', 'storing', 'storks', 'storm', 'storme', 'storms', 'story', 'storyboard', 'storyline', 'storylines', 'storytelling', 'stout', 'stove', 'stp', 'straight', 'straighten', 'straightener', 'straightening', 'strain', 'strained', 'strait', 'strand', 'stranded', 'strands', 'strange', 'stranger', 'strangers', 'strangest', 'strap', 'straps', 'strategic', 'strategically', 'strategies', 'strategist', 'strategy', 'stratified', 'straw', 'strawberries', 'strawberry', 'stray', 'streak', 'streaks', 'stream', 'streamed', 'streaming', 'streams', 'streep', 'street', 'streets', 'strength', 'strengthen', 'strengthening', 'strengths', 'strenuous', 'strep', 'stress', 'stressed', 'stresses', 'stressful', 'stressing', 'stretch', 'stretched', 'stretching', 'strict', 'stricter', 'strictly', 'strike', 'striker', 'strikes', 'striking', 'string', 'strings', 'strip', 'stripe', 'striped', 'stripes', 'stripped', 'stripper', 'strippers', 'strips', 'strive', 'stroke', 'strokes', 'strong', 'stronger', 'strongest', 'strongly', 'strontium', 'struck', 'struct', 'structural', 'structure', 'structured', 'structures', 'struggle', 'struggled', 'struggles', 'struggling', 'struts', 'sts', 'stuart', 'stubborn', 'stubhub', 'stuck', 'stucked', 'stud', 'studeing', 'student', 'students', 'studied', 'studies', 'studing', 'studio', 'studios', 'study', 'studying', 'stuff', 'stuffed', 'stuffs', 'stuffy', 'stumbleupon', 'stumps', 'stung', 'stunning', 'stunt', 'stupefy', 'stupid', 'stupidest', 'stupidity', 'stutter', 'stuttering', 'stye', 'style', 'styles', 'styling', 'stylish', 'stylus', 'styrofoam', 'su', 'sub', 'subaru', 'subash', 'subatomic', 'subbed', 'subconscious', 'subconsciously', 'subcontinent', 'subculture', 'subdomain', 'subfields', 'subgenre', 'subhas', 'subhash', 'subject', 'subjected', 'subjective', 'subjectivity', 'subjects', 'sublimation', 'sublime', 'subliminal', 'submarine', 'submarines', 'submerged', 'submersible', 'submission', 'submissions', 'submissive', 'submit', 'submitted', 'submitting', 'subnet', 'subordinate', 'subprime', 'subquantic', 'subramanian', 'subreddit', 'subreddits', 'subs', 'subscribe', 'subscribed', 'subscriber', 'subscribers', 'subscribes', 'subscribing', 'subscription', 'subscriptions', 'subsea', 'subsequent', 'subsequently', 'subset', 'subsets', 'subside', 'subsidiary', 'subsidies', 'subsidized', 'subsidy', 'subsistence', 'substance', 'substances', 'substantial', 'substantially', 'substantive', 'substation', 'substitute', 'substituted', 'substitutes', 'substitution', 'substrate', 'substrates', 'subsurface', 'subsurfaces', 'subtitle', 'subtitles', 'subtle', 'subtract', 'subtracted', 'suburbs', 'subway', 'subwoofer', 'succeed', 'succeeded', 'succeeding', 'succesful', 'succesfully', 'success', 'successes', 'successful', 'successfull', 'successfully', 'succession', 'successor', 'such', 'sucide', 'suck', 'sucked', 'sucking', 'sucks', 'sucrose', 'suction', 'sudafed', 'sudan', 'sudden', 'suddenly', 'sudoku', 'sue', 'sued', 'suede', 'suez', 'suffer', 'suffered', 'sufferers', 'suffering', 'sufferings', 'suffers', 'suffice', 'sufficient', 'suffix', 'suffixes', 'suffolk', 'sufi', 'sufism', 'sugar', 'sugarcane', 'sugars', 'suggest', 'suggested', 'suggesting', 'suggestion', 'suggestions', 'suggests', 'suicidal', 'suicide', 'suicides', 'suing', 'suit', 'suitable', 'suitcase', 'suite', 'suited', 'suites', 'suits', 'sujoy', 'sulfate', 'sulfide', 'sulfur', 'sulfuric', 'sullivan', 'sulphate', 'sulphur', 'sulphuric', 'sultan', 'sum', 'sum_', 'summarize', 'summary', 'summation', 'summer', 'summers', 'summit', 'summon', 'summons', 'sumo', 'sums', 'sun', 'sunburn', 'sundar', 'sunday', 'sundays', 'sunflower', 'sung', 'sunglasses', 'sunil', 'sunk', 'sunken', 'sunlight', 'sunni', 'sunnis', 'sunny', 'sunnyvale', 'sunrise', 'suns', 'sunscreen', 'sunset', 'sunsets', 'sunshine', 'sunspots', 'suny', 'super', 'supercars', 'supercell', 'supercharger', 'supercharging', 'supercomputer', 'supercomputers', 'superdry', 'superficial', 'superfluid', 'superhero', 'superheroes', 'superhuman', 'superior', 'superiority', 'superman', 'supermarket', 'supermarkets', 'supermassive', 'supermodel', 'supermoon', 'supernatural', 'supernova', 'superposition', 'superpower', 'superpowers', 'superscript', 'supersonic', 'superstar', 'superstition', 'superstitions', 'superstitious', 'supervised', 'supervision', 'supervisor', 'supervolcano', 'supplement', 'supplementary', 'supplements', 'supplied', 'supplier', 'suppliers', 'supplies', 'supply', 'support', 'supported', 'supporter', 'supporters', 'supporting', 'supportive', 'supports', 'suppose', 'supposed', 'supposedly', 'suppress', 'suppressed', 'supra', 'supremacists', 'supremacy', 'supreme', 'surah', 'surat', 'surathkal', 'sure', 'surefire', 'surely', 'surf', 'surface', 'surfaces', 'surfers', 'surfing', 'surge', 'surgeon', 'surgeons', 'surgeries', 'surgery', 'surgical', 'surgically', 'surname', 'surnames', 'surpass', 'surplus', 'surprise', 'surprised', 'surprises', 'surprising', 'surprisingly', 'surreal', 'surrender', 'surrendered', 'surrogacy', 'surrogate', 'surround', 'surrounded', 'surrounding', 'surroundings', 'surrounds', 'surveillance', 'survey', 'surveying', 'surveys', 'survival', 'survive', 'survived', 'survives', 'surviving', 'survivor', 'survivors', 'surya', 'susan', 'susceptible', 'sushi', 'sushma', 'suspect', 'suspected', 'suspects', 'suspend', 'suspended', 'suspending', 'suspense', 'suspension', 'suspensions', 'suspicion', 'suspicious', 'sustain', 'sustainability', 'sustainable', 'sustained', 'sustaining', 'susunia', 'sutherland', 'sutra', 'suu', 'suv', 'suvs', 'suzuki', 'svm', 'svnit', 'swab', 'swach', 'swachh', 'swag', 'swagbucks', 'swagger', 'swahili', 'swallow', 'swallowed', 'swallowing', 'swami', 'swamp', 'swamy', 'swan', 'swap', 'swapping', 'swaraj', 'swarm', 'swastika', 'swat', 'swayamsevak', 'swe', 'swear', 'swearing', 'sweat', 'sweater', 'sweating', 'sweatshirt', 'sweatshops', 'sweaty', 'sweden', 'swedish', 'sweep', 'sweeper', 'sweet', 'sweetest', 'sweets', 'swell', 'swelling', 'swept', 'swf', 'swift', 'swiggy', 'swim', 'swimmer', 'swimmers', 'swimming', 'swimsuit', 'swine', 'swing', 'swinging', 'swings', 'swipe', 'swiped', 'swiping', 'swiss', 'switch', 'switched', 'switches', 'switchgear', 'switching', 'switzerland', 'swollen', 'sword', 'swords', 'swore', 'sworn', 'swot', 'swtor', 'sx', 'sxsw', 'sydney', 'syed', 'syllable', 'syllabus', 'symantec', 'symbiosis', 'symbol', 'symbolic', 'symbolism', 'symbolize', 'symbols', 'symmetric', 'symmetrical', 'symmetry', 'sympathetic', 'sympathize', 'sympathy', 'symphonies', 'symphony', 'symposium', 'symptom', 'symptoms', 'sync', 'synced', 'synchronization', 'synchronize', 'synchronized', 'synchronous', 'syncing', 'syndicate', 'syndrome', 'synergy', 'synonym', 'synonymous', 'synonyms', 'synopsis', 'syntax', 'syntel', 'synthesis', 'synthesize', 'synthesized', 'synthesizer', 'synthetic', 'syphilis', 'syracuse', 'syria', 'syriac', 'syrian', 'syrians', 'syringe', 'syrup', 'system', 'systematic', 'systematically', 'systemic', 'systems', 'systolic', 'szczecin', 'são', 'sütterlinschrift', 't00j', 't1', 't120', 't150a', 't1530', 't2', 't20', 't3', 't4', 't730', 't795', 'ta', 'taarak', 'tab', 'tabasco', 'table', 'tableau', 'tablecloth', 'tables', 'tablet', 'tablets', 'taboo', 'taboos', 'tabs', 'tac', 'tachyons', 'tacking', 'tackle', 'tackling', 'tacky', 'taco', 'tacos', 'tactic', 'tactical', 'tactics', 'tactile', 'taekwondo', 'taffy', 'taft', 'tag', 'tagalog', 'tagged', 'tagging', 'tagline', 'taglines', 'tagore', 'tags', 'tahiti', 'tahoe', 'tai', 'tail', 'tailbone', 'tailed', 'tailgate', 'tailor', 'tailored', 'tails', 'taipei', 'taiwan', 'taiwanese', 'taj', 'tajikistan', 'take', 'takeaways', 'taken', 'takeoff', 'takeover', 'taker', 'takers', 'takes', 'taking', 'taklamakan', 'talaq', 'tale', 'talent', 'talented', 'talents', 'tales', 'taliban', 'talk', 'talkative', 'talked', 'talkers', 'talking', 'talks', 'tall', 'taller', 'tallest', 'tally', 'tam', 'tamasha', 'tambrahm', 'tame', 'tamed', 'tamil', 'tamilian', 'tamilians', 'tamilnadu', 'tamils', 'tampa', 'tampax', 'tampon', 'tampons', 'tamu', 'tan', 'tandon', 'tangent', 'tangential', 'tangible', 'tangled', 'tango', 'tank', 'tanking', 'tanks', 'tanmay', 'tanned', 'tanning', 'tans', 'tantra', 'tantric', 'tantrum', 'tanu', 'tanzania', 'tao', 'taobao', 'tap', 'tape', 'taped', 'taper', 'tapered', 'tapes', 'tapioca', 'tapmi', 'tapped', 'tapping', 'taps', 'tar', 'tarantino', 'tarantulas', 'targaryen', 'targaryens', 'target', 'targeted', 'targeting', 'targets', 'tariff', 'tarot', 'tarragon', 'tarzan', 'task', 'tasker', 'taskrabbit', 'tasks', 'taste', 'tasted', 'taster', 'tastes', 'tastiest', 'tasting', 'tasty', 'tat', 'tata', 'tatkal', 'tattoo', 'tattooed', 'tattooing', 'tattoos', 'tau', 'taught', 'taurus', 'tax', 'taxable', 'taxation', 'taxed', 'taxes', 'taxi', 'taxis', 'taxpayer', 'taxpayers', 'taylor', 'tb', 'tc', 'tchaikovsky', 'tcp', 'tcs', 'td', 'tdr', 'tds', 'te', 'tea', 'teach', 'teacher', 'teachers', 'teaches', 'teaching', 'teachings', 'team', 'teammates', 'teams', 'tear', 'tearing', 'tears', 'teas', 'tease', 'teased', 'teaser', 'teasers', 'teases', 'teasing', 'teaspoon', 'tech', 'techcrunch', 'techfest', 'techie', 'techmahindra', 'technica', 'technical', 'technically', 'technician', 'technicians', 'technique', 'techniques', 'techno', 'technological', 'technologically', 'technologies', 'technologist', 'technology', 'tectonic', 'tectonics', 'ted', 'teddy', 'tedx', 'teen', 'teenage', 'teenager', 'teenagers', 'teens', 'teespring', 'teeth', 'tefl', 'tehran', 'tejas', 'tel', 'telangana', 'telecast', 'telecom', 'telecommunication', 'telecommunications', 'telecommute', 'telegram', 'telekinesis', 'telepathy', 'telephone', 'telephonic', 'teleport', 'teleportation', 'teleported', 'teleporting', 'telescope', 'telescopes', 'televised', 'television', 'televisions', 'tell', 'teller', 'telling', 'tells', 'telltale', 'telugu', 'temerity', 'temp', 'temper', 'temperament', 'temperate', 'temperature', 'temperatures', 'tempered', 'template', 'templates', 'temple', 'temples', 'temporal', 'temporarily', 'temporary', 'temptation', 'ten', 'tenant', 'tenants', 'tend', 'tendencies', 'tendency', 'tender', 'tenders', 'tendon', 'tends', 'tendulkar', 'tennessee', 'tennis', 'tenor', 'tens', 'tense', 'tensile', 'tension', 'tensions', 'tensor', 'tensorflow', 'tensors', 'tent', 'tenth', 'tents', 'tenure', 'tequila', 'terence', 'teresa', 'teri', 'term', 'termed', 'terminal', 'terminally', 'terminals', 'terminate', 'terminated', 'termination', 'terminator', 'terminology', 'termite', 'termites', 'terms', 'terra', 'terraform', 'terrain', 'terrestial', 'terrestrial', 'terrible', 'terribly', 'terrier', 'terrified', 'terrifying', 'territorial', 'territories', 'territory', 'terror', 'terrorism', 'terrorist', 'terrorists', 'terry', 'terse', 'tertiary', 'tes', 'tesla', 'tessellate', 'tesseract', 'test', 'testament', 'testbook', 'tested', 'tester', 'testers', 'testicle', 'testicles', 'testify', 'testimony', 'testing', 'testo', 'testosterone', 'tests', 'tet', 'tetanus', 'tethering', 'tetra', 'tetrahedral', 'tetris', 'tex', 'texas', 'text', 'textbook', 'textbooks', 'texted', 'textile', 'textiles', 'texting', 'texts', 'texture', 'textures', 'tf', 'tf2', 'tft', 'tgc', 'tgif', 'th', 'tha', 'thai', 'thailand', 'than', 'thane', 'thank', 'thankful', 'thanks', 'thanksgiving', 'thanos', 'thapar', 'thar', 'tharoor', 'that', 'thatcher', 'thats', 'thaw', 'thc', 'the', 'theater', 'theaters', 'theatre', 'theatres', 'thebest', 'theft', 'their', 'theirs', 'theirselves', 'theism', 'theist', 'theists', 'them', 'thematic', 'theme', 'themed', 'themes', 'themself', 'themselves', 'then', 'theodore', 'theological', 'theology', 'theon', 'theorem', 'theorems', 'theoretical', 'theoretically', 'theories', 'theorists', 'theorized', 'theory', 'theranos', 'therapeutic', 'therapeutics', 'therapies', 'therapist', 'therapists', 'therapy', 'theravada', 'there', 'thereafter', 'thereby', 'therefore', 'thereof', 'theresa', 'thermal', 'thermodynamic', 'thermodynamics', 'thermometer', 'thermostat', 'thermostats', 'thesaurus', 'these', 'theses', 'thesis', 'theta', 'they', 'thick', 'thickening', 'thicker', 'thickness', 'thief', 'thiel', 'thieves', 'thigh', 'thighs', 'thin', 'thing', 'things', 'think', 'thinker', 'thinkers', 'thinking', 'thinkpad', 'thinks', 'thinly', 'thinner', 'thinning', 'third', 'thirst', 'thirsty', 'thirteen', 'thirties', 'thirty', 'this', 'tho', 'thoghts', 'thomas', 'thompson', 'thomson', 'thong', 'thongs', 'thor', 'thoreau', 'thorium', 'thorough', 'thoroughly', 'those', 'though', 'thought', 'thoughtful', 'thoughts', 'thoughtworks', 'thousand', 'thousands', 'thranduil', 'thrash', 'thread', 'threaded', 'threading', 'threads', 'threat', 'threaten', 'threatened', 'threatening', 'threatens', 'threats', 'three', 'threesome', 'threesomes', 'threshold', 'threw', 'thrice', 'thrift', 'thrill', 'thriller', 'thrilling', 'thrive', 'throat', 'throne', 'thrones', 'through', 'throughout', 'throw', 'throwing', 'thrown', 'throws', 'thru', 'thrust', 'thrusting', 'thug', 'thumb', 'thumbnail', 'thumbnails', 'thumbs', 'thunder', 'thunderbird', 'thunderbolt', 'thunderquote', 'thunderstorms', 'thursday', 'thus', 'thymine', 'thyristor', 'thyroid', 'ti', 'tibco', 'tibet', 'tibetan', 'tic', 'tick', 'ticket', 'ticketing', 'tickets', 'tickle', 'tickled', 'tickling', 'ticklish', 'ticks', 'tidal', 'tide', 'tides', 'tidy', 'tie', 'tied', 'tier', 'ties', 'tiffany', 'tifr', 'tiger', 'tigers', 'tight', 'tighten', 'tighter', 'tightly', 'tights', 'tijuana', 'tilapia', 'tile', 'tiles', 'till', 'tillerson', 'tilt', 'tilted', 'tim', 'timbaland', 'timber', 'timberlake', 'timberland', 'time', 'timed', 'timelike', 'timeline', 'timelines', 'timely', 'timer', 'times', 'timestamp', 'timetable', 'timetravel', 'timing', 'timings', 'timor', 'timothy', 'tin', 'tina', 'tinder', 'tingling', 'tinnitus', 'tint', 'tiny', 'tip', 'tipped', 'tipping', 'tips', 'tipu', 'tire', 'tired', 'tiredness', 'tires', 'tirumala', 'tirunelveli', 'tirupathi', 'tirupati', 'tiss', 'tissue', 'tissues', 'tit', 'titan', 'titanic', 'titanium', 'titans', 'titin', 'title', 'titled', 'titles', 'titration', 'tl', 'tlb', 'tlc', 'tm', 'tmc', 'tmt', 'tn', 'tnpsc', 'tnt', 'to', 'toad', 'toast', 'toaster', 'toastmasters', 'tobacco', 'tobago', 'today', 'todays', 'todd', 'toddler', 'toddlers', 'todoist', 'toe', 'toefl', 'toenail', 'toenails', 'toes', 'tofu', 'together', 'toggle', 'togo', 'tohoku', 'toilet', 'toilets', 'toilette', 'token', 'tokens', 'tokyo', 'told', 'tolerance', 'tolerant', 'tolerate', 'tolkien', 'toll', 'tollywood', 'tolstoy', 'tom', 'tomatina', 'tomato', 'tomatoes', 'tomb', 'tomboy', 'tomcat', 'tommen', 'tomorrow', 'tomorrowland', 'toms', 'tomé', 'ton', 'tonal', 'tone', 'toned', 'toner', 'tones', 'tongue', 'tongues', 'toni', 'tonic', 'tonight', 'tons', 'tonsil', 'tonsils', 'tony', 'too', 'took', 'tool', 'toolbar', 'tools', 'tooth', 'toothache', 'toothbrush', 'toothpaste', 'top', 'topcoder', 'topic', 'topics', 'topless', 'topography', 'topological', 'topology', 'topper', 'toppers', 'toppings', 'tops', 'toptal', 'tor', 'torah', 'torch', 'torent', 'torn', 'tornado', 'tornadoes', 'toronto', 'torque', 'torrent', 'torrenting', 'torrents', 'torrentz', 'torso', 'tort', 'tortilla', 'tortoise', 'tortoises', 'tortoiseshell', 'torture', 'tortured', 'torturing', 'torvalds', 'tos', 'toshiba', 'toss', 'tossed', 'tossing', 'total', 'totaling', 'totalitarian', 'totally', 'touch', 'touchdown', 'touched', 'touches', 'touching', 'touchpad', 'touchscreen', 'tough', 'tougher', 'toughest', 'toughness', 'tour', 'tourette', 'touring', 'tourism', 'tourist', 'tourister', 'touristic', 'tourists', 'touristy', 'tournament', 'tournaments', 'tours', 'touted', 'tow', 'toward', 'towards', 'towel', 'towels', 'tower', 'towers', 'towing', 'town', 'townhall', 'townhouse', 'towns', 'townsend', 'toxic', 'toxicity', 'toy', 'toyota', 'toys', 'tp', 'tpp', 'tqwl', 'tr', 'trace', 'traced', 'tracer', 'traces', 'tracfone', 'tracing', 'track', 'tracked', 'tracker', 'trackers', 'trackimei', 'tracking', 'trackpad', 'tracks', 'tract', 'traction', 'tractor', 'trade', 'traded', 'trademark', 'trademarks', 'tradeoffs', 'trader', 'traders', 'trades', 'trading', 'tradition', 'traditional', 'traditionally', 'traditions', 'traffic', 'trafficking', 'tragedy', 'tragic', 'trail', 'trailer', 'trailers', 'trailing', 'trails', 'train', 'trained', 'trainee', 'trainees', 'trainer', 'trainers', 'training', 'trainings', 'trains', 'trait', 'traitor', 'traits', 'trajectory', 'tramadol', 'trampoline', 'trance', 'trans', 'transaction', 'transactional', 'transactions', 'transatlantic', 'transcendental', 'transcribe', 'transcript', 'transcription', 'transcripts', 'transducer', 'transexual', 'transfer', 'transferable', 'transfered', 'transferred', 'transferring', 'transfers', 'transferwise', 'transform', 'transformation', 'transformations', 'transformed', 'transformer', 'transformers', 'transforming', 'transforms', 'transgender', 'transgenders', 'transhumanism', 'transient', 'transistor', 'transistors', 'transit', 'transition', 'transitional', 'transitioning', 'transitions', 'translate', 'translated', 'translating', 'translation', 'translations', 'translator', 'translators', 'translucent', 'transmission', 'transmissions', 'transmit', 'transmitted', 'transmitter', 'transparent', 'transpiration', 'transplant', 'transplantation', 'transplanted', 'transplants', 'transport', 'transportation', 'transported', 'transporting', 'transpose', 'transsexual', 'transsexuality', 'transsexuals', 'transverse', 'trap', 'trapezoid', 'trapped', 'traps', 'trash', 'trashed', 'trashy', 'trauma', 'traumatic', 'traumatized', 'traval', 'travel', 'traveled', 'traveler', 'travelers', 'traveling', 'travelled', 'traveller', 'travellers', 'travelling', 'travels', 'traversal', 'travis', 'tray', 'treadmill', 'treason', 'treasure', 'treasury', 'treat', 'treatable', 'treated', 'treaties', 'treating', 'treatment', 'treatments', 'treats', 'treaty', 'tree', 'treehouse', 'trees', 'trek', 'trekking', 'trello', 'tremors', 'trench', 'trenches', 'trend', 'trending', 'trends', 'trendy', 'trespass', 'trevor', 'trey', 'tri', 'triad', 'trial', 'trials', 'triangle', 'triangles', 'triangular', 'triathlon', 'tribal', 'tribbiani', 'tribe', 'tribes', 'tribunal', 'trichy', 'trick', 'trickiest', 'trickle', 'tricks', 'tricky', 'tried', 'tries', 'trigger', 'triggered', 'triggers', 'trigonometric', 'trigonometry', 'trillion', 'trillionaire', 'trillionaires', 'trilogies', 'trilogy', 'trim', 'trimmer', 'trimming', 'trinidad', 'trinity', 'trio', 'trioxide', 'trip', 'tripadvisor', 'tripathi', 'tripit', 'triple', 'triplet', 'tripling', 'tripod', 'tripping', 'trippy', 'trips', 'tripura', 'triumph', 'trivago', 'trivandrum', 'trivia', 'trivial', 'trojan', 'trojans', 'troll', 'trolley', 'trolling', 'trolls', 'troopers', 'troops', 'trophies', 'trophy', 'tropic', 'tropical', 'trouble', 'troubled', 'troubles', 'troubleshoot', 'troubleshooting', 'trough', 'trouser', 'trousers', 'truck', 'trucking', 'trucks', 'trudeau', 'true', 'truecaller', 'truely', 'truly', 'truman', 'trump', 'trumped', 'trumpet', 'trumps', 'trunk', 'trust', 'trustable', 'trusted', 'trusting', 'trustworthy', 'truth', 'truthful', 'truthfulness', 'truths', 'try', 'trying', 'ts', 'tsa', 'tsai', 'tsar', 'tsh', 'tshirt', 'tspsc', 'tss', 'tsunami', 'tta', 'tte', 'ttip', 'tu', 'tub', 'tubal', 'tube', 'tubeless', 'tubes', 'tuck', 'tucson', 'tuesday', 'tufts', 'tug', 'tuition', 'tuitions', 'tulips', 'tum', 'tumblr', 'tummy', 'tumor', 'tumors', 'tuna', 'tune', 'tuned', 'tuner', 'tunes', 'tungsten', 'tuning', 'tunisia', 'tunisian', 'tunisians', 'tunnel', 'tunnels', 'tupac', 'tupperware', 'turban', 'turbine', 'turbines', 'turbo', 'turbocharger', 'turbocharging', 'turbotax', 'turbulence', 'turbulent', 'turf', 'turin', 'turing', 'turk', 'turkey', 'turkic', 'turkish', 'turks', 'turmeric', 'turn', 'turnaround', 'turned', 'turner', 'turning', 'turnkey', 'turnout', 'turnover', 'turns', 'turret', 'turtle', 'turtles', 'tution', 'tutor', 'tutorial', 'tutorials', 'tutoring', 'tutors', 'tuxedo', 'tv', 'tvf', 'tvs', 'twain', 'tweet', 'tweets', 'twelve', 'twenties', 'twenty', 'twice', 'twilight', 'twilio', 'twin', 'twinkle', 'twins', 'twist', 'twisted', 'twister', 'twisters', 'twisting', 'twists', 'twitch', 'twitches', 'twitching', 'twitter', 'two', 'tx', 'txt', 'tycoon', 'tying', 'tylenol', 'tyler', 'tyndall', 'type', 'typed', 'typeface', 'types', 'typescript', 'typewriter', 'typhoid', 'typhoon', 'typhoons', 'typical', 'typically', 'typing', 'typography', 'tyre', 'tyrell', 'tyres', 'tyrion', 'tyson', 'tywin', 'tzu', 'u2', 'ua', 'uae', 'uan', 'uav', 'ubc', 'uber', 'uberblack', 'uberx', 'ubiquitous', 'ubisoft', 'ubuntu', 'uc', 'ucb', 'ucc', 'uceed', 'uchicago', 'uchiha', 'uci', 'ucl', 'ucla', 'ucms', 'ucsb', 'ucsd', 'udacity', 'udaipur', 'uday', 'udemy', 'udemydownloader', 'udit', 'udp', 'uefa', 'uefi', 'ues', 'ufc', 'ufo', 'ufos', 'ug', 'uganda', 'ugc', 'ugg', 'ugliest', 'ugly', 'ui', 'uid', 'uidai', 'uiuc', 'uk', 'ukraine', 'ukrainian', 'ukrainians', 'ukulele', 'ul', 'ulcer', 'ulcerative', 'ulcers', 'ulip', 'ultimate', 'ultimately', 'ultra', 'ultrasonic', 'ultrasound', 'ultraviolet', 'ultron', 'um', 'umass', 'umbilical', 'umbrella', 'ummah', 'umpires', 'umrah', 'umts', 'un', 'una', 'unable', 'unacademy', 'unaccounted', 'unanswered', 'unarmed', 'unattractive', 'unavailability', 'unavailable', 'unaware', 'unbalanced', 'unbearable', 'unbelievable', 'unbelievably', 'unbiased', 'unblock', 'unblocked', 'unblocking', 'unblurred', 'unborn', 'unboxed', 'unboxing', 'unc', 'uncc', 'uncensored', 'uncertain', 'uncertainty', 'uncharted', 'uncircumcised', 'uncle', 'unclos', 'uncollapsed', 'uncomfortable', 'uncommon', 'uncomplicated', 'unconditional', 'unconditionally', 'unconscious', 'unconstitutional', 'uncontrolled', 'unconventional', 'uncooked', 'uncut', 'undecided', 'undefined', 'undeniable', 'under', 'underage', 'underarm', 'underarms', 'undercover', 'underdeveloped', 'underestimated', 'undergo', 'undergoes', 'undergoing', 'undergone', 'undergrad', 'undergrads', 'undergraduate', 'undergraduates', 'undergraduation', 'underground', 'underlying', 'undermine', 'underneath', 'underprivileged', 'underrated', 'understand', 'understandable', 'understanding', 'understands', 'understood', 'undertake', 'undertale', 'undervalued', 'underwater', 'underwear', 'underweight', 'underwood', 'underworld', 'underwriter', 'undesirable', 'undiagnosed', 'undirected', 'undo', 'undocumented', 'unearthed', 'uneducated', 'unemployed', 'unemployment', 'unequal', 'unethical', 'uneven', 'unexpected', 'unexpectedly', 'unexplainable', 'unfair', 'unfairly', 'unfit', 'unfollow', 'unfollowed', 'unfollowing', 'unforgettable', 'unfortunate', 'unfortunately', 'unfriend', 'unfriended', 'unga', 'ungrateful', 'unhappiness', 'unhappy', 'unhealthy', 'unheard', 'unhide', 'uni', 'unicellular', 'unicode', 'unicorn', 'unicorns', 'unidentified', 'unifi', 'unification', 'unified', 'uniform', 'uniformity', 'uniformly', 'uniforms', 'unifunds', 'unify', 'unilever', 'unimplemented', 'unimportant', 'uninstall', 'uninstalled', 'uninstalling', 'unintelligent', 'unintentionally', 'uninterested', 'union', 'unions', 'uniqlo', 'unique', 'uniquely', 'unit', 'unitary', 'unite', 'united', 'units', 'unity', 'unity3d', 'univ', 'universal', 'universally', 'universe', 'universes', 'universities', 'university', 'unix', 'unjust', 'unknowingly', 'unknown', 'unleashed', 'unless', 'unlike', 'unliked', 'unlikely', 'unlimited', 'unlink', 'unlisted', 'unlock', 'unlocked', 'unlocking', 'unlucky', 'unmanned', 'unmarried', 'unmatched', 'unmerge', 'unmotivated', 'unmovable', 'unnatural', 'unnecessarily', 'unnecessary', 'unnormalized', 'unnoticed', 'uno', 'unobservable', 'unofficial', 'unofficially', 'unopened', 'unpaid', 'unpleasant', 'unplugged', 'unpopular', 'unpredictable', 'unproductive', 'unprofessional', 'unprotected', 'unread', 'unreal', 'unrealistic', 'unreasonable', 'unrefrigerated', 'unrelated', 'unreliable', 'unremarkable', 'unrequited', 'unreserved', 'unresponsive', 'unrest', 'unroot', 'unrooted', 'unsafe', 'unsaid', 'unsaturated', 'unsaved', 'unsc', 'unseen', 'unsend', 'unsigned', 'unsold', 'unsolved', 'unspoken', 'unstable', 'unstoppable', 'unstructured', 'unsubscribe', 'unsuccessful', 'unsung', 'unsupervised', 'unsure', 'unsustainable', 'untaxed', 'until', 'untold', 'untouched', 'untraceable', 'untreatable', 'untucked', 'unused', 'unusual', 'unusually', 'unverified', 'unversity', 'unwaiveringly', 'unwanted', 'unweighted', 'unwelcomed', 'unwilling', 'unwritten', 'unzip', 'up', 'upa', 'upanishads', 'upcoming', 'update', 'updated', 'updates', 'updating', 'upenn', 'upes', 'upfront', 'upgradation', 'upgrade', 'upgraded', 'upgrades', 'upgrading', 'uphill', 'uphold', 'upi', 'uplift', 'uplifting', 'upload', 'uploaded', 'uploaders', 'uploading', 'uploads', 'upon', 'uppcs', 'upper', 'upright', 'ups', 'upsc', 'upsee', 'upset', 'upside', 'upson', 'upto', 'uptu', 'upvote', 'upvoted', 'upvotes', 'upvoting', 'upward', 'upwards', 'upwork', 'ur', 'uranium', 'uranus', 'urban', 'urbanization', 'urdu', 'urea', 'urethral', 'urge', 'urgency', 'urgent', 'urges', 'uri', 'uric', 'urinary', 'urinate', 'urinating', 'urine', 'urjit', 'url', 'urls', 'urn', 'urologist', 'uruguay', 'us', 'usa', 'usability', 'usable', 'usaco', 'usaf', 'usage', 'usain', 'usb', 'usc', 'uscis', 'usd', 'use', 'used', 'useful', 'usefull', 'usefully', 'usefulness', 'useless', 'user', 'username', 'usernames', 'users', 'usertesting', 'uses', 'usher', 'using', 'usmc', 'usmle', 'usps', 'uss', 'ussr', 'usual', 'usually', 'ut', 'utah', 'utc', 'utd', 'utensil', 'utensils', 'uterus', 'uti', 'utilise', 'utilitarianism', 'utilities', 'utility', 'utilization', 'utilize', 'utilized', 'utilizing', 'utopia', 'utopian', 'utorrent', 'utr', 'uttar', 'uttarakhand', 'utter', 'utterly', 'uv', 'uw', 'ux', 'uzbekistan', 'v1', 'v10', 'v151', 'v2', 'v3', 'v5', 'v6', 'v8', 'va', 'vacancies', 'vacancy', 'vacant', 'vacate', 'vacation', 'vacationing', 'vacations', 'vaccinated', 'vaccination', 'vaccinations', 'vaccine', 'vaccines', 'vaccum', 'vacuole', 'vacuoles', 'vacuum', 'vader', 'vadodara', 'vadra', 'vagina', 'vaginal', 'vaginas', 'vagrant', 'vaild', 'vailfivia', 'vain', 'vaio', 'vajiram', 'vajpayee', 'valak', 'valar', 'valdosta', 'valence', 'valencia', 'valency', 'valentine', 'valhalla', 'valid', 'validate', 'validation', 'validity', 'valium', 'vallenar', 'valley', 'valleys', 'valmiki', 'valparaiso', 'valuable', 'valuation', 'valuations', 'value', 'valued', 'values', 'valve', 'valves', 'valyrian', 'vampire', 'vampires', 'van', 'vance', 'vancouver', 'vandal', 'vandalism', 'vanguard', 'vani', 'vanilla', 'vanish', 'vanished', 'vans', 'vantablack', 'vape', 'vaping', 'vapor', 'vaporizer', 'vaporizing', 'vaporub', 'vapour', 'varanasi', 'variable', 'variables', 'variance', 'variant', 'variants', 'variation', 'variations', 'varied', 'varies', 'varieties', 'variety', 'various', 'varma', 'varsity', 'varun', 'vary', 'varying', 'varys', 'vas', 'vasco', 'vascular', 'vasectomy', 'vaseline', 'vast', 'vasudev', 'vat', 'vatican', 'vault', 'vaynerchuk', 'vb', 'vba', 'vc', 'vce', 'vcs', 'vdi', 've', 'veaux', 'vector', 'vectors', 'veda', 'vedanta', 'vedas', 'vedic', 'veg', 'vegan', 'veganism', 'vegans', 'vegas', 'vegetable', 'vegetables', 'vegetarian', 'vegetarians', 'vegetation', 'vehicle', 'vehicles', 'veil', 'vein', 'veins', 'vellore', 'velocities', 'velocity', 'velvet', 'vendetta', 'vending', 'vendor', 'vendors', 'venezuela', 'venezuelan', 'venice', 'venmo', 'venn', 'venom', 'venomous', 'venous', 'vent', 'ventilation', 'vento', 'ventricles', 'ventricular', 'venture', 'ventures', 'venue', 'venues', 'venus', 'vera', 'verb', 'verbal', 'verbally', 'verbs', 'verdict', 'verge', 'verification', 'verifications', 'verified', 'verify', 'verilog', 'verizon', 'verma', 'vermont', 'verna', 'versa', 'versailles', 'versatile', 'verse', 'versed', 'verses', 'version', 'versions', 'versus', 'vertebrate', 'vertebrates', 'vertex', 'vertical', 'vertically', 'vertices', 'very', 'vessel', 'vessels', 'vest', 'vested', 'vesting', 'vet', 'veteran', 'veterans', 'veterinarian', 'veterinarians', 'veterinary', 'veto', 'vets', 'vevo', 'veyron', 'vfx', 'vga', 'vhdl', 'vhs', 'vi', 'via', 'viable', 'viagra', 'vibe', 'viber', 'vibes', 'vibrant', 'vibrate', 'vibrating', 'vibration', 'vibrations', 'vibrato', 'vice', 'vichitra', 'vicinity', 'vicious', 'vicks', 'vicodin', 'victim', 'victims', 'victor', 'victoria', 'victorian', 'victorious', 'victory', 'video', 'videocon', 'videos', 'vidhan', 'vidya', 'vidyalaya', 'vidyamandir', 'vie', 'viejo', 'vienna', 'viet', 'vietnam', 'vietnamese', 'view', 'viewed', 'viewer', 'viewers', 'viewership', 'viewing', 'viewpoint', 'views', 'vigorous', 'vigorously', 'vihar', 'vii', 'viii', 'vijay', 'vijayawada', 'vikas', 'viking', 'vikings', 'vikram', 'villa', 'village', 'villagers', 'villages', 'villain', 'villains', 'villarica', 'villi', 'villiers', 'vim', 'vimana', 'vimeo', 'vimy', 'vin', 'vinay', 'vince', 'vincent', 'vinci', 'vine', 'vinegar', 'vines', 'vineyard', 'vinod', 'vintage', 'vinyl', 'violate', 'violated', 'violates', 'violating', 'violation', 'violations', 'violence', 'violent', 'violet', 'violin', 'violinist', 'violins', 'vip', 'vipassana', 'vir', 'viral', 'virali', 'virat', 'virgin', 'virginia', 'virginity', 'virgins', 'virgo', 'virtual', 'virtualbox', 'virtualization', 'virtually', 'virtue', 'virtues', 'virtusa', 'virus', 'viruses', 'vis', 'visa', 'visakhapatnam', 'visas', 'viscose', 'viscosity', 'viscous', 'vise', 'vishnu', 'vishwanathan', 'vishwas', 'visibility', 'visible', 'vision', 'visionary', 'visit', 'visited', 'visiting', 'visitor', 'visitors', 'visits', 'vista', 'visual', 'visualise', 'visualization', 'visualizations', 'visualize', 'visually', 'visuals', 'viswanathan', 'vit', 'vita', 'vitae', 'vital', 'vitamin', 'vitamins', 'viteee', 'vitiligo', 'vitrified', 'vitro', 'viva', 'vivekananda', 'vivid', 'vivo', 'vizag', 'vizio', 'vjti', 'vlad', 'vladimir', 'vlan', 'vlc', 'vlog', 'vloggers', 'vlogs', 'vlsi', 'vm', 'vmc', 'vmmc', 'vmware', 'vnit', 'voc', 'vocabularies', 'vocabulary', 'vocal', 'vocals', 'vocation', 'vocational', 'vodafone', 'vodka', 'voice', 'voicemail', 'voiceover', 'voices', 'void', 'voip', 'volatile', 'volatility', 'volcanic', 'volcano', 'volcanoes', 'voldemort', 'volkswagen', 'volleyball', 'volt', 'voltage', 'voltaire', 'volte', 'voltmeter', 'volts', 'volume', 'volumes', 'volumetric', 'voluntarily', 'voluntary', 'volunteer', 'volunteering', 'volunteers', 'volvo', 'vomit', 'vomiting', 'vomits', 'von', 'voodoo', 'voot', 'voracious', 'vote', 'voted', 'voter', 'voters', 'votes', 'voting', 'voucher', 'vouchers', 'vow', 'vowel', 'vowels', 'vox', 'voyage', 'voyager', 'vp', 'vpn', 'vpns', 'vps', 'vr', 'vram', 'vs', 'vsco', 'vssut', 'vt', 'vtu', 'vu', 'vuejs', 'vuitton', 'vulgar', 'vulnerabilities', 'vulnerability', 'vulnerable', 'vulva', 'vw', 'vyapam', 'vythiri', 'vyvanse', 'w2', 'wa', 'waals', 'wacom', 'wade', 'wag', 'wage', 'wages', 'wagon', 'wahlberg', 'waist', 'wait', 'waited', 'waiter', 'waiters', 'waiting', 'waitlist', 'waitlisted', 'waits', 'waive', 'waived', 'waiver', 'wake', 'wakes', 'waking', 'wales', 'walgreens', 'walk', 'walked', 'walker', 'walkers', 'walkie', 'walking', 'walks', 'wall', 'wallace', 'wallet', 'wallets', 'wallpaper', 'wallpapers', 'walls', 'walmart', 'walnut', 'walt', 'walter', 'wan', 'wand', 'wanders', 'wands', 'wanna', 'wannabe', 'want', 'wanted', 'wanting', 'wants', 'wap', 'war', 'warangal', 'warby', 'warcraft', 'ward', 'wardrobe', 'wardrobes', 'wards', 'warehouse', 'warehousing', 'warfare', 'warg', 'warhead', 'warheads', 'warhol', 'warm', 'warmer', 'warmest', 'warming', 'warned', 'warner', 'warning', 'warnings', 'warp', 'warped', 'warrant', 'warrants', 'warranty', 'warren', 'warrior', 'warriors', 'wars', 'warsaw', 'wart', 'wartime', 'warts', 'warwick', 'was', 'wasabi', 'wash', 'washed', 'washer', 'washes', 'washing', 'washington', 'washroom', 'wasn', 'wasp', 'wasps', 'wasserman', 'wasseypur', 'wastage', 'waste', 'wasted', 'wastes', 'wasting', 'wat', 'watch', 'watched', 'watcher', 'watches', 'watching', 'water', 'watercolor', 'waterfall', 'watergate', 'waterloo', 'watermark', 'watermelon', 'waterproof', 'waters', 'watery', 'watney', 'watsapp', 'watson', 'watt', 'wattpad', 'watts', 'wav', 'wave', 'wavelength', 'wavelengths', 'waves', 'waving', 'wavy', 'wax', 'waxing', 'way', 'wayanad', 'wayne', 'ways', 'waze', 'wb', 'wbc', 'wbjee', 'wbut', 'wc', 'wcdma', 'wd', 'we', 'weak', 'weaken', 'weaker', 'weakest', 'weakness', 'weaknesses', 'wealth', 'wealthfront', 'wealthier', 'wealthiest', 'wealthy', 'weapon', 'weapons', 'wear', 'wearable', 'wearing', 'wears', 'weasley', 'weather', 'weathering', 'weave', 'weaves', 'web', 'webb', 'webcam', 'webdriver', 'weber', 'webinar', 'webinars', 'webmaster', 'webpage', 'webpages', 'webs', 'website', 'websites', 'websocket', 'websockets', 'websphere', 'webster', 'webview', 'wechat', 'wedding', 'weddings', 'wedge', 'wedlock', 'wednesday', 'weds', 'weebly', 'weed', 'weeding', 'weeds', 'week', 'weekdays', 'weekend', 'weekends', 'weekly', 'weeknd', 'weeks', 'wehrmacht', 'wei', 'weibo', 'weigh', 'weighed', 'weighing', 'weighs', 'weight', 'weightage', 'weighted', 'weightlessness', 'weights', 'weimar', 'weiner', 'weir', 'weird', 'weirdest', 'welcome', 'welcomed', 'welcoming', 'weld', 'welded', 'welder', 'welding', 'welfare', 'welfarism', 'well', 'wells', 'wellsfargo', 'welsh', 'wen', 'wendy', 'went', 'were', 'weren', 'werner', 'wes', 'wesco', 'wesleyan', 'wesson', 'west', 'western', 'westerner', 'westerners', 'westeros', 'westie', 'westminster', 'westworld', 'wet', 'whale', 'whales', 'wharton', 'what', 'whatever', 'whats', 'whatsapp', 'whatsoever', 'wheat', 'wheel', 'wheelchair', 'wheelchairs', 'wheeler', 'wheelers', 'wheeling', 'wheels', 'when', 'whenever', 'where', 'whereas', 'wherever', 'whether', 'whey', 'which', 'whichever', 'while', 'whilst', 'whine', 'whining', 'whiny', 'whip', 'whiplash', 'whipped', 'whipping', 'whirlpool', 'whiskey', 'whisky', 'whisper', 'whistle', 'whistler', 'whistles', 'whistling', 'white', 'whiteboard', 'whitefield', 'whitehat', 'whiteheads', 'whiten', 'whitening', 'whiter', 'whites', 'whiting', 'who', 'whoever', 'whole', 'wholesale', 'wholesaler', 'wholesalers', 'whom', 'whore', 'whos', 'whose', 'wht', 'whu', 'why', 'wi', 'wich', 'wick', 'wicket', 'wickets', 'wid', 'wide', 'widely', 'wider', 'widespread', 'widest', 'widget', 'widgets', 'widow', 'width', 'wife', 'wifes', 'wifi', 'wig', 'wigs', 'wii', 'wiki', 'wikianswers', 'wikileaks', 'wikipedia', 'wil', 'wild', 'wildcard', 'wilde', 'wilderness', 'wildest', 'wildfire', 'wildlife', 'wildly', 'will', 'william', 'williams', 'willing', 'willingly', 'willpower', 'willy', 'wilson', 'wimp', 'win', 'wind', 'winding', 'window', 'windows', 'winds', 'windshield', 'windsor', 'windsurfing', 'windu', 'windy', 'wine', 'winehouse', 'wineries', 'winery', 'wines', 'wing', 'wings', 'winner', 'winners', 'winnie', 'winning', 'wins', 'winston', 'winter', 'winterfell', 'winters', 'wipe', 'wiped', 'wiper', 'wipers', 'wiping', 'wipro', 'wire', 'wired', 'wireframe', 'wireframing', 'wireless', 'wirelessly', 'wires', 'wiring', 'wisconsin', 'wisdom', 'wise', 'wisely', 'wiser', 'wisest', 'wish', 'wished', 'wishes', 'wishing', 'wishlist', 'wistful', 'wit', 'witch', 'witchcraft', 'witcher', 'witches', 'with', 'withdraw', 'withdrawal', 'withdrawing', 'withdrawn', 'withdrew', 'withheld', 'withhold', 'within', 'without', 'withstand', 'witness', 'witnessed', 'witnesses', 'witten', 'wittgenstein', 'wittiest', 'witty', 'wives', 'wix', 'wiz', 'wizard', 'wizards', 'wl', 'wlan', 'woah', 'woke', 'wolf', 'wolfgang', 'wolfram', 'wolverine', 'wolves', 'woman', 'womanizer', 'womb', 'women', 'womens', 'won', 'wonder', 'wondered', 'wonderful', 'wondering', 'wonders', 'wong', 'wont', 'woo', 'woocommerce', 'wood', 'woodchuck', 'wooden', 'woods', 'woody', 'wool', 'word', 'wordpress', 'words', 'wordy', 'wore', 'work', 'workable', 'workaholic', 'workbook', 'workday', 'worked', 'worker', 'workers', 'workflow', 'workforce', 'working', 'workings', 'workload', 'workout', 'workouts', 'workplace', 'workplaces', 'works', 'workshop', 'workspace', 'workstation', 'workstations', 'world', 'worlds', 'worldview', 'worldwide', 'worm', 'wormhole', 'wormholes', 'worms', 'worn', 'worried', 'worries', 'worry', 'worrying', 'worse', 'worsen', 'worship', 'worshiped', 'worshiping', 'worshipped', 'worshipping', 'worst', 'worth', 'worthless', 'worthwhile', 'worthy', 'would', 'wouldn', 'wouldnt', 'wound', 'wounded', 'wounds', 'woven', 'wow', 'wozniak', 'wp', 'wpa', 'wpf', 'wpi', 'wpm', 'wps', 'wrangler', 'wrap', 'wrapped', 'wrapping', 'wrath', 'wreck', 'wrenching', 'wrestler', 'wrestlers', 'wrestling', 'wright', 'wrinkled', 'wrinkles', 'wrist', 'wristbands', 'wrists', 'write', 'writen', 'writer', 'writers', 'writes', 'writing', 'writings', 'written', 'wrong', 'wrongfully', 'wrongly', 'wrote', 'ws', 'wtc', 'wtf', 'wto', 'wu', 'wunderlist', 'ww', 'ww1', 'ww2', 'ww3', 'wwdc', 'wwe', 'wwi', 'wwii', 'wwiii', 'wwll', 'www', 'wynk', 'wyoming', 'wysiwyg', 'x1', 'x10', 'x2', 'x4', 'x7', 'x8', 'xa', 'xamarin', 'xampp', 'xanax', 'xander', 'xat', 'xavier', 'xbox', 'xchrisone', 'xcode', 'xdk', 'xena', 'xenophobic', 'xeon', 'xerox', 'xfce', 'xfinity', 'xi', 'xiaomi', 'xii', 'ximb', 'xiomi', 'xl', 'xlri', 'xml', 'xolo', 'xor', 'xp', 'xpath', 'xperia', 'xps', 'xr', 'xtrade', 'xuv500', 'xvideos', 'xx', 'xxx', 'xy', 'xyz', 'xù', 'y2mate', 'ya', 'yacht', 'yachts', 'yadav', 'yahoo', 'yahweh', 'yakuza', 'yale', 'yalu', 'yamaha', 'yammer', 'yang', 'yaoi', 'yard', 'yards', 'yarn', 'yatra', 'yawn', 'yawning', 'yawns', 'yc', 'yeah', 'year', 'yearly', 'years', 'yeast', 'yeh', 'yell', 'yellen', 'yelling', 'yellow', 'yellowish', 'yellowstone', 'yells', 'yelp', 'yemen', 'yen', 'yes', 'yesterday', 'yet', 'yew', 'yg', 'ygritte', 'yiannopoulos', 'yield', 'yields', 'yii', 'ymca', 'yo', 'yoda', 'yodlee', 'yoga', 'yoghurt', 'yogurt', 'yojana', 'yoke', 'yolk', 'yolks', 'yom', 'yonex', 'york', 'yorker', 'yorkers', 'yorkie', 'yorkshire', 'yosemite', 'you', 'young', 'younger', 'youngest', 'youngs', 'youngster', 'youngsters', 'your', 'yours', 'yourself', 'yousafzai', 'youth', 'youtube', 'youtuber', 'youtubers', 'youve', 'yr', 'yrs', 'yts', 'yu', 'yuan', 'yudkowsky', 'yuga', 'yugioh', 'yugoslavia', 'yuma', 'yunnan', 'yuphoria', 'yureka', 'yuri', 'yuv', 'yuvraj', 'yyyy', 'z1', 'z2', 'z3', 'z3200', 'z5', 'z5200', 'zac', 'zakir', 'zapata', 'zara', 'zawar', 'zayn', 'zbrush', 'ze', 'zealand', 'zealot', 'zebras', 'zedong', 'zee', 'zeitgeist', 'zelda', 'zen', 'zener', 'zenfone', 'zeppelin', 'zero', 'zerodha', 'zeroes', 'zeros', 'zest', 'zeta', 'zeus', 'zhang', 'zhihu', 'zhukov', 'zhì', 'zidane', 'zigbee', 'zika', 'zillow', 'zimbabwe', 'zimmer', 'zinc', 'zindagi', 'zingat', 'zip', 'zipcar', 'zipper', 'zippers', 'zippo', 'zits', 'zodiac', 'zoho', 'zoloft', 'zomato', 'zombie', 'zombies', 'zombo', 'zondle', 'zone', 'zoned', 'zones', 'zoo', 'zoology', 'zoom', 'zoos', 'zoosk', 'zootopia', 'zoro', 'zoroastrians', 'zotac', 'zs', 'zte', 'zucchini', 'zuckerberg', 'zuma', 'zumba', 'zurich', 'zx', 'zygote', 'zynga', 'zzzquil', 'zürich', 'ƫҿϟɮ', 'ɐŧ', 'ɽφʉʛƕ', 'ιχς', 'ཡز', '不好意思', '多少', '横向卷轴rpg游戏']\n"
          ],
          "name": "stdout"
        }
      ]
    },
    {
      "cell_type": "code",
      "metadata": {
        "id": "Vv19gLTO4c7r",
        "colab_type": "code",
        "colab": {}
      },
      "source": [
        "X_train_df = X_train.drop(['question1','question2'],axis=1)\n",
        "X_test_df = X_test.drop(['question1','question2'],axis=1)"
      ],
      "execution_count": 0,
      "outputs": []
    },
    {
      "cell_type": "code",
      "metadata": {
        "id": "abHFlCAC2SRV",
        "colab_type": "code",
        "outputId": "51ff791a-76fd-4cf8-e72e-fb5086b4a696",
        "colab": {
          "base_uri": "https://localhost:8080/",
          "height": 50
        }
      },
      "source": [
        "import scipy\n",
        "X_train_sparse = scipy.sparse.csr_matrix(X_train_df)\n",
        "print(X_train_df.shape)\n",
        "print(X_train_sparse.shape)"
      ],
      "execution_count": 0,
      "outputs": [
        {
          "output_type": "stream",
          "text": [
            "(283003, 27)\n",
            "(283003, 27)\n"
          ],
          "name": "stdout"
        }
      ]
    },
    {
      "cell_type": "code",
      "metadata": {
        "id": "kBEMtpMS2-pm",
        "colab_type": "code",
        "outputId": "7705d763-a1c2-4a93-b072-0be504d0351f",
        "colab": {
          "base_uri": "https://localhost:8080/",
          "height": 34
        }
      },
      "source": [
        "from scipy.sparse import hstack\n",
        "\n",
        "X_train_tfidf = hstack((X_train_sparse,q1_train_tfidf,q2_train_tfidf))\n",
        "X_train_tfidf.shape\n"
      ],
      "execution_count": 0,
      "outputs": [
        {
          "output_type": "execute_result",
          "data": {
            "text/plain": [
              "(283003, 50943)"
            ]
          },
          "metadata": {
            "tags": []
          },
          "execution_count": 49
        }
      ]
    },
    {
      "cell_type": "code",
      "metadata": {
        "id": "pcv9vVhh2t-q",
        "colab_type": "code",
        "outputId": "225aecb6-a994-4da6-bdfb-cbde537e5320",
        "colab": {
          "base_uri": "https://localhost:8080/",
          "height": 50
        }
      },
      "source": [
        "import scipy\n",
        "X_test_sparse = scipy.sparse.csr_matrix(X_test_df)\n",
        "print(X_test_df.shape)\n",
        "print(X_test_sparse.shape)"
      ],
      "execution_count": 0,
      "outputs": [
        {
          "output_type": "stream",
          "text": [
            "(121287, 27)\n",
            "(121287, 27)\n"
          ],
          "name": "stdout"
        }
      ]
    },
    {
      "cell_type": "code",
      "metadata": {
        "id": "0DeYi6mj212_",
        "colab_type": "code",
        "outputId": "abef6533-db3c-4b00-b772-4b0073b65f50",
        "colab": {
          "base_uri": "https://localhost:8080/",
          "height": 34
        }
      },
      "source": [
        "from scipy.sparse import hstack\n",
        "\n",
        "X_test_tfidf = hstack((X_test_sparse,q1_test_tfidf,q2_test_tfidf))\n",
        "X_test_tfidf.shape\n"
      ],
      "execution_count": 0,
      "outputs": [
        {
          "output_type": "execute_result",
          "data": {
            "text/plain": [
              "(121287, 50943)"
            ]
          },
          "metadata": {
            "tags": []
          },
          "execution_count": 52
        }
      ]
    },
    {
      "cell_type": "code",
      "metadata": {
        "id": "R9oFIXpwtGRw",
        "colab_type": "code",
        "colab": {}
      },
      "source": [
        "# q1_tfidf_train_df = pd.DataFrame(q1_train_tfidf)\n",
        "# q1_tfidf_train_df = q1_tfidf_train_df.fillna(0)\n",
        "\n",
        "# q2_tfidf_train_df = pd.DataFrame(q2_train_tfidf)\n",
        "# q2_tfidf_train_df = q2_tfidf_train_df.fillna(0)\n",
        "\n",
        "# q1_tfidf_test_df = pd.DataFrame(q1_test_tfidf) \n",
        "# q1_tfidf_test_df = q1_tfidf_test_df.fillna(0)\n",
        "\n",
        "# q2_tfidf_test_df = pd.DataFrame(q2_test_tfidf) \n",
        "# q2_tfidf_test_df = q2_tfidf_test_df.fillna(0)"
      ],
      "execution_count": 0,
      "outputs": []
    },
    {
      "cell_type": "code",
      "metadata": {
        "id": "8sLvHvqJtvu4",
        "colab_type": "code",
        "colab": {}
      },
      "source": [
        "# q1_tfidf_train_df['id']=X_train['id']\n",
        "# q2_tfidf_train_df['id']=X_train['id']\n",
        "# q1_tfidf_test_df['id']=X_test['id']\n",
        "# q2_tfidf_test_df['id']=X_test['id']"
      ],
      "execution_count": 0,
      "outputs": []
    },
    {
      "cell_type": "code",
      "metadata": {
        "id": "MZEDOQ9At_I5",
        "colab_type": "code",
        "colab": {}
      },
      "source": [
        "# X_train_tfidf = X_train.merge(q1_tfidf_train_df, on='id',how='left')\n",
        "# X_train_tfidf = X_train_tfidf.merge(q2_tfidf_train_df, on='id',how='left')\n",
        "\n",
        "# X_test_tfidf = X_test.merge(q1_tfidf_test_df, on='id',how='left')\n",
        "# X_test_tfidf = X_test_tfidf.merge(q2_tfidf_test_df, on='id',how='left')"
      ],
      "execution_count": 0,
      "outputs": []
    },
    {
      "cell_type": "code",
      "metadata": {
        "id": "Jl3DbK7CuVRj",
        "colab_type": "code",
        "colab": {}
      },
      "source": [
        "# X_train_tfidf = X_train_tfidf.fillna(0)\n",
        "# X_test_tfidf = X_test_tfidf.fillna(0)"
      ],
      "execution_count": 0,
      "outputs": []
    },
    {
      "cell_type": "code",
      "metadata": {
        "id": "nxrJFG8XufD8",
        "colab_type": "code",
        "colab": {}
      },
      "source": [
        "# X_train_tfidf = X_train_tfidf.drop(['question1','question2'],axis=1)\n",
        "# X_test_tfidf = X_test_tfidf.drop(['question1','question2'],axis=1)"
      ],
      "execution_count": 0,
      "outputs": []
    },
    {
      "cell_type": "code",
      "metadata": {
        "id": "_ME5wZaIup3S",
        "colab_type": "code",
        "outputId": "ec52bd4f-f255-4dd2-e9f4-c75b4e1e3467",
        "colab": {
          "base_uri": "https://localhost:8080/",
          "height": 50
        }
      },
      "source": [
        "# print(X_train_tfidf.shape)\n",
        "# print(X_test_tfidf.shape)"
      ],
      "execution_count": 0,
      "outputs": [
        {
          "output_type": "stream",
          "text": [
            "(283003, 29)\n",
            "(121287, 29)\n"
          ],
          "name": "stdout"
        }
      ]
    },
    {
      "cell_type": "code",
      "metadata": {
        "id": "QIEjY0tGuvIw",
        "colab_type": "code",
        "colab": {}
      },
      "source": [
        "# X_train_tfidf.head(2)"
      ],
      "execution_count": 0,
      "outputs": []
    },
    {
      "cell_type": "code",
      "metadata": {
        "id": "5Fs2Z4Auu0z1",
        "colab_type": "code",
        "colab": {}
      },
      "source": [
        "# X_test_tfidf.head(2)"
      ],
      "execution_count": 0,
      "outputs": []
    },
    {
      "cell_type": "markdown",
      "metadata": {
        "id": "OKAxgqOwvqDD",
        "colab_type": "text"
      },
      "source": [
        "### 4.1 Building a random model (Finding worst-case log-loss) "
      ]
    },
    {
      "cell_type": "code",
      "metadata": {
        "id": "hTv3d2Mxvru6",
        "colab_type": "code",
        "outputId": "ad1b56f0-eafd-401f-e915-140d9e00ec22",
        "colab": {
          "base_uri": "https://localhost:8080/",
          "height": 332
        }
      },
      "source": [
        "# we need to generate 9 numbers and the sum of numbers should be 1\n",
        "# one solution is to genarate 9 numbers and divide each of the numbers by their sum\n",
        "# ref: https://stackoverflow.com/a/18662466/4084039\n",
        "# we create a output array that has exactly same size as the CV data\n",
        "predicted_y = np.zeros((test_len,2))\n",
        "for i in range(test_len):\n",
        "    rand_probs = np.random.rand(1,2)\n",
        "    predicted_y[i] = ((rand_probs/sum(sum(rand_probs)))[0])\n",
        "print(\"Log loss on Test Data using Random Model\",log_loss(y_test, predicted_y, eps=1e-15))\n",
        "\n",
        "predicted_y =np.argmax(predicted_y, axis=1)\n",
        "plot_confusion_matrix(y_test, predicted_y)"
      ],
      "execution_count": 0,
      "outputs": [
        {
          "output_type": "stream",
          "text": [
            "Log loss on Test Data using Random Model 0.8868944695427189\n"
          ],
          "name": "stdout"
        },
        {
          "output_type": "display_data",
          "data": {
            "image/png": "[encoded data removed]",
            "text/plain": [
              "<Figure size 1440x288 with 6 Axes>"
            ]
          },
          "metadata": {
            "tags": []
          }
        }
      ]
    },
    {
      "cell_type": "markdown",
      "metadata": {
        "id": "zjEjmgTev1md",
        "colab_type": "text"
      },
      "source": [
        "### 4.2 Logistic Regression with hyperparameter tuning \n"
      ]
    },
    {
      "cell_type": "code",
      "metadata": {
        "id": "k9U6djIXwERs",
        "colab_type": "code",
        "outputId": "5084e1cc-4acf-4413-9a9f-b2bd293a175c",
        "colab": {
          "base_uri": "https://localhost:8080/",
          "height": 761
        }
      },
      "source": [
        "alpha = [10 ** x for x in range(-5, 2)] # hyperparam for SGD classifier.\n",
        "\n",
        "# read more about SGDClassifier() at http://scikit-learn.org/stable/modules/generated/sklearn.linear_model.SGDClassifier.html\n",
        "# ------------------------------\n",
        "# default parameters\n",
        "# SGDClassifier(loss=’hinge’, penalty=’l2’, alpha=0.0001, l1_ratio=0.15, fit_intercept=True, max_iter=None, tol=None, \n",
        "# shuffle=True, verbose=0, epsilon=0.1, n_jobs=1, random_state=None, learning_rate=’optimal’, eta0=0.0, power_t=0.5, \n",
        "# class_weight=None, warm_start=False, average=False, n_iter=None)\n",
        "\n",
        "# some of methods\n",
        "# fit(X, y[, coef_init, intercept_init, …])\tFit linear model with Stochastic Gradient Descent.\n",
        "# predict(X)\tPredict class labels for samples in X.\n",
        "\n",
        "#-------------------------------\n",
        "# video link: \n",
        "#------------------------------\n",
        "\n",
        "\n",
        "log_error_array=[]\n",
        "for i in alpha:\n",
        "    clf = SGDClassifier(alpha=i, penalty='l2', loss='log', random_state=42,n_jobs=-1)\n",
        "    clf.fit(X_train_tfidf, y_train)\n",
        "    sig_clf = CalibratedClassifierCV(clf, method=\"sigmoid\")\n",
        "    sig_clf.fit(X_train_tfidf, y_train)\n",
        "    predict_y = sig_clf.predict_proba(X_test_tfidf)\n",
        "    log_error_array.append(log_loss(y_test, predict_y, labels=clf.classes_, eps=1e-15))\n",
        "    print('For values of alpha = ', i, \"The log loss is:\",log_loss(y_test, predict_y, labels=clf.classes_, eps=1e-15))\n",
        "\n",
        "fig, ax = plt.subplots()\n",
        "ax.plot(alpha, log_error_array,c='g')\n",
        "for i, txt in enumerate(np.round(log_error_array,3)):\n",
        "    ax.annotate((alpha[i],np.round(txt,3)), (alpha[i],log_error_array[i]))\n",
        "plt.grid()\n",
        "plt.title(\"Cross Validation Error for each alpha\")\n",
        "plt.xlabel(\"Alpha i's\")\n",
        "plt.ylabel(\"Error measure\")\n",
        "plt.show()\n",
        "\n",
        "\n",
        "best_alpha = np.argmin(log_error_array)\n",
        "clf = SGDClassifier(alpha=alpha[best_alpha], penalty='l2', loss='log', random_state=42)\n",
        "clf.fit(X_train_tfidf, y_train)\n",
        "sig_clf = CalibratedClassifierCV(clf, method=\"sigmoid\")\n",
        "sig_clf.fit(X_train_tfidf, y_train)\n",
        "\n",
        "predict_y = sig_clf.predict_proba(X_train_tfidf)\n",
        "print('For values of best alpha = ', alpha[best_alpha], \"The train log loss is:\",log_loss(y_train, predict_y, labels=clf.classes_, eps=1e-15))\n",
        "predict_y = sig_clf.predict_proba(X_test_tfidf)\n",
        "print('For values of best alpha = ', alpha[best_alpha], \"The test log loss is:\",log_loss(y_test, predict_y, labels=clf.classes_, eps=1e-15))\n",
        "predicted_y =np.argmax(predict_y,axis=1)\n",
        "print(\"Total number of data points :\", len(predicted_y))\n",
        "plot_confusion_matrix(y_test, predicted_y)"
      ],
      "execution_count": 0,
      "outputs": [
        {
          "output_type": "stream",
          "text": [
            "For values of alpha =  1e-05 The log loss is: 0.6585278256347588\n",
            "For values of alpha =  0.0001 The log loss is: 0.6585278256347588\n",
            "For values of alpha =  0.001 The log loss is: 0.6585278256347588\n",
            "For values of alpha =  0.01 The log loss is: 0.6585278256347588\n",
            "For values of alpha =  0.1 The log loss is: 0.607728050805683\n",
            "For values of alpha =  1 The log loss is: 0.6033867246972278\n",
            "For values of alpha =  10 The log loss is: 0.623613752312327\n"
          ],
          "name": "stdout"
        },
        {
          "output_type": "display_data",
          "data": {
            "image/png": "[encoded data removed]",
            "text/plain": [
              "<Figure size 432x288 with 1 Axes>"
            ]
          },
          "metadata": {
            "tags": []
          }
        },
        {
          "output_type": "stream",
          "text": [
            "For values of best alpha =  1 The train log loss is: 0.6039211159433389\n",
            "For values of best alpha =  1 The test log loss is: 0.6033867246972278\n",
            "Total number of data points : 121287\n"
          ],
          "name": "stdout"
        },
        {
          "output_type": "display_data",
          "data": {
            "image/png": "[encoded data removed]",
            "text/plain": [
              "<Figure size 1440x288 with 6 Axes>"
            ]
          },
          "metadata": {
            "tags": []
          }
        }
      ]
    },
    {
      "cell_type": "markdown",
      "metadata": {
        "id": "rxBN7vpmwLsv",
        "colab_type": "text"
      },
      "source": [
        "### 4.3 Linear SVM with hyperparameter tuning "
      ]
    },
    {
      "cell_type": "code",
      "metadata": {
        "id": "A_oCpjUFwNgs",
        "colab_type": "code",
        "outputId": "364a7a42-92e1-484c-8cf3-6b4967fb55d4",
        "colab": {
          "base_uri": "https://localhost:8080/",
          "height": 761
        }
      },
      "source": [
        "alpha = [10 ** x for x in range(-5, 2)] # hyperparam for SGD classifier.\n",
        "\n",
        "# read more about SGDClassifier() at http://scikit-learn.org/stable/modules/generated/sklearn.linear_model.SGDClassifier.html\n",
        "# ------------------------------\n",
        "# default parameters\n",
        "# SGDClassifier(loss=’hinge’, penalty=’l2’, alpha=0.0001, l1_ratio=0.15, fit_intercept=True, max_iter=None, tol=None, \n",
        "# shuffle=True, verbose=0, epsilon=0.1, n_jobs=1, random_state=None, learning_rate=’optimal’, eta0=0.0, power_t=0.5, \n",
        "# class_weight=None, warm_start=False, average=False, n_iter=None)\n",
        "\n",
        "# some of methods\n",
        "# fit(X, y[, coef_init, intercept_init, …])\tFit linear model with Stochastic Gradient Descent.\n",
        "# predict(X)\tPredict class labels for samples in X.\n",
        "\n",
        "#-------------------------------\n",
        "# video link: \n",
        "#------------------------------\n",
        "\n",
        "\n",
        "log_error_array=[]\n",
        "for i in alpha:\n",
        "    clf = SGDClassifier(alpha=i, penalty='l1', loss='hinge', random_state=42,n_jobs=-1)\n",
        "    clf.fit(X_train_tfidf, y_train)\n",
        "    sig_clf = CalibratedClassifierCV(clf, method=\"sigmoid\")\n",
        "    sig_clf.fit(X_train_tfidf, y_train)\n",
        "    predict_y = sig_clf.predict_proba(X_test_tfidf)\n",
        "    log_error_array.append(log_loss(y_test, predict_y, labels=clf.classes_, eps=1e-15))\n",
        "    print('For values of alpha = ', i, \"The log loss is:\",log_loss(y_test, predict_y, labels=clf.classes_, eps=1e-15))\n",
        "\n",
        "fig, ax = plt.subplots()\n",
        "ax.plot(alpha, log_error_array,c='g')\n",
        "for i, txt in enumerate(np.round(log_error_array,3)):\n",
        "    ax.annotate((alpha[i],np.round(txt,3)), (alpha[i],log_error_array[i]))\n",
        "plt.grid()\n",
        "plt.title(\"Cross Validation Error for each alpha\")\n",
        "plt.xlabel(\"Alpha i's\")\n",
        "plt.ylabel(\"Error measure\")\n",
        "plt.show()\n",
        "\n",
        "\n",
        "best_alpha = np.argmin(log_error_array)\n",
        "clf = SGDClassifier(alpha=alpha[best_alpha], penalty='l1', loss='hinge', random_state=42)\n",
        "clf.fit(X_train_tfidf, y_train)\n",
        "sig_clf = CalibratedClassifierCV(clf, method=\"sigmoid\")\n",
        "sig_clf.fit(X_train_tfidf, y_train)\n",
        "\n",
        "predict_y = sig_clf.predict_proba(X_train_tfidf)\n",
        "print('For values of best alpha = ', alpha[best_alpha], \"The train log loss is:\",log_loss(y_train, predict_y, labels=clf.classes_, eps=1e-15))\n",
        "predict_y = sig_clf.predict_proba(X_test_tfidf)\n",
        "print('For values of best alpha = ', alpha[best_alpha], \"The test log loss is:\",log_loss(y_test, predict_y, labels=clf.classes_, eps=1e-15))\n",
        "predicted_y =np.argmax(predict_y,axis=1)\n",
        "print(\"Total number of data points :\", len(predicted_y))\n",
        "plot_confusion_matrix(y_test, predicted_y)"
      ],
      "execution_count": 0,
      "outputs": [
        {
          "output_type": "stream",
          "text": [
            "For values of alpha =  1e-05 The log loss is: 0.6585278256347588\n",
            "For values of alpha =  0.0001 The log loss is: 0.6585278256347588\n",
            "For values of alpha =  0.001 The log loss is: 0.6585278256347588\n",
            "For values of alpha =  0.01 The log loss is: 0.6585278256347588\n",
            "For values of alpha =  0.1 The log loss is: 0.6585278256347588\n",
            "For values of alpha =  1 The log loss is: 0.6062366069508072\n",
            "For values of alpha =  10 The log loss is: 0.6585278256302662\n"
          ],
          "name": "stdout"
        },
        {
          "output_type": "display_data",
          "data": {
            "image/png": "[encoded data removed]",
            "text/plain": [
              "<Figure size 432x288 with 1 Axes>"
            ]
          },
          "metadata": {
            "tags": []
          }
        },
        {
          "output_type": "stream",
          "text": [
            "For values of best alpha =  1 The train log loss is: 0.6067287950035007\n",
            "For values of best alpha =  1 The test log loss is: 0.6062366069508072\n",
            "Total number of data points : 121287\n"
          ],
          "name": "stdout"
        },
        {
          "output_type": "display_data",
          "data": {
            "image/png": "[encoded data removed]",
            "text/plain": [
              "<Figure size 1440x288 with 6 Axes>"
            ]
          },
          "metadata": {
            "tags": []
          }
        }
      ]
    },
    {
      "cell_type": "markdown",
      "metadata": {
        "id": "ba0kpadLwUTL",
        "colab_type": "text"
      },
      "source": [
        "\n",
        "### 4.4 XGBoost\n",
        "\n"
      ]
    },
    {
      "cell_type": "code",
      "metadata": {
        "id": "OoBEAXuMwT29",
        "colab_type": "code",
        "outputId": "56ce7abf-235c-4693-86dc-f3db33ae9d5a",
        "colab": {
          "base_uri": "https://localhost:8080/",
          "height": 235
        }
      },
      "source": [
        "from sklearn.model_selection import RandomizedSearchCV\n",
        "from xgboost import XGBClassifier\n",
        "import matplotlib.pyplot as plt\n",
        "\n",
        "\n",
        " \n",
        "tuned_parameters = {'max_depth':[2,5,7,10],'n_estimators':[10,50,100,500]}\n",
        "\n",
        "clf_gb = XGBClassifier(objective='binary:logistic', eval_metric='logloss',n_jobs=-1)\n",
        "\n",
        " \n",
        "\n",
        "#Using RandomSearchCV\n",
        "model_tfidf = RandomizedSearchCV(clf_gb, tuned_parameters,verbose=5,n_jobs=10)\n",
        "model_tfidf.fit(X_train_tfidf, y_train)\n",
        "\n",
        " \n",
        "\n",
        "print(model_tfidf.best_estimator_)\n",
        "print(model_tfidf.score(X_train_tfidf, y_train))\n",
        "\n"
      ],
      "execution_count": 0,
      "outputs": [
        {
          "output_type": "stream",
          "text": [
            "Fitting 3 folds for each of 10 candidates, totalling 30 fits\n"
          ],
          "name": "stdout"
        },
        {
          "output_type": "stream",
          "text": [
            "[Parallel(n_jobs=10)]: Using backend LokyBackend with 10 concurrent workers.\n",
            "[Parallel(n_jobs=10)]: Done  18 out of  30 | elapsed: 15.7min remaining: 10.5min\n",
            "[Parallel(n_jobs=10)]: Done  25 out of  30 | elapsed: 55.8min remaining: 11.2min\n",
            "[Parallel(n_jobs=10)]: Done  30 out of  30 | elapsed: 64.2min finished\n"
          ],
          "name": "stderr"
        },
        {
          "output_type": "stream",
          "text": [
            "XGBClassifier(base_score=0.5, booster='gbtree', colsample_bylevel=1,\n",
            "              colsample_bynode=1, colsample_bytree=1, eval_metric='logloss',\n",
            "              gamma=0, learning_rate=0.1, max_delta_step=0, max_depth=10,\n",
            "              min_child_weight=1, missing=None, n_estimators=500, n_jobs=-1,\n",
            "              nthread=None, objective='binary:logistic', random_state=0,\n",
            "              reg_alpha=0, reg_lambda=1, scale_pos_weight=1, seed=None,\n",
            "              silent=None, subsample=1, verbosity=1)\n",
            "0.9055840397451617\n"
          ],
          "name": "stdout"
        }
      ]
    },
    {
      "cell_type": "code",
      "metadata": {
        "id": "5p8_Df1iwj3J",
        "colab_type": "code",
        "outputId": "618a2a9a-94db-4bf9-c3a9-b73318dd64be",
        "colab": {
          "base_uri": "https://localhost:8080/",
          "height": 151
        }
      },
      "source": [
        "print(model_tfidf.best_estimator_)\n",
        "print(model_tfidf.score(X_test_tfidf, y_test))"
      ],
      "execution_count": 0,
      "outputs": [
        {
          "output_type": "stream",
          "text": [
            "XGBClassifier(base_score=0.5, booster='gbtree', colsample_bylevel=1,\n",
            "              colsample_bynode=1, colsample_bytree=1, eval_metric='logloss',\n",
            "              gamma=0, learning_rate=0.1, max_delta_step=0, max_depth=10,\n",
            "              min_child_weight=1, missing=None, n_estimators=500, n_jobs=-1,\n",
            "              nthread=None, objective='binary:logistic', random_state=0,\n",
            "              reg_alpha=0, reg_lambda=1, scale_pos_weight=1, seed=None,\n",
            "              silent=None, subsample=1, verbosity=1)\n",
            "0.8573218894028214\n"
          ],
          "name": "stdout"
        }
      ]
    },
    {
      "cell_type": "code",
      "metadata": {
        "id": "p_YHoY4YwrzG",
        "colab_type": "code",
        "outputId": "1bc7d3a6-621d-406d-b3fe-cf063f23e894",
        "colab": {
          "base_uri": "https://localhost:8080/",
          "height": 50
        }
      },
      "source": [
        "print('optimal max_depth:10')\n",
        "print('optimal n_estimators:100')\n"
      ],
      "execution_count": 0,
      "outputs": [
        {
          "output_type": "stream",
          "text": [
            "optimal max_depth:10\n",
            "optimal n_estimators:100\n"
          ],
          "name": "stdout"
        }
      ]
    },
    {
      "cell_type": "code",
      "metadata": {
        "id": "ibXV1GRjwvGn",
        "colab_type": "code",
        "outputId": "baa20d49-4469-4ad9-fba8-72f0bdcad73f",
        "colab": {
          "base_uri": "https://localhost:8080/",
          "height": 773
        }
      },
      "source": [
        "import xgboost as xgb\n",
        "params = {}\n",
        "params['objective'] = 'binary:logistic'\n",
        "params['eval_metric'] = 'logloss'\n",
        "params['eta'] = 0.02\n",
        "params['max_depth'] = 10\n",
        "params['n_estimators'] = 100\n",
        "\n",
        "d_train = xgb.DMatrix(X_train_tfidf, label=y_train)\n",
        "d_test = xgb.DMatrix(X_test_tfidf, label=y_test)\n",
        "\n",
        "watchlist = [(d_train, 'train'), (d_test, 'valid')]\n",
        "\n",
        "bst = xgb.train(params, d_train, 400, watchlist, early_stopping_rounds=20, verbose_eval=10)\n",
        "\n",
        "xgdmat = xgb.DMatrix(X_train_tfidf,y_train)\n",
        "predict_y = bst.predict(d_test)\n",
        "print(\"The test log loss is:\",log_loss(y_test, predict_y, eps=1e-15))"
      ],
      "execution_count": 0,
      "outputs": [
        {
          "output_type": "stream",
          "text": [
            "[0]\ttrain-logloss:0.68258\tvalid-logloss:0.682776\n",
            "Multiple eval metrics have been passed: 'valid-logloss' will be used for early stopping.\n",
            "\n",
            "Will train until valid-logloss hasn't improved in 20 rounds.\n",
            "[10]\ttrain-logloss:0.596218\tvalid-logloss:0.598214\n",
            "[20]\ttrain-logloss:0.534654\tvalid-logloss:0.53833\n",
            "[30]\ttrain-logloss:0.488967\tvalid-logloss:0.494187\n",
            "[40]\ttrain-logloss:0.453788\tvalid-logloss:0.460552\n",
            "[50]\ttrain-logloss:0.42645\tvalid-logloss:0.434648\n",
            "[60]\ttrain-logloss:0.404879\tvalid-logloss:0.414432\n",
            "[70]\ttrain-logloss:0.387611\tvalid-logloss:0.398371\n",
            "[80]\ttrain-logloss:0.373569\tvalid-logloss:0.385428\n",
            "[90]\ttrain-logloss:0.361984\tvalid-logloss:0.374927\n",
            "[100]\ttrain-logloss:0.352304\tvalid-logloss:0.366176\n",
            "[110]\ttrain-logloss:0.344578\tvalid-logloss:0.359211\n",
            "[120]\ttrain-logloss:0.338082\tvalid-logloss:0.353496\n",
            "[130]\ttrain-logloss:0.332451\tvalid-logloss:0.348649\n",
            "[140]\ttrain-logloss:0.327651\tvalid-logloss:0.344653\n",
            "[150]\ttrain-logloss:0.323642\tvalid-logloss:0.34136\n",
            "[160]\ttrain-logloss:0.320292\tvalid-logloss:0.338676\n",
            "[170]\ttrain-logloss:0.317441\tvalid-logloss:0.336347\n",
            "[180]\ttrain-logloss:0.315036\tvalid-logloss:0.334366\n",
            "[190]\ttrain-logloss:0.313124\tvalid-logloss:0.332845\n",
            "[200]\ttrain-logloss:0.311474\tvalid-logloss:0.331547\n",
            "[210]\ttrain-logloss:0.309715\tvalid-logloss:0.330285\n",
            "[220]\ttrain-logloss:0.308234\tvalid-logloss:0.329224\n",
            "[230]\ttrain-logloss:0.307049\tvalid-logloss:0.328305\n",
            "[240]\ttrain-logloss:0.305759\tvalid-logloss:0.327386\n",
            "[250]\ttrain-logloss:0.304288\tvalid-logloss:0.326413\n",
            "[260]\ttrain-logloss:0.303374\tvalid-logloss:0.325763\n",
            "[270]\ttrain-logloss:0.302509\tvalid-logloss:0.325156\n",
            "[280]\ttrain-logloss:0.301676\tvalid-logloss:0.324647\n",
            "[290]\ttrain-logloss:0.30094\tvalid-logloss:0.324176\n",
            "[300]\ttrain-logloss:0.300212\tvalid-logloss:0.323708\n",
            "[310]\ttrain-logloss:0.29938\tvalid-logloss:0.323226\n",
            "[320]\ttrain-logloss:0.298216\tvalid-logloss:0.322596\n",
            "[330]\ttrain-logloss:0.297355\tvalid-logloss:0.322121\n",
            "[340]\ttrain-logloss:0.296451\tvalid-logloss:0.32156\n",
            "[350]\ttrain-logloss:0.295561\tvalid-logloss:0.321043\n",
            "[360]\ttrain-logloss:0.294873\tvalid-logloss:0.32064\n",
            "[370]\ttrain-logloss:0.294175\tvalid-logloss:0.320269\n",
            "[380]\ttrain-logloss:0.293496\tvalid-logloss:0.319898\n",
            "[390]\ttrain-logloss:0.292712\tvalid-logloss:0.319478\n",
            "[399]\ttrain-logloss:0.292119\tvalid-logloss:0.31918\n",
            "The test log loss is: 0.319180192509611\n"
          ],
          "name": "stdout"
        }
      ]
    },
    {
      "cell_type": "code",
      "metadata": {
        "id": "D7LHSlLW0oab",
        "colab_type": "code",
        "outputId": "c9aa20c0-62ff-4189-a1d0-3d68896b51c9",
        "colab": {
          "base_uri": "https://localhost:8080/",
          "height": 332
        }
      },
      "source": [
        "predicted_y =np.array(predict_y>0.5,dtype=int)\n",
        "print(\"Total number of data points :\", len(predicted_y))\n",
        "plot_confusion_matrix(y_test, predicted_y)"
      ],
      "execution_count": 0,
      "outputs": [
        {
          "output_type": "stream",
          "text": [
            "Total number of data points : 121287\n"
          ],
          "name": "stdout"
        },
        {
          "output_type": "display_data",
          "data": {
            "image/png": "[encoded data removed]",
            "text/plain": [
              "<Figure size 1440x288 with 6 Axes>"
            ]
          },
          "metadata": {
            "tags": []
          }
        }
      ]
    },
    {
      "cell_type": "markdown",
      "metadata": {
        "id": "hsN9jPV0xFjL",
        "colab_type": "text"
      },
      "source": [
        "# 5. Conclusion"
      ]
    },
    {
      "cell_type": "code",
      "metadata": {
        "id": "5t62Wf6UxE5_",
        "colab_type": "code",
        "outputId": "5cc4513d-1e1a-43a1-a4e4-97c959bddf4e",
        "colab": {
          "base_uri": "https://localhost:8080/",
          "height": 235
        }
      },
      "source": [
        "# Please compare all your models using Prettytable library\n",
        "# http://zetcode.com/python/prettytable/\n",
        "\n",
        "from prettytable import PrettyTable\n",
        "\n",
        "x = PrettyTable()\n",
        "x.field_names= (\"Vectorizer\",\"Model\", \"Log Loss\")\n",
        "\n",
        "x.add_row([\"tfidf w2v\" ,\"Random\",  0.88871]) \n",
        "x.add_row([\"tfidf w2v\" ,\"Logistic Regression\", 0.59417]) \n",
        "x.add_row([\"tfidf w2v\" ,\"Liner SVM\", 0.65508]) \n",
        "x.add_row([\"tfidf w2v\" ,\"GBDT\", 0.33465]) \n",
        "\n",
        "x.add_row([\" \" ,\" \", \" \"]) \n",
        "\n",
        "x.add_row([\"tfidf\"  ,\"Random\", 0.88689]) \n",
        "x.add_row([\"tfidf\" ,\"Logistic Regression\", 0.60338 ]) \n",
        "x.add_row([\"tfidf\" ,\"Liner SVM\", 0.60623]) \n",
        "x.add_row([\"tfidf\" ,\"GBDT\", 0.31918]) \n",
        " \n",
        "\n",
        "\n",
        "print(x)\n"
      ],
      "execution_count": 0,
      "outputs": [
        {
          "output_type": "stream",
          "text": [
            "+------------+---------------------+----------+\n",
            "| Vectorizer |        Model        | Log Loss |\n",
            "+------------+---------------------+----------+\n",
            "| tfidf w2v  |        Random       | 0.88871  |\n",
            "| tfidf w2v  | Logistic Regression | 0.59417  |\n",
            "| tfidf w2v  |      Liner SVM      | 0.65508  |\n",
            "| tfidf w2v  |         GBDT        | 0.33465  |\n",
            "|            |                     |          |\n",
            "|   tfidf    |        Random       | 0.88689  |\n",
            "|   tfidf    | Logistic Regression | 0.60338  |\n",
            "|   tfidf    |      Liner SVM      | 0.60623  |\n",
            "|   tfidf    |         GBDT        | 0.31918  |\n",
            "+------------+---------------------+----------+\n"
          ],
          "name": "stdout"
        }
      ]
    }
  ]
}